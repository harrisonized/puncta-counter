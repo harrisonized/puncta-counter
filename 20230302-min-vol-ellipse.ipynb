{
 "cells": [
  {
   "cell_type": "code",
   "execution_count": 1,
   "metadata": {},
   "outputs": [],
   "source": [
    "# this is close enough for now, should put into package before continuing to develop"
   ]
  },
  {
   "cell_type": "code",
   "execution_count": 1,
   "metadata": {
    "scrolled": true
   },
   "outputs": [
    {
     "data": {
      "text/html": [
       "\n",
       "    <div class=\"bk-root\">\n",
       "        <a href=\"https://bokeh.org\" target=\"_blank\" class=\"bk-logo bk-logo-small bk-logo-notebook\"></a>\n",
       "        <span id=\"1001\">Loading BokehJS ...</span>\n",
       "    </div>"
      ]
     },
     "metadata": {},
     "output_type": "display_data"
    },
    {
     "data": {
      "application/javascript": [
       "\n",
       "(function(root) {\n",
       "  function now() {\n",
       "    return new Date();\n",
       "  }\n",
       "\n",
       "  var force = true;\n",
       "\n",
       "  if (typeof root._bokeh_onload_callbacks === \"undefined\" || force === true) {\n",
       "    root._bokeh_onload_callbacks = [];\n",
       "    root._bokeh_is_loading = undefined;\n",
       "  }\n",
       "\n",
       "  var JS_MIME_TYPE = 'application/javascript';\n",
       "  var HTML_MIME_TYPE = 'text/html';\n",
       "  var EXEC_MIME_TYPE = 'application/vnd.bokehjs_exec.v0+json';\n",
       "  var CLASS_NAME = 'output_bokeh rendered_html';\n",
       "\n",
       "  /**\n",
       "   * Render data to the DOM node\n",
       "   */\n",
       "  function render(props, node) {\n",
       "    var script = document.createElement(\"script\");\n",
       "    node.appendChild(script);\n",
       "  }\n",
       "\n",
       "  /**\n",
       "   * Handle when an output is cleared or removed\n",
       "   */\n",
       "  function handleClearOutput(event, handle) {\n",
       "    var cell = handle.cell;\n",
       "\n",
       "    var id = cell.output_area._bokeh_element_id;\n",
       "    var server_id = cell.output_area._bokeh_server_id;\n",
       "    // Clean up Bokeh references\n",
       "    if (id != null && id in Bokeh.index) {\n",
       "      Bokeh.index[id].model.document.clear();\n",
       "      delete Bokeh.index[id];\n",
       "    }\n",
       "\n",
       "    if (server_id !== undefined) {\n",
       "      // Clean up Bokeh references\n",
       "      var cmd = \"from bokeh.io.state import curstate; print(curstate().uuid_to_server['\" + server_id + \"'].get_sessions()[0].document.roots[0]._id)\";\n",
       "      cell.notebook.kernel.execute(cmd, {\n",
       "        iopub: {\n",
       "          output: function(msg) {\n",
       "            var id = msg.content.text.trim();\n",
       "            if (id in Bokeh.index) {\n",
       "              Bokeh.index[id].model.document.clear();\n",
       "              delete Bokeh.index[id];\n",
       "            }\n",
       "          }\n",
       "        }\n",
       "      });\n",
       "      // Destroy server and session\n",
       "      var cmd = \"import bokeh.io.notebook as ion; ion.destroy_server('\" + server_id + \"')\";\n",
       "      cell.notebook.kernel.execute(cmd);\n",
       "    }\n",
       "  }\n",
       "\n",
       "  /**\n",
       "   * Handle when a new output is added\n",
       "   */\n",
       "  function handleAddOutput(event, handle) {\n",
       "    var output_area = handle.output_area;\n",
       "    var output = handle.output;\n",
       "\n",
       "    // limit handleAddOutput to display_data with EXEC_MIME_TYPE content only\n",
       "    if ((output.output_type != \"display_data\") || (!output.data.hasOwnProperty(EXEC_MIME_TYPE))) {\n",
       "      return\n",
       "    }\n",
       "\n",
       "    var toinsert = output_area.element.find(\".\" + CLASS_NAME.split(' ')[0]);\n",
       "\n",
       "    if (output.metadata[EXEC_MIME_TYPE][\"id\"] !== undefined) {\n",
       "      toinsert[toinsert.length - 1].firstChild.textContent = output.data[JS_MIME_TYPE];\n",
       "      // store reference to embed id on output_area\n",
       "      output_area._bokeh_element_id = output.metadata[EXEC_MIME_TYPE][\"id\"];\n",
       "    }\n",
       "    if (output.metadata[EXEC_MIME_TYPE][\"server_id\"] !== undefined) {\n",
       "      var bk_div = document.createElement(\"div\");\n",
       "      bk_div.innerHTML = output.data[HTML_MIME_TYPE];\n",
       "      var script_attrs = bk_div.children[0].attributes;\n",
       "      for (var i = 0; i < script_attrs.length; i++) {\n",
       "        toinsert[toinsert.length - 1].firstChild.setAttribute(script_attrs[i].name, script_attrs[i].value);\n",
       "        toinsert[toinsert.length - 1].firstChild.textContent = bk_div.children[0].textContent\n",
       "      }\n",
       "      // store reference to server id on output_area\n",
       "      output_area._bokeh_server_id = output.metadata[EXEC_MIME_TYPE][\"server_id\"];\n",
       "    }\n",
       "  }\n",
       "\n",
       "  function register_renderer(events, OutputArea) {\n",
       "\n",
       "    function append_mime(data, metadata, element) {\n",
       "      // create a DOM node to render to\n",
       "      var toinsert = this.create_output_subarea(\n",
       "        metadata,\n",
       "        CLASS_NAME,\n",
       "        EXEC_MIME_TYPE\n",
       "      );\n",
       "      this.keyboard_manager.register_events(toinsert);\n",
       "      // Render to node\n",
       "      var props = {data: data, metadata: metadata[EXEC_MIME_TYPE]};\n",
       "      render(props, toinsert[toinsert.length - 1]);\n",
       "      element.append(toinsert);\n",
       "      return toinsert\n",
       "    }\n",
       "\n",
       "    /* Handle when an output is cleared or removed */\n",
       "    events.on('clear_output.CodeCell', handleClearOutput);\n",
       "    events.on('delete.Cell', handleClearOutput);\n",
       "\n",
       "    /* Handle when a new output is added */\n",
       "    events.on('output_added.OutputArea', handleAddOutput);\n",
       "\n",
       "    /**\n",
       "     * Register the mime type and append_mime function with output_area\n",
       "     */\n",
       "    OutputArea.prototype.register_mime_type(EXEC_MIME_TYPE, append_mime, {\n",
       "      /* Is output safe? */\n",
       "      safe: true,\n",
       "      /* Index of renderer in `output_area.display_order` */\n",
       "      index: 0\n",
       "    });\n",
       "  }\n",
       "\n",
       "  // register the mime type if in Jupyter Notebook environment and previously unregistered\n",
       "  if (root.Jupyter !== undefined) {\n",
       "    var events = require('base/js/events');\n",
       "    var OutputArea = require('notebook/js/outputarea').OutputArea;\n",
       "\n",
       "    if (OutputArea.prototype.mime_types().indexOf(EXEC_MIME_TYPE) == -1) {\n",
       "      register_renderer(events, OutputArea);\n",
       "    }\n",
       "  }\n",
       "\n",
       "  \n",
       "  if (typeof (root._bokeh_timeout) === \"undefined\" || force === true) {\n",
       "    root._bokeh_timeout = Date.now() + 5000;\n",
       "    root._bokeh_failed_load = false;\n",
       "  }\n",
       "\n",
       "  var NB_LOAD_WARNING = {'data': {'text/html':\n",
       "     \"<div style='background-color: #fdd'>\\n\"+\n",
       "     \"<p>\\n\"+\n",
       "     \"BokehJS does not appear to have successfully loaded. If loading BokehJS from CDN, this \\n\"+\n",
       "     \"may be due to a slow or bad network connection. Possible fixes:\\n\"+\n",
       "     \"</p>\\n\"+\n",
       "     \"<ul>\\n\"+\n",
       "     \"<li>re-rerun `output_notebook()` to attempt to load from CDN again, or</li>\\n\"+\n",
       "     \"<li>use INLINE resources instead, as so:</li>\\n\"+\n",
       "     \"</ul>\\n\"+\n",
       "     \"<code>\\n\"+\n",
       "     \"from bokeh.resources import INLINE\\n\"+\n",
       "     \"output_notebook(resources=INLINE)\\n\"+\n",
       "     \"</code>\\n\"+\n",
       "     \"</div>\"}};\n",
       "\n",
       "  function display_loaded() {\n",
       "    var el = document.getElementById(\"1001\");\n",
       "    if (el != null) {\n",
       "      el.textContent = \"BokehJS is loading...\";\n",
       "    }\n",
       "    if (root.Bokeh !== undefined) {\n",
       "      if (el != null) {\n",
       "        el.textContent = \"BokehJS \" + root.Bokeh.version + \" successfully loaded.\";\n",
       "      }\n",
       "    } else if (Date.now() < root._bokeh_timeout) {\n",
       "      setTimeout(display_loaded, 100)\n",
       "    }\n",
       "  }\n",
       "\n",
       "\n",
       "  function run_callbacks() {\n",
       "    try {\n",
       "      root._bokeh_onload_callbacks.forEach(function(callback) {\n",
       "        if (callback != null)\n",
       "          callback();\n",
       "      });\n",
       "    } finally {\n",
       "      delete root._bokeh_onload_callbacks\n",
       "    }\n",
       "    console.debug(\"Bokeh: all callbacks have finished\");\n",
       "  }\n",
       "\n",
       "  function load_libs(css_urls, js_urls, callback) {\n",
       "    if (css_urls == null) css_urls = [];\n",
       "    if (js_urls == null) js_urls = [];\n",
       "\n",
       "    root._bokeh_onload_callbacks.push(callback);\n",
       "    if (root._bokeh_is_loading > 0) {\n",
       "      console.debug(\"Bokeh: BokehJS is being loaded, scheduling callback at\", now());\n",
       "      return null;\n",
       "    }\n",
       "    if (js_urls == null || js_urls.length === 0) {\n",
       "      run_callbacks();\n",
       "      return null;\n",
       "    }\n",
       "    console.debug(\"Bokeh: BokehJS not loaded, scheduling load and callback at\", now());\n",
       "    root._bokeh_is_loading = css_urls.length + js_urls.length;\n",
       "\n",
       "    function on_load() {\n",
       "      root._bokeh_is_loading--;\n",
       "      if (root._bokeh_is_loading === 0) {\n",
       "        console.debug(\"Bokeh: all BokehJS libraries/stylesheets loaded\");\n",
       "        run_callbacks()\n",
       "      }\n",
       "    }\n",
       "\n",
       "    function on_error() {\n",
       "      console.error(\"failed to load \" + url);\n",
       "    }\n",
       "\n",
       "    for (var i = 0; i < css_urls.length; i++) {\n",
       "      var url = css_urls[i];\n",
       "      const element = document.createElement(\"link\");\n",
       "      element.onload = on_load;\n",
       "      element.onerror = on_error;\n",
       "      element.rel = \"stylesheet\";\n",
       "      element.type = \"text/css\";\n",
       "      element.href = url;\n",
       "      console.debug(\"Bokeh: injecting link tag for BokehJS stylesheet: \", url);\n",
       "      document.body.appendChild(element);\n",
       "    }\n",
       "\n",
       "    const hashes = {\"https://cdn.bokeh.org/bokeh/release/bokeh-2.2.1.min.js\": \"qkRvDQVAIfzsJo40iRBbxt6sttt0hv4lh74DG7OK4MCHv4C5oohXYoHUM5W11uqS\", \"https://cdn.bokeh.org/bokeh/release/bokeh-widgets-2.2.1.min.js\": \"Sb7Mr06a9TNlet/GEBeKaf5xH3eb6AlCzwjtU82wNPyDrnfoiVl26qnvlKjmcAd+\", \"https://cdn.bokeh.org/bokeh/release/bokeh-tables-2.2.1.min.js\": \"HaJ15vgfmcfRtB4c4YBOI4f1MUujukqInOWVqZJZZGK7Q+ivud0OKGSTn/Vm2iso\"};\n",
       "\n",
       "    for (var i = 0; i < js_urls.length; i++) {\n",
       "      var url = js_urls[i];\n",
       "      var element = document.createElement('script');\n",
       "      element.onload = on_load;\n",
       "      element.onerror = on_error;\n",
       "      element.async = false;\n",
       "      element.src = url;\n",
       "      if (url in hashes) {\n",
       "        element.crossOrigin = \"anonymous\";\n",
       "        element.integrity = \"sha384-\" + hashes[url];\n",
       "      }\n",
       "      console.debug(\"Bokeh: injecting script tag for BokehJS library: \", url);\n",
       "      document.head.appendChild(element);\n",
       "    }\n",
       "  };\n",
       "\n",
       "  function inject_raw_css(css) {\n",
       "    const element = document.createElement(\"style\");\n",
       "    element.appendChild(document.createTextNode(css));\n",
       "    document.body.appendChild(element);\n",
       "  }\n",
       "\n",
       "  \n",
       "  var js_urls = [\"https://cdn.bokeh.org/bokeh/release/bokeh-2.2.1.min.js\", \"https://cdn.bokeh.org/bokeh/release/bokeh-widgets-2.2.1.min.js\", \"https://cdn.bokeh.org/bokeh/release/bokeh-tables-2.2.1.min.js\"];\n",
       "  var css_urls = [];\n",
       "  \n",
       "\n",
       "  var inline_js = [\n",
       "    function(Bokeh) {\n",
       "      Bokeh.set_log_level(\"info\");\n",
       "    },\n",
       "    function(Bokeh) {\n",
       "    \n",
       "    \n",
       "    }\n",
       "  ];\n",
       "\n",
       "  function run_inline_js() {\n",
       "    \n",
       "    if (root.Bokeh !== undefined || force === true) {\n",
       "      \n",
       "    for (var i = 0; i < inline_js.length; i++) {\n",
       "      inline_js[i].call(root, root.Bokeh);\n",
       "    }\n",
       "    if (force === true) {\n",
       "        display_loaded();\n",
       "      }} else if (Date.now() < root._bokeh_timeout) {\n",
       "      setTimeout(run_inline_js, 100);\n",
       "    } else if (!root._bokeh_failed_load) {\n",
       "      console.log(\"Bokeh: BokehJS failed to load within specified timeout.\");\n",
       "      root._bokeh_failed_load = true;\n",
       "    } else if (force !== true) {\n",
       "      var cell = $(document.getElementById(\"1001\")).parents('.cell').data().cell;\n",
       "      cell.output_area.append_execute_result(NB_LOAD_WARNING)\n",
       "    }\n",
       "\n",
       "  }\n",
       "\n",
       "  if (root._bokeh_is_loading === 0) {\n",
       "    console.debug(\"Bokeh: BokehJS loaded, going straight to plotting\");\n",
       "    run_inline_js();\n",
       "  } else {\n",
       "    load_libs(css_urls, js_urls, function() {\n",
       "      console.debug(\"Bokeh: BokehJS plotting callback run at\", now());\n",
       "      run_inline_js();\n",
       "    });\n",
       "  }\n",
       "}(window));"
      ],
      "application/vnd.bokehjs_load.v0+json": "\n(function(root) {\n  function now() {\n    return new Date();\n  }\n\n  var force = true;\n\n  if (typeof root._bokeh_onload_callbacks === \"undefined\" || force === true) {\n    root._bokeh_onload_callbacks = [];\n    root._bokeh_is_loading = undefined;\n  }\n\n  \n\n  \n  if (typeof (root._bokeh_timeout) === \"undefined\" || force === true) {\n    root._bokeh_timeout = Date.now() + 5000;\n    root._bokeh_failed_load = false;\n  }\n\n  var NB_LOAD_WARNING = {'data': {'text/html':\n     \"<div style='background-color: #fdd'>\\n\"+\n     \"<p>\\n\"+\n     \"BokehJS does not appear to have successfully loaded. If loading BokehJS from CDN, this \\n\"+\n     \"may be due to a slow or bad network connection. Possible fixes:\\n\"+\n     \"</p>\\n\"+\n     \"<ul>\\n\"+\n     \"<li>re-rerun `output_notebook()` to attempt to load from CDN again, or</li>\\n\"+\n     \"<li>use INLINE resources instead, as so:</li>\\n\"+\n     \"</ul>\\n\"+\n     \"<code>\\n\"+\n     \"from bokeh.resources import INLINE\\n\"+\n     \"output_notebook(resources=INLINE)\\n\"+\n     \"</code>\\n\"+\n     \"</div>\"}};\n\n  function display_loaded() {\n    var el = document.getElementById(\"1001\");\n    if (el != null) {\n      el.textContent = \"BokehJS is loading...\";\n    }\n    if (root.Bokeh !== undefined) {\n      if (el != null) {\n        el.textContent = \"BokehJS \" + root.Bokeh.version + \" successfully loaded.\";\n      }\n    } else if (Date.now() < root._bokeh_timeout) {\n      setTimeout(display_loaded, 100)\n    }\n  }\n\n\n  function run_callbacks() {\n    try {\n      root._bokeh_onload_callbacks.forEach(function(callback) {\n        if (callback != null)\n          callback();\n      });\n    } finally {\n      delete root._bokeh_onload_callbacks\n    }\n    console.debug(\"Bokeh: all callbacks have finished\");\n  }\n\n  function load_libs(css_urls, js_urls, callback) {\n    if (css_urls == null) css_urls = [];\n    if (js_urls == null) js_urls = [];\n\n    root._bokeh_onload_callbacks.push(callback);\n    if (root._bokeh_is_loading > 0) {\n      console.debug(\"Bokeh: BokehJS is being loaded, scheduling callback at\", now());\n      return null;\n    }\n    if (js_urls == null || js_urls.length === 0) {\n      run_callbacks();\n      return null;\n    }\n    console.debug(\"Bokeh: BokehJS not loaded, scheduling load and callback at\", now());\n    root._bokeh_is_loading = css_urls.length + js_urls.length;\n\n    function on_load() {\n      root._bokeh_is_loading--;\n      if (root._bokeh_is_loading === 0) {\n        console.debug(\"Bokeh: all BokehJS libraries/stylesheets loaded\");\n        run_callbacks()\n      }\n    }\n\n    function on_error() {\n      console.error(\"failed to load \" + url);\n    }\n\n    for (var i = 0; i < css_urls.length; i++) {\n      var url = css_urls[i];\n      const element = document.createElement(\"link\");\n      element.onload = on_load;\n      element.onerror = on_error;\n      element.rel = \"stylesheet\";\n      element.type = \"text/css\";\n      element.href = url;\n      console.debug(\"Bokeh: injecting link tag for BokehJS stylesheet: \", url);\n      document.body.appendChild(element);\n    }\n\n    const hashes = {\"https://cdn.bokeh.org/bokeh/release/bokeh-2.2.1.min.js\": \"qkRvDQVAIfzsJo40iRBbxt6sttt0hv4lh74DG7OK4MCHv4C5oohXYoHUM5W11uqS\", \"https://cdn.bokeh.org/bokeh/release/bokeh-widgets-2.2.1.min.js\": \"Sb7Mr06a9TNlet/GEBeKaf5xH3eb6AlCzwjtU82wNPyDrnfoiVl26qnvlKjmcAd+\", \"https://cdn.bokeh.org/bokeh/release/bokeh-tables-2.2.1.min.js\": \"HaJ15vgfmcfRtB4c4YBOI4f1MUujukqInOWVqZJZZGK7Q+ivud0OKGSTn/Vm2iso\"};\n\n    for (var i = 0; i < js_urls.length; i++) {\n      var url = js_urls[i];\n      var element = document.createElement('script');\n      element.onload = on_load;\n      element.onerror = on_error;\n      element.async = false;\n      element.src = url;\n      if (url in hashes) {\n        element.crossOrigin = \"anonymous\";\n        element.integrity = \"sha384-\" + hashes[url];\n      }\n      console.debug(\"Bokeh: injecting script tag for BokehJS library: \", url);\n      document.head.appendChild(element);\n    }\n  };\n\n  function inject_raw_css(css) {\n    const element = document.createElement(\"style\");\n    element.appendChild(document.createTextNode(css));\n    document.body.appendChild(element);\n  }\n\n  \n  var js_urls = [\"https://cdn.bokeh.org/bokeh/release/bokeh-2.2.1.min.js\", \"https://cdn.bokeh.org/bokeh/release/bokeh-widgets-2.2.1.min.js\", \"https://cdn.bokeh.org/bokeh/release/bokeh-tables-2.2.1.min.js\"];\n  var css_urls = [];\n  \n\n  var inline_js = [\n    function(Bokeh) {\n      Bokeh.set_log_level(\"info\");\n    },\n    function(Bokeh) {\n    \n    \n    }\n  ];\n\n  function run_inline_js() {\n    \n    if (root.Bokeh !== undefined || force === true) {\n      \n    for (var i = 0; i < inline_js.length; i++) {\n      inline_js[i].call(root, root.Bokeh);\n    }\n    if (force === true) {\n        display_loaded();\n      }} else if (Date.now() < root._bokeh_timeout) {\n      setTimeout(run_inline_js, 100);\n    } else if (!root._bokeh_failed_load) {\n      console.log(\"Bokeh: BokehJS failed to load within specified timeout.\");\n      root._bokeh_failed_load = true;\n    } else if (force !== true) {\n      var cell = $(document.getElementById(\"1001\")).parents('.cell').data().cell;\n      cell.output_area.append_execute_result(NB_LOAD_WARNING)\n    }\n\n  }\n\n  if (root._bokeh_is_loading === 0) {\n    console.debug(\"Bokeh: BokehJS loaded, going straight to plotting\");\n    run_inline_js();\n  } else {\n    load_libs(css_urls, js_urls, function() {\n      console.debug(\"Bokeh: BokehJS plotting callback run at\", now());\n      run_inline_js();\n    });\n  }\n}(window));"
     },
     "metadata": {},
     "output_type": "display_data"
    }
   ],
   "source": [
    "import numpy as np\n",
    "import pandas as pd\n",
    "from scipy.stats import t\n",
    "import matplotlib.pyplot as plt\n",
    "\n",
    "from bokeh.plotting import show\n",
    "from bokeh.models.annotations import Title\n",
    "from bokeh.models import Plot, ColumnDataSource, Ellipse, Grid, LinearAxis, Text\n",
    "from bokeh.io import output_notebook, export_png\n",
    "\n",
    "from harrison_functions.utils.std.text import camel_to_snake_case\n",
    "from harrison_functions.utils.plotting.plotly import (plot_single_scatter,\n",
    "                                                      plot_multiple_scatter,\n",
    "                                                      plot_violin, save_fig_as_png)\n",
    "\n",
    "pd.options.display.max_columns = None\n",
    "output_notebook()\n",
    "\n",
    "# troubleshooting\n",
    "# from selenium import webdriver\n",
    "# driver = webdriver.Firefox(executable_path='/home/harrisonized/geckodriver')"
   ]
  },
  {
   "cell_type": "code",
   "execution_count": 2,
   "metadata": {},
   "outputs": [],
   "source": [
    "save=False"
   ]
  },
  {
   "cell_type": "code",
   "execution_count": 341,
   "metadata": {},
   "outputs": [],
   "source": [
    "def min_vol_ellipse(P, tolerance=0.01):\n",
    "    # [A , c] = Mnp.linalg.involEllipse(P, tolerance)\n",
    "    # Finds the minimum volume enclsing ellipsoid (MVEE) of a set of data\n",
    "    # points stored in matrix P. The following optimization problem is solved: \n",
    "    #\n",
    "    # minimize       log(det(A))\n",
    "    # subject to     (P_i - c)' * A * (P_i - c) <= 1\n",
    "    #                \n",
    "    # in variables A and c, where P_i is the i-th column of the matrix P. \n",
    "    # The solver is based on Khachiyan Algorithm, and the final solution \n",
    "    # is different from the optimal value by the pre-spesified amount of 'tolerance'.\n",
    "    #\n",
    "    # inputs:\n",
    "    #---------\n",
    "    # P : (d x N) dimnesional matrix containing N points in R^d.\n",
    "    # tolerance : error in the solution with respect to the optimal value.\n",
    "    #\n",
    "    # outputs:\n",
    "    #---------\n",
    "    # A : (d x d) matrix of the ellipse equation in the 'center form': \n",
    "    # (x-c)' * A * (x-c) = 1 \n",
    "    # c : 'd' dimensional vector as the center of the ellipse. \n",
    "    # \n",
    "    # example:\n",
    "    # --------\n",
    "    #      P = rand(5,100)\n",
    "    #      [A, c] = Mnp.linalg.involEllipse(P, .01)\n",
    "    #\n",
    "    #      To reduce the computation time, work with the boundary points only:\n",
    "    #      \n",
    "    #      K = convhulln(P')  \n",
    "    #      K = unique(K(:))  \n",
    "    #      Q = P(:,K)\n",
    "    #      [A, c] = Mnp.linalg.involEllipse(Q, .01)\n",
    "    #\n",
    "    #\n",
    "    # Nima Moshtagh (nima@seas.upenn.edu)\n",
    "    # University of Pennsylvania\n",
    "    #\n",
    "    # December 2005\n",
    "    # UPDATE: Jan 2009\n",
    "    ##################### Solving the Dual problem###########################5\n",
    "    # ---------------------------------\n",
    "    # data points \n",
    "    # -----------------------------------\n",
    "    \n",
    "    d, N = P.shape\n",
    "    if N <= d:\n",
    "        return np.nan, np.nan, np.nan, np.nan, np.nan\n",
    "    \n",
    "    # Q = np.zeros((d+1,N))\n",
    "    # Q(1:d,:) = P(1:d,1:N)\n",
    "    # Q(d+1,:) = np.ones(1,N)\n",
    "    Q = np.vstack([P, np.ones((1, N))])\n",
    "\n",
    "    # initializations\n",
    "    # -----------------------------------\n",
    "    count = 1\n",
    "    err = 1\n",
    "    u = (1/N) * np.ones((N, 1))  # 1st iteration\n",
    "    \n",
    "    # Khachiyan Algorithm\n",
    "    # -----------------------------------\n",
    "    while err > tolerance:\n",
    "        try:\n",
    "            X = np.dot(np.dot(Q, u* np.identity(N)), np.transpose(Q))\n",
    "            M = np.diag(np.dot(np.dot(np.transpose(Q), np.linalg.inv(X)), Q))  # M the np.diagonal vector of an NxN matrix\n",
    "\n",
    "            j = np.argmax(M)\n",
    "            maximum = max(M)\n",
    "\n",
    "            step_size = (maximum - d -1)/((d+1)*(maximum-1))\n",
    "            new_u = (1 - step_size)*u \n",
    "            new_u[j] = new_u[j] + step_size\n",
    "\n",
    "            count = count + 1\n",
    "            err = np.linalg.norm(new_u - u)\n",
    "            u = new_u\n",
    "        except:\n",
    "            print(P)\n",
    "            break\n",
    "                    \n",
    "    ################### Computing the Ellipse parameters######################\n",
    "    # Finds the ellipse equation in the 'center form': \n",
    "    # (x-c)' * A * (x-c) = 1\n",
    "    # It computes a dxd matrix 'A' and a d dimensional vector 'c' as the center\n",
    "    # of the ellipse. \n",
    "    U = u * np.identity(N)\n",
    "    # return P, u\n",
    "    \n",
    "    # the A matrix for the ellipse\n",
    "    # A = (1/d) * inv(P * U * P' - (P * u)*(P*u)' );\n",
    "    # --------------------------------------------\n",
    "    A = (1/d) * np.linalg.inv(\n",
    "        np.dot(np.dot(P, U), np.transpose(P)) - np.dot(np.dot(P, u), np.transpose(np.dot(P, u)))\n",
    "    )\n",
    "    \n",
    "    # center of the ellipse \n",
    "    # --------------------------------------------\n",
    "    c = np.dot(P, u)\n",
    "    \n",
    "    # original return value\n",
    "    # return A, c\n",
    "    \n",
    "    center_x = c[0][0]\n",
    "    center_y = c[1][0]\n",
    "\n",
    "    u, s, vh = np.linalg.svd(A)\n",
    "    # return u, s, vh  # troubleshooting\n",
    "    \n",
    "    try:\n",
    "        items = np.sort(np.sqrt(1/s))\n",
    "        minor_axis_length, major_axis_length = items[0], items[1]\n",
    "    except:\n",
    "        print(items)\n",
    "        minor_axis_length, major_axis_length = np.nan, np.nan\n",
    "    \n",
    "    orientation = -np.arcsin(u[0][0])*180/np.pi\n",
    "    \n",
    "    return center_x, center_y, minor_axis_length, major_axis_length, orientation\n",
    "\n",
    "    # bounding box\n",
    "    inv_A = np.linalg.inv(A)  # diagonals are the important terms\n",
    "\n",
    "    min_x = center_x - np.sqrt(inv_A[0][0])\n",
    "    max_x = center_x + np.sqrt(inv_A[0][0])\n",
    "    min_y = center_y - np.sqrt(inv_A[1][1])\n",
    "    max_y = center_y + np.sqrt(inv_A[1][1])\n",
    "    \n",
    "    return center_x, center_y, min_x, max_x, min_y, max_y"
   ]
  },
  {
   "cell_type": "code",
   "execution_count": 224,
   "metadata": {},
   "outputs": [],
   "source": [
    "def find_nearest_point(point, points:list):\n",
    "    \"\"\"O(n^2) algorithm to find the nearest point\n",
    "    Can make this faster with binary search on one of the variables\n",
    "    However, since this is a small dataset (20 nuclei per image), whatever\n",
    "    \n",
    "    >>> find_nearest_point(\n",
    "        point=(281.415801, 135.945238),\n",
    "        points=[(693.094713, 59.080090), (295.184921, 118.996760), (282.528024, 182.998269)],\n",
    "    )\n",
    "    (295.184921, 118.99676)\n",
    "    \"\"\"\n",
    "    \n",
    "    d = np.inf\n",
    "    for x, y in points:\n",
    "        d_current = np.sqrt((point[0]-x)**2+(point[1]-y)**2)\n",
    "        if d_current < d:\n",
    "            closest_point = (x, y)\n",
    "            d = d_current\n",
    "        \n",
    "    return closest_point\n",
    "\n",
    "def flatten_columns(multicols):\n",
    "    \"\"\"Flattens a 2 level multi-index\n",
    "    \"\"\"\n",
    "    return [f'{cols[0].lower()}_{cols[1]}'.strip('_') for cols in multicols]"
   ]
  },
  {
   "cell_type": "code",
   "execution_count": 185,
   "metadata": {},
   "outputs": [],
   "source": [
    "puncta_cols = [\n",
    "    'image_number', 'object_number', 'parent_manual_nuclei', 'center_x',\n",
    "    'center_y', 'bounding_box_min_x', 'bounding_box_max_x',\n",
    "    'bounding_box_min_y', 'bounding_box_max_y', 'bounding_box_area',\n",
    "    'orientation', 'major_axis_length', 'minor_axis_length', 'area',\n",
    "    'convex_area', 'perimeter', 'eccentricity', 'form_factor',\n",
    "    'compactness', 'integrated_intensity', 'min_intensity', 'max_intensity',\n",
    "    'mean_intensity', 'median_intensity', 'edge_integrated_intensity',\n",
    "    'edge_min_intensity', 'edge_max_intensity', 'edge_mean_intensity',\n",
    "]"
   ]
  },
  {
   "cell_type": "markdown",
   "metadata": {},
   "source": [
    "# Data"
   ]
  },
  {
   "cell_type": "code",
   "execution_count": 6,
   "metadata": {},
   "outputs": [],
   "source": [
    "# read in data\n",
    "nuclei = pd.read_csv(\"data/nuclei_subset.csv\")\n",
    "puncta = pd.read_csv(\"data/puncta_subset.csv\")"
   ]
  },
  {
   "cell_type": "code",
   "execution_count": 7,
   "metadata": {},
   "outputs": [],
   "source": [
    "# ----------------------------------------------------------------------\n",
    "# Reassign nuclei\n",
    "puncta_centers = (\n",
    "    puncta\n",
    "    .groupby([\"image_number\", \"parent_manual_nuclei\"])[[\"center_x\", \"center_y\"]]\n",
    "    .mean()\n",
    "    .reset_index()\n",
    ")\n",
    "puncta_centers['center'] = puncta_centers[['center_x', 'center_y']].apply(list, axis=1)\n",
    "\n",
    "\n",
    "# use find_nearest_point to find the center of the closest nuclei\n",
    "# there are more nuclei than puncta, so this is fine\n",
    "puncta_centers[[\"closest_nuclei_x\", \"closest_nuclei_y\"]] = pd.DataFrame(\n",
    "    puncta_centers[['image_number', 'center']].apply(\n",
    "    lambda x: find_nearest_point(\n",
    "        point=x['center'],\n",
    "        points=nuclei.loc[(nuclei['image_number']==x['image_number']),\n",
    "                          [\"center_x\", \"center_y\"]].to_records(index=False)\n",
    "    )\n",
    "    , axis=1).to_list(),\n",
    "    columns=[\"closest_nuclei_x\", \"closest_nuclei_y\"],\n",
    ")\n",
    "\n",
    "# left join nuclei_table on closest_nuclei_x and closest_nuclei_y\n",
    "puncta_centers['nuclei_object_number'] = pd.merge(\n",
    "    left=puncta_centers[[\"closest_nuclei_x\", \"closest_nuclei_y\", 'image_number', 'parent_manual_nuclei']],\n",
    "    right=nuclei[['center_x', 'center_y', 'image_number', 'object_number']],\n",
    "    left_on=[\"closest_nuclei_x\", \"closest_nuclei_y\", 'image_number',],\n",
    "    right_on=['center_x', 'center_y', 'image_number',],\n",
    "    how='left',\n",
    "    suffixes=('', '_nuclei')\n",
    ")['object_number']\n",
    "\n",
    "\n",
    "# add back to puncta\n",
    "puncta = pd.merge(\n",
    "    left=puncta[puncta_cols],\n",
    "    right=puncta_centers[['image_number', 'parent_manual_nuclei', 'nuclei_object_number']],\n",
    "    left_on=['image_number', 'parent_manual_nuclei'],\n",
    "    right_on=['image_number', 'parent_manual_nuclei',],\n",
    "    how='left',\n",
    "    suffixes=('', '_')\n",
    ")\n",
    "\n",
    "\n",
    "# filter puncta that are too far away from the nuclei\n",
    "puncta = pd.merge(\n",
    "    left=puncta[list(puncta_cols)+['nuclei_object_number']],\n",
    "    right=nuclei[['image_number', 'object_number', 'bounding_box_min_x', 'bounding_box_max_x', 'bounding_box_min_y', 'bounding_box_max_y']],\n",
    "    left_on=['image_number', 'nuclei_object_number'],\n",
    "    right_on=['image_number', 'object_number'],\n",
    "    how='left',\n",
    "    suffixes=('', '_nuclei')\n",
    ")  # left join nuclei data\n",
    "\n",
    "puncta = puncta[\n",
    "    (puncta['center_x'] >= puncta['bounding_box_min_x_nuclei']) & \n",
    "    (puncta['center_x'] <= puncta['bounding_box_max_x_nuclei']) &\n",
    "    (puncta['center_y'] >= puncta['bounding_box_min_y_nuclei']) &\n",
    "    (puncta['center_y'] <= puncta['bounding_box_max_y_nuclei'])\n",
    "].copy()  # filter\n",
    "\n",
    "\n",
    "# regenerate puncta_centers using filtered data\n",
    "puncta_centers = (\n",
    "    puncta\n",
    "    .groupby([\"image_number\", \"nuclei_object_number\"])[[\"center_x\", \"center_y\"]]\n",
    "    .mean()\n",
    "    .reset_index()\n",
    ")"
   ]
  },
  {
   "cell_type": "markdown",
   "metadata": {},
   "source": [
    "# Filter"
   ]
  },
  {
   "cell_type": "code",
   "execution_count": 217,
   "metadata": {},
   "outputs": [],
   "source": [
    "# filters\n",
    "nuclei_tmp = nuclei[\n",
    "    (nuclei['eccentricity'] < 0.69)\n",
    "    & (nuclei['major_axis_length'] < 128)\n",
    "].copy()\n",
    "\n",
    "puncta = pd.merge(\n",
    "    left=nuclei_tmp[[\"image_number\", 'object_number']],\n",
    "    right=puncta.loc[:, puncta.columns != 'object_number'],\n",
    "    left_on=[\"image_number\", 'object_number'],\n",
    "    right_on=['image_number', 'nuclei_object_number'],\n",
    "    how=\"left\",\n",
    ").dropna(subset=['nuclei_object_number'])  # left join without duplicates"
   ]
  },
  {
   "cell_type": "markdown",
   "metadata": {},
   "source": [
    "# Draw Boundaries around Puncta"
   ]
  },
  {
   "cell_type": "code",
   "execution_count": 218,
   "metadata": {},
   "outputs": [],
   "source": [
    "nuclei['effective_radius_nuclei'] = nuclei['area'].apply(lambda x: np.sqrt(x/3.14159))"
   ]
  },
  {
   "cell_type": "code",
   "execution_count": 219,
   "metadata": {},
   "outputs": [
    {
     "data": {
      "text/html": [
       "<div>\n",
       "<style scoped>\n",
       "    .dataframe tbody tr th:only-of-type {\n",
       "        vertical-align: middle;\n",
       "    }\n",
       "\n",
       "    .dataframe tbody tr th {\n",
       "        vertical-align: top;\n",
       "    }\n",
       "\n",
       "    .dataframe thead th {\n",
       "        text-align: right;\n",
       "    }\n",
       "</style>\n",
       "<table border=\"1\" class=\"dataframe\">\n",
       "  <thead>\n",
       "    <tr style=\"text-align: right;\">\n",
       "      <th></th>\n",
       "      <th>image_number</th>\n",
       "      <th>nuclei_object_number</th>\n",
       "      <th>area_sum</th>\n",
       "      <th>area_count</th>\n",
       "      <th>integrated_intensity_sum</th>\n",
       "      <th>center_x_mean</th>\n",
       "      <th>center_x_std</th>\n",
       "      <th>center_y_mean</th>\n",
       "      <th>center_y_std</th>\n",
       "      <th>center_std</th>\n",
       "      <th>effective_radius_puncta</th>\n",
       "      <th>bounding_box_min_x</th>\n",
       "      <th>bounding_box_max_x</th>\n",
       "      <th>bounding_box_min_y</th>\n",
       "      <th>bounding_box_max_y</th>\n",
       "    </tr>\n",
       "  </thead>\n",
       "  <tbody>\n",
       "    <tr>\n",
       "      <th>0</th>\n",
       "      <td>3</td>\n",
       "      <td>2.0</td>\n",
       "      <td>36.0</td>\n",
       "      <td>10</td>\n",
       "      <td>0.826917</td>\n",
       "      <td>281.415801</td>\n",
       "      <td>3.973904</td>\n",
       "      <td>135.945238</td>\n",
       "      <td>3.504848</td>\n",
       "      <td>5.298667</td>\n",
       "      <td>9.991262</td>\n",
       "      <td>271.424539</td>\n",
       "      <td>291.407063</td>\n",
       "      <td>125.953976</td>\n",
       "      <td>145.936500</td>\n",
       "    </tr>\n",
       "    <tr>\n",
       "      <th>1</th>\n",
       "      <td>3</td>\n",
       "      <td>3.0</td>\n",
       "      <td>41.0</td>\n",
       "      <td>6</td>\n",
       "      <td>1.006195</td>\n",
       "      <td>308.584722</td>\n",
       "      <td>2.340527</td>\n",
       "      <td>197.160417</td>\n",
       "      <td>4.868488</td>\n",
       "      <td>5.401874</td>\n",
       "      <td>10.185872</td>\n",
       "      <td>298.398850</td>\n",
       "      <td>318.770594</td>\n",
       "      <td>186.974545</td>\n",
       "      <td>207.346289</td>\n",
       "    </tr>\n",
       "    <tr>\n",
       "      <th>2</th>\n",
       "      <td>3</td>\n",
       "      <td>5.0</td>\n",
       "      <td>8.0</td>\n",
       "      <td>1</td>\n",
       "      <td>0.211475</td>\n",
       "      <td>314.875000</td>\n",
       "      <td>NaN</td>\n",
       "      <td>197.875000</td>\n",
       "      <td>NaN</td>\n",
       "      <td>NaN</td>\n",
       "      <td>1.595770</td>\n",
       "      <td>313.279230</td>\n",
       "      <td>316.470770</td>\n",
       "      <td>196.279230</td>\n",
       "      <td>199.470770</td>\n",
       "    </tr>\n",
       "    <tr>\n",
       "      <th>3</th>\n",
       "      <td>3</td>\n",
       "      <td>7.0</td>\n",
       "      <td>62.0</td>\n",
       "      <td>5</td>\n",
       "      <td>1.647883</td>\n",
       "      <td>1101.156032</td>\n",
       "      <td>2.224032</td>\n",
       "      <td>380.154921</td>\n",
       "      <td>3.402007</td>\n",
       "      <td>4.064477</td>\n",
       "      <td>7.664051</td>\n",
       "      <td>1093.491981</td>\n",
       "      <td>1108.820083</td>\n",
       "      <td>372.490870</td>\n",
       "      <td>387.818972</td>\n",
       "    </tr>\n",
       "    <tr>\n",
       "      <th>4</th>\n",
       "      <td>3</td>\n",
       "      <td>10.0</td>\n",
       "      <td>286.0</td>\n",
       "      <td>28</td>\n",
       "      <td>8.031144</td>\n",
       "      <td>223.689128</td>\n",
       "      <td>9.258510</td>\n",
       "      <td>448.006676</td>\n",
       "      <td>8.897830</td>\n",
       "      <td>12.841005</td>\n",
       "      <td>24.213231</td>\n",
       "      <td>199.475897</td>\n",
       "      <td>247.902359</td>\n",
       "      <td>423.793446</td>\n",
       "      <td>472.219907</td>\n",
       "    </tr>\n",
       "    <tr>\n",
       "      <th>...</th>\n",
       "      <td>...</td>\n",
       "      <td>...</td>\n",
       "      <td>...</td>\n",
       "      <td>...</td>\n",
       "      <td>...</td>\n",
       "      <td>...</td>\n",
       "      <td>...</td>\n",
       "      <td>...</td>\n",
       "      <td>...</td>\n",
       "      <td>...</td>\n",
       "      <td>...</td>\n",
       "      <td>...</td>\n",
       "      <td>...</td>\n",
       "      <td>...</td>\n",
       "      <td>...</td>\n",
       "    </tr>\n",
       "    <tr>\n",
       "      <th>92</th>\n",
       "      <td>20</td>\n",
       "      <td>49.0</td>\n",
       "      <td>4.0</td>\n",
       "      <td>1</td>\n",
       "      <td>0.091157</td>\n",
       "      <td>661.500000</td>\n",
       "      <td>NaN</td>\n",
       "      <td>867.500000</td>\n",
       "      <td>NaN</td>\n",
       "      <td>NaN</td>\n",
       "      <td>1.128380</td>\n",
       "      <td>660.371620</td>\n",
       "      <td>662.628380</td>\n",
       "      <td>866.371620</td>\n",
       "      <td>868.628380</td>\n",
       "    </tr>\n",
       "    <tr>\n",
       "      <th>93</th>\n",
       "      <td>20</td>\n",
       "      <td>50.0</td>\n",
       "      <td>37.0</td>\n",
       "      <td>10</td>\n",
       "      <td>0.870710</td>\n",
       "      <td>142.769881</td>\n",
       "      <td>7.776392</td>\n",
       "      <td>923.256310</td>\n",
       "      <td>6.621799</td>\n",
       "      <td>10.213740</td>\n",
       "      <td>19.259213</td>\n",
       "      <td>123.510668</td>\n",
       "      <td>162.029094</td>\n",
       "      <td>903.997096</td>\n",
       "      <td>942.515523</td>\n",
       "    </tr>\n",
       "    <tr>\n",
       "      <th>94</th>\n",
       "      <td>20</td>\n",
       "      <td>51.0</td>\n",
       "      <td>175.0</td>\n",
       "      <td>16</td>\n",
       "      <td>4.513405</td>\n",
       "      <td>1060.745804</td>\n",
       "      <td>3.282882</td>\n",
       "      <td>907.430531</td>\n",
       "      <td>5.931118</td>\n",
       "      <td>6.779046</td>\n",
       "      <td>12.782693</td>\n",
       "      <td>1047.963111</td>\n",
       "      <td>1073.528497</td>\n",
       "      <td>894.647838</td>\n",
       "      <td>920.213224</td>\n",
       "    </tr>\n",
       "    <tr>\n",
       "      <th>95</th>\n",
       "      <td>20</td>\n",
       "      <td>52.0</td>\n",
       "      <td>19.0</td>\n",
       "      <td>15</td>\n",
       "      <td>0.433860</td>\n",
       "      <td>256.533333</td>\n",
       "      <td>14.516575</td>\n",
       "      <td>889.666667</td>\n",
       "      <td>11.482388</td>\n",
       "      <td>18.508814</td>\n",
       "      <td>34.900554</td>\n",
       "      <td>221.632779</td>\n",
       "      <td>291.433887</td>\n",
       "      <td>854.766113</td>\n",
       "      <td>924.567221</td>\n",
       "    </tr>\n",
       "    <tr>\n",
       "      <th>96</th>\n",
       "      <td>20</td>\n",
       "      <td>53.0</td>\n",
       "      <td>182.0</td>\n",
       "      <td>12</td>\n",
       "      <td>6.018387</td>\n",
       "      <td>334.065092</td>\n",
       "      <td>11.062623</td>\n",
       "      <td>911.335412</td>\n",
       "      <td>8.223184</td>\n",
       "      <td>13.784135</td>\n",
       "      <td>25.991614</td>\n",
       "      <td>308.073478</td>\n",
       "      <td>360.056706</td>\n",
       "      <td>885.343798</td>\n",
       "      <td>937.327026</td>\n",
       "    </tr>\n",
       "  </tbody>\n",
       "</table>\n",
       "<p>97 rows × 15 columns</p>\n",
       "</div>"
      ],
      "text/plain": [
       "    image_number  nuclei_object_number  area_sum  area_count  \\\n",
       "0              3                   2.0      36.0          10   \n",
       "1              3                   3.0      41.0           6   \n",
       "2              3                   5.0       8.0           1   \n",
       "3              3                   7.0      62.0           5   \n",
       "4              3                  10.0     286.0          28   \n",
       "..           ...                   ...       ...         ...   \n",
       "92            20                  49.0       4.0           1   \n",
       "93            20                  50.0      37.0          10   \n",
       "94            20                  51.0     175.0          16   \n",
       "95            20                  52.0      19.0          15   \n",
       "96            20                  53.0     182.0          12   \n",
       "\n",
       "    integrated_intensity_sum  center_x_mean  center_x_std  center_y_mean  \\\n",
       "0                   0.826917     281.415801      3.973904     135.945238   \n",
       "1                   1.006195     308.584722      2.340527     197.160417   \n",
       "2                   0.211475     314.875000           NaN     197.875000   \n",
       "3                   1.647883    1101.156032      2.224032     380.154921   \n",
       "4                   8.031144     223.689128      9.258510     448.006676   \n",
       "..                       ...            ...           ...            ...   \n",
       "92                  0.091157     661.500000           NaN     867.500000   \n",
       "93                  0.870710     142.769881      7.776392     923.256310   \n",
       "94                  4.513405    1060.745804      3.282882     907.430531   \n",
       "95                  0.433860     256.533333     14.516575     889.666667   \n",
       "96                  6.018387     334.065092     11.062623     911.335412   \n",
       "\n",
       "    center_y_std  center_std  effective_radius_puncta  bounding_box_min_x  \\\n",
       "0       3.504848    5.298667                 9.991262          271.424539   \n",
       "1       4.868488    5.401874                10.185872          298.398850   \n",
       "2            NaN         NaN                 1.595770          313.279230   \n",
       "3       3.402007    4.064477                 7.664051         1093.491981   \n",
       "4       8.897830   12.841005                24.213231          199.475897   \n",
       "..           ...         ...                      ...                 ...   \n",
       "92           NaN         NaN                 1.128380          660.371620   \n",
       "93      6.621799   10.213740                19.259213          123.510668   \n",
       "94      5.931118    6.779046                12.782693         1047.963111   \n",
       "95     11.482388   18.508814                34.900554          221.632779   \n",
       "96      8.223184   13.784135                25.991614          308.073478   \n",
       "\n",
       "    bounding_box_max_x  bounding_box_min_y  bounding_box_max_y  \n",
       "0           291.407063          125.953976          145.936500  \n",
       "1           318.770594          186.974545          207.346289  \n",
       "2           316.470770          196.279230          199.470770  \n",
       "3          1108.820083          372.490870          387.818972  \n",
       "4           247.902359          423.793446          472.219907  \n",
       "..                 ...                 ...                 ...  \n",
       "92          662.628380          866.371620          868.628380  \n",
       "93          162.029094          903.997096          942.515523  \n",
       "94         1073.528497          894.647838          920.213224  \n",
       "95          291.433887          854.766113          924.567221  \n",
       "96          360.056706          885.343798          937.327026  \n",
       "\n",
       "[97 rows x 15 columns]"
      ]
     },
     "execution_count": 219,
     "metadata": {},
     "output_type": "execute_result"
    }
   ],
   "source": [
    "puncta_summary = puncta.groupby([\"image_number\", \"nuclei_object_number\"]).agg(\n",
    "        {\n",
    "            \"area\": [sum, \"count\"],\n",
    "            \"integrated_intensity\": sum,\n",
    "            \"center_x\": [np.mean, np.std],\n",
    "            \"center_y\": [np.mean, np.std],\n",
    "        }\n",
    "    ).reset_index()\n",
    "puncta_summary.columns = flatten_columns(puncta_summary.columns)\n",
    "\n",
    "# derive effective radius\n",
    "puncta_summary[\"center_std\"] = np.sqrt(puncta_summary[\"center_x_std\"]**2+puncta_summary[\"center_y_std\"]**2)\n",
    "puncta_summary[\"effective_radius_puncta\"] = puncta_summary[\"center_std\"].apply(lambda x: x*t.ppf(0.90, 2))  # 90% CI\n",
    "\n",
    "# fillna\n",
    "puncta_summary.loc[puncta_summary[\"effective_radius_puncta\"].isna(), \"effective_radius_puncta\"\n",
    "] = puncta_summary.loc[puncta_summary[\"effective_radius_puncta\"].isna(), \"area_sum\"].apply(\n",
    "    lambda x: np.sqrt(x / 3.14159)\n",
    ")\n",
    "puncta_summary[\"bounding_box_min_x\"] = puncta_summary[\"center_x_mean\"] - puncta_summary[\"effective_radius_puncta\"]\n",
    "puncta_summary[\"bounding_box_max_x\"] = puncta_summary[\"center_x_mean\"] + puncta_summary[\"effective_radius_puncta\"]\n",
    "puncta_summary[\"bounding_box_min_y\"] = puncta_summary[\"center_y_mean\"] - puncta_summary[\"effective_radius_puncta\"]\n",
    "puncta_summary[\"bounding_box_max_y\"] = puncta_summary[\"center_y_mean\"] + puncta_summary[\"effective_radius_puncta\"]\n",
    "\n",
    "puncta_summary"
   ]
  },
  {
   "cell_type": "code",
   "execution_count": 220,
   "metadata": {},
   "outputs": [],
   "source": [
    "# get nuclei boundaries\n",
    "shapes = list(\n",
    "    puncta_summary.loc[\n",
    "        (puncta_summary['image_number']==3)\n",
    "        , [\"bounding_box_min_x\",\n",
    "         \"bounding_box_max_x\",\n",
    "         \"bounding_box_min_y\",\n",
    "         \"bounding_box_max_y\",]\n",
    "    ]\n",
    "    .rename(columns={\n",
    "                \"bounding_box_min_x\": \"x0\",\n",
    "                \"bounding_box_max_x\": \"x1\",\n",
    "                \"bounding_box_min_y\": \"y0\",\n",
    "                \"bounding_box_max_y\": \"y1\",}\n",
    "           )\n",
    "    .apply(lambda x: {**{\"type\": \"circle\", 'xref':\"x\", 'yref':\"y\", 'line':{'width':1.5}}, **dict(x)}, axis=1)\n",
    ")"
   ]
  },
  {
   "cell_type": "code",
   "execution_count": 221,
   "metadata": {
    "scrolled": false
   },
   "outputs": [
    {
     "data": {
      "application/vnd.plotly.v1+json": {
       "config": {
        "plotlyServerURL": "https://plot.ly"
       },
       "data": [
        {
         "hovertemplate": "center_x=%{x}<br>center_y=%{y}<extra></extra>",
         "legendgroup": "",
         "marker": {
          "color": "#3366CC",
          "size": 3,
          "symbol": "circle"
         },
         "mode": "markers",
         "name": "",
         "orientation": "v",
         "showlegend": false,
         "type": "scatter",
         "x": [
          275,
          280,
          285.5,
          280.142857142857,
          277,
          283.181818181818,
          286,
          281.33333333333303,
          279,
          287,
          310,
          309.25,
          306.8,
          311.33333333333303,
          309.25,
          304.875,
          314.875,
          1103.5,
          1099.95,
          1100.7777777777699,
          1098.28571428571,
          1103.26666666666,
          217,
          218,
          215,
          225,
          217.5,
          221.9,
          226.666666666666,
          210,
          236,
          228.833333333333,
          220.461538461538,
          226.1,
          217.166666666666,
          224.377358490566,
          219.2,
          230.060606060606,
          212.8,
          225.2,
          233.5,
          216,
          218,
          223,
          227.529411764705,
          216,
          224,
          231.666666666666,
          224.333333333333,
          258,
          654,
          660,
          662,
          656,
          665,
          659,
          656.533333333333,
          654.4545454545449,
          659.5,
          654.6666666666661,
          657.882352941176,
          651.203703703703,
          656.8,
          651.1666666666661,
          454.2,
          467.5,
          446.888888888888,
          449.85714285714204,
          457.5,
          464.461538461538,
          451.166666666666,
          472.666666666666,
          458.29411764705804,
          473.428571428571,
          446.5,
          449.35714285714204,
          453.666666666666,
          454.76,
          459.708333333333,
          464,
          449,
          462,
          458.125,
          457,
          450,
          454,
          443,
          451.5,
          452.5,
          620,
          602,
          603,
          601.6666666666661,
          607,
          599.428571428571,
          603.208333333333,
          631.6666666666661,
          609.083333333333,
          613.25,
          617.75,
          623.770833333333,
          602.51724137931,
          606.6666666666661,
          623.271186440678,
          614.226415094339,
          632,
          608.35294117647,
          616.28,
          628,
          619.8125,
          641,
          611.833333333333,
          625,
          617.772727272727,
          622.4166666666661,
          613.777777777777,
          625,
          626.625,
          621,
          617,
          625.5,
          626,
          622.6666666666661,
          608,
          26,
          27.5,
          30.5,
          22,
          26,
          28,
          25,
          27,
          28.2,
          32.6666666666666,
          39,
          22.9090909090909,
          27.5675675675675,
          27,
          38.5,
          32.4222222222222,
          28.4444444444444,
          36,
          32.6666666666666,
          39.1333333333333,
          42.6521739130434,
          39.5,
          47.5,
          713.058823529411,
          722,
          716.333333333333,
          713,
          722.4,
          708.333333333333,
          710.333333333333,
          717.916666666666,
          725,
          709.5,
          713,
          711,
          790.111111111111,
          793.6,
          776.5,
          781,
          795,
          779.1428571428571,
          776.5,
          782.6,
          786,
          779.5,
          784.333333333333,
          793.5,
          781.714285714285,
          784.5714285714281,
          786.928571428571,
          793.5,
          788,
          788.666666666666,
          678.1,
          682.5,
          687.4,
          686,
          680.5,
          674.545454545454,
          684.2666666666661,
          697,
          676,
          687,
          679.75,
          676.75,
          683.6875,
          688.333333333333,
          689.875,
          673.153846153846,
          679,
          669,
          671,
          686.6875,
          690.285714285714,
          675.714285714285,
          679.1666666666661,
          683.1666666666661,
          691.666666666666,
          673.1666666666661,
          688.666666666666,
          671.6,
          674.9166666666661,
          678.545454545454,
          682.2,
          684.8,
          676.25,
          686,
          517,
          521,
          525,
          520.7272727272721,
          514,
          518.478260869565,
          524.375,
          528.6666666666661,
          522.482758620689,
          516.6875,
          534.5,
          524.872093023255,
          523.333333333333,
          527.825242718446,
          519.47619047619,
          532.296296296296,
          521.923076923076,
          517.428571428571,
          518,
          519.5,
          522.333333333333,
          522,
          524,
          395,
          392,
          395,
          396.5,
          391.25,
          402,
          397.818181818181,
          389.5,
          393.166666666666,
          402.44444444444395,
          394.916666666666,
          408.333333333333,
          396.15789473684197,
          401.85714285714204,
          406.333333333333,
          398.5,
          405.25,
          402.94444444444395,
          390.5,
          393.642857142857,
          409,
          397,
          406,
          382,
          404,
          752.5,
          751,
          753.8888888888879,
          757,
          752.7777777777769,
          757.166666666666,
          762.666666666666,
          753,
          764,
          761.5,
          763.75,
          320.5,
          329,
          327,
          319.33333333333303,
          333,
          323.25,
          330.4,
          331.5,
          333.857142857142,
          335.8,
          328.116279069767,
          324.444444444444,
          321,
          334.5,
          320.75,
          325,
          157,
          161,
          425,
          423,
          381,
          384,
          382,
          384,
          386.8,
          390.85,
          394.51851851851796,
          397.85714285714204,
          387.7777777777769,
          389.7,
          392.61538461538396,
          397.454545454545,
          386,
          396.592592592592,
          401,
          402,
          558.5,
          564.7272727272721,
          567.333333333333,
          552.2,
          558.857142857142,
          552.6,
          557,
          560.75,
          547.75,
          554,
          557.5,
          568.5,
          551.55,
          559.695652173913,
          563.5,
          553,
          566.222222222222,
          545.5,
          556,
          562.6666666666661,
          550.875,
          556.875,
          565,
          560.2,
          553,
          567.5,
          554.6,
          560.285714285714,
          822,
          810,
          821.5,
          819,
          808.8,
          827,
          806.666666666666,
          811.416666666666,
          816.842105263157,
          824.7777777777769,
          820.272727272727,
          808.470588235294,
          822.125,
          816.5,
          819.285714285714,
          813.08,
          75.4,
          77,
          83.8,
          73
         ],
         "xaxis": "x",
         "y": [
          131,
          131,
          133,
          134.785714285714,
          136,
          137,
          137,
          138.666666666666,
          140,
          141,
          188,
          196,
          198.4,
          198.666666666666,
          200.333333333333,
          201.5625,
          197.875,
          376,
          377.4,
          380.888888888888,
          382.28571428571405,
          384.2,
          431,
          436.5,
          438,
          438.5,
          439.5,
          439.1,
          440.44444444444395,
          442.5,
          442.5,
          442.833333333333,
          443.134615384615,
          443.7,
          447.333333333333,
          448.264150943396,
          449.4,
          450.515151515151,
          451,
          451.2,
          451,
          452,
          451.428571428571,
          453.75,
          454.5,
          456,
          456.75,
          456.666666666666,
          466.666666666666,
          470,
          454.5,
          457,
          458,
          465,
          466,
          469.5,
          468.8,
          470.818181818181,
          472,
          473.333333333333,
          473.941176470588,
          475.796296296296,
          476.4,
          480.166666666666,
          464.8,
          465,
          466.666666666666,
          466.714285714285,
          466,
          467.90384615384596,
          468.555555555555,
          467.666666666666,
          469.29411764705804,
          469.714285714285,
          471,
          471.428571428571,
          470.25,
          473.16,
          473.708333333333,
          473.5,
          475.5,
          475.5,
          477.25,
          480.5,
          481,
          481.5,
          483,
          487,
          490.5,
          554.5,
          559.5,
          569.833333333333,
          572.9333333333329,
          575,
          577.285714285714,
          576.6666666666661,
          576.333333333333,
          578.083333333333,
          576.25,
          576,
          577.708333333333,
          581.3103448275859,
          581.833333333333,
          583.5762711864402,
          580.962264150943,
          581.5,
          584.529411764705,
          585.44,
          585.5,
          587.8125,
          586,
          587.6666666666661,
          588,
          591.090909090909,
          590.75,
          591.888888888888,
          590.5,
          591.75,
          593,
          595,
          595.5,
          598.5,
          598.6666666666661,
          609.5,
          609,
          621.5,
          622.5,
          629,
          631,
          632.5,
          633,
          634.8,
          637.4,
          639.333333333333,
          641,
          642.363636363636,
          642.162162162162,
          647,
          647,
          646.9333333333329,
          650.222222222222,
          650.478260869565,
          651.333333333333,
          651.066666666666,
          651.826086956521,
          655,
          658.5,
          726.9411764705881,
          726,
          726.333333333333,
          729.5,
          728.2,
          729.666666666666,
          729.666666666666,
          730.25,
          731.5,
          732,
          732.25,
          736,
          739.444444444444,
          739.8,
          744,
          744,
          745,
          745.714285714285,
          746.5,
          746.2,
          747,
          748,
          747.333333333333,
          747.5,
          748.857142857142,
          749.714285714285,
          750.1428571428571,
          752.5,
          759,
          762.333333333333,
          750.9,
          751,
          751.3,
          752.666666666666,
          752.875,
          754.1818181818179,
          753.666666666666,
          755,
          756,
          755.25,
          756.3214285714281,
          757.625,
          756.9375,
          756.9333333333328,
          757.875,
          758.3076923076918,
          759.6153846153841,
          760,
          760.5,
          761.5,
          760.5714285714281,
          761.428571428571,
          762.833333333333,
          761.833333333333,
          761.666666666666,
          762.666666666666,
          762.333333333333,
          763.4,
          764.333333333333,
          764.90909090909,
          765.2,
          764.4,
          766.375,
          765.333333333333,
          771,
          775,
          775.75,
          777.1818181818179,
          782,
          780.217391304347,
          779.0625,
          780.9259259259261,
          784.03448275862,
          786.229166666666,
          788,
          788.220930232558,
          792.333333333333,
          795.776699029126,
          795.3095238095232,
          796.092592592592,
          799.6923076923068,
          799,
          801.5,
          801,
          803.666666666666,
          806,
          807,
          777,
          781,
          781,
          783.5,
          782.75,
          784.5,
          786.6363636363631,
          787.5,
          787.833333333333,
          788.4814814814812,
          790.25,
          791.333333333333,
          794.3157894736839,
          792.8095238095232,
          794.666666666666,
          799.153846153846,
          796.75,
          799.222222222222,
          799.5,
          799.714285714285,
          800.2,
          803.5,
          807,
          812,
          825,
          793,
          794,
          794.222222222222,
          795,
          798.7777777777769,
          799.761904761904,
          800.333333333333,
          803,
          804.75,
          805.5,
          807,
          840,
          840.5,
          841.25,
          842.333333333333,
          843,
          844.75,
          845.666666666666,
          848.5,
          847.714285714285,
          848.6,
          852.1627906976739,
          854.111111111111,
          855,
          855,
          858.25,
          858,
          838,
          840.5,
          842,
          848,
          881,
          882,
          884.666666666666,
          885.5,
          886.7,
          887.2,
          887.0370370370372,
          887.5714285714281,
          888.8888888888879,
          891.3,
          892.538461538461,
          890.4545454545448,
          893,
          893.8888888888879,
          893,
          895.5,
          874,
          874,
          876.333333333333,
          877.6,
          878.714285714285,
          880,
          880.5,
          881.7,
          883,
          882,
          883,
          884,
          884.2,
          886.217391304347,
          887,
          888,
          889.166666666666,
          890,
          890.5,
          891.666666666666,
          891.875,
          895.125,
          895,
          896,
          898,
          897.5,
          898.8,
          899.1428571428571,
          917,
          923,
          924,
          924.5,
          925.4,
          926,
          927.666666666666,
          927.666666666666,
          927.842105263157,
          927.8888888888879,
          927.6363636363632,
          929.470588235294,
          929.75,
          931.785714285714,
          931,
          932.24,
          871,
          876,
          877.4,
          879
         ],
         "yaxis": "y"
        }
       ],
       "layout": {
        "height": 700,
        "hovermode": "closest",
        "plot_bgcolor": "rgba(0,0,0,0)",
        "shapes": [
         {
          "line": {
           "width": 1.5
          },
          "type": "circle",
          "x0": 271.42453862471234,
          "x1": 291.40706310688927,
          "xref": "x",
          "y0": 125.95397585414956,
          "y1": 145.93650033632647,
          "yref": "y"
         },
         {
          "line": {
           "width": 1.5
          },
          "type": "circle",
          "x0": 298.398850359848,
          "x1": 318.7705940845964,
          "xref": "x",
          "y0": 186.9745448042923,
          "y1": 207.3462885290407,
          "yref": "y"
         },
         {
          "line": {
           "width": 1.5
          },
          "type": "circle",
          "x0": 313.27923020444956,
          "x1": 316.47076979555044,
          "xref": "x",
          "y0": 196.2792302044496,
          "y1": 199.4707697955504,
          "yref": "y"
         },
         {
          "line": {
           "width": 1.5
          },
          "type": "circle",
          "x0": 1093.4919806477965,
          "x1": 1108.8200828442596,
          "xref": "x",
          "y0": 372.49086953668876,
          "y1": 387.81897173315195,
          "yref": "y"
         },
         {
          "line": {
           "width": 1.5
          },
          "type": "circle",
          "x0": 199.4758972404641,
          "x1": 247.90235857697016,
          "xref": "x",
          "y0": 423.7934455358961,
          "y1": 472.21990687240213,
          "yref": "y"
         },
         {
          "line": {
           "width": 1.5
          },
          "type": "circle",
          "x0": 640.6521877644248,
          "x1": 673.377422059302,
          "xref": "x",
          "y0": 452.2985010372088,
          "y1": 485.02373533208606,
          "yref": "y"
         },
         {
          "line": {
           "width": 1.5
          },
          "type": "circle",
          "x0": 436.1020775806659,
          "x1": 475.9843812572277,
          "xref": "x",
          "y0": 453.5433413169296,
          "y1": 493.4256449934916,
          "yref": "y"
         },
         {
          "line": {
           "width": 1.5
          },
          "type": "circle",
          "x0": 588.7196054028554,
          "x1": 644.7971675820895,
          "xref": "x",
          "y0": 555.6861133159595,
          "y1": 611.7636754951935,
          "yref": "y"
         },
         {
          "line": {
           "width": 1.5
          },
          "type": "circle",
          "x0": 5.261244388886169,
          "x1": 57.88329176094296,
          "xref": "x",
          "y0": 613.9028474113962,
          "y1": 666.5248947834531,
          "yref": "y"
         },
         {
          "line": {
           "width": 1.5
          },
          "type": "circle",
          "x0": 703.3992701263701,
          "x1": 726.9133115729758,
          "xref": "x",
          "y0": 718.1019662048016,
          "y1": 741.6160076514072,
          "yref": "y"
         },
         {
          "line": {
           "width": 1.5
          },
          "type": "circle",
          "x0": 770.0725112697867,
          "x1": 801.1684058377966,
          "xref": "x",
          "y0": 732.3987017459772,
          "y1": 763.4945963139871,
          "yref": "y"
         },
         {
          "line": {
           "width": 1.5
          },
          "type": "circle",
          "x0": 666.0202100543107,
          "x1": 696.7265402542038,
          "xref": "x",
          "y0": 743.6391755251143,
          "y1": 774.3455057250073,
          "yref": "y"
         },
         {
          "line": {
           "width": 1.5
          },
          "type": "circle",
          "x0": 499.7527240658797,
          "x1": 545.1086321442674,
          "xref": "x",
          "y0": 767.1043650126965,
          "y1": 812.4602730910842,
          "yref": "y"
         },
         {
          "line": {
           "width": 1.5
          },
          "type": "circle",
          "x0": 373.9582474329556,
          "x1": 422.1309498025569,
          "xref": "x",
          "y0": 769.7383226481887,
          "y1": 817.9110250177899,
          "yref": "y"
         },
         {
          "line": {
           "width": 1.5
          },
          "type": "circle",
          "x0": 743.8694193315345,
          "x1": 770.5396715775559,
          "xref": "x",
          "y0": 786.241713703829,
          "y1": 812.9119659498504,
          "yref": "y"
         },
         {
          "line": {
           "width": 1.5
          },
          "type": "circle",
          "x0": 311.58681849552323,
          "x1": 343.0945814675626,
          "xref": "x",
          "y0": 832.6735052341722,
          "y1": 864.1812682062115,
          "yref": "y"
         },
         {
          "line": {
           "width": 1.5
          },
          "type": "circle",
          "x0": 152.71067924529552,
          "x1": 165.28932075470448,
          "xref": "x",
          "y0": 832.9606792452955,
          "y1": 845.5393207547045,
          "yref": "y"
         },
         {
          "line": {
           "width": 1.5
          },
          "type": "circle",
          "x0": 358.15095625364694,
          "x1": 430.9785950592372,
          "xref": "x",
          "y0": 847.4887315442002,
          "y1": 920.3163703497903,
          "yref": "y"
         },
         {
          "line": {
           "width": 1.5
          },
          "type": "circle",
          "x0": 539.4783144338955,
          "x1": 576.6779715851233,
          "xref": "x",
          "y0": 868.2945000253916,
          "y1": 905.4941571766193,
          "yref": "y"
         },
         {
          "line": {
           "width": 1.5
          },
          "type": "circle",
          "x0": 802.8688103153879,
          "x1": 830.5983454556122,
          "xref": "x",
          "y0": 913.1881695325596,
          "y1": 940.9177046727839,
          "yref": "y"
         },
         {
          "line": {
           "width": 1.5
          },
          "type": "circle",
          "x0": 66.39651771561353,
          "x1": 88.20348228438647,
          "xref": "x",
          "y0": 864.9465177156136,
          "y1": 886.7534822843865,
          "yref": "y"
         }
        ],
        "showlegend": false,
        "template": {
         "data": {
          "bar": [
           {
            "error_x": {
             "color": "#2a3f5f"
            },
            "error_y": {
             "color": "#2a3f5f"
            },
            "marker": {
             "line": {
              "color": "#E5ECF6",
              "width": 0.5
             }
            },
            "type": "bar"
           }
          ],
          "barpolar": [
           {
            "marker": {
             "line": {
              "color": "#E5ECF6",
              "width": 0.5
             }
            },
            "type": "barpolar"
           }
          ],
          "carpet": [
           {
            "aaxis": {
             "endlinecolor": "#2a3f5f",
             "gridcolor": "white",
             "linecolor": "white",
             "minorgridcolor": "white",
             "startlinecolor": "#2a3f5f"
            },
            "baxis": {
             "endlinecolor": "#2a3f5f",
             "gridcolor": "white",
             "linecolor": "white",
             "minorgridcolor": "white",
             "startlinecolor": "#2a3f5f"
            },
            "type": "carpet"
           }
          ],
          "choropleth": [
           {
            "colorbar": {
             "outlinewidth": 0,
             "ticks": ""
            },
            "type": "choropleth"
           }
          ],
          "contour": [
           {
            "colorbar": {
             "outlinewidth": 0,
             "ticks": ""
            },
            "colorscale": [
             [
              0,
              "#0d0887"
             ],
             [
              0.1111111111111111,
              "#46039f"
             ],
             [
              0.2222222222222222,
              "#7201a8"
             ],
             [
              0.3333333333333333,
              "#9c179e"
             ],
             [
              0.4444444444444444,
              "#bd3786"
             ],
             [
              0.5555555555555556,
              "#d8576b"
             ],
             [
              0.6666666666666666,
              "#ed7953"
             ],
             [
              0.7777777777777778,
              "#fb9f3a"
             ],
             [
              0.8888888888888888,
              "#fdca26"
             ],
             [
              1,
              "#f0f921"
             ]
            ],
            "type": "contour"
           }
          ],
          "contourcarpet": [
           {
            "colorbar": {
             "outlinewidth": 0,
             "ticks": ""
            },
            "type": "contourcarpet"
           }
          ],
          "heatmap": [
           {
            "colorbar": {
             "outlinewidth": 0,
             "ticks": ""
            },
            "colorscale": [
             [
              0,
              "#0d0887"
             ],
             [
              0.1111111111111111,
              "#46039f"
             ],
             [
              0.2222222222222222,
              "#7201a8"
             ],
             [
              0.3333333333333333,
              "#9c179e"
             ],
             [
              0.4444444444444444,
              "#bd3786"
             ],
             [
              0.5555555555555556,
              "#d8576b"
             ],
             [
              0.6666666666666666,
              "#ed7953"
             ],
             [
              0.7777777777777778,
              "#fb9f3a"
             ],
             [
              0.8888888888888888,
              "#fdca26"
             ],
             [
              1,
              "#f0f921"
             ]
            ],
            "type": "heatmap"
           }
          ],
          "heatmapgl": [
           {
            "colorbar": {
             "outlinewidth": 0,
             "ticks": ""
            },
            "colorscale": [
             [
              0,
              "#0d0887"
             ],
             [
              0.1111111111111111,
              "#46039f"
             ],
             [
              0.2222222222222222,
              "#7201a8"
             ],
             [
              0.3333333333333333,
              "#9c179e"
             ],
             [
              0.4444444444444444,
              "#bd3786"
             ],
             [
              0.5555555555555556,
              "#d8576b"
             ],
             [
              0.6666666666666666,
              "#ed7953"
             ],
             [
              0.7777777777777778,
              "#fb9f3a"
             ],
             [
              0.8888888888888888,
              "#fdca26"
             ],
             [
              1,
              "#f0f921"
             ]
            ],
            "type": "heatmapgl"
           }
          ],
          "histogram": [
           {
            "marker": {
             "colorbar": {
              "outlinewidth": 0,
              "ticks": ""
             }
            },
            "type": "histogram"
           }
          ],
          "histogram2d": [
           {
            "colorbar": {
             "outlinewidth": 0,
             "ticks": ""
            },
            "colorscale": [
             [
              0,
              "#0d0887"
             ],
             [
              0.1111111111111111,
              "#46039f"
             ],
             [
              0.2222222222222222,
              "#7201a8"
             ],
             [
              0.3333333333333333,
              "#9c179e"
             ],
             [
              0.4444444444444444,
              "#bd3786"
             ],
             [
              0.5555555555555556,
              "#d8576b"
             ],
             [
              0.6666666666666666,
              "#ed7953"
             ],
             [
              0.7777777777777778,
              "#fb9f3a"
             ],
             [
              0.8888888888888888,
              "#fdca26"
             ],
             [
              1,
              "#f0f921"
             ]
            ],
            "type": "histogram2d"
           }
          ],
          "histogram2dcontour": [
           {
            "colorbar": {
             "outlinewidth": 0,
             "ticks": ""
            },
            "colorscale": [
             [
              0,
              "#0d0887"
             ],
             [
              0.1111111111111111,
              "#46039f"
             ],
             [
              0.2222222222222222,
              "#7201a8"
             ],
             [
              0.3333333333333333,
              "#9c179e"
             ],
             [
              0.4444444444444444,
              "#bd3786"
             ],
             [
              0.5555555555555556,
              "#d8576b"
             ],
             [
              0.6666666666666666,
              "#ed7953"
             ],
             [
              0.7777777777777778,
              "#fb9f3a"
             ],
             [
              0.8888888888888888,
              "#fdca26"
             ],
             [
              1,
              "#f0f921"
             ]
            ],
            "type": "histogram2dcontour"
           }
          ],
          "mesh3d": [
           {
            "colorbar": {
             "outlinewidth": 0,
             "ticks": ""
            },
            "type": "mesh3d"
           }
          ],
          "parcoords": [
           {
            "line": {
             "colorbar": {
              "outlinewidth": 0,
              "ticks": ""
             }
            },
            "type": "parcoords"
           }
          ],
          "pie": [
           {
            "automargin": true,
            "type": "pie"
           }
          ],
          "scatter": [
           {
            "marker": {
             "colorbar": {
              "outlinewidth": 0,
              "ticks": ""
             }
            },
            "type": "scatter"
           }
          ],
          "scatter3d": [
           {
            "line": {
             "colorbar": {
              "outlinewidth": 0,
              "ticks": ""
             }
            },
            "marker": {
             "colorbar": {
              "outlinewidth": 0,
              "ticks": ""
             }
            },
            "type": "scatter3d"
           }
          ],
          "scattercarpet": [
           {
            "marker": {
             "colorbar": {
              "outlinewidth": 0,
              "ticks": ""
             }
            },
            "type": "scattercarpet"
           }
          ],
          "scattergeo": [
           {
            "marker": {
             "colorbar": {
              "outlinewidth": 0,
              "ticks": ""
             }
            },
            "type": "scattergeo"
           }
          ],
          "scattergl": [
           {
            "marker": {
             "colorbar": {
              "outlinewidth": 0,
              "ticks": ""
             }
            },
            "type": "scattergl"
           }
          ],
          "scattermapbox": [
           {
            "marker": {
             "colorbar": {
              "outlinewidth": 0,
              "ticks": ""
             }
            },
            "type": "scattermapbox"
           }
          ],
          "scatterpolar": [
           {
            "marker": {
             "colorbar": {
              "outlinewidth": 0,
              "ticks": ""
             }
            },
            "type": "scatterpolar"
           }
          ],
          "scatterpolargl": [
           {
            "marker": {
             "colorbar": {
              "outlinewidth": 0,
              "ticks": ""
             }
            },
            "type": "scatterpolargl"
           }
          ],
          "scatterternary": [
           {
            "marker": {
             "colorbar": {
              "outlinewidth": 0,
              "ticks": ""
             }
            },
            "type": "scatterternary"
           }
          ],
          "surface": [
           {
            "colorbar": {
             "outlinewidth": 0,
             "ticks": ""
            },
            "colorscale": [
             [
              0,
              "#0d0887"
             ],
             [
              0.1111111111111111,
              "#46039f"
             ],
             [
              0.2222222222222222,
              "#7201a8"
             ],
             [
              0.3333333333333333,
              "#9c179e"
             ],
             [
              0.4444444444444444,
              "#bd3786"
             ],
             [
              0.5555555555555556,
              "#d8576b"
             ],
             [
              0.6666666666666666,
              "#ed7953"
             ],
             [
              0.7777777777777778,
              "#fb9f3a"
             ],
             [
              0.8888888888888888,
              "#fdca26"
             ],
             [
              1,
              "#f0f921"
             ]
            ],
            "type": "surface"
           }
          ],
          "table": [
           {
            "cells": {
             "fill": {
              "color": "#EBF0F8"
             },
             "line": {
              "color": "white"
             }
            },
            "header": {
             "fill": {
              "color": "#C8D4E3"
             },
             "line": {
              "color": "white"
             }
            },
            "type": "table"
           }
          ]
         },
         "layout": {
          "annotationdefaults": {
           "arrowcolor": "#2a3f5f",
           "arrowhead": 0,
           "arrowwidth": 1
          },
          "coloraxis": {
           "colorbar": {
            "outlinewidth": 0,
            "ticks": ""
           }
          },
          "colorscale": {
           "diverging": [
            [
             0,
             "#8e0152"
            ],
            [
             0.1,
             "#c51b7d"
            ],
            [
             0.2,
             "#de77ae"
            ],
            [
             0.3,
             "#f1b6da"
            ],
            [
             0.4,
             "#fde0ef"
            ],
            [
             0.5,
             "#f7f7f7"
            ],
            [
             0.6,
             "#e6f5d0"
            ],
            [
             0.7,
             "#b8e186"
            ],
            [
             0.8,
             "#7fbc41"
            ],
            [
             0.9,
             "#4d9221"
            ],
            [
             1,
             "#276419"
            ]
           ],
           "sequential": [
            [
             0,
             "#0d0887"
            ],
            [
             0.1111111111111111,
             "#46039f"
            ],
            [
             0.2222222222222222,
             "#7201a8"
            ],
            [
             0.3333333333333333,
             "#9c179e"
            ],
            [
             0.4444444444444444,
             "#bd3786"
            ],
            [
             0.5555555555555556,
             "#d8576b"
            ],
            [
             0.6666666666666666,
             "#ed7953"
            ],
            [
             0.7777777777777778,
             "#fb9f3a"
            ],
            [
             0.8888888888888888,
             "#fdca26"
            ],
            [
             1,
             "#f0f921"
            ]
           ],
           "sequentialminus": [
            [
             0,
             "#0d0887"
            ],
            [
             0.1111111111111111,
             "#46039f"
            ],
            [
             0.2222222222222222,
             "#7201a8"
            ],
            [
             0.3333333333333333,
             "#9c179e"
            ],
            [
             0.4444444444444444,
             "#bd3786"
            ],
            [
             0.5555555555555556,
             "#d8576b"
            ],
            [
             0.6666666666666666,
             "#ed7953"
            ],
            [
             0.7777777777777778,
             "#fb9f3a"
            ],
            [
             0.8888888888888888,
             "#fdca26"
            ],
            [
             1,
             "#f0f921"
            ]
           ]
          },
          "colorway": [
           "#636efa",
           "#EF553B",
           "#00cc96",
           "#ab63fa",
           "#FFA15A",
           "#19d3f3",
           "#FF6692",
           "#B6E880",
           "#FF97FF",
           "#FECB52"
          ],
          "font": {
           "color": "#2a3f5f"
          },
          "geo": {
           "bgcolor": "white",
           "lakecolor": "white",
           "landcolor": "#E5ECF6",
           "showlakes": true,
           "showland": true,
           "subunitcolor": "white"
          },
          "hoverlabel": {
           "align": "left"
          },
          "hovermode": "closest",
          "mapbox": {
           "style": "light"
          },
          "paper_bgcolor": "white",
          "plot_bgcolor": "#E5ECF6",
          "polar": {
           "angularaxis": {
            "gridcolor": "white",
            "linecolor": "white",
            "ticks": ""
           },
           "bgcolor": "#E5ECF6",
           "radialaxis": {
            "gridcolor": "white",
            "linecolor": "white",
            "ticks": ""
           }
          },
          "scene": {
           "xaxis": {
            "backgroundcolor": "#E5ECF6",
            "gridcolor": "white",
            "gridwidth": 2,
            "linecolor": "white",
            "showbackground": true,
            "ticks": "",
            "zerolinecolor": "white"
           },
           "yaxis": {
            "backgroundcolor": "#E5ECF6",
            "gridcolor": "white",
            "gridwidth": 2,
            "linecolor": "white",
            "showbackground": true,
            "ticks": "",
            "zerolinecolor": "white"
           },
           "zaxis": {
            "backgroundcolor": "#E5ECF6",
            "gridcolor": "white",
            "gridwidth": 2,
            "linecolor": "white",
            "showbackground": true,
            "ticks": "",
            "zerolinecolor": "white"
           }
          },
          "shapedefaults": {
           "line": {
            "color": "#2a3f5f"
           }
          },
          "ternary": {
           "aaxis": {
            "gridcolor": "white",
            "linecolor": "white",
            "ticks": ""
           },
           "baxis": {
            "gridcolor": "white",
            "linecolor": "white",
            "ticks": ""
           },
           "bgcolor": "#E5ECF6",
           "caxis": {
            "gridcolor": "white",
            "linecolor": "white",
            "ticks": ""
           }
          },
          "title": {
           "x": 0.05
          },
          "xaxis": {
           "automargin": true,
           "gridcolor": "white",
           "linecolor": "white",
           "ticks": "",
           "title": {
            "standoff": 15
           },
           "zerolinecolor": "white",
           "zerolinewidth": 2
          },
          "yaxis": {
           "automargin": true,
           "gridcolor": "white",
           "linecolor": "white",
           "ticks": "",
           "title": {
            "standoff": 15
           },
           "zerolinecolor": "white",
           "zerolinewidth": 2
          }
         }
        },
        "title": {
         "text": "Puncta"
        },
        "xaxis": {
         "constrain": "domain",
         "gridcolor": "#E4EAF2",
         "range": [
          -50,
          1250
         ],
         "showgrid": true,
         "title": {
          "text": "x"
         },
         "type": "linear"
        },
        "yaxis": {
         "gridcolor": "#E4EAF2",
         "range": [
          1050,
          -50
         ],
         "scaleanchor": "x",
         "scaleratio": 1,
         "showgrid": true,
         "title": {
          "text": "y"
         },
         "zeroline": false
        }
       }
      },
      "text/html": [
       "<div>                            <div id=\"5acdd678-319c-47fd-acfc-6bb927489e4a\" class=\"plotly-graph-div\" style=\"height:700px; width:100%;\"></div>            <script type=\"text/javascript\">                require([\"plotly\"], function(Plotly) {                    window.PLOTLYENV=window.PLOTLYENV || {};                                    if (document.getElementById(\"5acdd678-319c-47fd-acfc-6bb927489e4a\")) {                    Plotly.newPlot(                        \"5acdd678-319c-47fd-acfc-6bb927489e4a\",                        [{\"hovertemplate\": \"center_x=%{x}<br>center_y=%{y}<extra></extra>\", \"legendgroup\": \"\", \"marker\": {\"color\": \"#3366CC\", \"size\": 3, \"symbol\": \"circle\"}, \"mode\": \"markers\", \"name\": \"\", \"orientation\": \"v\", \"showlegend\": false, \"type\": \"scatter\", \"x\": [275.0, 280.0, 285.5, 280.142857142857, 277.0, 283.181818181818, 286.0, 281.33333333333303, 279.0, 287.0, 310.0, 309.25, 306.8, 311.33333333333303, 309.25, 304.875, 314.875, 1103.5, 1099.95, 1100.7777777777699, 1098.28571428571, 1103.26666666666, 217.0, 218.0, 215.0, 225.0, 217.5, 221.9, 226.666666666666, 210.0, 236.0, 228.833333333333, 220.461538461538, 226.1, 217.166666666666, 224.377358490566, 219.2, 230.060606060606, 212.8, 225.2, 233.5, 216.0, 218.0, 223.0, 227.529411764705, 216.0, 224.0, 231.666666666666, 224.333333333333, 258.0, 654.0, 660.0, 662.0, 656.0, 665.0, 659.0, 656.533333333333, 654.4545454545449, 659.5, 654.6666666666661, 657.882352941176, 651.203703703703, 656.8, 651.1666666666661, 454.2, 467.5, 446.888888888888, 449.85714285714204, 457.5, 464.461538461538, 451.166666666666, 472.666666666666, 458.29411764705804, 473.428571428571, 446.5, 449.35714285714204, 453.666666666666, 454.76, 459.708333333333, 464.0, 449.0, 462.0, 458.125, 457.0, 450.0, 454.0, 443.0, 451.5, 452.5, 620.0, 602.0, 603.0, 601.6666666666661, 607.0, 599.428571428571, 603.208333333333, 631.6666666666661, 609.083333333333, 613.25, 617.75, 623.770833333333, 602.51724137931, 606.6666666666661, 623.271186440678, 614.226415094339, 632.0, 608.35294117647, 616.28, 628.0, 619.8125, 641.0, 611.833333333333, 625.0, 617.772727272727, 622.4166666666661, 613.777777777777, 625.0, 626.625, 621.0, 617.0, 625.5, 626.0, 622.6666666666661, 608.0, 26.0, 27.5, 30.5, 22.0, 26.0, 28.0, 25.0, 27.0, 28.2, 32.6666666666666, 39.0, 22.9090909090909, 27.5675675675675, 27.0, 38.5, 32.4222222222222, 28.4444444444444, 36.0, 32.6666666666666, 39.1333333333333, 42.6521739130434, 39.5, 47.5, 713.058823529411, 722.0, 716.333333333333, 713.0, 722.4, 708.333333333333, 710.333333333333, 717.916666666666, 725.0, 709.5, 713.0, 711.0, 790.111111111111, 793.6, 776.5, 781.0, 795.0, 779.1428571428571, 776.5, 782.6, 786.0, 779.5, 784.333333333333, 793.5, 781.714285714285, 784.5714285714281, 786.928571428571, 793.5, 788.0, 788.666666666666, 678.1, 682.5, 687.4, 686.0, 680.5, 674.545454545454, 684.2666666666661, 697.0, 676.0, 687.0, 679.75, 676.75, 683.6875, 688.333333333333, 689.875, 673.153846153846, 679.0, 669.0, 671.0, 686.6875, 690.285714285714, 675.714285714285, 679.1666666666661, 683.1666666666661, 691.666666666666, 673.1666666666661, 688.666666666666, 671.6, 674.9166666666661, 678.545454545454, 682.2, 684.8, 676.25, 686.0, 517.0, 521.0, 525.0, 520.7272727272721, 514.0, 518.478260869565, 524.375, 528.6666666666661, 522.482758620689, 516.6875, 534.5, 524.872093023255, 523.333333333333, 527.825242718446, 519.47619047619, 532.296296296296, 521.923076923076, 517.428571428571, 518.0, 519.5, 522.333333333333, 522.0, 524.0, 395.0, 392.0, 395.0, 396.5, 391.25, 402.0, 397.818181818181, 389.5, 393.166666666666, 402.44444444444395, 394.916666666666, 408.333333333333, 396.15789473684197, 401.85714285714204, 406.333333333333, 398.5, 405.25, 402.94444444444395, 390.5, 393.642857142857, 409.0, 397.0, 406.0, 382.0, 404.0, 752.5, 751.0, 753.8888888888879, 757.0, 752.7777777777769, 757.166666666666, 762.666666666666, 753.0, 764.0, 761.5, 763.75, 320.5, 329.0, 327.0, 319.33333333333303, 333.0, 323.25, 330.4, 331.5, 333.857142857142, 335.8, 328.116279069767, 324.444444444444, 321.0, 334.5, 320.75, 325.0, 157.0, 161.0, 425.0, 423.0, 381.0, 384.0, 382.0, 384.0, 386.8, 390.85, 394.51851851851796, 397.85714285714204, 387.7777777777769, 389.7, 392.61538461538396, 397.454545454545, 386.0, 396.592592592592, 401.0, 402.0, 558.5, 564.7272727272721, 567.333333333333, 552.2, 558.857142857142, 552.6, 557.0, 560.75, 547.75, 554.0, 557.5, 568.5, 551.55, 559.695652173913, 563.5, 553.0, 566.222222222222, 545.5, 556.0, 562.6666666666661, 550.875, 556.875, 565.0, 560.2, 553.0, 567.5, 554.6, 560.285714285714, 822.0, 810.0, 821.5, 819.0, 808.8, 827.0, 806.666666666666, 811.416666666666, 816.842105263157, 824.7777777777769, 820.272727272727, 808.470588235294, 822.125, 816.5, 819.285714285714, 813.08, 75.4, 77.0, 83.8, 73.0], \"xaxis\": \"x\", \"y\": [131.0, 131.0, 133.0, 134.785714285714, 136.0, 137.0, 137.0, 138.666666666666, 140.0, 141.0, 188.0, 196.0, 198.4, 198.666666666666, 200.333333333333, 201.5625, 197.875, 376.0, 377.4, 380.888888888888, 382.28571428571405, 384.2, 431.0, 436.5, 438.0, 438.5, 439.5, 439.1, 440.44444444444395, 442.5, 442.5, 442.833333333333, 443.134615384615, 443.7, 447.333333333333, 448.264150943396, 449.4, 450.515151515151, 451.0, 451.2, 451.0, 452.0, 451.428571428571, 453.75, 454.5, 456.0, 456.75, 456.666666666666, 466.666666666666, 470.0, 454.5, 457.0, 458.0, 465.0, 466.0, 469.5, 468.8, 470.818181818181, 472.0, 473.333333333333, 473.941176470588, 475.796296296296, 476.4, 480.166666666666, 464.8, 465.0, 466.666666666666, 466.714285714285, 466.0, 467.90384615384596, 468.555555555555, 467.666666666666, 469.29411764705804, 469.714285714285, 471.0, 471.428571428571, 470.25, 473.16, 473.708333333333, 473.5, 475.5, 475.5, 477.25, 480.5, 481.0, 481.5, 483.0, 487.0, 490.5, 554.5, 559.5, 569.833333333333, 572.9333333333329, 575.0, 577.285714285714, 576.6666666666661, 576.333333333333, 578.083333333333, 576.25, 576.0, 577.708333333333, 581.3103448275859, 581.833333333333, 583.5762711864402, 580.962264150943, 581.5, 584.529411764705, 585.44, 585.5, 587.8125, 586.0, 587.6666666666661, 588.0, 591.090909090909, 590.75, 591.888888888888, 590.5, 591.75, 593.0, 595.0, 595.5, 598.5, 598.6666666666661, 609.5, 609.0, 621.5, 622.5, 629.0, 631.0, 632.5, 633.0, 634.8, 637.4, 639.333333333333, 641.0, 642.363636363636, 642.162162162162, 647.0, 647.0, 646.9333333333329, 650.222222222222, 650.478260869565, 651.333333333333, 651.066666666666, 651.826086956521, 655.0, 658.5, 726.9411764705881, 726.0, 726.333333333333, 729.5, 728.2, 729.666666666666, 729.666666666666, 730.25, 731.5, 732.0, 732.25, 736.0, 739.444444444444, 739.8, 744.0, 744.0, 745.0, 745.714285714285, 746.5, 746.2, 747.0, 748.0, 747.333333333333, 747.5, 748.857142857142, 749.714285714285, 750.1428571428571, 752.5, 759.0, 762.333333333333, 750.9, 751.0, 751.3, 752.666666666666, 752.875, 754.1818181818179, 753.666666666666, 755.0, 756.0, 755.25, 756.3214285714281, 757.625, 756.9375, 756.9333333333328, 757.875, 758.3076923076918, 759.6153846153841, 760.0, 760.5, 761.5, 760.5714285714281, 761.428571428571, 762.833333333333, 761.833333333333, 761.666666666666, 762.666666666666, 762.333333333333, 763.4, 764.333333333333, 764.90909090909, 765.2, 764.4, 766.375, 765.333333333333, 771.0, 775.0, 775.75, 777.1818181818179, 782.0, 780.217391304347, 779.0625, 780.9259259259261, 784.03448275862, 786.229166666666, 788.0, 788.220930232558, 792.333333333333, 795.776699029126, 795.3095238095232, 796.092592592592, 799.6923076923068, 799.0, 801.5, 801.0, 803.666666666666, 806.0, 807.0, 777.0, 781.0, 781.0, 783.5, 782.75, 784.5, 786.6363636363631, 787.5, 787.833333333333, 788.4814814814812, 790.25, 791.333333333333, 794.3157894736839, 792.8095238095232, 794.666666666666, 799.153846153846, 796.75, 799.222222222222, 799.5, 799.714285714285, 800.2, 803.5, 807.0, 812.0, 825.0, 793.0, 794.0, 794.222222222222, 795.0, 798.7777777777769, 799.761904761904, 800.333333333333, 803.0, 804.75, 805.5, 807.0, 840.0, 840.5, 841.25, 842.333333333333, 843.0, 844.75, 845.666666666666, 848.5, 847.714285714285, 848.6, 852.1627906976739, 854.111111111111, 855.0, 855.0, 858.25, 858.0, 838.0, 840.5, 842.0, 848.0, 881.0, 882.0, 884.666666666666, 885.5, 886.7, 887.2, 887.0370370370372, 887.5714285714281, 888.8888888888879, 891.3, 892.538461538461, 890.4545454545448, 893.0, 893.8888888888879, 893.0, 895.5, 874.0, 874.0, 876.333333333333, 877.6, 878.714285714285, 880.0, 880.5, 881.7, 883.0, 882.0, 883.0, 884.0, 884.2, 886.217391304347, 887.0, 888.0, 889.166666666666, 890.0, 890.5, 891.666666666666, 891.875, 895.125, 895.0, 896.0, 898.0, 897.5, 898.8, 899.1428571428571, 917.0, 923.0, 924.0, 924.5, 925.4, 926.0, 927.666666666666, 927.666666666666, 927.842105263157, 927.8888888888879, 927.6363636363632, 929.470588235294, 929.75, 931.785714285714, 931.0, 932.24, 871.0, 876.0, 877.4, 879.0], \"yaxis\": \"y\"}],                        {\"height\": 700, \"hovermode\": \"closest\", \"plot_bgcolor\": \"rgba(0,0,0,0)\", \"shapes\": [{\"line\": {\"width\": 1.5}, \"type\": \"circle\", \"x0\": 271.42453862471234, \"x1\": 291.40706310688927, \"xref\": \"x\", \"y0\": 125.95397585414956, \"y1\": 145.93650033632647, \"yref\": \"y\"}, {\"line\": {\"width\": 1.5}, \"type\": \"circle\", \"x0\": 298.398850359848, \"x1\": 318.7705940845964, \"xref\": \"x\", \"y0\": 186.9745448042923, \"y1\": 207.3462885290407, \"yref\": \"y\"}, {\"line\": {\"width\": 1.5}, \"type\": \"circle\", \"x0\": 313.27923020444956, \"x1\": 316.47076979555044, \"xref\": \"x\", \"y0\": 196.2792302044496, \"y1\": 199.4707697955504, \"yref\": \"y\"}, {\"line\": {\"width\": 1.5}, \"type\": \"circle\", \"x0\": 1093.4919806477965, \"x1\": 1108.8200828442596, \"xref\": \"x\", \"y0\": 372.49086953668876, \"y1\": 387.81897173315195, \"yref\": \"y\"}, {\"line\": {\"width\": 1.5}, \"type\": \"circle\", \"x0\": 199.4758972404641, \"x1\": 247.90235857697016, \"xref\": \"x\", \"y0\": 423.7934455358961, \"y1\": 472.21990687240213, \"yref\": \"y\"}, {\"line\": {\"width\": 1.5}, \"type\": \"circle\", \"x0\": 640.6521877644248, \"x1\": 673.377422059302, \"xref\": \"x\", \"y0\": 452.2985010372088, \"y1\": 485.02373533208606, \"yref\": \"y\"}, {\"line\": {\"width\": 1.5}, \"type\": \"circle\", \"x0\": 436.1020775806659, \"x1\": 475.9843812572277, \"xref\": \"x\", \"y0\": 453.5433413169296, \"y1\": 493.4256449934916, \"yref\": \"y\"}, {\"line\": {\"width\": 1.5}, \"type\": \"circle\", \"x0\": 588.7196054028554, \"x1\": 644.7971675820895, \"xref\": \"x\", \"y0\": 555.6861133159595, \"y1\": 611.7636754951935, \"yref\": \"y\"}, {\"line\": {\"width\": 1.5}, \"type\": \"circle\", \"x0\": 5.261244388886169, \"x1\": 57.88329176094296, \"xref\": \"x\", \"y0\": 613.9028474113962, \"y1\": 666.5248947834531, \"yref\": \"y\"}, {\"line\": {\"width\": 1.5}, \"type\": \"circle\", \"x0\": 703.3992701263701, \"x1\": 726.9133115729758, \"xref\": \"x\", \"y0\": 718.1019662048016, \"y1\": 741.6160076514072, \"yref\": \"y\"}, {\"line\": {\"width\": 1.5}, \"type\": \"circle\", \"x0\": 770.0725112697867, \"x1\": 801.1684058377966, \"xref\": \"x\", \"y0\": 732.3987017459772, \"y1\": 763.4945963139871, \"yref\": \"y\"}, {\"line\": {\"width\": 1.5}, \"type\": \"circle\", \"x0\": 666.0202100543107, \"x1\": 696.7265402542038, \"xref\": \"x\", \"y0\": 743.6391755251143, \"y1\": 774.3455057250073, \"yref\": \"y\"}, {\"line\": {\"width\": 1.5}, \"type\": \"circle\", \"x0\": 499.7527240658797, \"x1\": 545.1086321442674, \"xref\": \"x\", \"y0\": 767.1043650126965, \"y1\": 812.4602730910842, \"yref\": \"y\"}, {\"line\": {\"width\": 1.5}, \"type\": \"circle\", \"x0\": 373.9582474329556, \"x1\": 422.1309498025569, \"xref\": \"x\", \"y0\": 769.7383226481887, \"y1\": 817.9110250177899, \"yref\": \"y\"}, {\"line\": {\"width\": 1.5}, \"type\": \"circle\", \"x0\": 743.8694193315345, \"x1\": 770.5396715775559, \"xref\": \"x\", \"y0\": 786.241713703829, \"y1\": 812.9119659498504, \"yref\": \"y\"}, {\"line\": {\"width\": 1.5}, \"type\": \"circle\", \"x0\": 311.58681849552323, \"x1\": 343.0945814675626, \"xref\": \"x\", \"y0\": 832.6735052341722, \"y1\": 864.1812682062115, \"yref\": \"y\"}, {\"line\": {\"width\": 1.5}, \"type\": \"circle\", \"x0\": 152.71067924529552, \"x1\": 165.28932075470448, \"xref\": \"x\", \"y0\": 832.9606792452955, \"y1\": 845.5393207547045, \"yref\": \"y\"}, {\"line\": {\"width\": 1.5}, \"type\": \"circle\", \"x0\": 358.15095625364694, \"x1\": 430.9785950592372, \"xref\": \"x\", \"y0\": 847.4887315442002, \"y1\": 920.3163703497903, \"yref\": \"y\"}, {\"line\": {\"width\": 1.5}, \"type\": \"circle\", \"x0\": 539.4783144338955, \"x1\": 576.6779715851233, \"xref\": \"x\", \"y0\": 868.2945000253916, \"y1\": 905.4941571766193, \"yref\": \"y\"}, {\"line\": {\"width\": 1.5}, \"type\": \"circle\", \"x0\": 802.8688103153879, \"x1\": 830.5983454556122, \"xref\": \"x\", \"y0\": 913.1881695325596, \"y1\": 940.9177046727839, \"yref\": \"y\"}, {\"line\": {\"width\": 1.5}, \"type\": \"circle\", \"x0\": 66.39651771561353, \"x1\": 88.20348228438647, \"xref\": \"x\", \"y0\": 864.9465177156136, \"y1\": 886.7534822843865, \"yref\": \"y\"}], \"showlegend\": false, \"template\": {\"data\": {\"bar\": [{\"error_x\": {\"color\": \"#2a3f5f\"}, \"error_y\": {\"color\": \"#2a3f5f\"}, \"marker\": {\"line\": {\"color\": \"#E5ECF6\", \"width\": 0.5}}, \"type\": \"bar\"}], \"barpolar\": [{\"marker\": {\"line\": {\"color\": \"#E5ECF6\", \"width\": 0.5}}, \"type\": \"barpolar\"}], \"carpet\": [{\"aaxis\": {\"endlinecolor\": \"#2a3f5f\", \"gridcolor\": \"white\", \"linecolor\": \"white\", \"minorgridcolor\": \"white\", \"startlinecolor\": \"#2a3f5f\"}, \"baxis\": {\"endlinecolor\": \"#2a3f5f\", \"gridcolor\": \"white\", \"linecolor\": \"white\", \"minorgridcolor\": \"white\", \"startlinecolor\": \"#2a3f5f\"}, \"type\": \"carpet\"}], \"choropleth\": [{\"colorbar\": {\"outlinewidth\": 0, \"ticks\": \"\"}, \"type\": \"choropleth\"}], \"contour\": [{\"colorbar\": {\"outlinewidth\": 0, \"ticks\": \"\"}, \"colorscale\": [[0.0, \"#0d0887\"], [0.1111111111111111, \"#46039f\"], [0.2222222222222222, \"#7201a8\"], [0.3333333333333333, \"#9c179e\"], [0.4444444444444444, \"#bd3786\"], [0.5555555555555556, \"#d8576b\"], [0.6666666666666666, \"#ed7953\"], [0.7777777777777778, \"#fb9f3a\"], [0.8888888888888888, \"#fdca26\"], [1.0, \"#f0f921\"]], \"type\": \"contour\"}], \"contourcarpet\": [{\"colorbar\": {\"outlinewidth\": 0, \"ticks\": \"\"}, \"type\": \"contourcarpet\"}], \"heatmap\": [{\"colorbar\": {\"outlinewidth\": 0, \"ticks\": \"\"}, \"colorscale\": [[0.0, \"#0d0887\"], [0.1111111111111111, \"#46039f\"], [0.2222222222222222, \"#7201a8\"], [0.3333333333333333, \"#9c179e\"], [0.4444444444444444, \"#bd3786\"], [0.5555555555555556, \"#d8576b\"], [0.6666666666666666, \"#ed7953\"], [0.7777777777777778, \"#fb9f3a\"], [0.8888888888888888, \"#fdca26\"], [1.0, \"#f0f921\"]], \"type\": \"heatmap\"}], \"heatmapgl\": [{\"colorbar\": {\"outlinewidth\": 0, \"ticks\": \"\"}, \"colorscale\": [[0.0, \"#0d0887\"], [0.1111111111111111, \"#46039f\"], [0.2222222222222222, \"#7201a8\"], [0.3333333333333333, \"#9c179e\"], [0.4444444444444444, \"#bd3786\"], [0.5555555555555556, \"#d8576b\"], [0.6666666666666666, \"#ed7953\"], [0.7777777777777778, \"#fb9f3a\"], [0.8888888888888888, \"#fdca26\"], [1.0, \"#f0f921\"]], \"type\": \"heatmapgl\"}], \"histogram\": [{\"marker\": {\"colorbar\": {\"outlinewidth\": 0, \"ticks\": \"\"}}, \"type\": \"histogram\"}], \"histogram2d\": [{\"colorbar\": {\"outlinewidth\": 0, \"ticks\": \"\"}, \"colorscale\": [[0.0, \"#0d0887\"], [0.1111111111111111, \"#46039f\"], [0.2222222222222222, \"#7201a8\"], [0.3333333333333333, \"#9c179e\"], [0.4444444444444444, \"#bd3786\"], [0.5555555555555556, \"#d8576b\"], [0.6666666666666666, \"#ed7953\"], [0.7777777777777778, \"#fb9f3a\"], [0.8888888888888888, \"#fdca26\"], [1.0, \"#f0f921\"]], \"type\": \"histogram2d\"}], \"histogram2dcontour\": [{\"colorbar\": {\"outlinewidth\": 0, \"ticks\": \"\"}, \"colorscale\": [[0.0, \"#0d0887\"], [0.1111111111111111, \"#46039f\"], [0.2222222222222222, \"#7201a8\"], [0.3333333333333333, \"#9c179e\"], [0.4444444444444444, \"#bd3786\"], [0.5555555555555556, \"#d8576b\"], [0.6666666666666666, \"#ed7953\"], [0.7777777777777778, \"#fb9f3a\"], [0.8888888888888888, \"#fdca26\"], [1.0, \"#f0f921\"]], \"type\": \"histogram2dcontour\"}], \"mesh3d\": [{\"colorbar\": {\"outlinewidth\": 0, \"ticks\": \"\"}, \"type\": \"mesh3d\"}], \"parcoords\": [{\"line\": {\"colorbar\": {\"outlinewidth\": 0, \"ticks\": \"\"}}, \"type\": \"parcoords\"}], \"pie\": [{\"automargin\": true, \"type\": \"pie\"}], \"scatter\": [{\"marker\": {\"colorbar\": {\"outlinewidth\": 0, \"ticks\": \"\"}}, \"type\": \"scatter\"}], \"scatter3d\": [{\"line\": {\"colorbar\": {\"outlinewidth\": 0, \"ticks\": \"\"}}, \"marker\": {\"colorbar\": {\"outlinewidth\": 0, \"ticks\": \"\"}}, \"type\": \"scatter3d\"}], \"scattercarpet\": [{\"marker\": {\"colorbar\": {\"outlinewidth\": 0, \"ticks\": \"\"}}, \"type\": \"scattercarpet\"}], \"scattergeo\": [{\"marker\": {\"colorbar\": {\"outlinewidth\": 0, \"ticks\": \"\"}}, \"type\": \"scattergeo\"}], \"scattergl\": [{\"marker\": {\"colorbar\": {\"outlinewidth\": 0, \"ticks\": \"\"}}, \"type\": \"scattergl\"}], \"scattermapbox\": [{\"marker\": {\"colorbar\": {\"outlinewidth\": 0, \"ticks\": \"\"}}, \"type\": \"scattermapbox\"}], \"scatterpolar\": [{\"marker\": {\"colorbar\": {\"outlinewidth\": 0, \"ticks\": \"\"}}, \"type\": \"scatterpolar\"}], \"scatterpolargl\": [{\"marker\": {\"colorbar\": {\"outlinewidth\": 0, \"ticks\": \"\"}}, \"type\": \"scatterpolargl\"}], \"scatterternary\": [{\"marker\": {\"colorbar\": {\"outlinewidth\": 0, \"ticks\": \"\"}}, \"type\": \"scatterternary\"}], \"surface\": [{\"colorbar\": {\"outlinewidth\": 0, \"ticks\": \"\"}, \"colorscale\": [[0.0, \"#0d0887\"], [0.1111111111111111, \"#46039f\"], [0.2222222222222222, \"#7201a8\"], [0.3333333333333333, \"#9c179e\"], [0.4444444444444444, \"#bd3786\"], [0.5555555555555556, \"#d8576b\"], [0.6666666666666666, \"#ed7953\"], [0.7777777777777778, \"#fb9f3a\"], [0.8888888888888888, \"#fdca26\"], [1.0, \"#f0f921\"]], \"type\": \"surface\"}], \"table\": [{\"cells\": {\"fill\": {\"color\": \"#EBF0F8\"}, \"line\": {\"color\": \"white\"}}, \"header\": {\"fill\": {\"color\": \"#C8D4E3\"}, \"line\": {\"color\": \"white\"}}, \"type\": \"table\"}]}, \"layout\": {\"annotationdefaults\": {\"arrowcolor\": \"#2a3f5f\", \"arrowhead\": 0, \"arrowwidth\": 1}, \"coloraxis\": {\"colorbar\": {\"outlinewidth\": 0, \"ticks\": \"\"}}, \"colorscale\": {\"diverging\": [[0, \"#8e0152\"], [0.1, \"#c51b7d\"], [0.2, \"#de77ae\"], [0.3, \"#f1b6da\"], [0.4, \"#fde0ef\"], [0.5, \"#f7f7f7\"], [0.6, \"#e6f5d0\"], [0.7, \"#b8e186\"], [0.8, \"#7fbc41\"], [0.9, \"#4d9221\"], [1, \"#276419\"]], \"sequential\": [[0.0, \"#0d0887\"], [0.1111111111111111, \"#46039f\"], [0.2222222222222222, \"#7201a8\"], [0.3333333333333333, \"#9c179e\"], [0.4444444444444444, \"#bd3786\"], [0.5555555555555556, \"#d8576b\"], [0.6666666666666666, \"#ed7953\"], [0.7777777777777778, \"#fb9f3a\"], [0.8888888888888888, \"#fdca26\"], [1.0, \"#f0f921\"]], \"sequentialminus\": [[0.0, \"#0d0887\"], [0.1111111111111111, \"#46039f\"], [0.2222222222222222, \"#7201a8\"], [0.3333333333333333, \"#9c179e\"], [0.4444444444444444, \"#bd3786\"], [0.5555555555555556, \"#d8576b\"], [0.6666666666666666, \"#ed7953\"], [0.7777777777777778, \"#fb9f3a\"], [0.8888888888888888, \"#fdca26\"], [1.0, \"#f0f921\"]]}, \"colorway\": [\"#636efa\", \"#EF553B\", \"#00cc96\", \"#ab63fa\", \"#FFA15A\", \"#19d3f3\", \"#FF6692\", \"#B6E880\", \"#FF97FF\", \"#FECB52\"], \"font\": {\"color\": \"#2a3f5f\"}, \"geo\": {\"bgcolor\": \"white\", \"lakecolor\": \"white\", \"landcolor\": \"#E5ECF6\", \"showlakes\": true, \"showland\": true, \"subunitcolor\": \"white\"}, \"hoverlabel\": {\"align\": \"left\"}, \"hovermode\": \"closest\", \"mapbox\": {\"style\": \"light\"}, \"paper_bgcolor\": \"white\", \"plot_bgcolor\": \"#E5ECF6\", \"polar\": {\"angularaxis\": {\"gridcolor\": \"white\", \"linecolor\": \"white\", \"ticks\": \"\"}, \"bgcolor\": \"#E5ECF6\", \"radialaxis\": {\"gridcolor\": \"white\", \"linecolor\": \"white\", \"ticks\": \"\"}}, \"scene\": {\"xaxis\": {\"backgroundcolor\": \"#E5ECF6\", \"gridcolor\": \"white\", \"gridwidth\": 2, \"linecolor\": \"white\", \"showbackground\": true, \"ticks\": \"\", \"zerolinecolor\": \"white\"}, \"yaxis\": {\"backgroundcolor\": \"#E5ECF6\", \"gridcolor\": \"white\", \"gridwidth\": 2, \"linecolor\": \"white\", \"showbackground\": true, \"ticks\": \"\", \"zerolinecolor\": \"white\"}, \"zaxis\": {\"backgroundcolor\": \"#E5ECF6\", \"gridcolor\": \"white\", \"gridwidth\": 2, \"linecolor\": \"white\", \"showbackground\": true, \"ticks\": \"\", \"zerolinecolor\": \"white\"}}, \"shapedefaults\": {\"line\": {\"color\": \"#2a3f5f\"}}, \"ternary\": {\"aaxis\": {\"gridcolor\": \"white\", \"linecolor\": \"white\", \"ticks\": \"\"}, \"baxis\": {\"gridcolor\": \"white\", \"linecolor\": \"white\", \"ticks\": \"\"}, \"bgcolor\": \"#E5ECF6\", \"caxis\": {\"gridcolor\": \"white\", \"linecolor\": \"white\", \"ticks\": \"\"}}, \"title\": {\"x\": 0.05}, \"xaxis\": {\"automargin\": true, \"gridcolor\": \"white\", \"linecolor\": \"white\", \"ticks\": \"\", \"title\": {\"standoff\": 15}, \"zerolinecolor\": \"white\", \"zerolinewidth\": 2}, \"yaxis\": {\"automargin\": true, \"gridcolor\": \"white\", \"linecolor\": \"white\", \"ticks\": \"\", \"title\": {\"standoff\": 15}, \"zerolinecolor\": \"white\", \"zerolinewidth\": 2}}}, \"title\": {\"text\": \"Puncta\"}, \"xaxis\": {\"constrain\": \"domain\", \"gridcolor\": \"#E4EAF2\", \"range\": [-50, 1250], \"showgrid\": true, \"title\": {\"text\": \"x\"}, \"type\": \"linear\"}, \"yaxis\": {\"gridcolor\": \"#E4EAF2\", \"range\": [1050, -50], \"scaleanchor\": \"x\", \"scaleratio\": 1, \"showgrid\": true, \"title\": {\"text\": \"y\"}, \"zeroline\": false}},                        {\"responsive\": true}                    ).then(function(){\n",
       "                            \n",
       "var gd = document.getElementById('5acdd678-319c-47fd-acfc-6bb927489e4a');\n",
       "var x = new MutationObserver(function (mutations, observer) {{\n",
       "        var display = window.getComputedStyle(gd).display;\n",
       "        if (!display || display === 'none') {{\n",
       "            console.log([gd, 'removed!']);\n",
       "            Plotly.purge(gd);\n",
       "            observer.disconnect();\n",
       "        }}\n",
       "}});\n",
       "\n",
       "// Listen for the removal of the full notebook cells\n",
       "var notebookContainer = gd.closest('#notebook-container');\n",
       "if (notebookContainer) {{\n",
       "    x.observe(notebookContainer, {childList: true});\n",
       "}}\n",
       "\n",
       "// Listen for the clearing of the current output cell\n",
       "var outputEl = gd.closest('.output');\n",
       "if (outputEl) {{\n",
       "    x.observe(outputEl, {childList: true});\n",
       "}}\n",
       "\n",
       "                        })                };                });            </script>        </div>"
      ]
     },
     "metadata": {},
     "output_type": "display_data"
    }
   ],
   "source": [
    "# plot puncta\n",
    "fig = plot_single_scatter(\n",
    "    puncta[puncta['image_number']==3].copy(),\n",
    "    x='center_x',\n",
    "    y='center_y',\n",
    "    title='Puncta',\n",
    "    xlabel='x',\n",
    "    ylabel='y'\n",
    ")\n",
    "\n",
    "fig.layout.update(\n",
    "    xaxis = {'range': [-50, 1250], 'constrain': \"domain\"},\n",
    "    yaxis = {'range': [1050, -50], 'scaleanchor': 'x', 'scaleratio': 1},\n",
    "    shapes=shapes,\n",
    "    height=700,\n",
    ")\n",
    "fig.update_traces(\n",
    "    marker=dict(size=3)\n",
    ")\n",
    "\n",
    "if save:\n",
    "    save_fig_as_png(fig, 'figures/bounding_boxes/puncta_bounding_box_3.png', height=800, scale=1)\n",
    "\n",
    "fig"
   ]
  },
  {
   "cell_type": "markdown",
   "metadata": {},
   "source": [
    "# SVD Around Puncta"
   ]
  },
  {
   "cell_type": "code",
   "execution_count": 186,
   "metadata": {},
   "outputs": [],
   "source": [
    "puncta['center'] = puncta[['center_x', 'center_y']].apply(list, axis=1)\n",
    "tmp = puncta.groupby(['image_number', 'object_number'])[['center']].agg(list).reset_index().copy()\n",
    "P = np.transpose(np.array(tmp.loc[0, 'center']))"
   ]
  },
  {
   "cell_type": "code",
   "execution_count": 363,
   "metadata": {},
   "outputs": [
    {
     "data": {
      "text/plain": [
       "array([[310.        , 309.25      , 306.8       , 311.33333333,\n",
       "        309.25      , 304.875     ],\n",
       "       [188.        , 196.        , 198.4       , 198.66666667,\n",
       "        200.33333333, 201.5625    ]])"
      ]
     },
     "execution_count": 363,
     "metadata": {},
     "output_type": "execute_result"
    }
   ],
   "source": [
    "P = np.array(tmp[(tmp['image_number']==image_number) & (tmp['object_number']==3)]['center'].iloc[0]).T\n",
    "P"
   ]
  },
  {
   "cell_type": "code",
   "execution_count": 364,
   "metadata": {},
   "outputs": [
    {
     "data": {
      "text/plain": [
       "(308.7364972773019,\n",
       " 196.13880627214218,\n",
       " 3.2598210352610546,\n",
       " 8.435214186404822,\n",
       " 74.04746228573099)"
      ]
     },
     "execution_count": 364,
     "metadata": {},
     "output_type": "execute_result"
    }
   ],
   "source": [
    "# sanity check\n",
    "# center_x, center_y, min_x, max_x, min_y, max_y = min_vol_ellipse(P, tolerance=0.01)\n",
    "center_x, center_y, minor_axis_length, major_axis_length, orientation = min_vol_ellipse(P, tolerance=0.01)\n",
    "center_x, center_y, minor_axis_length, major_axis_length, orientation"
   ]
  },
  {
   "cell_type": "code",
   "execution_count": 348,
   "metadata": {
    "scrolled": true
   },
   "outputs": [],
   "source": [
    "tmp[[\"center_x\", \"center_y\", \"minor_axis_length\", \"major_axis_length\", \"orientation\"]] = pd.DataFrame(\n",
    "    tmp[\"center\"]\n",
    "    .apply(lambda x: min_vol_ellipse(np.transpose(np.array(x)), tolerance=0.001))\n",
    "    .to_list()\n",
    ")"
   ]
  },
  {
   "cell_type": "code",
   "execution_count": 358,
   "metadata": {},
   "outputs": [
    {
     "data": {
      "text/html": [
       "<div>\n",
       "<style scoped>\n",
       "    .dataframe tbody tr th:only-of-type {\n",
       "        vertical-align: middle;\n",
       "    }\n",
       "\n",
       "    .dataframe tbody tr th {\n",
       "        vertical-align: top;\n",
       "    }\n",
       "\n",
       "    .dataframe thead th {\n",
       "        text-align: right;\n",
       "    }\n",
       "</style>\n",
       "<table border=\"1\" class=\"dataframe\">\n",
       "  <thead>\n",
       "    <tr style=\"text-align: right;\">\n",
       "      <th></th>\n",
       "      <th>image_number</th>\n",
       "      <th>object_number</th>\n",
       "      <th>center</th>\n",
       "      <th>center_x</th>\n",
       "      <th>center_y</th>\n",
       "      <th>minor_axis_length</th>\n",
       "      <th>major_axis_length</th>\n",
       "      <th>orientation</th>\n",
       "      <th>center_x2</th>\n",
       "      <th>center_y2</th>\n",
       "    </tr>\n",
       "  </thead>\n",
       "  <tbody>\n",
       "    <tr>\n",
       "      <th>1</th>\n",
       "      <td>3</td>\n",
       "      <td>3</td>\n",
       "      <td>[[310.0, 188.0], [309.25, 196.0], [306.8, 198....</td>\n",
       "      <td>308.737698</td>\n",
       "      <td>196.07284</td>\n",
       "      <td>3.279052</td>\n",
       "      <td>8.523844</td>\n",
       "      <td>74.001168</td>\n",
       "      <td>308.584722</td>\n",
       "      <td>197.160417</td>\n",
       "    </tr>\n",
       "  </tbody>\n",
       "</table>\n",
       "</div>"
      ],
      "text/plain": [
       "   image_number  object_number  \\\n",
       "1             3              3   \n",
       "\n",
       "                                              center    center_x   center_y  \\\n",
       "1  [[310.0, 188.0], [309.25, 196.0], [306.8, 198....  308.737698  196.07284   \n",
       "\n",
       "   minor_axis_length  major_axis_length  orientation   center_x2   center_y2  \n",
       "1           3.279052           8.523844    74.001168  308.584722  197.160417  "
      ]
     },
     "execution_count": 358,
     "metadata": {},
     "output_type": "execute_result"
    }
   ],
   "source": [
    "tmp[(tmp['image_number']==image_number) & (tmp['object_number']==3)]"
   ]
  },
  {
   "cell_type": "code",
   "execution_count": 344,
   "metadata": {},
   "outputs": [],
   "source": [
    "tmp[[\"center_x2\", \"center_y2\"]] = pd.DataFrame(tmp['center'].apply(lambda x: np.mean(np.array(x), axis=0)).to_list())"
   ]
  },
  {
   "cell_type": "code",
   "execution_count": 386,
   "metadata": {},
   "outputs": [
    {
     "data": {
      "text/html": [
       "\n",
       "\n",
       "\n",
       "\n",
       "\n",
       "\n",
       "  <div class=\"bk-root\" id=\"dee6164f-adda-4ee4-8fd7-8e7751f43346\" data-root-id=\"79213\"></div>\n"
      ]
     },
     "metadata": {},
     "output_type": "display_data"
    },
    {
     "data": {
      "application/javascript": [
       "(function(root) {\n",
       "  function embed_document(root) {\n",
       "    \n",
       "  var docs_json = {\"1e30c4ee-aa0f-4bb7-8e87-3f8f689fe101\":{\"roots\":{\"references\":[{\"attributes\":{\"above\":[{\"id\":\"79223\"}],\"center\":[{\"id\":\"79230\"},{\"id\":\"79232\"}],\"height\":800,\"left\":[{\"id\":\"79226\"}],\"match_aspect\":true,\"renderers\":[{\"id\":\"79215\"},{\"id\":\"79217\"},{\"id\":\"79219\"},{\"id\":\"79221\"}],\"title\":{\"id\":\"79212\"},\"toolbar\":{\"id\":\"80644\"},\"toolbar_location\":null,\"width\":1000,\"x_range\":{\"id\":\"79224\"},\"x_scale\":{\"id\":\"80643\"},\"y_range\":{\"id\":\"79227\"},\"y_scale\":{\"id\":\"80645\"}},\"id\":\"79213\",\"type\":\"Plot\"},{\"attributes\":{\"angle\":{\"field\":\"angle\",\"units\":\"rad\"},\"fill_color\":{\"value\":\"#000fff\"},\"height\":{\"field\":\"h\",\"units\":\"data\"},\"line_color\":{\"value\":\"#FFFFFF\"},\"line_width\":{\"value\":1.2},\"width\":{\"field\":\"w\",\"units\":\"data\"},\"x\":{\"field\":\"x\"},\"y\":{\"field\":\"y\"}},\"id\":\"79206\",\"type\":\"Ellipse\"},{\"attributes\":{\"axis\":null,\"dimension\":1,\"ticker\":{\"id\":\"79231\"}},\"id\":\"79232\",\"type\":\"Grid\"},{\"attributes\":{\"source\":{\"id\":\"79205\"}},\"id\":\"79216\",\"type\":\"CDSView\"},{\"attributes\":{\"data_source\":{\"id\":\"79208\"},\"glyph\":{\"id\":\"79209\"},\"hover_glyph\":null,\"muted_glyph\":null,\"view\":{\"id\":\"79220\"}},\"id\":\"79219\",\"type\":\"GlyphRenderer\"},{\"attributes\":{\"data_source\":{\"id\":\"79205\"},\"glyph\":{\"id\":\"79207\"},\"hover_glyph\":null,\"muted_glyph\":null,\"view\":{\"id\":\"79218\"}},\"id\":\"79217\",\"type\":\"GlyphRenderer\"},{\"attributes\":{\"active_drag\":\"auto\",\"active_inspect\":\"auto\",\"active_multi\":null,\"active_scroll\":\"auto\",\"active_tap\":\"auto\"},\"id\":\"80644\",\"type\":\"Toolbar\"},{\"attributes\":{\"source\":{\"id\":\"79205\"}},\"id\":\"79218\",\"type\":\"CDSView\"},{\"attributes\":{\"angle\":{\"field\":\"angle\",\"units\":\"rad\"},\"fill_color\":{\"value\":\"#ff2b00\"},\"height\":{\"field\":\"h\",\"units\":\"data\"},\"line_alpha\":{\"value\":0},\"width\":{\"field\":\"w\",\"units\":\"data\"},\"x\":{\"field\":\"x\"},\"y\":{\"field\":\"y\"}},\"id\":\"79209\",\"type\":\"Ellipse\"},{\"attributes\":{},\"id\":\"80645\",\"type\":\"LinearScale\"},{\"attributes\":{\"data_source\":{\"id\":\"79210\"},\"glyph\":{\"id\":\"79211\"},\"hover_glyph\":null,\"muted_glyph\":null,\"view\":{\"id\":\"79222\"}},\"id\":\"79221\",\"type\":\"GlyphRenderer\"},{\"attributes\":{\"data\":{\"center_x\":[281.4158008658008,308.5847222222222,314.875,1101.156031746028,223.68912790871713,657.0148049118634,456.0432294189468,616.7583864924725,31.572268074914565,715.1562908496729,785.6204585537917,681.3733751542572,522.4306781050735,398.04459861775626,757.2045454545452,327.3406999815429,159.0,394.56477565644207,558.0781430095094,816.7335778855,77.3],\"center_y\":[135.945238095238,197.1604166666665,197.875,380.15492063492036,448.00667620414913,468.6611181846474,473.4844931552106,583.7248944055765,640.2138710974247,729.8589869281044,747.9466490299822,758.9923406250608,789.7823190518903,793.8246738329893,799.5768398268397,848.4273867201919,839.25,883.9025509469952,886.8943286010054,927.0529371026718,875.85],\"image_number\":[3,3,3,3,3,3,3,3,3,3,3,3,3,3,3,3,3,3,3,3,3],\"nuclei_object_number\":[2,3,5,7,10,12,13,15,16,17,18,19,20,21,22,23,24,25,26,27,28]},\"selected\":{\"id\":\"80655\"},\"selection_policy\":{\"id\":\"80656\"}},\"id\":\"79210\",\"type\":\"ColumnDataSource\"},{\"attributes\":{},\"id\":\"80650\",\"type\":\"BasicTickFormatter\"},{\"attributes\":{\"source\":{\"id\":\"79208\"}},\"id\":\"79220\",\"type\":\"CDSView\"},{\"attributes\":{},\"id\":\"80648\",\"type\":\"BasicTickFormatter\"},{\"attributes\":{\"formatter\":{\"id\":\"80648\"},\"ticker\":{\"id\":\"79229\"}},\"id\":\"79223\",\"type\":\"LinearAxis\"},{\"attributes\":{},\"id\":\"80651\",\"type\":\"Selection\"},{\"attributes\":{\"source\":{\"id\":\"79210\"}},\"id\":\"79222\",\"type\":\"CDSView\"},{\"attributes\":{\"text\":{\"field\":\"nuclei_object_number\"},\"text_color\":{\"value\":\"orange\"},\"text_font_size\":{\"value\":\"13px\"},\"x\":{\"field\":\"center_x\"},\"y\":{\"field\":\"center_y\"}},\"id\":\"79211\",\"type\":\"Text\"},{\"attributes\":{},\"id\":\"80652\",\"type\":\"UnionRenderers\"},{\"attributes\":{\"end\":0,\"start\":1000},\"id\":\"79227\",\"type\":\"DataRange1d\"},{\"attributes\":{\"text\":\"Image 3\"},\"id\":\"79212\",\"type\":\"Title\"},{\"attributes\":{},\"id\":\"80653\",\"type\":\"Selection\"},{\"attributes\":{\"end\":1290,\"start\":0},\"id\":\"79224\",\"type\":\"DataRange1d\"},{\"attributes\":{\"axis\":null,\"ticker\":{\"id\":\"79229\"}},\"id\":\"79230\",\"type\":\"Grid\"},{\"attributes\":{\"data\":{\"angle\":[0.7853981633974483,0.7853981633974483,1.5707963267948966,-0.7565839496587112,0.7853981633974483,-1.1624773283810372,0.7853981633974483,-0.7853981633974483,0.7853981633974483,0.7853981633974483,0.7853981633974483,0.0,-1.2490457723982529,-0.7853981633974483,0.3456684643847293,-0.5377066721328148,0.7853981633974483,1.5707963267948966,-0.6375223205222318,1.4657050334638118,1.0494353876106277,0.8947326363344184,0.7853981633974483,0.0,0.7853981633974483,0.0,0.7853981633974483,1.4366132213419431,0.9673876416522692,0.0,0.0,-0.7853981633974483,-1.045094395292024,-1.0449712205207096,-0.46364760900080443,-0.9141821651918038,1.2490457723982529,0.7964619311047184,0.9756513519536306,0.7853981633974483,0.0,0.7853981633974483,0.8909448300088207,-0.6927241883996004,1.4975368277905972,0.7853981633974483,1.5707963267948966,0.7853981633974483,-0.7853981633974483,0.7853981633974483,0.0,0.7853981633974483,0.7853981633974483,0.7853981633974483,0.7853981633974483,0.0,0.4938084184866363,0.8547180319645271,0.5535743588970452,-0.7853981633974483,1.048190060173253,-1.267052711618143,-1.2490457723982529,-0.9852887125188468,0.04275264683910228,1.5707963267948966,-0.35431313606383447,-0.9642712036300335,1.5707963267948966,0.03131514419473646,-1.4119786511501295,0.7853981633974483,1.112155703496985,-1.030376826524311,0.0,0.7232206661240658,-0.545857220912703,-0.9559724002736459,-0.7853981633974465,0.0,0.0,0.0,1.4347233815293021,0.0,1.5707963267948966,0.0,0.7853981633974483,1.5707963267948966,0.7853981633974483,0.0,0.0,0.9272952180016109,-0.7554340858368437,0.7853981633974483,-0.1457283972389335,-0.5528396055684741,-0.7853981633974483,-0.6333976937273746,-0.12248933156343193,1.0172219678978496,1.1988563932118819,1.154600803035554,-1.1071487177940904,1.0709487977300631,-0.8549604400562248,0.0,1.2791098232979685,-0.9788360222629618,0.0,1.1605165541186582,0.7853981633974483,-0.46364760900080443,0.7853981633974483,0.2620230170993699,-1.0111247091737248,0.31534064916019183,0.0,-1.2334258556831192,0.7853981633974483,0.7853981633974483,0.7853981633974483,0.0,0.7853981633974483,0.0,0.7853981633974483,0.7853981633974483,0.7853981633974483,0.7853981633974483,-0.7853981633974483,0.0,0.7853981633974483,-0.5951449748412642,1.2490457723982529,-0.7853981633974483,0.7853981633974483,-0.2630332094983805,0.4123803438361322,0.7853981633974483,0.5535743588970452,-1.1609107084242531,0.08257433870731325,-0.4052933167387073,-0.7853981633974483,-0.30574848712978064,-1.4207107413798394,1.5707963267948966,0.7853981633974483,-1.0663589445258557,0.7853981633974483,0.7853981633974483,1.5707963267948966,0.321750554396642,-0.7853981633974483,-0.7853981633974483,-0.7036599443121005,0.0,1.5707963267948966,1.5707963267948966,0.7853981633974483,0.46364760900080443,0.321750554396642,1.5707963267948966,0.7853981633974483,0.7853981633974483,1.2490457723982529,-0.7853981633974483,-0.321750554396642,0.7853981633974483,1.5707963267948966,0.7853981633974483,0.7853981633974483,-0.5318489112012793,-0.1457283972389335,0.12498931073041111,0.7853981633974483,0.7853981633974483,-0.7853981633974483,-0.9488114898624175,1.5707963267948966,-1.1071487177940904,1.0793994651712304,0.9647834985327337,-0.6145904180735446,1.022903541529996,0.7853981633974483,0.7853981633974483,-0.6927241883996004,0.6465914542763028,-0.33737047111177554,0.6680778206153508,-0.5917062395131496,0.7853981633974483,0.5404195002705836,0.35161532051787264,0.7853981633974483,0.0,0.3454195379008468,-0.5404195002705836,1.4250679295559632,0.5590089274856792,-1.515467716207948,0.7853981633974483,0.46364760900080443,-0.7853981633974483,0.3664075508932527,-0.955324634958242,0.23182380450040138,-0.04275264683910228,-1.2490457723982529,1.268921660096178,-1.0793994651712304,0.7853981633974483,0.7853981633974483,1.5707963267948966,1.1298603575048785,0.7853981633974483,0.834024762523231,-0.9035476401149319,-1.2599376393765005,1.3784531884663833,0.5989419332642617,0.5535743588970452,-1.1309528709325178,0.7853981633974483,-0.44142768552399214,1.431183197405079,-0.5380481647805068,-0.7225729980925238,0.9878440565399883,0.0,0.5535743588970452,-0.7853981633974483,0.7853981633974483,0.7853981633974483,0.7853981633974483,0.7853981633974483,1.5707963267948966,0.7853981633974483,-0.321750554396642,0.0,-0.661043168850687,0.7853981633974483,-0.7853981633974483,0.9237210437932865,-0.8068902933313333,0.7853981633974483,-0.6298570580097267,1.160046400522618,-0.7853981633974483,0.9563007493878911,0.5449545232997786,0.5585993153435608,0.7853981633974483,0.9629545172071449,0.5951449748412642,0.0,0.7853981633974483,0.7853981633974483,0.7853981633974483,1.5707963267948966,0.7853981633974483,-1.0556079135327392,0.7853981633974483,0.050334326078914415,0.39679064339565806,-0.7853981633974483,0.7853981633974483,1.5707963267948966,0.7853981633974483,0.0,1.5707963267948966,0.0,1.5707963267948966,0.7853981633974483,0.7853981633974483,-0.321750554396642,-0.6312189144372491,0.7853981633974483,-0.39269908169872414,1.2490457723982529,0.6636628915871569,0.6090451360994394,0.7853981633974483,1.5707963267948966,-0.321750554396642,0.7853981633974483,0.7853981633974483,0.0,0.7853981633974483,0.7853981633974483,0.7853981633974483,0.7853981633974483,0.0,0.0,-0.4088225229163512,0.2955264622697336,0.07332214811946394,0.7256837003882787,-0.7070972249064406,-0.7853981633974483,-0.6853076294145031,-1.3701819272924705,0.7853981633974483,-1.1844770197380523,0.0,-1.0172219678978496,1.5707963267948966,0.6522721388219854,0.7853981633974483,-1.2490457723982529,-1.0389474155936154,1.5707963267948966,0.0,1.082646172785344,0.0,-0.7853981633974483,0.0,1.5707963267948966,1.1802188730981205,-0.5144574196309188,0.0,0.7853981633974483,-0.6696057942464768,1.5707963267948966,0.0,0.7853981633974483,0.7853981633974483,-0.7853981633974483,0.7853981633974483,0.9756513519536306,0.7853981633974483,0.7853981633974483,0.321750554396642,-0.5318489112012793,0.7853981633974483,0.7853981633974483,1.3112232696716335,0.0,-1.2490457723982529,0.7853981633974483,0.7853981633974483,0.3739109370273613,-1.062131861190993,-0.4793219149249058,0.01086785342089632,-0.7853981633974483,-0.6170607537040841,0.8038229989046947,0.0,0.3969362684002083,1.5707963267948966,0.7853981633974483,-1.2490457723982529,0.7853981633974483],\"h\":[0.0,0.0,2.0,5.19520736643846,0.0,4.96302927610373,0.0,2.3094010767585003,0.0,0.0,0.0,2.82842712474619,3.0983866769659305,2.3094010767585003,4.16762029386766,5.49983877886238,3.46410161513775,2.0,6.06041037971134,6.765017909407018,4.6347362112866906,4.60677058379336,0.0,2.0,0.0,2.0,2.0,4.5692001405127005,4.13290810367602,2.0,2.0,3.1269438398822795,9.539298836844539,3.8587512539327697,3.0550504633038904,13.009873643833801,3.0983866769659305,8.24001634518088,3.3356416888757794,4.0,3.2659863237109,0.0,7.72145921106925,4.19992979680016,9.0782508241385,0.0,2.82842712474619,2.3094010767585003,2.3094010767585003,0.0,2.0,0.0,0.0,0.0,0.0,2.0,6.1594445207933495,4.5333159620954815,3.2360679774997902,2.3094010767585003,5.414847041048208,10.380241929161599,3.0983866769659305,7.258372677890638,5.309178691345781,2.0,3.8857533750574,8.745512568225111,4.47213595499958,9.02290282674805,5.04264284473913,2.3094010767585003,5.5521784612711,4.0,3.2659863237109,5.58032253547122,7.05797834213166,7.57484600139118,6.58280588604383,4.47213595499958,2.0,2.0,4.23737873825168,2.0,3.2659863237109,2.0,0.0,2.0,2.0,2.0,2.0,3.82970843102535,6.152778893515509,4.8989794855663495,4.15537470567873,6.341725099006879,2.3094010767585003,8.29559947722427,3.8888437389046095,5.59698471690331,9.67269215664826,7.65584349048394,3.0550504633038904,10.328726042996,10.161479107287901,2.0,5.79093571445421,7.5861326053559806,3.46410161513775,5.76520423751019,0.0,4.47213595499958,0.0,5.8306184007506205,4.41807199832919,7.37036320853883,2.0,4.120404556321351,0.0,0.0,2.0,2.0,2.3094010767585003,2.0,0.0,2.0,2.0,0.0,3.7032803990902,2.0,0.0,3.3356416888757794,3.0983866769659305,2.3094010767585003,0.0,4.34612998414188,8.527498835805499,0.0,3.2360679774997902,8.594040166406911,5.27425848143453,7.71704861969615,2.3094010767585003,6.32460492346789,6.55307342198403,2.0,2.0,5.7660529582664095,0.0,2.3094010767585003,3.2659863237109,3.0983866769659305,2.3094010767585003,2.3094010767585003,7.8691431968011285,2.0,2.0,4.8989794855663495,0.0,4.6188021535170005,3.0983866769659305,2.0,0.0,0.0,5.61339505839671,2.82842712474619,3.0983866769659305,0.0,2.0,2.3094010767585003,2.0,3.58207009541766,4.15537470567873,5.44935366589731,2.0,0.0,2.3094010767585003,5.23522946979312,4.47213595499958,3.6878177829171497,3.6770885283426704,3.75219954220109,4.90248465586551,5.899480047797719,0.0,0.0,4.19992979680016,11.3328973230043,4.120404556321351,6.87873396538496,7.31273425589234,3.46410161513775,6.324555320336749,4.9833573448848,0.0,2.0,6.24969549950693,4.0,4.15537470567873,6.25907629759045,5.37941633662879,2.3094010767585003,3.0550504633038904,2.3094010767585003,4.34169545110285,6.23603565167429,5.0466898192349205,5.309178691345781,3.0983866769659305,3.9722133299273,3.6770885283426704,0.0,0.0,2.82842712474619,4.33357395375157,0.0,6.85389794759987,8.35470725296868,7.557806946641869,11.5726822359815,8.71021706359755,3.2360679774997902,20.809251482396103,2.3094010767585003,20.4764892444875,8.0340493235699,10.189163207816199,5.34495189973951,4.00943972722854,2.0,3.2360679774997902,2.3094010767585003,0.0,0.0,0.0,0.0,3.2659863237109,2.0,3.46410161513775,2.0,4.972652484064481,2.0,3.1269438398822795,9.27435843470893,5.457777139690981,2.3094010767585003,9.14437291489564,9.373968970895831,3.6514837167011,6.542467946655918,5.129725253921031,5.03322295684716,2.0,5.573152485851071,3.3356416888757794,2.0,0.0,0.0,0.0,2.0,0.0,4.31259446357463,0.0,5.90043956322691,9.27037492976743,2.3094010767585003,0.0,2.82842712474619,2.0,2.82842712474619,2.0,2.0,2.82842712474619,2.3094010767585003,0.0,3.46410161513775,5.83435187563822,2.0,4.37534528542421,3.0983866769659305,8.771190101418942,6.8254589252258,0.0,2.0,3.46410161513775,0.0,0.0,2.0,0.0,0.0,0.0,2.5298221281347,3.7712361663282494,2.0,5.4444245638725,6.41957970744185,8.196317104672751,4.50593646065252,4.713432721951589,4.0,4.90772573565975,4.66882605674575,0.0,8.13192689830756,3.2659863237109,3.2360679774997902,2.0,5.3047588771516505,2.3094010767585003,3.0983866769659305,3.58207009541766,3.2,2.0,6.31548351693417,2.82842712474619,3.7032803990902,3.2659863237109,2.0,6.1039806601238205,6.86729875744786,4.8989794855663495,0.0,6.456826390597299,2.0,2.0,2.3094010767585003,3.46410161513775,3.46410161513775,3.7032803990902,3.3356416888757794,0.0,2.0,3.0983866769659305,3.58207009541766,0.0,0.0,3.9210761914129706,2.0,3.0983866769659305,0.0,3.6514837167011,4.85976471674095,5.813674260835482,5.26677385847681,4.9058692227358,5.22437724968812,4.507893913753558,6.62800130162495,3.02371578407381,6.71955500501027,3.2,0.0,3.0983866769659305,0.0],\"w\":[0.0,0.0,0.0,3.77283848257804,0.0,3.5577516218651803,0.0,1.33333333333333,0.0,0.0,0.0,1.73205080756887,1.78885438199983,1.33333333333333,3.6313216108874,4.63025630030579,2.73861278752583,0.0,4.546583995648481,3.9330777498845295,1.82634793574502,4.3127586311453,0.0,0.0,0.0,0.0,2.0,2.75724682898334,2.86409169264061,0.0,0.0,2.3094010767585003,7.63063757312469,3.50856648223633,2.66666666666666,6.409698464615201,1.78885438199983,5.660361121276151,2.05754575245215,1.3856406460551,2.0,0.0,3.58731983103835,1.16644318419293,4.93913459579139,0.0,1.73205080756887,1.33333333333333,1.33333333333333,0.0,0.0,0.0,0.0,0.0,0.0,0.0,3.66107435290393,3.01145830098211,1.23606797749978,1.33333333333333,4.06451251343606,8.46542803808123,1.78885438199983,4.29268414630772,3.63308247773519,0.0,2.7954428906961297,1.37235449421498,3.2659863237109,7.66311420074229,4.6511806603767685,1.33333333333333,3.91743854001821,2.2131333406899505,2.0,3.27682032167163,2.17726830628564,4.54428300782509,4.684489774185058,3.2659863237109,0.0,0.0,2.6066494640846,0.0,0.0,0.0,0.0,0.0,2.0,0.0,0.0,1.88561808316412,3.05958978709364,2.82842712474619,1.9054711331003704,4.82807420680377,1.33333333333333,5.760471275293042,2.62238333856481,3.95901023978856,6.5246433532538415,5.31564433704346,2.66666666666666,8.599184457939169,6.93197526830517,0.0,3.69250778253331,4.32880954697187,2.82842712474619,3.95441779530116,0.0,4.21637021355783,0.0,4.89431326009775,3.37187317473068,4.84818591516912,0.0,2.40255411848438,0.0,0.0,2.0,0.0,1.33333333333333,0.0,0.0,2.0,2.0,0.0,2.13808993529939,0.0,0.0,2.05754575245215,1.78885438199983,1.33333333333333,0.0,3.0673563246059,5.65483525013234,0.0,1.23606797749978,7.05668439182587,1.94605645925826,3.92378910030893,1.33333333333333,3.12684351060674,5.1947468733031785,0.0,2.0,3.94754140060072,0.0,1.33333333333333,2.0,1.78885438199983,1.33333333333333,1.33333333333333,6.33060702841665,0.0,0.0,4.3588989435406695,0.0,2.35177894316852,1.78885438199983,0.0,0.0,0.0,3.20713490294909,0.0,1.78885438199983,0.0,0.0,1.33333333333333,2.0,2.47134565403517,1.9054711331003704,3.1458514520977205,2.0,0.0,1.33333333333333,2.7335640469192497,0.0,3.57770876399966,0.8374020402130079,2.769656764927,3.37693066673404,3.52333832372288,0.0,0.0,1.16644318419293,3.74903109944543,2.40255411848438,3.8804663422659904,3.88265744224362,2.73861278752583,5.65266863719194,3.6626043033942097,0.0,0.0,3.51835276279153,2.2131333406899505,1.9054711331003704,1.61299153088883,3.58324680352734,1.33333333333333,2.66666666666666,1.33333333333333,1.27658944452506,2.42685745951938,2.98514441152965,3.63308247773519,1.78885438199983,2.64036385021986,0.8374020402130079,0.0,0.0,1.73205080756887,3.59939911338664,0.0,4.42320309798266,5.28075437008695,5.41389704192935,4.54641994401387,8.27018788141495,1.23606797749978,5.73664284496689,1.33333333333333,8.91435742356432,6.76177677556653,7.37175818199141,3.23069750196986,2.47557563131781,0.0,1.23606797749978,1.33333333333333,0.0,0.0,0.0,0.0,0.0,2.0,1.41421356237309,0.0,2.7453943400984504,2.0,2.3094010767585003,4.09221465161087,3.01687878151498,1.33333333333333,5.4547598675065005,8.07009530048969,2.10818510677892,5.453484378377238,3.00320697798505,4.57583561821644,2.0,3.1881752093274702,2.05754575245215,0.0,0.0,0.0,0.0,0.0,0.0,2.6609286609047498,0.0,3.893600082530541,5.9156055500980695,1.33333333333333,0.0,1.73205080756887,2.0,1.73205080756887,0.0,0.0,1.73205080756887,1.33333333333333,0.0,1.41421356237309,3.72682533533913,2.0,2.0896309997099296,1.78885438199983,6.38368698066205,3.50389896985052,0.0,0.0,1.41421356237309,0.0,0.0,0.0,0.0,0.0,0.0,2.5298221281347,3.2659863237109,0.0,2.2534953224494703,4.403293810297098,4.7664323139351295,1.9646378594246297,2.6491734327655,3.1496031496047205,3.27940006555062,3.5096674673237502,0.0,4.4617743348926115,0.0,1.23606797749978,0.0,2.65199679002237,1.33333333333333,1.78885438199983,2.47134565403517,2.5298221281347,0.0,4.20412511080875,1.73205080756887,2.13808993529939,2.0,0.0,4.15468652257114,4.3331207650185295,4.0,0.0,3.61591275620024,0.0,0.0,1.33333333333333,2.73861278752583,2.73861278752583,2.13808993529939,2.05754575245215,0.0,2.0,1.78885438199983,2.47134565403517,0.0,0.0,2.1506188646839,0.0,1.78885438199983,0.0,2.10818510677892,3.62773547487926,4.580650065635,2.24749117472245,3.44954914708777,4.280801270273,2.1044933980280303,2.91165966606057,2.79941684889506,5.2975070112876,2.5298221281347,0.0,1.78885438199983,0.0],\"x\":[275.0,280.0,285.5,280.142857142857,277.0,283.181818181818,286.0,281.33333333333303,279.0,287.0,310.0,309.25,306.8,311.33333333333303,309.25,304.875,314.875,1103.5,1099.95,1100.7777777777699,1098.28571428571,1103.26666666666,217.0,218.0,215.0,225.0,217.5,221.9,226.666666666666,210.0,236.0,228.833333333333,220.461538461538,226.1,217.166666666666,224.377358490566,219.2,230.060606060606,212.8,225.2,233.5,216.0,218.0,223.0,227.529411764705,216.0,224.0,231.666666666666,224.333333333333,258.0,654.0,660.0,662.0,656.0,665.0,659.0,656.533333333333,654.4545454545449,659.5,654.6666666666661,657.882352941176,651.203703703703,656.8,651.1666666666661,454.2,467.5,446.888888888888,449.85714285714204,457.5,464.461538461538,451.166666666666,472.666666666666,458.29411764705804,473.428571428571,446.5,449.35714285714204,453.666666666666,454.76,459.708333333333,464.0,449.0,462.0,458.125,457.0,450.0,454.0,443.0,451.5,452.5,620.0,602.0,603.0,601.6666666666661,607.0,599.428571428571,603.208333333333,631.6666666666661,609.083333333333,613.25,617.75,623.770833333333,602.51724137931,606.6666666666661,623.271186440678,614.226415094339,632.0,608.35294117647,616.28,628.0,619.8125,641.0,611.833333333333,625.0,617.772727272727,622.4166666666661,613.777777777777,625.0,626.625,621.0,617.0,625.5,626.0,622.6666666666661,608.0,26.0,27.5,30.5,22.0,26.0,28.0,25.0,27.0,28.2,32.6666666666666,39.0,22.9090909090909,27.5675675675675,27.0,38.5,32.4222222222222,28.4444444444444,36.0,32.6666666666666,39.1333333333333,42.6521739130434,39.5,47.5,713.058823529411,722.0,716.333333333333,713.0,722.4,708.333333333333,710.333333333333,717.916666666666,725.0,709.5,713.0,711.0,790.111111111111,793.6,776.5,781.0,795.0,779.1428571428571,776.5,782.6,786.0,779.5,784.333333333333,793.5,781.714285714285,784.5714285714281,786.928571428571,793.5,788.0,788.666666666666,678.1,682.5,687.4,686.0,680.5,674.545454545454,684.2666666666661,697.0,676.0,687.0,679.75,676.75,683.6875,688.333333333333,689.875,673.153846153846,679.0,669.0,671.0,686.6875,690.285714285714,675.714285714285,679.1666666666661,683.1666666666661,691.666666666666,673.1666666666661,688.666666666666,671.6,674.9166666666661,678.545454545454,682.2,684.8,676.25,686.0,517.0,521.0,525.0,520.7272727272721,514.0,518.478260869565,524.375,528.6666666666661,522.482758620689,516.6875,534.5,524.872093023255,523.333333333333,527.825242718446,519.47619047619,532.296296296296,521.923076923076,517.428571428571,518.0,519.5,522.333333333333,522.0,524.0,395.0,392.0,395.0,396.5,391.25,402.0,397.818181818181,389.5,393.166666666666,402.44444444444395,394.916666666666,408.333333333333,396.15789473684197,401.85714285714204,406.333333333333,398.5,405.25,402.94444444444395,390.5,393.642857142857,409.0,397.0,406.0,382.0,404.0,752.5,751.0,753.8888888888879,757.0,752.7777777777769,757.166666666666,762.666666666666,753.0,764.0,761.5,763.75,320.5,329.0,327.0,319.33333333333303,333.0,323.25,330.4,331.5,333.857142857142,335.8,328.116279069767,324.444444444444,321.0,334.5,320.75,325.0,157.0,161.0,425.0,423.0,381.0,384.0,382.0,384.0,386.8,390.85,394.51851851851796,397.85714285714204,387.7777777777769,389.7,392.61538461538396,397.454545454545,386.0,396.592592592592,401.0,402.0,558.5,564.7272727272721,567.333333333333,552.2,558.857142857142,552.6,557.0,560.75,547.75,554.0,557.5,568.5,551.55,559.695652173913,563.5,553.0,566.222222222222,545.5,556.0,562.6666666666661,550.875,556.875,565.0,560.2,553.0,567.5,554.6,560.285714285714,822.0,810.0,821.5,819.0,808.8,827.0,806.666666666666,811.416666666666,816.842105263157,824.7777777777769,820.272727272727,808.470588235294,822.125,816.5,819.285714285714,813.08,75.4,77.0,83.8,73.0],\"y\":[131.0,131.0,133.0,134.785714285714,136.0,137.0,137.0,138.666666666666,140.0,141.0,188.0,196.0,198.4,198.666666666666,200.333333333333,201.5625,197.875,376.0,377.4,380.888888888888,382.28571428571405,384.2,431.0,436.5,438.0,438.5,439.5,439.1,440.44444444444395,442.5,442.5,442.833333333333,443.134615384615,443.7,447.333333333333,448.264150943396,449.4,450.515151515151,451.0,451.2,451.0,452.0,451.428571428571,453.75,454.5,456.0,456.75,456.666666666666,466.666666666666,470.0,454.5,457.0,458.0,465.0,466.0,469.5,468.8,470.818181818181,472.0,473.333333333333,473.941176470588,475.796296296296,476.4,480.166666666666,464.8,465.0,466.666666666666,466.714285714285,466.0,467.90384615384596,468.555555555555,467.666666666666,469.29411764705804,469.714285714285,471.0,471.428571428571,470.25,473.16,473.708333333333,473.5,475.5,475.5,477.25,480.5,481.0,481.5,483.0,487.0,490.5,554.5,559.5,569.833333333333,572.9333333333329,575.0,577.285714285714,576.6666666666661,576.333333333333,578.083333333333,576.25,576.0,577.708333333333,581.3103448275859,581.833333333333,583.5762711864402,580.962264150943,581.5,584.529411764705,585.44,585.5,587.8125,586.0,587.6666666666661,588.0,591.090909090909,590.75,591.888888888888,590.5,591.75,593.0,595.0,595.5,598.5,598.6666666666661,609.5,609.0,621.5,622.5,629.0,631.0,632.5,633.0,634.8,637.4,639.333333333333,641.0,642.363636363636,642.162162162162,647.0,647.0,646.9333333333329,650.222222222222,650.478260869565,651.333333333333,651.066666666666,651.826086956521,655.0,658.5,726.9411764705881,726.0,726.333333333333,729.5,728.2,729.666666666666,729.666666666666,730.25,731.5,732.0,732.25,736.0,739.444444444444,739.8,744.0,744.0,745.0,745.714285714285,746.5,746.2,747.0,748.0,747.333333333333,747.5,748.857142857142,749.714285714285,750.1428571428571,752.5,759.0,762.333333333333,750.9,751.0,751.3,752.666666666666,752.875,754.1818181818179,753.666666666666,755.0,756.0,755.25,756.3214285714281,757.625,756.9375,756.9333333333328,757.875,758.3076923076918,759.6153846153841,760.0,760.5,761.5,760.5714285714281,761.428571428571,762.833333333333,761.833333333333,761.666666666666,762.666666666666,762.333333333333,763.4,764.333333333333,764.90909090909,765.2,764.4,766.375,765.333333333333,771.0,775.0,775.75,777.1818181818179,782.0,780.217391304347,779.0625,780.9259259259261,784.03448275862,786.229166666666,788.0,788.220930232558,792.333333333333,795.776699029126,795.3095238095232,796.092592592592,799.6923076923068,799.0,801.5,801.0,803.666666666666,806.0,807.0,777.0,781.0,781.0,783.5,782.75,784.5,786.6363636363631,787.5,787.833333333333,788.4814814814812,790.25,791.333333333333,794.3157894736839,792.8095238095232,794.666666666666,799.153846153846,796.75,799.222222222222,799.5,799.714285714285,800.2,803.5,807.0,812.0,825.0,793.0,794.0,794.222222222222,795.0,798.7777777777769,799.761904761904,800.333333333333,803.0,804.75,805.5,807.0,840.0,840.5,841.25,842.333333333333,843.0,844.75,845.666666666666,848.5,847.714285714285,848.6,852.1627906976739,854.111111111111,855.0,855.0,858.25,858.0,838.0,840.5,842.0,848.0,881.0,882.0,884.666666666666,885.5,886.7,887.2,887.0370370370372,887.5714285714281,888.8888888888879,891.3,892.538461538461,890.4545454545448,893.0,893.8888888888879,893.0,895.5,874.0,874.0,876.333333333333,877.6,878.714285714285,880.0,880.5,881.7,883.0,882.0,883.0,884.0,884.2,886.217391304347,887.0,888.0,889.166666666666,890.0,890.5,891.666666666666,891.875,895.125,895.0,896.0,898.0,897.5,898.8,899.1428571428571,917.0,923.0,924.0,924.5,925.4,926.0,927.666666666666,927.666666666666,927.842105263157,927.8888888888879,927.6363636363632,929.470588235294,929.75,931.785714285714,931.0,932.24,871.0,876.0,877.4,879.0]},\"selected\":{\"id\":\"80653\"},\"selection_policy\":{\"id\":\"80654\"}},\"id\":\"79208\",\"type\":\"ColumnDataSource\"},{\"attributes\":{},\"id\":\"80654\",\"type\":\"UnionRenderers\"},{\"attributes\":{\"formatter\":{\"id\":\"80650\"},\"ticker\":{\"id\":\"79231\"}},\"id\":\"79226\",\"type\":\"LinearAxis\"},{\"attributes\":{},\"id\":\"80655\",\"type\":\"Selection\"},{\"attributes\":{\"data\":{\"angle\":[0.6362265863015761,1.2915640281371235,\"NaN\",1.2522261704544904,0.7765469799500321,1.37070709176807,-0.6072833739563608,1.3663939595535888,1.180877856057605,-0.2345965791826371,1.4721366776238045,-0.2810457905519265,1.4109271698823462,1.5592259718822776,0.8056298748200136,1.2447779907529644,\"NaN\",0.9397614110309057,0.796596729475113,-0.41398200947793645,0.1916230634066575],\"h\":[7.849902558488591,8.523844412054789,\"NaN\",5.105520090912186,32.67286208915281,15.0426931194171,17.165104629280677,30.14860498681154,31.18920637028158,9.79938330551088,13.855331291050346,14.36869890376502,19.655978454746368,26.679300438707788,9.39864139843591,10.702083372924138,\"NaN\",38.05255700659945,14.436389674391128,11.94586169159472,6.5973588205308085],\"object_number\":[2,3,5,7,10,12,13,15,16,17,18,19,20,21,22,23,24,25,26,27,28],\"w\":[4.813506296015278,3.2790519312563995,\"NaN\",3.110293226222074,13.832263931005196,8.043044298207288,13.774699502975476,22.98851018520202,10.720722424519426,4.792665734293441,10.109977373828615,8.109868691412634,10.366073067221942,14.22983040234082,4.615712581506067,9.973204388077338,\"NaN\",14.710488145119815,13.20544389908138,6.4664053891400695,4.807842547250214],\"x\":[281.27705339530246,308.73769821291154,\"NaN\",1101.6470181061827,233.11185408748284,656.7290348632482,457.61450950814924,617.68613228443,32.14647737211917,716.312403741613,786.2632190334007,682.9833220438417,524.0329293032772,395.6050991867909,756.973044878133,325.7915518722976,\"NaN\",402.63443400060095,559.24027066321,817.9009358371401,77.39535978479681],\"y\":[135.71310138787516,196.07284038548156,\"NaN\",380.74401620766565,455.8798333921448,466.8838711289001,475.6256548544623,583.7557031828924,636.6317646561876,730.9712093854702,748.7106175001609,757.7711099907311,788.0425482697162,803.6330882853674,800.4950211802015,849.2911157655038,\"NaN\",872.8701914365254,887.1761422041741,924.6156353279563,875.80075975878]},\"selected\":{\"id\":\"80651\"},\"selection_policy\":{\"id\":\"80652\"}},\"id\":\"79205\",\"type\":\"ColumnDataSource\"},{\"attributes\":{},\"id\":\"79231\",\"type\":\"BasicTicker\"},{\"attributes\":{},\"id\":\"80656\",\"type\":\"UnionRenderers\"},{\"attributes\":{\"data_source\":{\"id\":\"79205\"},\"glyph\":{\"id\":\"79206\"},\"hover_glyph\":null,\"muted_glyph\":null,\"view\":{\"id\":\"79216\"}},\"id\":\"79215\",\"type\":\"GlyphRenderer\"},{\"attributes\":{},\"id\":\"79229\",\"type\":\"BasicTicker\"},{\"attributes\":{},\"id\":\"80643\",\"type\":\"LinearScale\"},{\"attributes\":{\"text\":{\"field\":\"object_number\"},\"text_color\":{\"value\":\"white\"},\"text_font_size\":{\"value\":\"13px\"},\"x\":{\"field\":\"x\"},\"y\":{\"field\":\"y\"}},\"id\":\"79207\",\"type\":\"Text\"}],\"root_ids\":[\"79213\"]},\"title\":\"Bokeh Application\",\"version\":\"2.2.1\"}};\n",
       "  var render_items = [{\"docid\":\"1e30c4ee-aa0f-4bb7-8e87-3f8f689fe101\",\"root_ids\":[\"79213\"],\"roots\":{\"79213\":\"dee6164f-adda-4ee4-8fd7-8e7751f43346\"}}];\n",
       "  root.Bokeh.embed.embed_items_notebook(docs_json, render_items);\n",
       "\n",
       "  }\n",
       "  if (root.Bokeh !== undefined) {\n",
       "    embed_document(root);\n",
       "  } else {\n",
       "    var attempts = 0;\n",
       "    var timer = setInterval(function(root) {\n",
       "      if (root.Bokeh !== undefined) {\n",
       "        clearInterval(timer);\n",
       "        embed_document(root);\n",
       "      } else {\n",
       "        attempts++;\n",
       "        if (attempts > 100) {\n",
       "          clearInterval(timer);\n",
       "          console.log(\"Bokeh: ERROR: Unable to run BokehJS code because BokehJS library is missing\");\n",
       "        }\n",
       "      }\n",
       "    }, 10, root)\n",
       "  }\n",
       "})(window);"
      ],
      "application/vnd.bokehjs_exec.v0+json": ""
     },
     "metadata": {
      "application/vnd.bokehjs_exec.v0+json": {
       "id": "79213"
      }
     },
     "output_type": "display_data"
    }
   ],
   "source": [
    "image_number = 3\n",
    "\n",
    "# subset by image\n",
    "nuclei_subset = tmp[tmp['image_number']==image_number].copy()\n",
    "puncta_subset = pd.merge(\n",
    "    left=nuclei_subset[[\"image_number\", 'object_number']],\n",
    "    right=puncta.loc[:, puncta.columns != 'object_number'],\n",
    "    left_on=[\"image_number\", 'object_number'],\n",
    "    right_on=['image_number', 'nuclei_object_number'],\n",
    "    how=\"left\",\n",
    ").dropna(subset=['nuclei_object_number'])\n",
    "\n",
    "\n",
    "# add nuclei\n",
    "nuclei_subset['angle'] = nuclei_subset['orientation'].apply(lambda x: x/180*np.pi)\n",
    "nuclei_source = ColumnDataSource(nuclei_subset.loc[\n",
    "    # (nuclei_subset['object_number']==2)\n",
    "    :, [\"object_number\", \"center_x\", \"center_y\", \"major_axis_length\", \"minor_axis_length\", \"angle\"]\n",
    "].rename(\n",
    "    columns={\n",
    "        \"center_x\": \"x\",\n",
    "        \"center_y\": \"y\",\n",
    "        \"major_axis_length\": \"h\",\n",
    "        \"minor_axis_length\": \"w\"\n",
    "    }\n",
    ").to_dict(\"list\"))\n",
    "nuclei_glyph = Ellipse(x=\"x\", y=\"y\", width=\"w\", height=\"h\", angle='angle', line_color='#FFFFFF', fill_color='#000fff', line_width=1.2)\n",
    "text_glyph = Text(x=\"x\", y=\"y\", text=\"object_number\", text_color=\"white\", text_font_size = {'value': '13px'})\n",
    "\n",
    "\n",
    "# add puncta\n",
    "puncta_subset['angle'] = puncta_subset['orientation'].apply(lambda x: x/180*np.pi)\n",
    "\n",
    "puncta_source = ColumnDataSource(puncta_subset[\n",
    "    [\"center_x\", \"center_y\", \"major_axis_length\", \"minor_axis_length\", \"angle\"]\n",
    "].rename(\n",
    "    columns={\n",
    "        \"center_x\": \"x\",\n",
    "        \"center_y\": \"y\",\n",
    "        \"major_axis_length\": \"h\",\n",
    "        \"minor_axis_length\": \"w\"\n",
    "    }\n",
    ").to_dict(\"list\"))\n",
    "puncta_glyph = Ellipse(x=\"x\", y=\"y\", width=\"w\", height=\"h\", angle='angle', fill_color='#ff2b00', line_alpha=0, )\n",
    "\n",
    "puncta_text_source = ColumnDataSource(puncta_centers.loc[\n",
    "    (puncta_centers['image_number']==image_number)\n",
    "    & (puncta_centers['nuclei_object_number'].isin(nuclei_subset['object_number']))\n",
    "    , [\"image_number\", \"nuclei_object_number\", \"center_x\", \"center_y\",]\n",
    "].to_dict(\"list\"))\n",
    "puncta_text_glyph = Text(\n",
    "    x=\"center_x\", y=\"center_y\", text=\"nuclei_object_number\", text_color=\"orange\", text_font_size = {'value': '13px'}\n",
    ")\n",
    "\n",
    "\n",
    "# add puncta\n",
    "plot = Plot(\n",
    "    title=Title(text=f\"Image {image_number}\"),\n",
    "    width=1000, height=800,\n",
    "    match_aspect=True,\n",
    "    toolbar_location=None\n",
    ")\n",
    "plot.add_glyph(nuclei_source, nuclei_glyph)\n",
    "plot.add_glyph(nuclei_source, text_glyph)\n",
    "plot.add_glyph(puncta_source, puncta_glyph)\n",
    "plot.add_glyph(puncta_text_source, puncta_text_glyph)\n",
    "\n",
    "\n",
    "xaxis = LinearAxis()\n",
    "plot.add_layout(xaxis, 'above')\n",
    "plot.x_range.start = 0\n",
    "plot.x_range.end = 1290\n",
    "\n",
    "yaxis = LinearAxis()\n",
    "plot.add_layout(yaxis, 'left')\n",
    "plot.y_range.start = 1000\n",
    "plot.y_range.end = 0\n",
    "\n",
    "plot.add_layout(Grid(dimension=0, ticker=xaxis.ticker))\n",
    "plot.add_layout(Grid(dimension=1, ticker=yaxis.ticker))\n",
    "\n",
    "show(plot)"
   ]
  },
  {
   "cell_type": "code",
   "execution_count": 385,
   "metadata": {},
   "outputs": [
    {
     "data": {
      "text/html": [
       "\n",
       "\n",
       "\n",
       "\n",
       "\n",
       "\n",
       "  <div class=\"bk-root\" id=\"6a2a014e-3fc7-4c6b-8f98-4dd3f5d3f439\" data-root-id=\"77687\"></div>\n"
      ]
     },
     "metadata": {},
     "output_type": "display_data"
    },
    {
     "data": {
      "application/javascript": [
       "(function(root) {\n",
       "  function embed_document(root) {\n",
       "    \n",
       "  var docs_json = {\"6a3c67c2-260c-4da9-b6f9-11d1d0b63bd1\":{\"roots\":{\"references\":[{\"attributes\":{\"above\":[{\"id\":\"77697\"}],\"center\":[{\"id\":\"77704\"},{\"id\":\"77706\"}],\"height\":800,\"left\":[{\"id\":\"77700\"}],\"match_aspect\":true,\"renderers\":[{\"id\":\"77689\"},{\"id\":\"77691\"},{\"id\":\"77693\"},{\"id\":\"77695\"}],\"title\":{\"id\":\"77686\"},\"toolbar\":{\"id\":\"79103\"},\"toolbar_location\":null,\"width\":1000,\"x_range\":{\"id\":\"77698\"},\"x_scale\":{\"id\":\"79102\"},\"y_range\":{\"id\":\"77701\"},\"y_scale\":{\"id\":\"79104\"}},\"id\":\"77687\",\"type\":\"Plot\"},{\"attributes\":{\"angle\":{\"field\":\"angle\",\"units\":\"rad\"},\"fill_color\":{\"value\":\"#000fff\"},\"height\":{\"field\":\"h\",\"units\":\"data\"},\"line_color\":{\"value\":\"#FFFFFF\"},\"line_width\":{\"value\":1.2},\"width\":{\"field\":\"w\",\"units\":\"data\"},\"x\":{\"field\":\"x\"},\"y\":{\"field\":\"y\"}},\"id\":\"77680\",\"type\":\"Ellipse\"},{\"attributes\":{\"end\":680,\"start\":625},\"id\":\"77698\",\"type\":\"DataRange1d\"},{\"attributes\":{\"axis\":null,\"ticker\":{\"id\":\"77703\"}},\"id\":\"77704\",\"type\":\"Grid\"},{\"attributes\":{\"data\":{\"angle\":[0.39269908169872414,0.39269908169872414,0.7853981633974483,-0.3782919748293556,0.39269908169872414,-0.5812386641905186,0.39269908169872414,-0.39269908169872414,0.39269908169872414,0.39269908169872414,0.39269908169872414,0.0,-0.6245228861991264,-0.39269908169872414,0.17283423219236466,-0.2688533360664074,0.39269908169872414,0.7853981633974483,-0.3187611602611159,0.7328525167319059,0.5247176938053139,0.4473663181672092,0.39269908169872414,0.0,0.39269908169872414,0.0,0.39269908169872414,0.7183066106709716,0.4836938208261346,0.0,0.0,-0.39269908169872414,-0.522547197646012,-0.5224856102603548,-0.23182380450040221,-0.4570910825959019,0.6245228861991264,0.3982309655523592,0.4878256759768153,0.39269908169872414,0.0,0.39269908169872414,0.44547241500441037,-0.3463620941998002,0.7487684138952986,0.39269908169872414,0.7853981633974483,0.39269908169872414,-0.39269908169872414,0.39269908169872414,0.0,0.39269908169872414,0.39269908169872414,0.39269908169872414,0.39269908169872414,0.0,0.24690420924331816,0.42735901598226356,0.2767871794485226,-0.39269908169872414,0.5240950300866265,-0.6335263558090715,-0.6245228861991264,-0.4926443562594234,0.02137632341955114,0.7853981633974483,-0.17715656803191723,-0.48213560181501675,0.7853981633974483,0.01565757209736823,-0.7059893255750648,0.39269908169872414,0.5560778517484924,-0.5151884132621555,0.0,0.3616103330620329,-0.2729286104563515,-0.47798620013682297,-0.39269908169872325,0.0,0.0,0.0,0.7173616907646511,0.0,0.7853981633974483,0.0,0.39269908169872414,0.7853981633974483,0.39269908169872414,0.0,0.0,0.4636476090008054,-0.37771704291842184,0.39269908169872414,-0.07286419861946675,-0.27641980278423706,-0.39269908169872414,-0.3166988468636873,-0.061244665781715966,0.5086109839489248,0.5994281966059409,0.577300401517777,-0.5535743588970452,0.5354743988650316,-0.4274802200281124,0.0,0.6395549116489843,-0.4894180111314809,0.0,0.5802582770593291,0.39269908169872414,-0.23182380450040221,0.39269908169872414,0.13101150854968496,-0.5055623545868624,0.15767032458009592,0.0,-0.6167129278415596,0.39269908169872414,0.39269908169872414,0.39269908169872414,0.0,0.39269908169872414,0.0,0.39269908169872414,0.39269908169872414,0.39269908169872414,0.39269908169872414,-0.39269908169872414,0.0,0.39269908169872414,-0.2975724874206321,0.6245228861991264,-0.39269908169872414,0.39269908169872414,-0.13151660474919025,0.2061901719180661,0.39269908169872414,0.2767871794485226,-0.5804553542121266,0.04128716935365662,-0.20264665836935364,-0.39269908169872414,-0.15287424356489032,-0.7103553706899197,0.7853981633974483,0.39269908169872414,-0.5331794722629278,0.39269908169872414,0.39269908169872414,0.7853981633974483,0.160875277198321,-0.39269908169872414,-0.39269908169872414,-0.3518299721560503,0.0,0.7853981633974483,0.7853981633974483,0.39269908169872414,0.23182380450040221,0.160875277198321,0.7853981633974483,0.39269908169872414,0.39269908169872414,0.6245228861991264,-0.39269908169872414,-0.160875277198321,0.39269908169872414,0.7853981633974483,0.39269908169872414,0.39269908169872414,-0.26592445560063965,-0.07286419861946675,0.062494655365205556,0.39269908169872414,0.39269908169872414,-0.39269908169872414,-0.47440574493120874,0.7853981633974483,-0.5535743588970452,0.5396997325856152,0.48239174926636685,-0.3072952090367723,0.511451770764998,0.39269908169872414,0.39269908169872414,-0.3463620941998002,0.3232957271381514,-0.16868523555588777,0.3340389103076754,-0.2958531197565748,0.39269908169872414,0.2702097501352918,0.17580766025893632,0.39269908169872414,0.0,0.1727097689504234,-0.2702097501352918,0.7125339647779816,0.2795044637428396,-0.757733858103974,0.39269908169872414,0.23182380450040221,-0.39269908169872414,0.18320377544662636,-0.477662317479121,0.11591190225020069,-0.02137632341955114,-0.6245228861991264,0.634460830048089,-0.5396997325856152,0.39269908169872414,0.39269908169872414,0.7853981633974483,0.5649301787524392,0.39269908169872414,0.4170123812616155,-0.45177382005746597,-0.6299688196882502,0.6892265942331917,0.29947096663213085,0.2767871794485226,-0.5654764354662589,0.39269908169872414,-0.22071384276199607,0.7155915987025395,-0.2690240823902534,-0.3612864990462619,0.49392202826999415,0.0,0.2767871794485226,-0.39269908169872414,0.39269908169872414,0.39269908169872414,0.39269908169872414,0.39269908169872414,0.7853981633974483,0.39269908169872414,-0.160875277198321,0.0,-0.3305215844253435,0.39269908169872414,-0.39269908169872414,0.46186052189664323,-0.40344514666566667,0.39269908169872414,-0.31492852900486334,0.580023200261309,-0.39269908169872414,0.47815037469394556,0.2724772616498893,0.2792996576717804,0.39269908169872414,0.48147725860357243,0.2975724874206321,0.0,0.39269908169872414,0.39269908169872414,0.39269908169872414,0.7853981633974483,0.39269908169872414,-0.5278039567663696,0.39269908169872414,0.025167163039457208,0.19839532169782903,-0.39269908169872414,0.39269908169872414,0.7853981633974483,0.39269908169872414,0.0,0.7853981633974483,0.0,0.7853981633974483,0.39269908169872414,0.39269908169872414,-0.160875277198321,-0.31560945721862455,0.39269908169872414,-0.19634954084936207,0.6245228861991264,0.33183144579357843,0.3045225680497197,0.39269908169872414,0.7853981633974483,-0.160875277198321,0.39269908169872414,0.39269908169872414,0.0,0.39269908169872414,0.39269908169872414,0.39269908169872414,0.39269908169872414,0.0,0.0,-0.2044112614581756,0.1477632311348668,0.03666107405973197,0.36284185019413934,-0.3535486124532203,-0.39269908169872414,-0.34265381470725154,-0.6850909636462352,0.39269908169872414,-0.5922385098690262,0.0,-0.5086109839489248,0.7853981633974483,0.3261360694109927,0.39269908169872414,-0.6245228861991264,-0.5194737077968077,0.7853981633974483,0.0,0.541323086392672,0.0,-0.39269908169872414,0.0,0.7853981633974483,0.5901094365490602,-0.2572287098154594,0.0,0.39269908169872414,-0.3348028971232384,0.7853981633974483,0.0,0.39269908169872414,0.39269908169872414,-0.39269908169872414,0.39269908169872414,0.4878256759768153,0.39269908169872414,0.39269908169872414,0.160875277198321,-0.26592445560063965,0.39269908169872414,0.39269908169872414,0.6556116348358167,0.0,-0.6245228861991264,0.39269908169872414,0.39269908169872414,0.18695546851368064,-0.5310659305954964,-0.2396609574624529,0.00543392671044816,-0.39269908169872414,-0.30853037685204204,0.40191149945234733,0.0,0.19846813420010415,0.7853981633974483,0.39269908169872414,-0.6245228861991264,0.39269908169872414],\"h\":[0.0,0.0,2.0,5.19520736643846,0.0,4.96302927610373,0.0,2.3094010767585003,0.0,0.0,0.0,2.82842712474619,3.0983866769659305,2.3094010767585003,4.16762029386766,5.49983877886238,3.46410161513775,2.0,6.06041037971134,6.765017909407018,4.6347362112866906,4.60677058379336,0.0,2.0,0.0,2.0,2.0,4.5692001405127005,4.13290810367602,2.0,2.0,3.1269438398822795,9.539298836844539,3.8587512539327697,3.0550504633038904,13.009873643833801,3.0983866769659305,8.24001634518088,3.3356416888757794,4.0,3.2659863237109,0.0,7.72145921106925,4.19992979680016,9.0782508241385,0.0,2.82842712474619,2.3094010767585003,2.3094010767585003,0.0,2.0,0.0,0.0,0.0,0.0,2.0,6.1594445207933495,4.5333159620954815,3.2360679774997902,2.3094010767585003,5.414847041048208,10.380241929161599,3.0983866769659305,7.258372677890638,5.309178691345781,2.0,3.8857533750574,8.745512568225111,4.47213595499958,9.02290282674805,5.04264284473913,2.3094010767585003,5.5521784612711,4.0,3.2659863237109,5.58032253547122,7.05797834213166,7.57484600139118,6.58280588604383,4.47213595499958,2.0,2.0,4.23737873825168,2.0,3.2659863237109,2.0,0.0,2.0,2.0,2.0,2.0,3.82970843102535,6.152778893515509,4.8989794855663495,4.15537470567873,6.341725099006879,2.3094010767585003,8.29559947722427,3.8888437389046095,5.59698471690331,9.67269215664826,7.65584349048394,3.0550504633038904,10.328726042996,10.161479107287901,2.0,5.79093571445421,7.5861326053559806,3.46410161513775,5.76520423751019,0.0,4.47213595499958,0.0,5.8306184007506205,4.41807199832919,7.37036320853883,2.0,4.120404556321351,0.0,0.0,2.0,2.0,2.3094010767585003,2.0,0.0,2.0,2.0,0.0,3.7032803990902,2.0,0.0,3.3356416888757794,3.0983866769659305,2.3094010767585003,0.0,4.34612998414188,8.527498835805499,0.0,3.2360679774997902,8.594040166406911,5.27425848143453,7.71704861969615,2.3094010767585003,6.32460492346789,6.55307342198403,2.0,2.0,5.7660529582664095,0.0,2.3094010767585003,3.2659863237109,3.0983866769659305,2.3094010767585003,2.3094010767585003,7.8691431968011285,2.0,2.0,4.8989794855663495,0.0,4.6188021535170005,3.0983866769659305,2.0,0.0,0.0,5.61339505839671,2.82842712474619,3.0983866769659305,0.0,2.0,2.3094010767585003,2.0,3.58207009541766,4.15537470567873,5.44935366589731,2.0,0.0,2.3094010767585003,5.23522946979312,4.47213595499958,3.6878177829171497,3.6770885283426704,3.75219954220109,4.90248465586551,5.899480047797719,0.0,0.0,4.19992979680016,11.3328973230043,4.120404556321351,6.87873396538496,7.31273425589234,3.46410161513775,6.324555320336749,4.9833573448848,0.0,2.0,6.24969549950693,4.0,4.15537470567873,6.25907629759045,5.37941633662879,2.3094010767585003,3.0550504633038904,2.3094010767585003,4.34169545110285,6.23603565167429,5.0466898192349205,5.309178691345781,3.0983866769659305,3.9722133299273,3.6770885283426704,0.0,0.0,2.82842712474619,4.33357395375157,0.0,6.85389794759987,8.35470725296868,7.557806946641869,11.5726822359815,8.71021706359755,3.2360679774997902,20.809251482396103,2.3094010767585003,20.4764892444875,8.0340493235699,10.189163207816199,5.34495189973951,4.00943972722854,2.0,3.2360679774997902,2.3094010767585003,0.0,0.0,0.0,0.0,3.2659863237109,2.0,3.46410161513775,2.0,4.972652484064481,2.0,3.1269438398822795,9.27435843470893,5.457777139690981,2.3094010767585003,9.14437291489564,9.373968970895831,3.6514837167011,6.542467946655918,5.129725253921031,5.03322295684716,2.0,5.573152485851071,3.3356416888757794,2.0,0.0,0.0,0.0,2.0,0.0,4.31259446357463,0.0,5.90043956322691,9.27037492976743,2.3094010767585003,0.0,2.82842712474619,2.0,2.82842712474619,2.0,2.0,2.82842712474619,2.3094010767585003,0.0,3.46410161513775,5.83435187563822,2.0,4.37534528542421,3.0983866769659305,8.771190101418942,6.8254589252258,0.0,2.0,3.46410161513775,0.0,0.0,2.0,0.0,0.0,0.0,2.5298221281347,3.7712361663282494,2.0,5.4444245638725,6.41957970744185,8.196317104672751,4.50593646065252,4.713432721951589,4.0,4.90772573565975,4.66882605674575,0.0,8.13192689830756,3.2659863237109,3.2360679774997902,2.0,5.3047588771516505,2.3094010767585003,3.0983866769659305,3.58207009541766,3.2,2.0,6.31548351693417,2.82842712474619,3.7032803990902,3.2659863237109,2.0,6.1039806601238205,6.86729875744786,4.8989794855663495,0.0,6.456826390597299,2.0,2.0,2.3094010767585003,3.46410161513775,3.46410161513775,3.7032803990902,3.3356416888757794,0.0,2.0,3.0983866769659305,3.58207009541766,0.0,0.0,3.9210761914129706,2.0,3.0983866769659305,0.0,3.6514837167011,4.85976471674095,5.813674260835482,5.26677385847681,4.9058692227358,5.22437724968812,4.507893913753558,6.62800130162495,3.02371578407381,6.71955500501027,3.2,0.0,3.0983866769659305,0.0],\"w\":[0.0,0.0,0.0,3.77283848257804,0.0,3.5577516218651803,0.0,1.33333333333333,0.0,0.0,0.0,1.73205080756887,1.78885438199983,1.33333333333333,3.6313216108874,4.63025630030579,2.73861278752583,0.0,4.546583995648481,3.9330777498845295,1.82634793574502,4.3127586311453,0.0,0.0,0.0,0.0,2.0,2.75724682898334,2.86409169264061,0.0,0.0,2.3094010767585003,7.63063757312469,3.50856648223633,2.66666666666666,6.409698464615201,1.78885438199983,5.660361121276151,2.05754575245215,1.3856406460551,2.0,0.0,3.58731983103835,1.16644318419293,4.93913459579139,0.0,1.73205080756887,1.33333333333333,1.33333333333333,0.0,0.0,0.0,0.0,0.0,0.0,0.0,3.66107435290393,3.01145830098211,1.23606797749978,1.33333333333333,4.06451251343606,8.46542803808123,1.78885438199983,4.29268414630772,3.63308247773519,0.0,2.7954428906961297,1.37235449421498,3.2659863237109,7.66311420074229,4.6511806603767685,1.33333333333333,3.91743854001821,2.2131333406899505,2.0,3.27682032167163,2.17726830628564,4.54428300782509,4.684489774185058,3.2659863237109,0.0,0.0,2.6066494640846,0.0,0.0,0.0,0.0,0.0,2.0,0.0,0.0,1.88561808316412,3.05958978709364,2.82842712474619,1.9054711331003704,4.82807420680377,1.33333333333333,5.760471275293042,2.62238333856481,3.95901023978856,6.5246433532538415,5.31564433704346,2.66666666666666,8.599184457939169,6.93197526830517,0.0,3.69250778253331,4.32880954697187,2.82842712474619,3.95441779530116,0.0,4.21637021355783,0.0,4.89431326009775,3.37187317473068,4.84818591516912,0.0,2.40255411848438,0.0,0.0,2.0,0.0,1.33333333333333,0.0,0.0,2.0,2.0,0.0,2.13808993529939,0.0,0.0,2.05754575245215,1.78885438199983,1.33333333333333,0.0,3.0673563246059,5.65483525013234,0.0,1.23606797749978,7.05668439182587,1.94605645925826,3.92378910030893,1.33333333333333,3.12684351060674,5.1947468733031785,0.0,2.0,3.94754140060072,0.0,1.33333333333333,2.0,1.78885438199983,1.33333333333333,1.33333333333333,6.33060702841665,0.0,0.0,4.3588989435406695,0.0,2.35177894316852,1.78885438199983,0.0,0.0,0.0,3.20713490294909,0.0,1.78885438199983,0.0,0.0,1.33333333333333,2.0,2.47134565403517,1.9054711331003704,3.1458514520977205,2.0,0.0,1.33333333333333,2.7335640469192497,0.0,3.57770876399966,0.8374020402130079,2.769656764927,3.37693066673404,3.52333832372288,0.0,0.0,1.16644318419293,3.74903109944543,2.40255411848438,3.8804663422659904,3.88265744224362,2.73861278752583,5.65266863719194,3.6626043033942097,0.0,0.0,3.51835276279153,2.2131333406899505,1.9054711331003704,1.61299153088883,3.58324680352734,1.33333333333333,2.66666666666666,1.33333333333333,1.27658944452506,2.42685745951938,2.98514441152965,3.63308247773519,1.78885438199983,2.64036385021986,0.8374020402130079,0.0,0.0,1.73205080756887,3.59939911338664,0.0,4.42320309798266,5.28075437008695,5.41389704192935,4.54641994401387,8.27018788141495,1.23606797749978,5.73664284496689,1.33333333333333,8.91435742356432,6.76177677556653,7.37175818199141,3.23069750196986,2.47557563131781,0.0,1.23606797749978,1.33333333333333,0.0,0.0,0.0,0.0,0.0,2.0,1.41421356237309,0.0,2.7453943400984504,2.0,2.3094010767585003,4.09221465161087,3.01687878151498,1.33333333333333,5.4547598675065005,8.07009530048969,2.10818510677892,5.453484378377238,3.00320697798505,4.57583561821644,2.0,3.1881752093274702,2.05754575245215,0.0,0.0,0.0,0.0,0.0,0.0,2.6609286609047498,0.0,3.893600082530541,5.9156055500980695,1.33333333333333,0.0,1.73205080756887,2.0,1.73205080756887,0.0,0.0,1.73205080756887,1.33333333333333,0.0,1.41421356237309,3.72682533533913,2.0,2.0896309997099296,1.78885438199983,6.38368698066205,3.50389896985052,0.0,0.0,1.41421356237309,0.0,0.0,0.0,0.0,0.0,0.0,2.5298221281347,3.2659863237109,0.0,2.2534953224494703,4.403293810297098,4.7664323139351295,1.9646378594246297,2.6491734327655,3.1496031496047205,3.27940006555062,3.5096674673237502,0.0,4.4617743348926115,0.0,1.23606797749978,0.0,2.65199679002237,1.33333333333333,1.78885438199983,2.47134565403517,2.5298221281347,0.0,4.20412511080875,1.73205080756887,2.13808993529939,2.0,0.0,4.15468652257114,4.3331207650185295,4.0,0.0,3.61591275620024,0.0,0.0,1.33333333333333,2.73861278752583,2.73861278752583,2.13808993529939,2.05754575245215,0.0,2.0,1.78885438199983,2.47134565403517,0.0,0.0,2.1506188646839,0.0,1.78885438199983,0.0,2.10818510677892,3.62773547487926,4.580650065635,2.24749117472245,3.44954914708777,4.280801270273,2.1044933980280303,2.91165966606057,2.79941684889506,5.2975070112876,2.5298221281347,0.0,1.78885438199983,0.0],\"x\":[275.0,280.0,285.5,280.142857142857,277.0,283.181818181818,286.0,281.33333333333303,279.0,287.0,310.0,309.25,306.8,311.33333333333303,309.25,304.875,314.875,1103.5,1099.95,1100.7777777777699,1098.28571428571,1103.26666666666,217.0,218.0,215.0,225.0,217.5,221.9,226.666666666666,210.0,236.0,228.833333333333,220.461538461538,226.1,217.166666666666,224.377358490566,219.2,230.060606060606,212.8,225.2,233.5,216.0,218.0,223.0,227.529411764705,216.0,224.0,231.666666666666,224.333333333333,258.0,654.0,660.0,662.0,656.0,665.0,659.0,656.533333333333,654.4545454545449,659.5,654.6666666666661,657.882352941176,651.203703703703,656.8,651.1666666666661,454.2,467.5,446.888888888888,449.85714285714204,457.5,464.461538461538,451.166666666666,472.666666666666,458.29411764705804,473.428571428571,446.5,449.35714285714204,453.666666666666,454.76,459.708333333333,464.0,449.0,462.0,458.125,457.0,450.0,454.0,443.0,451.5,452.5,620.0,602.0,603.0,601.6666666666661,607.0,599.428571428571,603.208333333333,631.6666666666661,609.083333333333,613.25,617.75,623.770833333333,602.51724137931,606.6666666666661,623.271186440678,614.226415094339,632.0,608.35294117647,616.28,628.0,619.8125,641.0,611.833333333333,625.0,617.772727272727,622.4166666666661,613.777777777777,625.0,626.625,621.0,617.0,625.5,626.0,622.6666666666661,608.0,26.0,27.5,30.5,22.0,26.0,28.0,25.0,27.0,28.2,32.6666666666666,39.0,22.9090909090909,27.5675675675675,27.0,38.5,32.4222222222222,28.4444444444444,36.0,32.6666666666666,39.1333333333333,42.6521739130434,39.5,47.5,713.058823529411,722.0,716.333333333333,713.0,722.4,708.333333333333,710.333333333333,717.916666666666,725.0,709.5,713.0,711.0,790.111111111111,793.6,776.5,781.0,795.0,779.1428571428571,776.5,782.6,786.0,779.5,784.333333333333,793.5,781.714285714285,784.5714285714281,786.928571428571,793.5,788.0,788.666666666666,678.1,682.5,687.4,686.0,680.5,674.545454545454,684.2666666666661,697.0,676.0,687.0,679.75,676.75,683.6875,688.333333333333,689.875,673.153846153846,679.0,669.0,671.0,686.6875,690.285714285714,675.714285714285,679.1666666666661,683.1666666666661,691.666666666666,673.1666666666661,688.666666666666,671.6,674.9166666666661,678.545454545454,682.2,684.8,676.25,686.0,517.0,521.0,525.0,520.7272727272721,514.0,518.478260869565,524.375,528.6666666666661,522.482758620689,516.6875,534.5,524.872093023255,523.333333333333,527.825242718446,519.47619047619,532.296296296296,521.923076923076,517.428571428571,518.0,519.5,522.333333333333,522.0,524.0,395.0,392.0,395.0,396.5,391.25,402.0,397.818181818181,389.5,393.166666666666,402.44444444444395,394.916666666666,408.333333333333,396.15789473684197,401.85714285714204,406.333333333333,398.5,405.25,402.94444444444395,390.5,393.642857142857,409.0,397.0,406.0,382.0,404.0,752.5,751.0,753.8888888888879,757.0,752.7777777777769,757.166666666666,762.666666666666,753.0,764.0,761.5,763.75,320.5,329.0,327.0,319.33333333333303,333.0,323.25,330.4,331.5,333.857142857142,335.8,328.116279069767,324.444444444444,321.0,334.5,320.75,325.0,157.0,161.0,425.0,423.0,381.0,384.0,382.0,384.0,386.8,390.85,394.51851851851796,397.85714285714204,387.7777777777769,389.7,392.61538461538396,397.454545454545,386.0,396.592592592592,401.0,402.0,558.5,564.7272727272721,567.333333333333,552.2,558.857142857142,552.6,557.0,560.75,547.75,554.0,557.5,568.5,551.55,559.695652173913,563.5,553.0,566.222222222222,545.5,556.0,562.6666666666661,550.875,556.875,565.0,560.2,553.0,567.5,554.6,560.285714285714,822.0,810.0,821.5,819.0,808.8,827.0,806.666666666666,811.416666666666,816.842105263157,824.7777777777769,820.272727272727,808.470588235294,822.125,816.5,819.285714285714,813.08,75.4,77.0,83.8,73.0],\"y\":[131.0,131.0,133.0,134.785714285714,136.0,137.0,137.0,138.666666666666,140.0,141.0,188.0,196.0,198.4,198.666666666666,200.333333333333,201.5625,197.875,376.0,377.4,380.888888888888,382.28571428571405,384.2,431.0,436.5,438.0,438.5,439.5,439.1,440.44444444444395,442.5,442.5,442.833333333333,443.134615384615,443.7,447.333333333333,448.264150943396,449.4,450.515151515151,451.0,451.2,451.0,452.0,451.428571428571,453.75,454.5,456.0,456.75,456.666666666666,466.666666666666,470.0,454.5,457.0,458.0,465.0,466.0,469.5,468.8,470.818181818181,472.0,473.333333333333,473.941176470588,475.796296296296,476.4,480.166666666666,464.8,465.0,466.666666666666,466.714285714285,466.0,467.90384615384596,468.555555555555,467.666666666666,469.29411764705804,469.714285714285,471.0,471.428571428571,470.25,473.16,473.708333333333,473.5,475.5,475.5,477.25,480.5,481.0,481.5,483.0,487.0,490.5,554.5,559.5,569.833333333333,572.9333333333329,575.0,577.285714285714,576.6666666666661,576.333333333333,578.083333333333,576.25,576.0,577.708333333333,581.3103448275859,581.833333333333,583.5762711864402,580.962264150943,581.5,584.529411764705,585.44,585.5,587.8125,586.0,587.6666666666661,588.0,591.090909090909,590.75,591.888888888888,590.5,591.75,593.0,595.0,595.5,598.5,598.6666666666661,609.5,609.0,621.5,622.5,629.0,631.0,632.5,633.0,634.8,637.4,639.333333333333,641.0,642.363636363636,642.162162162162,647.0,647.0,646.9333333333329,650.222222222222,650.478260869565,651.333333333333,651.066666666666,651.826086956521,655.0,658.5,726.9411764705881,726.0,726.333333333333,729.5,728.2,729.666666666666,729.666666666666,730.25,731.5,732.0,732.25,736.0,739.444444444444,739.8,744.0,744.0,745.0,745.714285714285,746.5,746.2,747.0,748.0,747.333333333333,747.5,748.857142857142,749.714285714285,750.1428571428571,752.5,759.0,762.333333333333,750.9,751.0,751.3,752.666666666666,752.875,754.1818181818179,753.666666666666,755.0,756.0,755.25,756.3214285714281,757.625,756.9375,756.9333333333328,757.875,758.3076923076918,759.6153846153841,760.0,760.5,761.5,760.5714285714281,761.428571428571,762.833333333333,761.833333333333,761.666666666666,762.666666666666,762.333333333333,763.4,764.333333333333,764.90909090909,765.2,764.4,766.375,765.333333333333,771.0,775.0,775.75,777.1818181818179,782.0,780.217391304347,779.0625,780.9259259259261,784.03448275862,786.229166666666,788.0,788.220930232558,792.333333333333,795.776699029126,795.3095238095232,796.092592592592,799.6923076923068,799.0,801.5,801.0,803.666666666666,806.0,807.0,777.0,781.0,781.0,783.5,782.75,784.5,786.6363636363631,787.5,787.833333333333,788.4814814814812,790.25,791.333333333333,794.3157894736839,792.8095238095232,794.666666666666,799.153846153846,796.75,799.222222222222,799.5,799.714285714285,800.2,803.5,807.0,812.0,825.0,793.0,794.0,794.222222222222,795.0,798.7777777777769,799.761904761904,800.333333333333,803.0,804.75,805.5,807.0,840.0,840.5,841.25,842.333333333333,843.0,844.75,845.666666666666,848.5,847.714285714285,848.6,852.1627906976739,854.111111111111,855.0,855.0,858.25,858.0,838.0,840.5,842.0,848.0,881.0,882.0,884.666666666666,885.5,886.7,887.2,887.0370370370372,887.5714285714281,888.8888888888879,891.3,892.538461538461,890.4545454545448,893.0,893.8888888888879,893.0,895.5,874.0,874.0,876.333333333333,877.6,878.714285714285,880.0,880.5,881.7,883.0,882.0,883.0,884.0,884.2,886.217391304347,887.0,888.0,889.166666666666,890.0,890.5,891.666666666666,891.875,895.125,895.0,896.0,898.0,897.5,898.8,899.1428571428571,917.0,923.0,924.0,924.5,925.4,926.0,927.666666666666,927.666666666666,927.842105263157,927.8888888888879,927.6363636363632,929.470588235294,929.75,931.785714285714,931.0,932.24,871.0,876.0,877.4,879.0]},\"selected\":{\"id\":\"79112\"},\"selection_policy\":{\"id\":\"79113\"}},\"id\":\"77682\",\"type\":\"ColumnDataSource\"},{\"attributes\":{},\"id\":\"77703\",\"type\":\"BasicTicker\"},{\"attributes\":{\"axis\":null,\"dimension\":1,\"ticker\":{\"id\":\"77705\"}},\"id\":\"77706\",\"type\":\"Grid\"},{\"attributes\":{\"data_source\":{\"id\":\"77679\"},\"glyph\":{\"id\":\"77680\"},\"hover_glyph\":null,\"muted_glyph\":null,\"view\":{\"id\":\"77690\"}},\"id\":\"77689\",\"type\":\"GlyphRenderer\"},{\"attributes\":{\"formatter\":{\"id\":\"79109\"},\"ticker\":{\"id\":\"77705\"}},\"id\":\"77700\",\"type\":\"LinearAxis\"},{\"attributes\":{\"data_source\":{\"id\":\"77682\"},\"glyph\":{\"id\":\"77683\"},\"hover_glyph\":null,\"muted_glyph\":null,\"view\":{\"id\":\"77694\"}},\"id\":\"77693\",\"type\":\"GlyphRenderer\"},{\"attributes\":{\"active_drag\":\"auto\",\"active_inspect\":\"auto\",\"active_multi\":null,\"active_scroll\":\"auto\",\"active_tap\":\"auto\"},\"id\":\"79103\",\"type\":\"Toolbar\"},{\"attributes\":{\"source\":{\"id\":\"77679\"}},\"id\":\"77692\",\"type\":\"CDSView\"},{\"attributes\":{},\"id\":\"79104\",\"type\":\"LinearScale\"},{\"attributes\":{},\"id\":\"77705\",\"type\":\"BasicTicker\"},{\"attributes\":{\"formatter\":{\"id\":\"79107\"},\"ticker\":{\"id\":\"77703\"}},\"id\":\"77697\",\"type\":\"LinearAxis\"},{\"attributes\":{\"end\":440,\"start\":540},\"id\":\"77701\",\"type\":\"DataRange1d\"},{\"attributes\":{\"text\":{\"field\":\"object_number\"},\"text_color\":{\"value\":\"white\"},\"text_font_size\":{\"value\":\"13px\"},\"x\":{\"field\":\"x\"},\"y\":{\"field\":\"y\"}},\"id\":\"77681\",\"type\":\"Text\"},{\"attributes\":{\"angle\":{\"field\":\"angle\",\"units\":\"rad\"},\"fill_color\":{\"value\":\"#ff2b00\"},\"height\":{\"field\":\"h\",\"units\":\"data\"},\"line_alpha\":{\"value\":0},\"width\":{\"field\":\"w\",\"units\":\"data\"},\"x\":{\"field\":\"x\"},\"y\":{\"field\":\"y\"}},\"id\":\"77683\",\"type\":\"Ellipse\"},{\"attributes\":{\"source\":{\"id\":\"77684\"}},\"id\":\"77696\",\"type\":\"CDSView\"},{\"attributes\":{},\"id\":\"79107\",\"type\":\"BasicTickFormatter\"},{\"attributes\":{},\"id\":\"79109\",\"type\":\"BasicTickFormatter\"},{\"attributes\":{\"source\":{\"id\":\"77679\"}},\"id\":\"77690\",\"type\":\"CDSView\"},{\"attributes\":{},\"id\":\"79110\",\"type\":\"Selection\"},{\"attributes\":{\"source\":{\"id\":\"77682\"}},\"id\":\"77694\",\"type\":\"CDSView\"},{\"attributes\":{},\"id\":\"79111\",\"type\":\"UnionRenderers\"},{\"attributes\":{},\"id\":\"79102\",\"type\":\"LinearScale\"},{\"attributes\":{\"data\":{\"center_x\":[281.4158008658008,308.5847222222222,314.875,1101.156031746028,223.68912790871713,657.0148049118634,456.0432294189468,616.7583864924725,31.572268074914565,715.1562908496729,785.6204585537917,681.3733751542572,522.4306781050735,398.04459861775626,757.2045454545452,327.3406999815429,159.0,394.56477565644207,558.0781430095094,816.7335778855,77.3],\"center_y\":[135.945238095238,197.1604166666665,197.875,380.15492063492036,448.00667620414913,468.6611181846474,473.4844931552106,583.7248944055765,640.2138710974247,729.8589869281044,747.9466490299822,758.9923406250608,789.7823190518903,793.8246738329893,799.5768398268397,848.4273867201919,839.25,883.9025509469952,886.8943286010054,927.0529371026718,875.85],\"image_number\":[3,3,3,3,3,3,3,3,3,3,3,3,3,3,3,3,3,3,3,3,3],\"nuclei_object_number\":[2,3,5,7,10,12,13,15,16,17,18,19,20,21,22,23,24,25,26,27,28]},\"selected\":{\"id\":\"79114\"},\"selection_policy\":{\"id\":\"79115\"}},\"id\":\"77684\",\"type\":\"ColumnDataSource\"},{\"attributes\":{\"data_source\":{\"id\":\"77684\"},\"glyph\":{\"id\":\"77685\"},\"hover_glyph\":null,\"muted_glyph\":null,\"view\":{\"id\":\"77696\"}},\"id\":\"77695\",\"type\":\"GlyphRenderer\"},{\"attributes\":{},\"id\":\"79112\",\"type\":\"Selection\"},{\"attributes\":{\"data_source\":{\"id\":\"77679\"},\"glyph\":{\"id\":\"77681\"},\"hover_glyph\":null,\"muted_glyph\":null,\"view\":{\"id\":\"77692\"}},\"id\":\"77691\",\"type\":\"GlyphRenderer\"},{\"attributes\":{\"text\":\"Image 3\"},\"id\":\"77686\",\"type\":\"Title\"},{\"attributes\":{},\"id\":\"79113\",\"type\":\"UnionRenderers\"},{\"attributes\":{\"data\":{\"angle\":[-0.8011245683378725,1.0875028003724592,0.5017228152631434,0.47442315002963603,-0.9930792737885382,0.8973515717376802,0.5521330057613898,0.9604497103915846,-0.4748073491833446,-0.6318949126389554,-0.07504571348083725,-0.655350336431438,0.9593162293472228,-0.650263981686348,-0.667362646689698,0.15794587737363275,0.3193282087352079,-0.662297504327271,-1.0837988013728201,1.1630098739608756,-0.3061906347917707,1.5167816156538543,1.501304596970523,0.29521027942621786,1.3215279361494914,0.8234513046327843,0.23362154793519627,-0.6048316056523395],\"h\":[83.64799691,82.04267897,87.72287094,161.4168084,92.18886454,240.0792826,85.64873254,108.2976329,76.85512094,72.84124169,152.06419250000005,85.53424977,77.39806174,84.95241337,83.52277904,97.3233091,76.33248849,74.58947052,79.44143162,81.18280426,84.62705453,77.63765626,80.61690629,76.97156572,80.86215091,74.63640216,79.56947469,82.2262193],\"object_number\":[1,2,3,4,5,6,7,8,9,10,11,12,13,14,15,16,17,18,19,20,21,22,23,24,25,26,27,28],\"w\":[67.94617218,72.99577564,71.94732674,89.13510974,74.99512273,153.9410111,78.81545141,87.98649237,69.38374378,70.57729090000002,82.14105096,74.85247709,72.88242799,73.92526048,77.9761657,82.11350574,67.15506592,70.38729754,72.12762624,74.77953808,70.29532205,67.24131779999999,67.80561999,73.77146255,72.14392228,68.06019201,66.46493911,76.5311755],\"x\":[693.0947132,295.1849211,282.5280242,211.8946445,345.9122445,108.4616084,1078.326252,108.0136149,751.9430815000002,233.8088381,587.6286522,657.2549177,464.7136713,470.5311492,614.5256360000002,58.14430829,713.8162756,761.5946932999999,672.2961877,506.5291746,376.3263204,736.8870849,312.7470726,165.7290685,404.8935605,550.5495609,813.4418491,51.06170083],\"y\":[59.08008999,118.9967596,182.9982688,190.4579871,212.3197075,240.5583967,352.6437785,365.4274799,422.7139352,446.43421050000006,469.62477750000005,487.9841429,498.5991399,574.808141,590.8146771,616.8885842999998,699.8634548,751.0486855,777.553801,798.5607892999999,807.7725181,825.2194342,843.2793911,858.6558923,869.6820093,874.7989962000001,897.1610706,897.2220417999998]},\"selected\":{\"id\":\"79110\"},\"selection_policy\":{\"id\":\"79111\"}},\"id\":\"77679\",\"type\":\"ColumnDataSource\"},{\"attributes\":{},\"id\":\"79114\",\"type\":\"Selection\"},{\"attributes\":{},\"id\":\"79115\",\"type\":\"UnionRenderers\"},{\"attributes\":{\"text\":{\"field\":\"nuclei_object_number\"},\"text_color\":{\"value\":\"orange\"},\"text_font_size\":{\"value\":\"13px\"},\"x\":{\"field\":\"center_x\"},\"y\":{\"field\":\"center_y\"}},\"id\":\"77685\",\"type\":\"Text\"}],\"root_ids\":[\"77687\"]},\"title\":\"Bokeh Application\",\"version\":\"2.2.1\"}};\n",
       "  var render_items = [{\"docid\":\"6a3c67c2-260c-4da9-b6f9-11d1d0b63bd1\",\"root_ids\":[\"77687\"],\"roots\":{\"77687\":\"6a2a014e-3fc7-4c6b-8f98-4dd3f5d3f439\"}}];\n",
       "  root.Bokeh.embed.embed_items_notebook(docs_json, render_items);\n",
       "\n",
       "  }\n",
       "  if (root.Bokeh !== undefined) {\n",
       "    embed_document(root);\n",
       "  } else {\n",
       "    var attempts = 0;\n",
       "    var timer = setInterval(function(root) {\n",
       "      if (root.Bokeh !== undefined) {\n",
       "        clearInterval(timer);\n",
       "        embed_document(root);\n",
       "      } else {\n",
       "        attempts++;\n",
       "        if (attempts > 100) {\n",
       "          clearInterval(timer);\n",
       "          console.log(\"Bokeh: ERROR: Unable to run BokehJS code because BokehJS library is missing\");\n",
       "        }\n",
       "      }\n",
       "    }, 10, root)\n",
       "  }\n",
       "})(window);"
      ],
      "application/vnd.bokehjs_exec.v0+json": ""
     },
     "metadata": {
      "application/vnd.bokehjs_exec.v0+json": {
       "id": "77687"
      }
     },
     "output_type": "display_data"
    }
   ],
   "source": [
    "image_number = 3\n",
    "\n",
    "# subset by image\n",
    "nuclei_subset = nuclei[nuclei['image_number']==image_number].copy()\n",
    "puncta_subset = pd.merge(\n",
    "    left=nuclei_subset[[\"image_number\", 'object_number']],\n",
    "    right=puncta.loc[:, puncta.columns != 'object_number'],\n",
    "    left_on=[\"image_number\", 'object_number'],\n",
    "    right_on=['image_number', 'nuclei_object_number'],\n",
    "    how=\"left\",\n",
    ").dropna(subset=['nuclei_object_number'])\n",
    "\n",
    "\n",
    "# add nuclei\n",
    "nuclei_subset['angle'] = nuclei_subset['orientation'].apply(lambda x: x/180*np.pi)\n",
    "nuclei_source = ColumnDataSource(nuclei_subset.loc[\n",
    "    # (nuclei_subset['object_number']==2)\n",
    "    :, [\"object_number\", \"center_x\", \"center_y\", \"major_axis_length\", \"minor_axis_length\", \"angle\"]\n",
    "].rename(\n",
    "    columns={\n",
    "        \"center_x\": \"x\",\n",
    "        \"center_y\": \"y\",\n",
    "        \"major_axis_length\": \"h\",\n",
    "        \"minor_axis_length\": \"w\"\n",
    "    }\n",
    ").to_dict(\"list\"))\n",
    "nuclei_glyph = Ellipse(x=\"x\", y=\"y\", width=\"w\", height=\"h\", angle='angle', line_color='#FFFFFF', fill_color='#000fff', line_width=1.2)\n",
    "text_glyph = Text(x=\"x\", y=\"y\", text=\"object_number\", text_color=\"white\", text_font_size = {'value': '13px'})\n",
    "\n",
    "\n",
    "# add puncta\n",
    "puncta_subset['angle'] = puncta_subset['orientation'].apply(lambda x: x/360*np.pi)\n",
    "\n",
    "puncta_source = ColumnDataSource(puncta_subset[\n",
    "    [\"center_x\", \"center_y\", \"major_axis_length\", \"minor_axis_length\", \"angle\"]\n",
    "].rename(\n",
    "    columns={\n",
    "        \"center_x\": \"x\",\n",
    "        \"center_y\": \"y\",\n",
    "        \"major_axis_length\": \"h\",\n",
    "        \"minor_axis_length\": \"w\"\n",
    "    }\n",
    ").to_dict(\"list\"))\n",
    "puncta_glyph = Ellipse(x=\"x\", y=\"y\", width=\"w\", height=\"h\", angle='angle', fill_color='#ff2b00', line_alpha=0, )\n",
    "\n",
    "puncta_text_source = ColumnDataSource(puncta_centers.loc[\n",
    "    (puncta_centers['image_number']==image_number)\n",
    "    & (puncta_centers['nuclei_object_number'].isin(nuclei_subset['object_number']))\n",
    "    , [\"image_number\", \"nuclei_object_number\", \"center_x\", \"center_y\",]\n",
    "].to_dict(\"list\"))\n",
    "puncta_text_glyph = Text(\n",
    "    x=\"center_x\", y=\"center_y\", text=\"nuclei_object_number\", text_color=\"orange\", text_font_size = {'value': '13px'}\n",
    ")\n",
    "\n",
    "\n",
    "# add puncta\n",
    "plot = Plot(\n",
    "    title=Title(text=f\"Image {image_number}\"),\n",
    "    width=1000, height=800,\n",
    "    match_aspect=True,\n",
    "    toolbar_location=None\n",
    ")\n",
    "plot.add_glyph(nuclei_source, nuclei_glyph)\n",
    "plot.add_glyph(nuclei_source, text_glyph)\n",
    "plot.add_glyph(puncta_source, puncta_glyph)\n",
    "plot.add_glyph(puncta_text_source, puncta_text_glyph)\n",
    "\n",
    "xaxis = LinearAxis()\n",
    "plot.add_layout(xaxis, 'above')\n",
    "plot.x_range.start = 625\n",
    "plot.x_range.end = 680\n",
    "\n",
    "yaxis = LinearAxis()\n",
    "plot.add_layout(yaxis, 'left')\n",
    "plot.y_range.start = 540\n",
    "plot.y_range.end = 440\n",
    "\n",
    "plot.add_layout(Grid(dimension=0, ticker=xaxis.ticker))\n",
    "plot.add_layout(Grid(dimension=1, ticker=yaxis.ticker))\n",
    "\n",
    "show(plot)"
   ]
  },
  {
   "cell_type": "code",
   "execution_count": 127,
   "metadata": {
    "scrolled": false
   },
   "outputs": [
    {
     "data": {
      "text/html": [
       "<div>\n",
       "<style scoped>\n",
       "    .dataframe tbody tr th:only-of-type {\n",
       "        vertical-align: middle;\n",
       "    }\n",
       "\n",
       "    .dataframe tbody tr th {\n",
       "        vertical-align: top;\n",
       "    }\n",
       "\n",
       "    .dataframe thead th {\n",
       "        text-align: right;\n",
       "    }\n",
       "</style>\n",
       "<table border=\"1\" class=\"dataframe\">\n",
       "  <thead>\n",
       "    <tr style=\"text-align: right;\">\n",
       "      <th></th>\n",
       "      <th>x</th>\n",
       "      <th>y</th>\n",
       "      <th>h</th>\n",
       "      <th>w</th>\n",
       "      <th>angle</th>\n",
       "    </tr>\n",
       "  </thead>\n",
       "  <tbody>\n",
       "    <tr>\n",
       "      <th>1</th>\n",
       "      <td>275.000000</td>\n",
       "      <td>131.000000</td>\n",
       "      <td>0.000000</td>\n",
       "      <td>0.000000</td>\n",
       "      <td>0.392699</td>\n",
       "    </tr>\n",
       "    <tr>\n",
       "      <th>2</th>\n",
       "      <td>280.000000</td>\n",
       "      <td>131.000000</td>\n",
       "      <td>0.000000</td>\n",
       "      <td>0.000000</td>\n",
       "      <td>0.392699</td>\n",
       "    </tr>\n",
       "    <tr>\n",
       "      <th>3</th>\n",
       "      <td>285.500000</td>\n",
       "      <td>133.000000</td>\n",
       "      <td>2.000000</td>\n",
       "      <td>0.000000</td>\n",
       "      <td>0.785397</td>\n",
       "    </tr>\n",
       "    <tr>\n",
       "      <th>4</th>\n",
       "      <td>280.142857</td>\n",
       "      <td>134.785714</td>\n",
       "      <td>5.195207</td>\n",
       "      <td>3.772838</td>\n",
       "      <td>-0.378292</td>\n",
       "    </tr>\n",
       "    <tr>\n",
       "      <th>5</th>\n",
       "      <td>277.000000</td>\n",
       "      <td>136.000000</td>\n",
       "      <td>0.000000</td>\n",
       "      <td>0.000000</td>\n",
       "      <td>0.392699</td>\n",
       "    </tr>\n",
       "    <tr>\n",
       "      <th>...</th>\n",
       "      <td>...</td>\n",
       "      <td>...</td>\n",
       "      <td>...</td>\n",
       "      <td>...</td>\n",
       "      <td>...</td>\n",
       "    </tr>\n",
       "    <tr>\n",
       "      <th>356</th>\n",
       "      <td>813.080000</td>\n",
       "      <td>932.240000</td>\n",
       "      <td>6.719555</td>\n",
       "      <td>5.297507</td>\n",
       "      <td>0.198468</td>\n",
       "    </tr>\n",
       "    <tr>\n",
       "      <th>357</th>\n",
       "      <td>75.400000</td>\n",
       "      <td>871.000000</td>\n",
       "      <td>3.200000</td>\n",
       "      <td>2.529822</td>\n",
       "      <td>0.785397</td>\n",
       "    </tr>\n",
       "    <tr>\n",
       "      <th>358</th>\n",
       "      <td>77.000000</td>\n",
       "      <td>876.000000</td>\n",
       "      <td>0.000000</td>\n",
       "      <td>0.000000</td>\n",
       "      <td>0.392699</td>\n",
       "    </tr>\n",
       "    <tr>\n",
       "      <th>359</th>\n",
       "      <td>83.800000</td>\n",
       "      <td>877.400000</td>\n",
       "      <td>3.098387</td>\n",
       "      <td>1.788854</td>\n",
       "      <td>-0.624522</td>\n",
       "    </tr>\n",
       "    <tr>\n",
       "      <th>360</th>\n",
       "      <td>73.000000</td>\n",
       "      <td>879.000000</td>\n",
       "      <td>0.000000</td>\n",
       "      <td>0.000000</td>\n",
       "      <td>0.392699</td>\n",
       "    </tr>\n",
       "  </tbody>\n",
       "</table>\n",
       "<p>354 rows × 5 columns</p>\n",
       "</div>"
      ],
      "text/plain": [
       "              x           y         h         w     angle\n",
       "1    275.000000  131.000000  0.000000  0.000000  0.392699\n",
       "2    280.000000  131.000000  0.000000  0.000000  0.392699\n",
       "3    285.500000  133.000000  2.000000  0.000000  0.785397\n",
       "4    280.142857  134.785714  5.195207  3.772838 -0.378292\n",
       "5    277.000000  136.000000  0.000000  0.000000  0.392699\n",
       "..          ...         ...       ...       ...       ...\n",
       "356  813.080000  932.240000  6.719555  5.297507  0.198468\n",
       "357   75.400000  871.000000  3.200000  2.529822  0.785397\n",
       "358   77.000000  876.000000  0.000000  0.000000  0.392699\n",
       "359   83.800000  877.400000  3.098387  1.788854 -0.624522\n",
       "360   73.000000  879.000000  0.000000  0.000000  0.392699\n",
       "\n",
       "[354 rows x 5 columns]"
      ]
     },
     "execution_count": 127,
     "metadata": {},
     "output_type": "execute_result"
    }
   ],
   "source": [
    "puncta_subset[\n",
    "    [\"center_x\", \"center_y\", \"major_axis_length\", \"minor_axis_length\", \"angle\"]\n",
    "].rename(\n",
    "    columns={\n",
    "        \"center_x\": \"x\",\n",
    "        \"center_y\": \"y\",\n",
    "        \"major_axis_length\": \"h\",\n",
    "        \"minor_axis_length\": \"w\"\n",
    "    }\n",
    ")"
   ]
  },
  {
   "cell_type": "code",
   "execution_count": 125,
   "metadata": {},
   "outputs": [
    {
     "data": {
      "text/html": [
       "<div style=\"display: table;\"><div style=\"display: table-row;\"><div style=\"display: table-cell;\"><b title=\"bokeh.models.sources.ColumnDataSource\">ColumnDataSource</b>(</div><div style=\"display: table-cell;\">id&nbsp;=&nbsp;'2213', <span id=\"2407\" style=\"cursor: pointer;\">&hellip;)</span></div></div><div class=\"2406\" style=\"display: none;\"><div style=\"display: table-cell;\"></div><div style=\"display: table-cell;\">data&nbsp;=&nbsp;{'angle': [0.39269875, 0.39269875, 0.7853975, -0.378291655299794, 0.39269875, -0.581238173239222, 0.39269875, -0.39269875, 0.39269875, 0.39269875, 0.39269875, 0.0, -0.6245223586872116, -0.39269875, 0.1728340862055341, -0.26885310897570935, 0.39269875, 0.7853975, -0.31876089101508226, 0.7328518977178665, 0.5247172505952384, 0.44736594029304577, 0.39269875, 0.0, 0.39269875, 0.0, 0.39269875, 0.7183060039433335, 0.4836934122674424, 0.0, 0.0, -0.39269875, -0.5225467562692764, -0.5224851689356398, -0.23182360868721147, -0.45709069650758144, 0.6245223586872116, 0.3982306291810527, 0.4878252639280944, 0.39269875, 0.0, 0.39269875, 0.44547203872995855, -0.346361801640255, 0.7487677814376761, 0.39269875, 0.7853975, 0.39269875, -0.39269875, 0.39269875, 0.0, 0.39269875, 0.39269875, 0.39269875, 0.39269875, 0.0, 0.2469040006922545, 0.4273586550075454, 0.2767869456563938, -0.39269875, 0.5240945874024927, -0.633525820692251, -0.6245223586872116, -0.4926439401405373, 0.02137630536374318, 0.7853975, -0.17715641839416577, -0.4821351945724958, 0.7853975, 0.015657558871982863, -0.7059887292513923, 0.39269875, 0.556077382049625, -0.5151879781011192, 0.0, 0.3616100276228513, -0.2729283799234165, -0.4779857963991517, -0.3926987499999991, 0.0, 0.0, 0.0, 0.7173610848351527, 0.0, 0.7853975, 0.0, 0.39269875, 0.7853975, 0.39269875, 0.0, 0.0, 0.463647217374424, -0.37771672387448446, 0.39269875, -0.07286413707371112, -0.27641956930241807, -0.39269875, -0.31669857935961526, -0.06124461405055986, 0.5086105543436052, 0.5994276902906035, 0.5772999138929885, -0.5535738913127876, 0.5354739465691563, -0.42747985895101753, 0.0, 0.6395543714400607, -0.489417597737772, 0.0, 0.5802577869361301, 0.39269875, -0.23182360868721147, 0.39269875, 0.1310113978889978, -0.5055619275566099, 0.15767019140167016, 0.0, -0.6167124069264344, 0.39269875, 0.39269875, 0.39269875, 0.0, 0.39269875, 0.0, 0.39269875, 0.39269875, 0.39269875, 0.39269875, -0.39269875, 0.0, 0.39269875, -0.29757223607190475, 0.6245223586872116, -0.39269875, 0.39269875, -0.13151649366186655, 0.20618999775667854, 0.39269875, 0.2767869456563938, -0.5804548639224636, 0.04128713447987658, -0.20264648720104392, -0.39269875, -0.1528741144375409, -0.7103547706784067, 0.7853975, 0.39269875, -0.5331790219054939, 0.39269875, 0.39269875, 0.7853975, 0.16087514131278757, -0.39269875, -0.39269875, -0.3518296749779862, 0.0, 0.7853975, 0.7853975, 0.39269875, 0.23182360868721147, 0.16087514131278757, 0.7853975, 0.39269875, 0.39269875, 0.6245223586872116, -0.39269875, -0.16087514131278757, 0.39269875, 0.7853975, 0.39269875, 0.39269875, -0.2659242309838612, -0.07286413707371112, 0.06249460257822841, 0.39269875, 0.39269875, -0.39269875, -0.4744053442178186, 0.7853975, -0.5535738913127876, 0.5396992767207531, 0.48239134180748744, -0.30729494947561337, 0.5114513387601686, 0.39269875, 0.39269875, -0.346361801640255, 0.323295454061933, -0.16868509307356472, 0.33403862815707835, -0.2958528698601352, 0.39269875, 0.2702095218988799, 0.1758075117605585, 0.39269875, 0.0, 0.17270962306872242, -0.2702095218988799, 0.712533362926289, 0.27950422765551897, -0.7577332180735648, 0.39269875, 0.23182360868721147, -0.39269875, 0.1832036207010173, -0.4776619140150217, 0.11591180434360533, -0.02137630536374318, -0.6245223586872116, 0.634460294141952, -0.5396992767207531, 0.39269875, 0.39269875, 0.7853975, 0.564929701576331, 0.39269875, 0.4170120290263258, -0.451773438460445, -0.6299682875763521, 0.6892260120683926, 0.2994707136798267, 0.2767869456563938, -0.5654759578287473, 0.39269875, -0.2207136563329886, 0.715590994268174, -0.26902385515533217, -0.36128619388061123, 0.49392161107190474, 0.0, 0.2767869456563938, -0.39269875, 0.39269875, 0.39269875, 0.39269875, 0.39269875, 0.7853975, 0.39269875, -0.16087514131278757, 0.0, -0.33052130524570456, 0.39269875, -0.39269875, 0.46186013177974966, -0.40344480589012977, 0.39269875, -0.3149282629961148, 0.5800227103366709, -0.39269875, 0.47814997081760197, 0.27247703149819236, 0.279299421757452, 0.39269875, 0.48147685191713024, 0.29757223607190475, 0.0, 0.39269875, 0.39269875, 0.39269875, 0.7853975, 0.39269875, -0.5278035109494394, 0.39269875, 0.025167141781664005, 0.1983951541204698, -0.39269875, 0.39269875, 0.7853975, 0.39269875, 0.0, 0.7853975, 0.0, 0.7853975, 0.39269875, 0.39269875, -0.16087514131278757, -0.31560919063472054, 0.39269875, -0.196349375, 0.6245223586872116, 0.3318311655075469, 0.3045223108305104, 0.39269875, 0.7853975, -0.16087514131278757, 0.39269875, 0.39269875, 0.0, 0.39269875, 0.39269875, 0.39269875, 0.39269875, 0.0, 0.0, -0.20441108879936945, 0.14776310632460488, 0.036661043093447455, 0.36284154371473976, -0.3535483138234828, -0.39269875, -0.342653525279956, -0.685090384974654, 0.39269875, -0.5922380096265574, 0.0, -0.5086105543436052, 0.7853975, 0.3261357939356398, 0.39269875, -0.6245223586872116, -0.5194732690161379, 0.7853975, 0.0, 0.5413226291566217, 0.0, -0.39269875, 0.0, 0.7853975, 0.5901089381049427, -0.2572284925436632, 0.0, 0.39269875, -0.3348026143273293, 0.7853975, 0.0, 0.39269875, 0.39269875, -0.39269875, 0.39269875, 0.4878252639280944, 0.39269875, 0.39269875, 0.16087514131278757, -0.2659242309838612, 0.39269875, 0.39269875, 0.6556110810643593, 0.0, -0.6245223586872116, 0.39269875, 0.39269875, 0.186955310599152, -0.531065482023295, -0.23966075502950224, 0.005433922120606622, -0.39269875, -0.3085301162475815, 0.4019111599722268, 0.0, 0.19846796656124283, 0.7853975, 0.39269875, -0.6245223586872116, 0.39269875], 'y': [131.0, 131.0, 133.0, 134.785714285714, 136.0, 137.0, 137.0, 138.666666666666, 140.0, 141.0, 188.0, 196.0, 198.4, 198.666666666666, 200.333333333333, 201.5625, 197.875, 376.0, 377.4, 380.888888888888, 382.28571428571405, 384.2, 431.0, 436.5, 438.0, 438.5, 439.5, 439.1, 440.44444444444395, 442.5, 442.5, 442.833333333333, 443.134615384615, 443.7, 447.333333333333, 448.264150943396, 449.4, 450.515151515151, 451.0, 451.2, 451.0, 452.0, 451.428571428571, 453.75, 454.5, 456.0, 456.75, 456.666666666666, 466.666666666666, 470.0, 454.5, 457.0, 458.0, 465.0, 466.0, 469.5, 468.8, 470.818181818181, 472.0, 473.333333333333, 473.941176470588, 475.796296296296, 476.4, 480.166666666666, 464.8, 465.0, 466.666666666666, 466.714285714285, 466.0, 467.90384615384596, 468.555555555555, 467.666666666666, 469.29411764705804, 469.714285714285, 471.0, 471.428571428571, 470.25, 473.16, 473.708333333333, 473.5, 475.5, 475.5, 477.25, 480.5, 481.0, 481.5, 483.0, 487.0, 490.5, 554.5, 559.5, 569.833333333333, 572.9333333333329, 575.0, 577.285714285714, 576.6666666666661, 576.333333333333, 578.083333333333, 576.25, 576.0, 577.708333333333, 581.3103448275859, 581.833333333333, 583.5762711864402, 580.962264150943, 581.5, 584.529411764705, 585.44, 585.5, 587.8125, 586.0, 587.6666666666661, 588.0, 591.090909090909, 590.75, 591.888888888888, 590.5, 591.75, 593.0, 595.0, 595.5, 598.5, 598.6666666666661, 609.5, 609.0, 621.5, 622.5, 629.0, 631.0, 632.5, 633.0, 634.8, 637.4, 639.333333333333, 641.0, 642.363636363636, 642.162162162162, 647.0, 647.0, 646.9333333333329, 650.222222222222, 650.478260869565, 651.333333333333, 651.066666666666, 651.826086956521, 655.0, 658.5, 726.9411764705881, 726.0, 726.333333333333, 729.5, 728.2, 729.666666666666, 729.666666666666, 730.25, 731.5, 732.0, 732.25, 736.0, 739.444444444444, 739.8, 744.0, 744.0, 745.0, 745.714285714285, 746.5, 746.2, 747.0, 748.0, 747.333333333333, 747.5, 748.857142857142, 749.714285714285, 750.1428571428571, 752.5, 759.0, 762.333333333333, 750.9, 751.0, 751.3, 752.666666666666, 752.875, 754.1818181818179, 753.666666666666, 755.0, 756.0, 755.25, 756.3214285714281, 757.625, 756.9375, 756.9333333333328, 757.875, 758.3076923076918, 759.6153846153841, 760.0, 760.5, 761.5, 760.5714285714281, 761.428571428571, 762.833333333333, 761.833333333333, 761.666666666666, 762.666666666666, 762.333333333333, 763.4, 764.333333333333, 764.90909090909, 765.2, 764.4, 766.375, 765.333333333333, 771.0, 775.0, 775.75, 777.1818181818179, 782.0, 780.217391304347, 779.0625, 780.9259259259261, 784.03448275862, 786.229166666666, 788.0, 788.220930232558, 792.333333333333, 795.776699029126, 795.3095238095232, 796.092592592592, 799.6923076923068, 799.0, 801.5, 801.0, 803.666666666666, 806.0, 807.0, 777.0, 781.0, 781.0, 783.5, 782.75, 784.5, 786.6363636363631, 787.5, 787.833333333333, 788.4814814814812, 790.25, 791.333333333333, 794.3157894736839, 792.8095238095232, 794.666666666666, 799.153846153846, 796.75, 799.222222222222, 799.5, 799.714285714285, 800.2, 803.5, 807.0, 812.0, 825.0, 793.0, 794.0, 794.222222222222, 795.0, 798.7777777777769, 799.761904761904, 800.333333333333, 803.0, 804.75, 805.5, 807.0, 840.0, 840.5, 841.25, 842.333333333333, 843.0, 844.75, 845.666666666666, 848.5, 847.714285714285, 848.6, 852.1627906976739, 854.111111111111, 855.0, 855.0, 858.25, 858.0, 838.0, 840.5, 842.0, 848.0, 881.0, 882.0, 884.666666666666, 885.5, 886.7, 887.2, 887.0370370370372, 887.5714285714281, 888.8888888888879, 891.3, 892.538461538461, 890.4545454545448, 893.0, 893.8888888888879, 893.0, 895.5, 874.0, 874.0, 876.333333333333, 877.6, 878.714285714285, 880.0, 880.5, 881.7, 883.0, 882.0, 883.0, 884.0, 884.2, 886.217391304347, 887.0, 888.0, 889.166666666666, 890.0, 890.5, 891.666666666666, 891.875, 895.125, 895.0, 896.0, 898.0, 897.5, 898.8, 899.1428571428571, 917.0, 923.0, 924.0, 924.5, 925.4, 926.0, 927.666666666666, 927.666666666666, 927.842105263157, 927.8888888888879, 927.6363636363632, 929.470588235294, 929.75, 931.785714285714, 931.0, 932.24, 871.0, 876.0, 877.4, 879.0], 'h': [0.0, 0.0, 2.0, 5.19520736643846, 0.0, 4.96302927610373, 0.0, 2.3094010767585003, 0.0, 0.0, 0.0, 2.82842712474619, 3.0983866769659305, 2.3094010767585003, 4.16762029386766, 5.49983877886238, 3.46410161513775, 2.0, 6.06041037971134, 6.765017909407018, 4.6347362112866906, 4.60677058379336, 0.0, 2.0, 0.0, 2.0, 2.0, 4.5692001405127005, 4.13290810367602, 2.0, 2.0, 3.1269438398822795, 9.539298836844539, 3.8587512539327697, 3.0550504633038904, 13.009873643833801, 3.0983866769659305, 8.24001634518088, 3.3356416888757794, 4.0, 3.2659863237109, 0.0, 7.72145921106925, 4.19992979680016, 9.0782508241385, 0.0, 2.82842712474619, 2.3094010767585003, 2.3094010767585003, 0.0, 2.0, 0.0, 0.0, 0.0, 0.0, 2.0, 6.1594445207933495, 4.5333159620954815, 3.2360679774997902, 2.3094010767585003, 5.414847041048208, 10.380241929161599, 3.0983866769659305, 7.258372677890638, 5.309178691345781, 2.0, 3.8857533750574, 8.745512568225111, 4.47213595499958, 9.02290282674805, 5.04264284473913, 2.3094010767585003, 5.5521784612711, 4.0, 3.2659863237109, 5.58032253547122, 7.05797834213166, 7.57484600139118, 6.58280588604383, 4.47213595499958, 2.0, 2.0, 4.23737873825168, 2.0, 3.2659863237109, 2.0, 0.0, 2.0, 2.0, 2.0, 2.0, 3.82970843102535, 6.152778893515509, 4.8989794855663495, 4.15537470567873, 6.341725099006879, 2.3094010767585003, 8.29559947722427, 3.8888437389046095, 5.59698471690331, 9.67269215664826, 7.65584349048394, 3.0550504633038904, 10.328726042996, 10.161479107287901, 2.0, 5.79093571445421, 7.5861326053559806, 3.46410161513775, 5.76520423751019, 0.0, 4.47213595499958, 0.0, 5.8306184007506205, 4.41807199832919, 7.37036320853883, 2.0, 4.120404556321351, 0.0, 0.0, 2.0, 2.0, 2.3094010767585003, 2.0, 0.0, 2.0, 2.0, 0.0, 3.7032803990902, 2.0, 0.0, 3.3356416888757794, 3.0983866769659305, 2.3094010767585003, 0.0, 4.34612998414188, 8.527498835805499, 0.0, 3.2360679774997902, 8.594040166406911, 5.27425848143453, 7.71704861969615, 2.3094010767585003, 6.32460492346789, 6.55307342198403, 2.0, 2.0, 5.7660529582664095, 0.0, 2.3094010767585003, 3.2659863237109, 3.0983866769659305, 2.3094010767585003, 2.3094010767585003, 7.8691431968011285, 2.0, 2.0, 4.8989794855663495, 0.0, 4.6188021535170005, 3.0983866769659305, 2.0, 0.0, 0.0, 5.61339505839671, 2.82842712474619, 3.0983866769659305, 0.0, 2.0, 2.3094010767585003, 2.0, 3.58207009541766, 4.15537470567873, 5.44935366589731, 2.0, 0.0, 2.3094010767585003, 5.23522946979312, 4.47213595499958, 3.6878177829171497, 3.6770885283426704, 3.75219954220109, 4.90248465586551, 5.899480047797719, 0.0, 0.0, 4.19992979680016, 11.3328973230043, 4.120404556321351, 6.87873396538496, 7.31273425589234, 3.46410161513775, 6.324555320336749, 4.9833573448848, 0.0, 2.0, 6.24969549950693, 4.0, 4.15537470567873, 6.25907629759045, 5.37941633662879, 2.3094010767585003, 3.0550504633038904, 2.3094010767585003, 4.34169545110285, 6.23603565167429, 5.0466898192349205, 5.309178691345781, 3.0983866769659305, 3.9722133299273, 3.6770885283426704, 0.0, 0.0, 2.82842712474619, 4.33357395375157, 0.0, 6.85389794759987, 8.35470725296868, 7.557806946641869, 11.5726822359815, 8.71021706359755, 3.2360679774997902, 20.809251482396103, 2.3094010767585003, 20.4764892444875, 8.0340493235699, 10.189163207816199, 5.34495189973951, 4.00943972722854, 2.0, 3.2360679774997902, 2.3094010767585003, 0.0, 0.0, 0.0, 0.0, 3.2659863237109, 2.0, 3.46410161513775, 2.0, 4.972652484064481, 2.0, 3.1269438398822795, 9.27435843470893, 5.457777139690981, 2.3094010767585003, 9.14437291489564, 9.373968970895831, 3.6514837167011, 6.542467946655918, 5.129725253921031, 5.03322295684716, 2.0, 5.573152485851071, 3.3356416888757794, 2.0, 0.0, 0.0, 0.0, 2.0, 0.0, 4.31259446357463, 0.0, 5.90043956322691, 9.27037492976743, 2.3094010767585003, 0.0, 2.82842712474619, 2.0, 2.82842712474619, 2.0, 2.0, 2.82842712474619, 2.3094010767585003, 0.0, 3.46410161513775, 5.83435187563822, 2.0, 4.37534528542421, 3.0983866769659305, 8.771190101418942, 6.8254589252258, 0.0, 2.0, 3.46410161513775, 0.0, 0.0, 2.0, 0.0, 0.0, 0.0, 2.5298221281347, 3.7712361663282494, 2.0, 5.4444245638725, 6.41957970744185, 8.196317104672751, 4.50593646065252, 4.713432721951589, 4.0, 4.90772573565975, 4.66882605674575, 0.0, 8.13192689830756, 3.2659863237109, 3.2360679774997902, 2.0, 5.3047588771516505, 2.3094010767585003, 3.0983866769659305, 3.58207009541766, 3.2, 2.0, 6.31548351693417, 2.82842712474619, 3.7032803990902, 3.2659863237109, 2.0, 6.1039806601238205, 6.86729875744786, 4.8989794855663495, 0.0, 6.456826390597299, 2.0, 2.0, 2.3094010767585003, 3.46410161513775, 3.46410161513775, 3.7032803990902, 3.3356416888757794, 0.0, 2.0, 3.0983866769659305, 3.58207009541766, 0.0, 0.0, 3.9210761914129706, 2.0, 3.0983866769659305, 0.0, 3.6514837167011, 4.85976471674095, 5.813674260835482, 5.26677385847681, 4.9058692227358, 5.22437724968812, 4.507893913753558, 6.62800130162495, 3.02371578407381, 6.71955500501027, 3.2, 0.0, 3.0983866769659305, 0.0], 'w': [0.0, 0.0, 0.0, 3.77283848257804, 0.0, 3.5577516218651803, 0.0, 1.33333333333333, 0.0, 0.0, 0.0, 1.73205080756887, 1.78885438199983, 1.33333333333333, 3.6313216108874, 4.63025630030579, 2.73861278752583, 0.0, 4.546583995648481, 3.9330777498845295, 1.82634793574502, 4.3127586311453, 0.0, 0.0, 0.0, 0.0, 2.0, 2.75724682898334, 2.86409169264061, 0.0, 0.0, 2.3094010767585003, 7.63063757312469, 3.50856648223633, 2.66666666666666, 6.409698464615201, 1.78885438199983, 5.660361121276151, 2.05754575245215, 1.3856406460551, 2.0, 0.0, 3.58731983103835, 1.16644318419293, 4.93913459579139, 0.0, 1.73205080756887, 1.33333333333333, 1.33333333333333, 0.0, 0.0, 0.0, 0.0, 0.0, 0.0, 0.0, 3.66107435290393, 3.01145830098211, 1.23606797749978, 1.33333333333333, 4.06451251343606, 8.46542803808123, 1.78885438199983, 4.29268414630772, 3.63308247773519, 0.0, 2.7954428906961297, 1.37235449421498, 3.2659863237109, 7.66311420074229, 4.6511806603767685, 1.33333333333333, 3.91743854001821, 2.2131333406899505, 2.0, 3.27682032167163, 2.17726830628564, 4.54428300782509, 4.684489774185058, 3.2659863237109, 0.0, 0.0, 2.6066494640846, 0.0, 0.0, 0.0, 0.0, 0.0, 2.0, 0.0, 0.0, 1.88561808316412, 3.05958978709364, 2.82842712474619, 1.9054711331003704, 4.82807420680377, 1.33333333333333, 5.760471275293042, 2.62238333856481, 3.95901023978856, 6.5246433532538415, 5.31564433704346, 2.66666666666666, 8.599184457939169, 6.93197526830517, 0.0, 3.69250778253331, 4.32880954697187, 2.82842712474619, 3.95441779530116, 0.0, 4.21637021355783, 0.0, 4.89431326009775, 3.37187317473068, 4.84818591516912, 0.0, 2.40255411848438, 0.0, 0.0, 2.0, 0.0, 1.33333333333333, 0.0, 0.0, 2.0, 2.0, 0.0, 2.13808993529939, 0.0, 0.0, 2.05754575245215, 1.78885438199983, 1.33333333333333, 0.0, 3.0673563246059, 5.65483525013234, 0.0, 1.23606797749978, 7.05668439182587, 1.94605645925826, 3.92378910030893, 1.33333333333333, 3.12684351060674, 5.1947468733031785, 0.0, 2.0, 3.94754140060072, 0.0, 1.33333333333333, 2.0, 1.78885438199983, 1.33333333333333, 1.33333333333333, 6.33060702841665, 0.0, 0.0, 4.3588989435406695, 0.0, 2.35177894316852, 1.78885438199983, 0.0, 0.0, 0.0, 3.20713490294909, 0.0, 1.78885438199983, 0.0, 0.0, 1.33333333333333, 2.0, 2.47134565403517, 1.9054711331003704, 3.1458514520977205, 2.0, 0.0, 1.33333333333333, 2.7335640469192497, 0.0, 3.57770876399966, 0.8374020402130079, 2.769656764927, 3.37693066673404, 3.52333832372288, 0.0, 0.0, 1.16644318419293, 3.74903109944543, 2.40255411848438, 3.8804663422659904, 3.88265744224362, 2.73861278752583, 5.65266863719194, 3.6626043033942097, 0.0, 0.0, 3.51835276279153, 2.2131333406899505, 1.9054711331003704, 1.61299153088883, 3.58324680352734, 1.33333333333333, 2.66666666666666, 1.33333333333333, 1.27658944452506, 2.42685745951938, 2.98514441152965, 3.63308247773519, 1.78885438199983, 2.64036385021986, 0.8374020402130079, 0.0, 0.0, 1.73205080756887, 3.59939911338664, 0.0, 4.42320309798266, 5.28075437008695, 5.41389704192935, 4.54641994401387, 8.27018788141495, 1.23606797749978, 5.73664284496689, 1.33333333333333, 8.91435742356432, 6.76177677556653, 7.37175818199141, 3.23069750196986, 2.47557563131781, 0.0, 1.23606797749978, 1.33333333333333, 0.0, 0.0, 0.0, 0.0, 0.0, 2.0, 1.41421356237309, 0.0, 2.7453943400984504, 2.0, 2.3094010767585003, 4.09221465161087, 3.01687878151498, 1.33333333333333, 5.4547598675065005, 8.07009530048969, 2.10818510677892, 5.453484378377238, 3.00320697798505, 4.57583561821644, 2.0, 3.1881752093274702, 2.05754575245215, 0.0, 0.0, 0.0, 0.0, 0.0, 0.0, 2.6609286609047498, 0.0, 3.893600082530541, 5.9156055500980695, 1.33333333333333, 0.0, 1.73205080756887, 2.0, 1.73205080756887, 0.0, 0.0, 1.73205080756887, 1.33333333333333, 0.0, 1.41421356237309, 3.72682533533913, 2.0, 2.0896309997099296, 1.78885438199983, 6.38368698066205, 3.50389896985052, 0.0, 0.0, 1.41421356237309, 0.0, 0.0, 0.0, 0.0, 0.0, 0.0, 2.5298221281347, 3.2659863237109, 0.0, 2.2534953224494703, 4.403293810297098, 4.7664323139351295, 1.9646378594246297, 2.6491734327655, 3.1496031496047205, 3.27940006555062, 3.5096674673237502, 0.0, 4.4617743348926115, 0.0, 1.23606797749978, 0.0, 2.65199679002237, 1.33333333333333, 1.78885438199983, 2.47134565403517, 2.5298221281347, 0.0, 4.20412511080875, 1.73205080756887, 2.13808993529939, 2.0, 0.0, 4.15468652257114, 4.3331207650185295, 4.0, 0.0, 3.61591275620024, 0.0, 0.0, 1.33333333333333, 2.73861278752583, 2.73861278752583, 2.13808993529939, 2.05754575245215, 0.0, 2.0, 1.78885438199983, 2.47134565403517, 0.0, 0.0, 2.1506188646839, 0.0, 1.78885438199983, 0.0, 2.10818510677892, 3.62773547487926, 4.580650065635, 2.24749117472245, 3.44954914708777, 4.280801270273, 2.1044933980280303, 2.91165966606057, 2.79941684889506, 5.2975070112876, 2.5298221281347, 0.0, 1.78885438199983, 0.0], 'x': [275.0, 280.0, 285.5, 280.142857142857, 277.0, 283.181818181818, 286.0, 281.33333333333303, 279.0, 287.0, 310.0, 309.25, 306.8, 311.33333333333303, 309.25, 304.875, 314.875, 1103.5, 1099.95, 1100.7777777777699, 1098.28571428571, 1103.26666666666, 217.0, 218.0, 215.0, 225.0, 217.5, 221.9, 226.666666666666, 210.0, 236.0, 228.833333333333, 220.461538461538, 226.1, 217.166666666666, 224.377358490566, 219.2, 230.060606060606, 212.8, 225.2, 233.5, 216.0, 218.0, 223.0, 227.529411764705, 216.0, 224.0, 231.666666666666, 224.333333333333, 258.0, 654.0, 660.0, 662.0, 656.0, 665.0, 659.0, 656.533333333333, 654.4545454545449, 659.5, 654.6666666666661, 657.882352941176, 651.203703703703, 656.8, 651.1666666666661, 454.2, 467.5, 446.888888888888, 449.85714285714204, 457.5, 464.461538461538, 451.166666666666, 472.666666666666, 458.29411764705804, 473.428571428571, 446.5, 449.35714285714204, 453.666666666666, 454.76, 459.708333333333, 464.0, 449.0, 462.0, 458.125, 457.0, 450.0, 454.0, 443.0, 451.5, 452.5, 620.0, 602.0, 603.0, 601.6666666666661, 607.0, 599.428571428571, 603.208333333333, 631.6666666666661, 609.083333333333, 613.25, 617.75, 623.770833333333, 602.51724137931, 606.6666666666661, 623.271186440678, 614.226415094339, 632.0, 608.35294117647, 616.28, 628.0, 619.8125, 641.0, 611.833333333333, 625.0, 617.772727272727, 622.4166666666661, 613.777777777777, 625.0, 626.625, 621.0, 617.0, 625.5, 626.0, 622.6666666666661, 608.0, 26.0, 27.5, 30.5, 22.0, 26.0, 28.0, 25.0, 27.0, 28.2, 32.6666666666666, 39.0, 22.9090909090909, 27.5675675675675, 27.0, 38.5, 32.4222222222222, 28.4444444444444, 36.0, 32.6666666666666, 39.1333333333333, 42.6521739130434, 39.5, 47.5, 713.058823529411, 722.0, 716.333333333333, 713.0, 722.4, 708.333333333333, 710.333333333333, 717.916666666666, 725.0, 709.5, 713.0, 711.0, 790.111111111111, 793.6, 776.5, 781.0, 795.0, 779.1428571428571, 776.5, 782.6, 786.0, 779.5, 784.333333333333, 793.5, 781.714285714285, 784.5714285714281, 786.928571428571, 793.5, 788.0, 788.666666666666, 678.1, 682.5, 687.4, 686.0, 680.5, 674.545454545454, 684.2666666666661, 697.0, 676.0, 687.0, 679.75, 676.75, 683.6875, 688.333333333333, 689.875, 673.153846153846, 679.0, 669.0, 671.0, 686.6875, 690.285714285714, 675.714285714285, 679.1666666666661, 683.1666666666661, 691.666666666666, 673.1666666666661, 688.666666666666, 671.6, 674.9166666666661, 678.545454545454, 682.2, 684.8, 676.25, 686.0, 517.0, 521.0, 525.0, 520.7272727272721, 514.0, 518.478260869565, 524.375, 528.6666666666661, 522.482758620689, 516.6875, 534.5, 524.872093023255, 523.333333333333, 527.825242718446, 519.47619047619, 532.296296296296, 521.923076923076, 517.428571428571, 518.0, 519.5, 522.333333333333, 522.0, 524.0, 395.0, 392.0, 395.0, 396.5, 391.25, 402.0, 397.818181818181, 389.5, 393.166666666666, 402.44444444444395, 394.916666666666, 408.333333333333, 396.15789473684197, 401.85714285714204, 406.333333333333, 398.5, 405.25, 402.94444444444395, 390.5, 393.642857142857, 409.0, 397.0, 406.0, 382.0, 404.0, 752.5, 751.0, 753.8888888888879, 757.0, 752.7777777777769, 757.166666666666, 762.666666666666, 753.0, 764.0, 761.5, 763.75, 320.5, 329.0, 327.0, 319.33333333333303, 333.0, 323.25, 330.4, 331.5, 333.857142857142, 335.8, 328.116279069767, 324.444444444444, 321.0, 334.5, 320.75, 325.0, 157.0, 161.0, 425.0, 423.0, 381.0, 384.0, 382.0, 384.0, 386.8, 390.85, 394.51851851851796, 397.85714285714204, 387.7777777777769, 389.7, 392.61538461538396, 397.454545454545, 386.0, 396.592592592592, 401.0, 402.0, 558.5, 564.7272727272721, 567.333333333333, 552.2, 558.857142857142, 552.6, 557.0, 560.75, 547.75, 554.0, 557.5, 568.5, 551.55, 559.695652173913, 563.5, 553.0, 566.222222222222, 545.5, 556.0, 562.6666666666661, 550.875, 556.875, 565.0, 560.2, 553.0, 567.5, 554.6, 560.285714285714, 822.0, 810.0, 821.5, 819.0, 808.8, 827.0, 806.666666666666, 811.416666666666, 816.842105263157, 824.7777777777769, 820.272727272727, 808.470588235294, 822.125, 816.5, 819.285714285714, 813.08, 75.4, 77.0, 83.8, 73.0]},</div></div><div class=\"2406\" style=\"display: none;\"><div style=\"display: table-cell;\"></div><div style=\"display: table-cell;\">js_event_callbacks&nbsp;=&nbsp;{},</div></div><div class=\"2406\" style=\"display: none;\"><div style=\"display: table-cell;\"></div><div style=\"display: table-cell;\">js_property_callbacks&nbsp;=&nbsp;{},</div></div><div class=\"2406\" style=\"display: none;\"><div style=\"display: table-cell;\"></div><div style=\"display: table-cell;\">name&nbsp;=&nbsp;None,</div></div><div class=\"2406\" style=\"display: none;\"><div style=\"display: table-cell;\"></div><div style=\"display: table-cell;\">selected&nbsp;=&nbsp;Selection(id='2335', ...),</div></div><div class=\"2406\" style=\"display: none;\"><div style=\"display: table-cell;\"></div><div style=\"display: table-cell;\">selection_policy&nbsp;=&nbsp;UnionRenderers(id='2336', ...),</div></div><div class=\"2406\" style=\"display: none;\"><div style=\"display: table-cell;\"></div><div style=\"display: table-cell;\">subscribed_events&nbsp;=&nbsp;[],</div></div><div class=\"2406\" style=\"display: none;\"><div style=\"display: table-cell;\"></div><div style=\"display: table-cell;\">tags&nbsp;=&nbsp;[])</div></div></div>\n",
       "<script>\n",
       "(function() {\n",
       "  var expanded = false;\n",
       "  var ellipsis = document.getElementById(\"2407\");\n",
       "  ellipsis.addEventListener(\"click\", function() {\n",
       "    var rows = document.getElementsByClassName(\"2406\");\n",
       "    for (var i = 0; i < rows.length; i++) {\n",
       "      var el = rows[i];\n",
       "      el.style.display = expanded ? \"none\" : \"table-row\";\n",
       "    }\n",
       "    ellipsis.innerHTML = expanded ? \"&hellip;)\" : \"&lsaquo;&lsaquo;&lsaquo;\";\n",
       "    expanded = !expanded;\n",
       "  });\n",
       "})();\n",
       "</script>\n"
      ],
      "text/plain": [
       "ColumnDataSource(id='2213', ...)"
      ]
     },
     "execution_count": 125,
     "metadata": {},
     "output_type": "execute_result"
    }
   ],
   "source": [
    "puncta_source"
   ]
  },
  {
   "cell_type": "markdown",
   "metadata": {},
   "source": [
    "# Scatter Plots"
   ]
  },
  {
   "cell_type": "code",
   "execution_count": 14,
   "metadata": {
    "scrolled": true
   },
   "outputs": [],
   "source": [
    "summary = pd.merge(\n",
    "    left=nuclei[['image_number', 'object_number', 'area', 'effective_radius_nuclei']],\n",
    "    right=puncta_summary,\n",
    "    left_on=['image_number', 'object_number'],\n",
    "    right_on=['image_number', 'nuclei_object_number'],\n",
    "    suffixes=('_nuclei', '_puncta'),\n",
    "    how='left'\n",
    ").fillna({'area_puncta': 0, 'integrated_intensity': 0})\n",
    "\n",
    "# fillna\n",
    "summary['nuclei_object_number'] = summary['object_number']\n",
    "summary.loc[\n",
    "    (summary[\"effective_radius_puncta\"].isna()), \"effective_radius_puncta\"\n",
    "] = summary.loc[\n",
    "    (summary[\"effective_radius_puncta\"].isna()), \"effective_radius_nuclei\"\n",
    "] \n",
    "\n",
    "summary['pct_puncta'] = (\n",
    "    summary['effective_radius_puncta'] / summary['effective_radius_nuclei']\n",
    ").fillna(0)\n",
    "\n",
    "summary.loc[summary['integrated_intensity_sum'].isna(), 'integrated_intensity_sum'] = 0\n",
    "\n",
    "summary['image_number_str'] = summary['image_number'].astype(str)"
   ]
  },
  {
   "cell_type": "code",
   "execution_count": 15,
   "metadata": {},
   "outputs": [
    {
     "data": {
      "application/vnd.plotly.v1+json": {
       "config": {
        "plotlyServerURL": "https://plot.ly"
       },
       "data": [
        {
         "hovertemplate": "%{text}<br><extra></extra>",
         "marker": {
          "color": "#1f77b4"
         },
         "mode": "markers",
         "name": "3",
         "showlegend": true,
         "text": [
          "Total Area: nan<br>Total Integrated Intensity: 0.0<br>None: 3<br>",
          "Total Area: 36.0<br>Total Integrated Intensity: 0.8269169256091111<br>None: 3<br>",
          "Total Area: 41.0<br>Total Integrated Intensity: 1.006195172667502<br>None: 3<br>",
          "Total Area: nan<br>Total Integrated Intensity: 0.0<br>None: 3<br>",
          "Total Area: 8.0<br>Total Integrated Intensity: 0.211474785581231<br>None: 3<br>",
          "Total Area: nan<br>Total Integrated Intensity: 0.0<br>None: 3<br>",
          "Total Area: 62.0<br>Total Integrated Intensity: 1.647882822901008<br>None: 3<br>",
          "Total Area: nan<br>Total Integrated Intensity: 0.0<br>None: 3<br>",
          "Total Area: nan<br>Total Integrated Intensity: 0.0<br>None: 3<br>",
          "Total Area: 286.0<br>Total Integrated Intensity: 8.031143683940158<br>None: 3<br>",
          "Total Area: nan<br>Total Integrated Intensity: 0.0<br>None: 3<br>",
          "Total Area: 141.0<br>Total Integrated Intensity: 3.6437323614954864<br>None: 3<br>",
          "Total Area: 261.0<br>Total Integrated Intensity: 7.401007140055288<br>None: 3<br>",
          "Total Area: nan<br>Total Integrated Intensity: 0.0<br>None: 3<br>",
          "Total Area: 490.0<br>Total Integrated Intensity: 15.429358404129719<br>None: 3<br>",
          "Total Area: 211.0<br>Total Integrated Intensity: 6.316472133621558<br>None: 3<br>",
          "Total Area: 95.0<br>Total Integrated Intensity: 2.4777142070233795<br>None: 3<br>",
          "Total Area: 85.0<br>Total Integrated Intensity: 2.0525826029479477<br>None: 3<br>",
          "Total Area: 303.0<br>Total Integrated Intensity: 7.676127310842263<br>None: 3<br>",
          "Total Area: 500.0<br>Total Integrated Intensity: 14.562340751290295<br>None: 3<br>",
          "Total Area: 248.0<br>Total Integrated Intensity: 7.542671909555785<br>None: 3<br>",
          "Total Area: 89.0<br>Total Integrated Intensity: 2.3145799990743297<br>None: 3<br>",
          "Total Area: 116.0<br>Total Integrated Intensity: 3.1351949479430887<br>None: 3<br>",
          "Total Area: 3.0<br>Total Integrated Intensity: 0.06758220866322498<br>None: 3<br>",
          "Total Area: 161.0<br>Total Integrated Intensity: 4.633325712755317<br>None: 3<br>",
          "Total Area: 204.0<br>Total Integrated Intensity: 5.180651582777493<br>None: 3<br>",
          "Total Area: 144.0<br>Total Integrated Intensity: 4.027328932657833<br>None: 3<br>",
          "Total Area: 12.0<br>Total Integrated Intensity: 0.28194095008075<br>None: 3<br>"
         ],
         "type": "scatter",
         "x": [
          null,
          36,
          41,
          null,
          8,
          null,
          62,
          null,
          null,
          286,
          null,
          141,
          261,
          null,
          490,
          211,
          95,
          85,
          303,
          500,
          248,
          89,
          116,
          3,
          161,
          204,
          144,
          12
         ],
         "y": [
          0,
          0.8269169256091111,
          1.006195172667502,
          0,
          0.211474785581231,
          0,
          1.647882822901008,
          0,
          0,
          8.031143683940158,
          0,
          3.6437323614954864,
          7.401007140055288,
          0,
          15.429358404129719,
          6.316472133621558,
          2.4777142070233795,
          2.0525826029479477,
          7.676127310842263,
          14.562340751290295,
          7.542671909555785,
          2.3145799990743297,
          3.1351949479430887,
          0.06758220866322498,
          4.633325712755317,
          5.180651582777493,
          4.027328932657833,
          0.28194095008075
         ]
        },
        {
         "hovertemplate": "%{text}<br><extra></extra>",
         "marker": {
          "color": "#ff7f0e"
         },
         "mode": "markers",
         "name": "8",
         "showlegend": true,
         "text": [
          "Total Area: 42.0<br>Total Integrated Intensity: 0.939772646874189<br>None: 8<br>",
          "Total Area: 403.0<br>Total Integrated Intensity: 10.569298872724165<br>None: 8<br>",
          "Total Area: 24.0<br>Total Integrated Intensity: 0.5218738093972201<br>None: 8<br>",
          "Total Area: 203.0<br>Total Integrated Intensity: 4.484855441376554<br>None: 8<br>",
          "Total Area: 210.0<br>Total Integrated Intensity: 5.348104098811737<br>None: 8<br>",
          "Total Area: nan<br>Total Integrated Intensity: 0.0<br>None: 8<br>",
          "Total Area: nan<br>Total Integrated Intensity: 0.0<br>None: 8<br>",
          "Total Area: 154.0<br>Total Integrated Intensity: 4.093553068116301<br>None: 8<br>",
          "Total Area: 22.0<br>Total Integrated Intensity: 0.515358209609984<br>None: 8<br>",
          "Total Area: 373.0<br>Total Integrated Intensity: 10.758602308109385<br>None: 8<br>",
          "Total Area: 21.0<br>Total Integrated Intensity: 0.46558327600359906<br>None: 8<br>",
          "Total Area: 17.0<br>Total Integrated Intensity: 0.39201953634619596<br>None: 8<br>",
          "Total Area: 98.0<br>Total Integrated Intensity: 2.3126878887414897<br>None: 8<br>",
          "Total Area: 60.0<br>Total Integrated Intensity: 1.4850080218166088<br>None: 8<br>",
          "Total Area: nan<br>Total Integrated Intensity: 0.0<br>None: 8<br>",
          "Total Area: 148.0<br>Total Integrated Intensity: 3.384954631328577<br>None: 8<br>",
          "Total Area: 8.0<br>Total Integrated Intensity: 0.17279316298663702<br>None: 8<br>",
          "Total Area: 493.0<br>Total Integrated Intensity: 16.29625397734341<br>None: 8<br>",
          "Total Area: nan<br>Total Integrated Intensity: 0.0<br>None: 8<br>",
          "Total Area: nan<br>Total Integrated Intensity: 0.0<br>None: 8<br>",
          "Total Area: 267.0<br>Total Integrated Intensity: 6.928557265549888<br>None: 8<br>",
          "Total Area: 10.0<br>Total Integrated Intensity: 0.22046235203743<br>None: 8<br>",
          "Total Area: nan<br>Total Integrated Intensity: 0.0<br>None: 8<br>",
          "Total Area: 41.0<br>Total Integrated Intensity: 0.9273670613765701<br>None: 8<br>",
          "Total Area: nan<br>Total Integrated Intensity: 0.0<br>None: 8<br>",
          "Total Area: 175.0<br>Total Integrated Intensity: 4.556694917380804<br>None: 8<br>",
          "Total Area: 492.0<br>Total Integrated Intensity: 13.755748901516181<br>None: 8<br>",
          "Total Area: nan<br>Total Integrated Intensity: 0.0<br>None: 8<br>",
          "Total Area: 313.0<br>Total Integrated Intensity: 7.713817091658696<br>None: 8<br>",
          "Total Area: 324.0<br>Total Integrated Intensity: 8.833859823644145<br>None: 8<br>",
          "Total Area: nan<br>Total Integrated Intensity: 0.0<br>None: 8<br>",
          "Total Area: nan<br>Total Integrated Intensity: 0.0<br>None: 8<br>"
         ],
         "type": "scatter",
         "x": [
          42,
          403,
          24,
          203,
          210,
          null,
          null,
          154,
          22,
          373,
          21,
          17,
          98,
          60,
          null,
          148,
          8,
          493,
          null,
          null,
          267,
          10,
          null,
          41,
          null,
          175,
          492,
          null,
          313,
          324,
          null,
          null
         ],
         "y": [
          0.939772646874189,
          10.569298872724165,
          0.5218738093972201,
          4.484855441376554,
          5.348104098811737,
          0,
          0,
          4.093553068116301,
          0.515358209609984,
          10.758602308109385,
          0.46558327600359906,
          0.39201953634619596,
          2.3126878887414897,
          1.4850080218166088,
          0,
          3.384954631328577,
          0.17279316298663702,
          16.29625397734341,
          0,
          0,
          6.928557265549888,
          0.22046235203743,
          0,
          0.9273670613765701,
          0,
          4.556694917380804,
          13.755748901516181,
          0,
          7.713817091658696,
          8.833859823644145,
          0,
          0
         ]
        },
        {
         "hovertemplate": "%{text}<br><extra></extra>",
         "marker": {
          "color": "#2ca02c"
         },
         "mode": "markers",
         "name": "18",
         "showlegend": true,
         "text": [
          "Total Area: nan<br>Total Integrated Intensity: 0.0<br>None: 18<br>",
          "Total Area: nan<br>Total Integrated Intensity: 0.0<br>None: 18<br>",
          "Total Area: 158.0<br>Total Integrated Intensity: 6.266041051596387<br>None: 18<br>",
          "Total Area: 128.0<br>Total Integrated Intensity: 4.075547438114876<br>None: 18<br>",
          "Total Area: 4.0<br>Total Integrated Intensity: 0.11638056114316002<br>None: 18<br>",
          "Total Area: 5.0<br>Total Integrated Intensity: 0.158587016165256<br>None: 18<br>",
          "Total Area: 2.0<br>Total Integrated Intensity: 0.05648889951407901<br>None: 18<br>",
          "Total Area: nan<br>Total Integrated Intensity: 0.0<br>None: 18<br>",
          "Total Area: 508.0<br>Total Integrated Intensity: 19.2472572252154<br>None: 18<br>",
          "Total Area: 36.0<br>Total Integrated Intensity: 1.115800725296139<br>None: 18<br>",
          "Total Area: 11.0<br>Total Integrated Intensity: 0.322499427944421<br>None: 18<br>",
          "Total Area: 44.0<br>Total Integrated Intensity: 1.357198450714348<br>None: 18<br>",
          "Total Area: nan<br>Total Integrated Intensity: 0.0<br>None: 18<br>",
          "Total Area: 6.0<br>Total Integrated Intensity: 0.175020981580019<br>None: 18<br>",
          "Total Area: 16.0<br>Total Integrated Intensity: 0.46720073372125703<br>None: 18<br>",
          "Total Area: 28.0<br>Total Integrated Intensity: 0.816937515512107<br>None: 18<br>",
          "Total Area: 291.0<br>Total Integrated Intensity: 10.457984309643487<br>None: 18<br>",
          "Total Area: 231.0<br>Total Integrated Intensity: 7.743007577955703<br>None: 18<br>",
          "Total Area: 12.0<br>Total Integrated Intensity: 0.35005722008645496<br>None: 18<br>",
          "Total Area: nan<br>Total Integrated Intensity: 0.0<br>None: 18<br>",
          "Total Area: nan<br>Total Integrated Intensity: 0.0<br>None: 18<br>",
          "Total Area: 369.0<br>Total Integrated Intensity: 16.114107033237786<br>None: 18<br>",
          "Total Area: nan<br>Total Integrated Intensity: 0.0<br>None: 18<br>",
          "Total Area: 318.0<br>Total Integrated Intensity: 13.412481905892475<br>None: 18<br>",
          "Total Area: 198.0<br>Total Integrated Intensity: 7.7235523238778<br>None: 18<br>",
          "Total Area: 201.0<br>Total Integrated Intensity: 7.075593212619409<br>None: 18<br>",
          "Total Area: nan<br>Total Integrated Intensity: 0.0<br>None: 18<br>",
          "Total Area: nan<br>Total Integrated Intensity: 0.0<br>None: 18<br>",
          "Total Area: 380.0<br>Total Integrated Intensity: 13.170367017388333<br>None: 18<br>"
         ],
         "type": "scatter",
         "x": [
          null,
          null,
          158,
          128,
          4,
          5,
          2,
          null,
          508,
          36,
          11,
          44,
          null,
          6,
          16,
          28,
          291,
          231,
          12,
          null,
          null,
          369,
          null,
          318,
          198,
          201,
          null,
          null,
          380
         ],
         "y": [
          0,
          0,
          6.266041051596387,
          4.075547438114876,
          0.11638056114316002,
          0.158587016165256,
          0.05648889951407901,
          0,
          19.2472572252154,
          1.115800725296139,
          0.322499427944421,
          1.357198450714348,
          0,
          0.175020981580019,
          0.46720073372125703,
          0.816937515512107,
          10.457984309643487,
          7.743007577955703,
          0.35005722008645496,
          0,
          0,
          16.114107033237786,
          0,
          13.412481905892475,
          7.7235523238778,
          7.075593212619409,
          0,
          0,
          13.170367017388333
         ]
        },
        {
         "hovertemplate": "%{text}<br><extra></extra>",
         "marker": {
          "color": "#d62728"
         },
         "mode": "markers",
         "name": "20",
         "showlegend": true,
         "text": [
          "Total Area: nan<br>Total Integrated Intensity: 0.0<br>None: 20<br>",
          "Total Area: nan<br>Total Integrated Intensity: 0.0<br>None: 20<br>",
          "Total Area: nan<br>Total Integrated Intensity: 0.0<br>None: 20<br>",
          "Total Area: 1.0<br>Total Integrated Intensity: 0.021911956369877<br>None: 20<br>",
          "Total Area: 82.0<br>Total Integrated Intensity: 1.9427023865282531<br>None: 20<br>",
          "Total Area: nan<br>Total Integrated Intensity: 0.0<br>None: 20<br>",
          "Total Area: 238.0<br>Total Integrated Intensity: 6.383703391998989<br>None: 20<br>",
          "Total Area: nan<br>Total Integrated Intensity: 0.0<br>None: 20<br>",
          "Total Area: nan<br>Total Integrated Intensity: 0.0<br>None: 20<br>",
          "Total Area: 17.0<br>Total Integrated Intensity: 0.38619058765471<br>None: 20<br>",
          "Total Area: 58.0<br>Total Integrated Intensity: 1.4292515534907548<br>None: 20<br>",
          "Total Area: 134.0<br>Total Integrated Intensity: 3.327412836253641<br>None: 20<br>",
          "Total Area: nan<br>Total Integrated Intensity: 0.0<br>None: 20<br>",
          "Total Area: 36.0<br>Total Integrated Intensity: 0.842771047726273<br>None: 20<br>",
          "Total Area: 463.0<br>Total Integrated Intensity: 12.431998224928966<br>None: 20<br>",
          "Total Area: nan<br>Total Integrated Intensity: 0.0<br>None: 20<br>",
          "Total Area: nan<br>Total Integrated Intensity: 0.0<br>None: 20<br>",
          "Total Area: 13.0<br>Total Integrated Intensity: 0.30150301568209903<br>None: 20<br>",
          "Total Area: nan<br>Total Integrated Intensity: 0.0<br>None: 20<br>",
          "Total Area: 759.0<br>Total Integrated Intensity: 21.30901057645677<br>None: 20<br>",
          "Total Area: 18.0<br>Total Integrated Intensity: 0.424383921548724<br>None: 20<br>",
          "Total Area: 50.0<br>Total Integrated Intensity: 1.174334326758977<br>None: 20<br>",
          "Total Area: 134.0<br>Total Integrated Intensity: 3.3106736969202695<br>None: 20<br>",
          "Total Area: nan<br>Total Integrated Intensity: 0.0<br>None: 20<br>",
          "Total Area: nan<br>Total Integrated Intensity: 0.0<br>None: 20<br>",
          "Total Area: 500.0<br>Total Integrated Intensity: 13.286762857809638<br>None: 20<br>",
          "Total Area: 46.0<br>Total Integrated Intensity: 1.051163505762816<br>None: 20<br>",
          "Total Area: 15.0<br>Total Integrated Intensity: 0.341527428478005<br>None: 20<br>",
          "Total Area: nan<br>Total Integrated Intensity: 0.0<br>None: 20<br>",
          "Total Area: 82.0<br>Total Integrated Intensity: 2.0042572859674648<br>None: 20<br>",
          "Total Area: 1.0<br>Total Integrated Intensity: 0.022705424576998<br>None: 20<br>",
          "Total Area: nan<br>Total Integrated Intensity: 0.0<br>None: 20<br>",
          "Total Area: nan<br>Total Integrated Intensity: 0.0<br>None: 20<br>",
          "Total Area: 262.0<br>Total Integrated Intensity: 6.921934882178886<br>None: 20<br>",
          "Total Area: 107.0<br>Total Integrated Intensity: 2.6206454653292774<br>None: 20<br>",
          "Total Area: nan<br>Total Integrated Intensity: 0.0<br>None: 20<br>",
          "Total Area: 34.0<br>Total Integrated Intensity: 0.8127260301262131<br>None: 20<br>",
          "Total Area: 64.0<br>Total Integrated Intensity: 1.511955453082917<br>None: 20<br>",
          "Total Area: 151.0<br>Total Integrated Intensity: 3.6083467062562655<br>None: 20<br>",
          "Total Area: 33.0<br>Total Integrated Intensity: 0.782360576093196<br>None: 20<br>",
          "Total Area: 203.0<br>Total Integrated Intensity: 4.86567484959959<br>None: 20<br>",
          "Total Area: nan<br>Total Integrated Intensity: 0.0<br>None: 20<br>",
          "Total Area: 23.0<br>Total Integrated Intensity: 0.550148781388998<br>None: 20<br>",
          "Total Area: 16.0<br>Total Integrated Intensity: 0.39740596897900105<br>None: 20<br>",
          "Total Area: nan<br>Total Integrated Intensity: 0.0<br>None: 20<br>",
          "Total Area: nan<br>Total Integrated Intensity: 0.0<br>None: 20<br>",
          "Total Area: 17.0<br>Total Integrated Intensity: 0.395056078210474<br>None: 20<br>",
          "Total Area: 3.0<br>Total Integrated Intensity: 0.070222018286586<br>None: 20<br>",
          "Total Area: 4.0<br>Total Integrated Intensity: 0.091157397255301<br>None: 20<br>",
          "Total Area: 37.0<br>Total Integrated Intensity: 0.870710309594869<br>None: 20<br>",
          "Total Area: 175.0<br>Total Integrated Intensity: 4.51340505853294<br>None: 20<br>",
          "Total Area: 19.0<br>Total Integrated Intensity: 0.43385977298021194<br>None: 20<br>",
          "Total Area: 182.0<br>Total Integrated Intensity: 6.018387144431459<br>None: 20<br>"
         ],
         "type": "scatter",
         "x": [
          null,
          null,
          null,
          1,
          82,
          null,
          238,
          null,
          null,
          17,
          58,
          134,
          null,
          36,
          463,
          null,
          null,
          13,
          null,
          759,
          18,
          50,
          134,
          null,
          null,
          500,
          46,
          15,
          null,
          82,
          1,
          null,
          null,
          262,
          107,
          null,
          34,
          64,
          151,
          33,
          203,
          null,
          23,
          16,
          null,
          null,
          17,
          3,
          4,
          37,
          175,
          19,
          182
         ],
         "y": [
          0,
          0,
          0,
          0.021911956369877,
          1.9427023865282531,
          0,
          6.383703391998989,
          0,
          0,
          0.38619058765471,
          1.4292515534907548,
          3.327412836253641,
          0,
          0.842771047726273,
          12.431998224928966,
          0,
          0,
          0.30150301568209903,
          0,
          21.30901057645677,
          0.424383921548724,
          1.174334326758977,
          3.3106736969202695,
          0,
          0,
          13.286762857809638,
          1.051163505762816,
          0.341527428478005,
          0,
          2.0042572859674648,
          0.022705424576998,
          0,
          0,
          6.921934882178886,
          2.6206454653292774,
          0,
          0.8127260301262131,
          1.511955453082917,
          3.6083467062562655,
          0.782360576093196,
          4.86567484959959,
          0,
          0.550148781388998,
          0.39740596897900105,
          0,
          0,
          0.395056078210474,
          0.070222018286586,
          0.091157397255301,
          0.870710309594869,
          4.51340505853294,
          0.43385977298021194,
          6.018387144431459
         ]
        }
       ],
       "layout": {
        "hovermode": "closest",
        "plot_bgcolor": "rgba(0,0,0,0)",
        "showlegend": true,
        "template": {
         "data": {
          "bar": [
           {
            "error_x": {
             "color": "#2a3f5f"
            },
            "error_y": {
             "color": "#2a3f5f"
            },
            "marker": {
             "line": {
              "color": "#E5ECF6",
              "width": 0.5
             }
            },
            "type": "bar"
           }
          ],
          "barpolar": [
           {
            "marker": {
             "line": {
              "color": "#E5ECF6",
              "width": 0.5
             }
            },
            "type": "barpolar"
           }
          ],
          "carpet": [
           {
            "aaxis": {
             "endlinecolor": "#2a3f5f",
             "gridcolor": "white",
             "linecolor": "white",
             "minorgridcolor": "white",
             "startlinecolor": "#2a3f5f"
            },
            "baxis": {
             "endlinecolor": "#2a3f5f",
             "gridcolor": "white",
             "linecolor": "white",
             "minorgridcolor": "white",
             "startlinecolor": "#2a3f5f"
            },
            "type": "carpet"
           }
          ],
          "choropleth": [
           {
            "colorbar": {
             "outlinewidth": 0,
             "ticks": ""
            },
            "type": "choropleth"
           }
          ],
          "contour": [
           {
            "colorbar": {
             "outlinewidth": 0,
             "ticks": ""
            },
            "colorscale": [
             [
              0,
              "#0d0887"
             ],
             [
              0.1111111111111111,
              "#46039f"
             ],
             [
              0.2222222222222222,
              "#7201a8"
             ],
             [
              0.3333333333333333,
              "#9c179e"
             ],
             [
              0.4444444444444444,
              "#bd3786"
             ],
             [
              0.5555555555555556,
              "#d8576b"
             ],
             [
              0.6666666666666666,
              "#ed7953"
             ],
             [
              0.7777777777777778,
              "#fb9f3a"
             ],
             [
              0.8888888888888888,
              "#fdca26"
             ],
             [
              1,
              "#f0f921"
             ]
            ],
            "type": "contour"
           }
          ],
          "contourcarpet": [
           {
            "colorbar": {
             "outlinewidth": 0,
             "ticks": ""
            },
            "type": "contourcarpet"
           }
          ],
          "heatmap": [
           {
            "colorbar": {
             "outlinewidth": 0,
             "ticks": ""
            },
            "colorscale": [
             [
              0,
              "#0d0887"
             ],
             [
              0.1111111111111111,
              "#46039f"
             ],
             [
              0.2222222222222222,
              "#7201a8"
             ],
             [
              0.3333333333333333,
              "#9c179e"
             ],
             [
              0.4444444444444444,
              "#bd3786"
             ],
             [
              0.5555555555555556,
              "#d8576b"
             ],
             [
              0.6666666666666666,
              "#ed7953"
             ],
             [
              0.7777777777777778,
              "#fb9f3a"
             ],
             [
              0.8888888888888888,
              "#fdca26"
             ],
             [
              1,
              "#f0f921"
             ]
            ],
            "type": "heatmap"
           }
          ],
          "heatmapgl": [
           {
            "colorbar": {
             "outlinewidth": 0,
             "ticks": ""
            },
            "colorscale": [
             [
              0,
              "#0d0887"
             ],
             [
              0.1111111111111111,
              "#46039f"
             ],
             [
              0.2222222222222222,
              "#7201a8"
             ],
             [
              0.3333333333333333,
              "#9c179e"
             ],
             [
              0.4444444444444444,
              "#bd3786"
             ],
             [
              0.5555555555555556,
              "#d8576b"
             ],
             [
              0.6666666666666666,
              "#ed7953"
             ],
             [
              0.7777777777777778,
              "#fb9f3a"
             ],
             [
              0.8888888888888888,
              "#fdca26"
             ],
             [
              1,
              "#f0f921"
             ]
            ],
            "type": "heatmapgl"
           }
          ],
          "histogram": [
           {
            "marker": {
             "colorbar": {
              "outlinewidth": 0,
              "ticks": ""
             }
            },
            "type": "histogram"
           }
          ],
          "histogram2d": [
           {
            "colorbar": {
             "outlinewidth": 0,
             "ticks": ""
            },
            "colorscale": [
             [
              0,
              "#0d0887"
             ],
             [
              0.1111111111111111,
              "#46039f"
             ],
             [
              0.2222222222222222,
              "#7201a8"
             ],
             [
              0.3333333333333333,
              "#9c179e"
             ],
             [
              0.4444444444444444,
              "#bd3786"
             ],
             [
              0.5555555555555556,
              "#d8576b"
             ],
             [
              0.6666666666666666,
              "#ed7953"
             ],
             [
              0.7777777777777778,
              "#fb9f3a"
             ],
             [
              0.8888888888888888,
              "#fdca26"
             ],
             [
              1,
              "#f0f921"
             ]
            ],
            "type": "histogram2d"
           }
          ],
          "histogram2dcontour": [
           {
            "colorbar": {
             "outlinewidth": 0,
             "ticks": ""
            },
            "colorscale": [
             [
              0,
              "#0d0887"
             ],
             [
              0.1111111111111111,
              "#46039f"
             ],
             [
              0.2222222222222222,
              "#7201a8"
             ],
             [
              0.3333333333333333,
              "#9c179e"
             ],
             [
              0.4444444444444444,
              "#bd3786"
             ],
             [
              0.5555555555555556,
              "#d8576b"
             ],
             [
              0.6666666666666666,
              "#ed7953"
             ],
             [
              0.7777777777777778,
              "#fb9f3a"
             ],
             [
              0.8888888888888888,
              "#fdca26"
             ],
             [
              1,
              "#f0f921"
             ]
            ],
            "type": "histogram2dcontour"
           }
          ],
          "mesh3d": [
           {
            "colorbar": {
             "outlinewidth": 0,
             "ticks": ""
            },
            "type": "mesh3d"
           }
          ],
          "parcoords": [
           {
            "line": {
             "colorbar": {
              "outlinewidth": 0,
              "ticks": ""
             }
            },
            "type": "parcoords"
           }
          ],
          "pie": [
           {
            "automargin": true,
            "type": "pie"
           }
          ],
          "scatter": [
           {
            "marker": {
             "colorbar": {
              "outlinewidth": 0,
              "ticks": ""
             }
            },
            "type": "scatter"
           }
          ],
          "scatter3d": [
           {
            "line": {
             "colorbar": {
              "outlinewidth": 0,
              "ticks": ""
             }
            },
            "marker": {
             "colorbar": {
              "outlinewidth": 0,
              "ticks": ""
             }
            },
            "type": "scatter3d"
           }
          ],
          "scattercarpet": [
           {
            "marker": {
             "colorbar": {
              "outlinewidth": 0,
              "ticks": ""
             }
            },
            "type": "scattercarpet"
           }
          ],
          "scattergeo": [
           {
            "marker": {
             "colorbar": {
              "outlinewidth": 0,
              "ticks": ""
             }
            },
            "type": "scattergeo"
           }
          ],
          "scattergl": [
           {
            "marker": {
             "colorbar": {
              "outlinewidth": 0,
              "ticks": ""
             }
            },
            "type": "scattergl"
           }
          ],
          "scattermapbox": [
           {
            "marker": {
             "colorbar": {
              "outlinewidth": 0,
              "ticks": ""
             }
            },
            "type": "scattermapbox"
           }
          ],
          "scatterpolar": [
           {
            "marker": {
             "colorbar": {
              "outlinewidth": 0,
              "ticks": ""
             }
            },
            "type": "scatterpolar"
           }
          ],
          "scatterpolargl": [
           {
            "marker": {
             "colorbar": {
              "outlinewidth": 0,
              "ticks": ""
             }
            },
            "type": "scatterpolargl"
           }
          ],
          "scatterternary": [
           {
            "marker": {
             "colorbar": {
              "outlinewidth": 0,
              "ticks": ""
             }
            },
            "type": "scatterternary"
           }
          ],
          "surface": [
           {
            "colorbar": {
             "outlinewidth": 0,
             "ticks": ""
            },
            "colorscale": [
             [
              0,
              "#0d0887"
             ],
             [
              0.1111111111111111,
              "#46039f"
             ],
             [
              0.2222222222222222,
              "#7201a8"
             ],
             [
              0.3333333333333333,
              "#9c179e"
             ],
             [
              0.4444444444444444,
              "#bd3786"
             ],
             [
              0.5555555555555556,
              "#d8576b"
             ],
             [
              0.6666666666666666,
              "#ed7953"
             ],
             [
              0.7777777777777778,
              "#fb9f3a"
             ],
             [
              0.8888888888888888,
              "#fdca26"
             ],
             [
              1,
              "#f0f921"
             ]
            ],
            "type": "surface"
           }
          ],
          "table": [
           {
            "cells": {
             "fill": {
              "color": "#EBF0F8"
             },
             "line": {
              "color": "white"
             }
            },
            "header": {
             "fill": {
              "color": "#C8D4E3"
             },
             "line": {
              "color": "white"
             }
            },
            "type": "table"
           }
          ]
         },
         "layout": {
          "annotationdefaults": {
           "arrowcolor": "#2a3f5f",
           "arrowhead": 0,
           "arrowwidth": 1
          },
          "coloraxis": {
           "colorbar": {
            "outlinewidth": 0,
            "ticks": ""
           }
          },
          "colorscale": {
           "diverging": [
            [
             0,
             "#8e0152"
            ],
            [
             0.1,
             "#c51b7d"
            ],
            [
             0.2,
             "#de77ae"
            ],
            [
             0.3,
             "#f1b6da"
            ],
            [
             0.4,
             "#fde0ef"
            ],
            [
             0.5,
             "#f7f7f7"
            ],
            [
             0.6,
             "#e6f5d0"
            ],
            [
             0.7,
             "#b8e186"
            ],
            [
             0.8,
             "#7fbc41"
            ],
            [
             0.9,
             "#4d9221"
            ],
            [
             1,
             "#276419"
            ]
           ],
           "sequential": [
            [
             0,
             "#0d0887"
            ],
            [
             0.1111111111111111,
             "#46039f"
            ],
            [
             0.2222222222222222,
             "#7201a8"
            ],
            [
             0.3333333333333333,
             "#9c179e"
            ],
            [
             0.4444444444444444,
             "#bd3786"
            ],
            [
             0.5555555555555556,
             "#d8576b"
            ],
            [
             0.6666666666666666,
             "#ed7953"
            ],
            [
             0.7777777777777778,
             "#fb9f3a"
            ],
            [
             0.8888888888888888,
             "#fdca26"
            ],
            [
             1,
             "#f0f921"
            ]
           ],
           "sequentialminus": [
            [
             0,
             "#0d0887"
            ],
            [
             0.1111111111111111,
             "#46039f"
            ],
            [
             0.2222222222222222,
             "#7201a8"
            ],
            [
             0.3333333333333333,
             "#9c179e"
            ],
            [
             0.4444444444444444,
             "#bd3786"
            ],
            [
             0.5555555555555556,
             "#d8576b"
            ],
            [
             0.6666666666666666,
             "#ed7953"
            ],
            [
             0.7777777777777778,
             "#fb9f3a"
            ],
            [
             0.8888888888888888,
             "#fdca26"
            ],
            [
             1,
             "#f0f921"
            ]
           ]
          },
          "colorway": [
           "#636efa",
           "#EF553B",
           "#00cc96",
           "#ab63fa",
           "#FFA15A",
           "#19d3f3",
           "#FF6692",
           "#B6E880",
           "#FF97FF",
           "#FECB52"
          ],
          "font": {
           "color": "#2a3f5f"
          },
          "geo": {
           "bgcolor": "white",
           "lakecolor": "white",
           "landcolor": "#E5ECF6",
           "showlakes": true,
           "showland": true,
           "subunitcolor": "white"
          },
          "hoverlabel": {
           "align": "left"
          },
          "hovermode": "closest",
          "mapbox": {
           "style": "light"
          },
          "paper_bgcolor": "white",
          "plot_bgcolor": "#E5ECF6",
          "polar": {
           "angularaxis": {
            "gridcolor": "white",
            "linecolor": "white",
            "ticks": ""
           },
           "bgcolor": "#E5ECF6",
           "radialaxis": {
            "gridcolor": "white",
            "linecolor": "white",
            "ticks": ""
           }
          },
          "scene": {
           "xaxis": {
            "backgroundcolor": "#E5ECF6",
            "gridcolor": "white",
            "gridwidth": 2,
            "linecolor": "white",
            "showbackground": true,
            "ticks": "",
            "zerolinecolor": "white"
           },
           "yaxis": {
            "backgroundcolor": "#E5ECF6",
            "gridcolor": "white",
            "gridwidth": 2,
            "linecolor": "white",
            "showbackground": true,
            "ticks": "",
            "zerolinecolor": "white"
           },
           "zaxis": {
            "backgroundcolor": "#E5ECF6",
            "gridcolor": "white",
            "gridwidth": 2,
            "linecolor": "white",
            "showbackground": true,
            "ticks": "",
            "zerolinecolor": "white"
           }
          },
          "shapedefaults": {
           "line": {
            "color": "#2a3f5f"
           }
          },
          "ternary": {
           "aaxis": {
            "gridcolor": "white",
            "linecolor": "white",
            "ticks": ""
           },
           "baxis": {
            "gridcolor": "white",
            "linecolor": "white",
            "ticks": ""
           },
           "bgcolor": "#E5ECF6",
           "caxis": {
            "gridcolor": "white",
            "linecolor": "white",
            "ticks": ""
           }
          },
          "title": {
           "x": 0.05
          },
          "xaxis": {
           "automargin": true,
           "gridcolor": "white",
           "linecolor": "white",
           "ticks": "",
           "title": {
            "standoff": 15
           },
           "zerolinecolor": "white",
           "zerolinewidth": 2
          },
          "yaxis": {
           "automargin": true,
           "gridcolor": "white",
           "linecolor": "white",
           "ticks": "",
           "title": {
            "standoff": 15
           },
           "zerolinecolor": "white",
           "zerolinewidth": 2
          }
         }
        },
        "title": {
         "text": "Puncta Total Intensity vs. Total Area"
        },
        "xaxis": {
         "range": [
          -150.6,
          910.6
         ],
         "showgrid": true,
         "title": {
          "text": "Total Area"
         },
         "type": "linear"
        },
        "yaxis": {
         "gridcolor": "#E4EAF2",
         "range": [
          -2.1309010576456773,
          23.439911634102447
         ],
         "showgrid": true,
         "title": {
          "text": "Total Integrated Intensity"
         },
         "zeroline": false
        }
       }
      },
      "text/html": [
       "<div>                            <div id=\"3f61de0d-3031-4c79-9013-a0e2b5b637c8\" class=\"plotly-graph-div\" style=\"height:525px; width:100%;\"></div>            <script type=\"text/javascript\">                require([\"plotly\"], function(Plotly) {                    window.PLOTLYENV=window.PLOTLYENV || {};                                    if (document.getElementById(\"3f61de0d-3031-4c79-9013-a0e2b5b637c8\")) {                    Plotly.newPlot(                        \"3f61de0d-3031-4c79-9013-a0e2b5b637c8\",                        [{\"hovertemplate\": \"%{text}<br><extra></extra>\", \"marker\": {\"color\": \"#1f77b4\"}, \"mode\": \"markers\", \"name\": \"3\", \"showlegend\": true, \"text\": [\"Total Area: nan<br>Total Integrated Intensity: 0.0<br>None: 3<br>\", \"Total Area: 36.0<br>Total Integrated Intensity: 0.8269169256091111<br>None: 3<br>\", \"Total Area: 41.0<br>Total Integrated Intensity: 1.006195172667502<br>None: 3<br>\", \"Total Area: nan<br>Total Integrated Intensity: 0.0<br>None: 3<br>\", \"Total Area: 8.0<br>Total Integrated Intensity: 0.211474785581231<br>None: 3<br>\", \"Total Area: nan<br>Total Integrated Intensity: 0.0<br>None: 3<br>\", \"Total Area: 62.0<br>Total Integrated Intensity: 1.647882822901008<br>None: 3<br>\", \"Total Area: nan<br>Total Integrated Intensity: 0.0<br>None: 3<br>\", \"Total Area: nan<br>Total Integrated Intensity: 0.0<br>None: 3<br>\", \"Total Area: 286.0<br>Total Integrated Intensity: 8.031143683940158<br>None: 3<br>\", \"Total Area: nan<br>Total Integrated Intensity: 0.0<br>None: 3<br>\", \"Total Area: 141.0<br>Total Integrated Intensity: 3.6437323614954864<br>None: 3<br>\", \"Total Area: 261.0<br>Total Integrated Intensity: 7.401007140055288<br>None: 3<br>\", \"Total Area: nan<br>Total Integrated Intensity: 0.0<br>None: 3<br>\", \"Total Area: 490.0<br>Total Integrated Intensity: 15.429358404129719<br>None: 3<br>\", \"Total Area: 211.0<br>Total Integrated Intensity: 6.316472133621558<br>None: 3<br>\", \"Total Area: 95.0<br>Total Integrated Intensity: 2.4777142070233795<br>None: 3<br>\", \"Total Area: 85.0<br>Total Integrated Intensity: 2.0525826029479477<br>None: 3<br>\", \"Total Area: 303.0<br>Total Integrated Intensity: 7.676127310842263<br>None: 3<br>\", \"Total Area: 500.0<br>Total Integrated Intensity: 14.562340751290295<br>None: 3<br>\", \"Total Area: 248.0<br>Total Integrated Intensity: 7.542671909555785<br>None: 3<br>\", \"Total Area: 89.0<br>Total Integrated Intensity: 2.3145799990743297<br>None: 3<br>\", \"Total Area: 116.0<br>Total Integrated Intensity: 3.1351949479430887<br>None: 3<br>\", \"Total Area: 3.0<br>Total Integrated Intensity: 0.06758220866322498<br>None: 3<br>\", \"Total Area: 161.0<br>Total Integrated Intensity: 4.633325712755317<br>None: 3<br>\", \"Total Area: 204.0<br>Total Integrated Intensity: 5.180651582777493<br>None: 3<br>\", \"Total Area: 144.0<br>Total Integrated Intensity: 4.027328932657833<br>None: 3<br>\", \"Total Area: 12.0<br>Total Integrated Intensity: 0.28194095008075<br>None: 3<br>\"], \"type\": \"scatter\", \"x\": [null, 36.0, 41.0, null, 8.0, null, 62.0, null, null, 286.0, null, 141.0, 261.0, null, 490.0, 211.0, 95.0, 85.0, 303.0, 500.0, 248.0, 89.0, 116.0, 3.0, 161.0, 204.0, 144.0, 12.0], \"y\": [0.0, 0.8269169256091111, 1.006195172667502, 0.0, 0.211474785581231, 0.0, 1.647882822901008, 0.0, 0.0, 8.031143683940158, 0.0, 3.6437323614954864, 7.401007140055288, 0.0, 15.429358404129719, 6.316472133621558, 2.4777142070233795, 2.0525826029479477, 7.676127310842263, 14.562340751290295, 7.542671909555785, 2.3145799990743297, 3.1351949479430887, 0.06758220866322498, 4.633325712755317, 5.180651582777493, 4.027328932657833, 0.28194095008075]}, {\"hovertemplate\": \"%{text}<br><extra></extra>\", \"marker\": {\"color\": \"#ff7f0e\"}, \"mode\": \"markers\", \"name\": \"8\", \"showlegend\": true, \"text\": [\"Total Area: 42.0<br>Total Integrated Intensity: 0.939772646874189<br>None: 8<br>\", \"Total Area: 403.0<br>Total Integrated Intensity: 10.569298872724165<br>None: 8<br>\", \"Total Area: 24.0<br>Total Integrated Intensity: 0.5218738093972201<br>None: 8<br>\", \"Total Area: 203.0<br>Total Integrated Intensity: 4.484855441376554<br>None: 8<br>\", \"Total Area: 210.0<br>Total Integrated Intensity: 5.348104098811737<br>None: 8<br>\", \"Total Area: nan<br>Total Integrated Intensity: 0.0<br>None: 8<br>\", \"Total Area: nan<br>Total Integrated Intensity: 0.0<br>None: 8<br>\", \"Total Area: 154.0<br>Total Integrated Intensity: 4.093553068116301<br>None: 8<br>\", \"Total Area: 22.0<br>Total Integrated Intensity: 0.515358209609984<br>None: 8<br>\", \"Total Area: 373.0<br>Total Integrated Intensity: 10.758602308109385<br>None: 8<br>\", \"Total Area: 21.0<br>Total Integrated Intensity: 0.46558327600359906<br>None: 8<br>\", \"Total Area: 17.0<br>Total Integrated Intensity: 0.39201953634619596<br>None: 8<br>\", \"Total Area: 98.0<br>Total Integrated Intensity: 2.3126878887414897<br>None: 8<br>\", \"Total Area: 60.0<br>Total Integrated Intensity: 1.4850080218166088<br>None: 8<br>\", \"Total Area: nan<br>Total Integrated Intensity: 0.0<br>None: 8<br>\", \"Total Area: 148.0<br>Total Integrated Intensity: 3.384954631328577<br>None: 8<br>\", \"Total Area: 8.0<br>Total Integrated Intensity: 0.17279316298663702<br>None: 8<br>\", \"Total Area: 493.0<br>Total Integrated Intensity: 16.29625397734341<br>None: 8<br>\", \"Total Area: nan<br>Total Integrated Intensity: 0.0<br>None: 8<br>\", \"Total Area: nan<br>Total Integrated Intensity: 0.0<br>None: 8<br>\", \"Total Area: 267.0<br>Total Integrated Intensity: 6.928557265549888<br>None: 8<br>\", \"Total Area: 10.0<br>Total Integrated Intensity: 0.22046235203743<br>None: 8<br>\", \"Total Area: nan<br>Total Integrated Intensity: 0.0<br>None: 8<br>\", \"Total Area: 41.0<br>Total Integrated Intensity: 0.9273670613765701<br>None: 8<br>\", \"Total Area: nan<br>Total Integrated Intensity: 0.0<br>None: 8<br>\", \"Total Area: 175.0<br>Total Integrated Intensity: 4.556694917380804<br>None: 8<br>\", \"Total Area: 492.0<br>Total Integrated Intensity: 13.755748901516181<br>None: 8<br>\", \"Total Area: nan<br>Total Integrated Intensity: 0.0<br>None: 8<br>\", \"Total Area: 313.0<br>Total Integrated Intensity: 7.713817091658696<br>None: 8<br>\", \"Total Area: 324.0<br>Total Integrated Intensity: 8.833859823644145<br>None: 8<br>\", \"Total Area: nan<br>Total Integrated Intensity: 0.0<br>None: 8<br>\", \"Total Area: nan<br>Total Integrated Intensity: 0.0<br>None: 8<br>\"], \"type\": \"scatter\", \"x\": [42.0, 403.0, 24.0, 203.0, 210.0, null, null, 154.0, 22.0, 373.0, 21.0, 17.0, 98.0, 60.0, null, 148.0, 8.0, 493.0, null, null, 267.0, 10.0, null, 41.0, null, 175.0, 492.0, null, 313.0, 324.0, null, null], \"y\": [0.939772646874189, 10.569298872724165, 0.5218738093972201, 4.484855441376554, 5.348104098811737, 0.0, 0.0, 4.093553068116301, 0.515358209609984, 10.758602308109385, 0.46558327600359906, 0.39201953634619596, 2.3126878887414897, 1.4850080218166088, 0.0, 3.384954631328577, 0.17279316298663702, 16.29625397734341, 0.0, 0.0, 6.928557265549888, 0.22046235203743, 0.0, 0.9273670613765701, 0.0, 4.556694917380804, 13.755748901516181, 0.0, 7.713817091658696, 8.833859823644145, 0.0, 0.0]}, {\"hovertemplate\": \"%{text}<br><extra></extra>\", \"marker\": {\"color\": \"#2ca02c\"}, \"mode\": \"markers\", \"name\": \"18\", \"showlegend\": true, \"text\": [\"Total Area: nan<br>Total Integrated Intensity: 0.0<br>None: 18<br>\", \"Total Area: nan<br>Total Integrated Intensity: 0.0<br>None: 18<br>\", \"Total Area: 158.0<br>Total Integrated Intensity: 6.266041051596387<br>None: 18<br>\", \"Total Area: 128.0<br>Total Integrated Intensity: 4.075547438114876<br>None: 18<br>\", \"Total Area: 4.0<br>Total Integrated Intensity: 0.11638056114316002<br>None: 18<br>\", \"Total Area: 5.0<br>Total Integrated Intensity: 0.158587016165256<br>None: 18<br>\", \"Total Area: 2.0<br>Total Integrated Intensity: 0.05648889951407901<br>None: 18<br>\", \"Total Area: nan<br>Total Integrated Intensity: 0.0<br>None: 18<br>\", \"Total Area: 508.0<br>Total Integrated Intensity: 19.2472572252154<br>None: 18<br>\", \"Total Area: 36.0<br>Total Integrated Intensity: 1.115800725296139<br>None: 18<br>\", \"Total Area: 11.0<br>Total Integrated Intensity: 0.322499427944421<br>None: 18<br>\", \"Total Area: 44.0<br>Total Integrated Intensity: 1.357198450714348<br>None: 18<br>\", \"Total Area: nan<br>Total Integrated Intensity: 0.0<br>None: 18<br>\", \"Total Area: 6.0<br>Total Integrated Intensity: 0.175020981580019<br>None: 18<br>\", \"Total Area: 16.0<br>Total Integrated Intensity: 0.46720073372125703<br>None: 18<br>\", \"Total Area: 28.0<br>Total Integrated Intensity: 0.816937515512107<br>None: 18<br>\", \"Total Area: 291.0<br>Total Integrated Intensity: 10.457984309643487<br>None: 18<br>\", \"Total Area: 231.0<br>Total Integrated Intensity: 7.743007577955703<br>None: 18<br>\", \"Total Area: 12.0<br>Total Integrated Intensity: 0.35005722008645496<br>None: 18<br>\", \"Total Area: nan<br>Total Integrated Intensity: 0.0<br>None: 18<br>\", \"Total Area: nan<br>Total Integrated Intensity: 0.0<br>None: 18<br>\", \"Total Area: 369.0<br>Total Integrated Intensity: 16.114107033237786<br>None: 18<br>\", \"Total Area: nan<br>Total Integrated Intensity: 0.0<br>None: 18<br>\", \"Total Area: 318.0<br>Total Integrated Intensity: 13.412481905892475<br>None: 18<br>\", \"Total Area: 198.0<br>Total Integrated Intensity: 7.7235523238778<br>None: 18<br>\", \"Total Area: 201.0<br>Total Integrated Intensity: 7.075593212619409<br>None: 18<br>\", \"Total Area: nan<br>Total Integrated Intensity: 0.0<br>None: 18<br>\", \"Total Area: nan<br>Total Integrated Intensity: 0.0<br>None: 18<br>\", \"Total Area: 380.0<br>Total Integrated Intensity: 13.170367017388333<br>None: 18<br>\"], \"type\": \"scatter\", \"x\": [null, null, 158.0, 128.0, 4.0, 5.0, 2.0, null, 508.0, 36.0, 11.0, 44.0, null, 6.0, 16.0, 28.0, 291.0, 231.0, 12.0, null, null, 369.0, null, 318.0, 198.0, 201.0, null, null, 380.0], \"y\": [0.0, 0.0, 6.266041051596387, 4.075547438114876, 0.11638056114316002, 0.158587016165256, 0.05648889951407901, 0.0, 19.2472572252154, 1.115800725296139, 0.322499427944421, 1.357198450714348, 0.0, 0.175020981580019, 0.46720073372125703, 0.816937515512107, 10.457984309643487, 7.743007577955703, 0.35005722008645496, 0.0, 0.0, 16.114107033237786, 0.0, 13.412481905892475, 7.7235523238778, 7.075593212619409, 0.0, 0.0, 13.170367017388333]}, {\"hovertemplate\": \"%{text}<br><extra></extra>\", \"marker\": {\"color\": \"#d62728\"}, \"mode\": \"markers\", \"name\": \"20\", \"showlegend\": true, \"text\": [\"Total Area: nan<br>Total Integrated Intensity: 0.0<br>None: 20<br>\", \"Total Area: nan<br>Total Integrated Intensity: 0.0<br>None: 20<br>\", \"Total Area: nan<br>Total Integrated Intensity: 0.0<br>None: 20<br>\", \"Total Area: 1.0<br>Total Integrated Intensity: 0.021911956369877<br>None: 20<br>\", \"Total Area: 82.0<br>Total Integrated Intensity: 1.9427023865282531<br>None: 20<br>\", \"Total Area: nan<br>Total Integrated Intensity: 0.0<br>None: 20<br>\", \"Total Area: 238.0<br>Total Integrated Intensity: 6.383703391998989<br>None: 20<br>\", \"Total Area: nan<br>Total Integrated Intensity: 0.0<br>None: 20<br>\", \"Total Area: nan<br>Total Integrated Intensity: 0.0<br>None: 20<br>\", \"Total Area: 17.0<br>Total Integrated Intensity: 0.38619058765471<br>None: 20<br>\", \"Total Area: 58.0<br>Total Integrated Intensity: 1.4292515534907548<br>None: 20<br>\", \"Total Area: 134.0<br>Total Integrated Intensity: 3.327412836253641<br>None: 20<br>\", \"Total Area: nan<br>Total Integrated Intensity: 0.0<br>None: 20<br>\", \"Total Area: 36.0<br>Total Integrated Intensity: 0.842771047726273<br>None: 20<br>\", \"Total Area: 463.0<br>Total Integrated Intensity: 12.431998224928966<br>None: 20<br>\", \"Total Area: nan<br>Total Integrated Intensity: 0.0<br>None: 20<br>\", \"Total Area: nan<br>Total Integrated Intensity: 0.0<br>None: 20<br>\", \"Total Area: 13.0<br>Total Integrated Intensity: 0.30150301568209903<br>None: 20<br>\", \"Total Area: nan<br>Total Integrated Intensity: 0.0<br>None: 20<br>\", \"Total Area: 759.0<br>Total Integrated Intensity: 21.30901057645677<br>None: 20<br>\", \"Total Area: 18.0<br>Total Integrated Intensity: 0.424383921548724<br>None: 20<br>\", \"Total Area: 50.0<br>Total Integrated Intensity: 1.174334326758977<br>None: 20<br>\", \"Total Area: 134.0<br>Total Integrated Intensity: 3.3106736969202695<br>None: 20<br>\", \"Total Area: nan<br>Total Integrated Intensity: 0.0<br>None: 20<br>\", \"Total Area: nan<br>Total Integrated Intensity: 0.0<br>None: 20<br>\", \"Total Area: 500.0<br>Total Integrated Intensity: 13.286762857809638<br>None: 20<br>\", \"Total Area: 46.0<br>Total Integrated Intensity: 1.051163505762816<br>None: 20<br>\", \"Total Area: 15.0<br>Total Integrated Intensity: 0.341527428478005<br>None: 20<br>\", \"Total Area: nan<br>Total Integrated Intensity: 0.0<br>None: 20<br>\", \"Total Area: 82.0<br>Total Integrated Intensity: 2.0042572859674648<br>None: 20<br>\", \"Total Area: 1.0<br>Total Integrated Intensity: 0.022705424576998<br>None: 20<br>\", \"Total Area: nan<br>Total Integrated Intensity: 0.0<br>None: 20<br>\", \"Total Area: nan<br>Total Integrated Intensity: 0.0<br>None: 20<br>\", \"Total Area: 262.0<br>Total Integrated Intensity: 6.921934882178886<br>None: 20<br>\", \"Total Area: 107.0<br>Total Integrated Intensity: 2.6206454653292774<br>None: 20<br>\", \"Total Area: nan<br>Total Integrated Intensity: 0.0<br>None: 20<br>\", \"Total Area: 34.0<br>Total Integrated Intensity: 0.8127260301262131<br>None: 20<br>\", \"Total Area: 64.0<br>Total Integrated Intensity: 1.511955453082917<br>None: 20<br>\", \"Total Area: 151.0<br>Total Integrated Intensity: 3.6083467062562655<br>None: 20<br>\", \"Total Area: 33.0<br>Total Integrated Intensity: 0.782360576093196<br>None: 20<br>\", \"Total Area: 203.0<br>Total Integrated Intensity: 4.86567484959959<br>None: 20<br>\", \"Total Area: nan<br>Total Integrated Intensity: 0.0<br>None: 20<br>\", \"Total Area: 23.0<br>Total Integrated Intensity: 0.550148781388998<br>None: 20<br>\", \"Total Area: 16.0<br>Total Integrated Intensity: 0.39740596897900105<br>None: 20<br>\", \"Total Area: nan<br>Total Integrated Intensity: 0.0<br>None: 20<br>\", \"Total Area: nan<br>Total Integrated Intensity: 0.0<br>None: 20<br>\", \"Total Area: 17.0<br>Total Integrated Intensity: 0.395056078210474<br>None: 20<br>\", \"Total Area: 3.0<br>Total Integrated Intensity: 0.070222018286586<br>None: 20<br>\", \"Total Area: 4.0<br>Total Integrated Intensity: 0.091157397255301<br>None: 20<br>\", \"Total Area: 37.0<br>Total Integrated Intensity: 0.870710309594869<br>None: 20<br>\", \"Total Area: 175.0<br>Total Integrated Intensity: 4.51340505853294<br>None: 20<br>\", \"Total Area: 19.0<br>Total Integrated Intensity: 0.43385977298021194<br>None: 20<br>\", \"Total Area: 182.0<br>Total Integrated Intensity: 6.018387144431459<br>None: 20<br>\"], \"type\": \"scatter\", \"x\": [null, null, null, 1.0, 82.0, null, 238.0, null, null, 17.0, 58.0, 134.0, null, 36.0, 463.0, null, null, 13.0, null, 759.0, 18.0, 50.0, 134.0, null, null, 500.0, 46.0, 15.0, null, 82.0, 1.0, null, null, 262.0, 107.0, null, 34.0, 64.0, 151.0, 33.0, 203.0, null, 23.0, 16.0, null, null, 17.0, 3.0, 4.0, 37.0, 175.0, 19.0, 182.0], \"y\": [0.0, 0.0, 0.0, 0.021911956369877, 1.9427023865282531, 0.0, 6.383703391998989, 0.0, 0.0, 0.38619058765471, 1.4292515534907548, 3.327412836253641, 0.0, 0.842771047726273, 12.431998224928966, 0.0, 0.0, 0.30150301568209903, 0.0, 21.30901057645677, 0.424383921548724, 1.174334326758977, 3.3106736969202695, 0.0, 0.0, 13.286762857809638, 1.051163505762816, 0.341527428478005, 0.0, 2.0042572859674648, 0.022705424576998, 0.0, 0.0, 6.921934882178886, 2.6206454653292774, 0.0, 0.8127260301262131, 1.511955453082917, 3.6083467062562655, 0.782360576093196, 4.86567484959959, 0.0, 0.550148781388998, 0.39740596897900105, 0.0, 0.0, 0.395056078210474, 0.070222018286586, 0.091157397255301, 0.870710309594869, 4.51340505853294, 0.43385977298021194, 6.018387144431459]}],                        {\"hovermode\": \"closest\", \"plot_bgcolor\": \"rgba(0,0,0,0)\", \"showlegend\": true, \"template\": {\"data\": {\"bar\": [{\"error_x\": {\"color\": \"#2a3f5f\"}, \"error_y\": {\"color\": \"#2a3f5f\"}, \"marker\": {\"line\": {\"color\": \"#E5ECF6\", \"width\": 0.5}}, \"type\": \"bar\"}], \"barpolar\": [{\"marker\": {\"line\": {\"color\": \"#E5ECF6\", \"width\": 0.5}}, \"type\": \"barpolar\"}], \"carpet\": [{\"aaxis\": {\"endlinecolor\": \"#2a3f5f\", \"gridcolor\": \"white\", \"linecolor\": \"white\", \"minorgridcolor\": \"white\", \"startlinecolor\": \"#2a3f5f\"}, \"baxis\": {\"endlinecolor\": \"#2a3f5f\", \"gridcolor\": \"white\", \"linecolor\": \"white\", \"minorgridcolor\": \"white\", \"startlinecolor\": \"#2a3f5f\"}, \"type\": \"carpet\"}], \"choropleth\": [{\"colorbar\": {\"outlinewidth\": 0, \"ticks\": \"\"}, \"type\": \"choropleth\"}], \"contour\": [{\"colorbar\": {\"outlinewidth\": 0, \"ticks\": \"\"}, \"colorscale\": [[0.0, \"#0d0887\"], [0.1111111111111111, \"#46039f\"], [0.2222222222222222, \"#7201a8\"], [0.3333333333333333, \"#9c179e\"], [0.4444444444444444, \"#bd3786\"], [0.5555555555555556, \"#d8576b\"], [0.6666666666666666, \"#ed7953\"], [0.7777777777777778, \"#fb9f3a\"], [0.8888888888888888, \"#fdca26\"], [1.0, \"#f0f921\"]], \"type\": \"contour\"}], \"contourcarpet\": [{\"colorbar\": {\"outlinewidth\": 0, \"ticks\": \"\"}, \"type\": \"contourcarpet\"}], \"heatmap\": [{\"colorbar\": {\"outlinewidth\": 0, \"ticks\": \"\"}, \"colorscale\": [[0.0, \"#0d0887\"], [0.1111111111111111, \"#46039f\"], [0.2222222222222222, \"#7201a8\"], [0.3333333333333333, \"#9c179e\"], [0.4444444444444444, \"#bd3786\"], [0.5555555555555556, \"#d8576b\"], [0.6666666666666666, \"#ed7953\"], [0.7777777777777778, \"#fb9f3a\"], [0.8888888888888888, \"#fdca26\"], [1.0, \"#f0f921\"]], \"type\": \"heatmap\"}], \"heatmapgl\": [{\"colorbar\": {\"outlinewidth\": 0, \"ticks\": \"\"}, \"colorscale\": [[0.0, \"#0d0887\"], [0.1111111111111111, \"#46039f\"], [0.2222222222222222, \"#7201a8\"], [0.3333333333333333, \"#9c179e\"], [0.4444444444444444, \"#bd3786\"], [0.5555555555555556, \"#d8576b\"], [0.6666666666666666, \"#ed7953\"], [0.7777777777777778, \"#fb9f3a\"], [0.8888888888888888, \"#fdca26\"], [1.0, \"#f0f921\"]], \"type\": \"heatmapgl\"}], \"histogram\": [{\"marker\": {\"colorbar\": {\"outlinewidth\": 0, \"ticks\": \"\"}}, \"type\": \"histogram\"}], \"histogram2d\": [{\"colorbar\": {\"outlinewidth\": 0, \"ticks\": \"\"}, \"colorscale\": [[0.0, \"#0d0887\"], [0.1111111111111111, \"#46039f\"], [0.2222222222222222, \"#7201a8\"], [0.3333333333333333, \"#9c179e\"], [0.4444444444444444, \"#bd3786\"], [0.5555555555555556, \"#d8576b\"], [0.6666666666666666, \"#ed7953\"], [0.7777777777777778, \"#fb9f3a\"], [0.8888888888888888, \"#fdca26\"], [1.0, \"#f0f921\"]], \"type\": \"histogram2d\"}], \"histogram2dcontour\": [{\"colorbar\": {\"outlinewidth\": 0, \"ticks\": \"\"}, \"colorscale\": [[0.0, \"#0d0887\"], [0.1111111111111111, \"#46039f\"], [0.2222222222222222, \"#7201a8\"], [0.3333333333333333, \"#9c179e\"], [0.4444444444444444, \"#bd3786\"], [0.5555555555555556, \"#d8576b\"], [0.6666666666666666, \"#ed7953\"], [0.7777777777777778, \"#fb9f3a\"], [0.8888888888888888, \"#fdca26\"], [1.0, \"#f0f921\"]], \"type\": \"histogram2dcontour\"}], \"mesh3d\": [{\"colorbar\": {\"outlinewidth\": 0, \"ticks\": \"\"}, \"type\": \"mesh3d\"}], \"parcoords\": [{\"line\": {\"colorbar\": {\"outlinewidth\": 0, \"ticks\": \"\"}}, \"type\": \"parcoords\"}], \"pie\": [{\"automargin\": true, \"type\": \"pie\"}], \"scatter\": [{\"marker\": {\"colorbar\": {\"outlinewidth\": 0, \"ticks\": \"\"}}, \"type\": \"scatter\"}], \"scatter3d\": [{\"line\": {\"colorbar\": {\"outlinewidth\": 0, \"ticks\": \"\"}}, \"marker\": {\"colorbar\": {\"outlinewidth\": 0, \"ticks\": \"\"}}, \"type\": \"scatter3d\"}], \"scattercarpet\": [{\"marker\": {\"colorbar\": {\"outlinewidth\": 0, \"ticks\": \"\"}}, \"type\": \"scattercarpet\"}], \"scattergeo\": [{\"marker\": {\"colorbar\": {\"outlinewidth\": 0, \"ticks\": \"\"}}, \"type\": \"scattergeo\"}], \"scattergl\": [{\"marker\": {\"colorbar\": {\"outlinewidth\": 0, \"ticks\": \"\"}}, \"type\": \"scattergl\"}], \"scattermapbox\": [{\"marker\": {\"colorbar\": {\"outlinewidth\": 0, \"ticks\": \"\"}}, \"type\": \"scattermapbox\"}], \"scatterpolar\": [{\"marker\": {\"colorbar\": {\"outlinewidth\": 0, \"ticks\": \"\"}}, \"type\": \"scatterpolar\"}], \"scatterpolargl\": [{\"marker\": {\"colorbar\": {\"outlinewidth\": 0, \"ticks\": \"\"}}, \"type\": \"scatterpolargl\"}], \"scatterternary\": [{\"marker\": {\"colorbar\": {\"outlinewidth\": 0, \"ticks\": \"\"}}, \"type\": \"scatterternary\"}], \"surface\": [{\"colorbar\": {\"outlinewidth\": 0, \"ticks\": \"\"}, \"colorscale\": [[0.0, \"#0d0887\"], [0.1111111111111111, \"#46039f\"], [0.2222222222222222, \"#7201a8\"], [0.3333333333333333, \"#9c179e\"], [0.4444444444444444, \"#bd3786\"], [0.5555555555555556, \"#d8576b\"], [0.6666666666666666, \"#ed7953\"], [0.7777777777777778, \"#fb9f3a\"], [0.8888888888888888, \"#fdca26\"], [1.0, \"#f0f921\"]], \"type\": \"surface\"}], \"table\": [{\"cells\": {\"fill\": {\"color\": \"#EBF0F8\"}, \"line\": {\"color\": \"white\"}}, \"header\": {\"fill\": {\"color\": \"#C8D4E3\"}, \"line\": {\"color\": \"white\"}}, \"type\": \"table\"}]}, \"layout\": {\"annotationdefaults\": {\"arrowcolor\": \"#2a3f5f\", \"arrowhead\": 0, \"arrowwidth\": 1}, \"coloraxis\": {\"colorbar\": {\"outlinewidth\": 0, \"ticks\": \"\"}}, \"colorscale\": {\"diverging\": [[0, \"#8e0152\"], [0.1, \"#c51b7d\"], [0.2, \"#de77ae\"], [0.3, \"#f1b6da\"], [0.4, \"#fde0ef\"], [0.5, \"#f7f7f7\"], [0.6, \"#e6f5d0\"], [0.7, \"#b8e186\"], [0.8, \"#7fbc41\"], [0.9, \"#4d9221\"], [1, \"#276419\"]], \"sequential\": [[0.0, \"#0d0887\"], [0.1111111111111111, \"#46039f\"], [0.2222222222222222, \"#7201a8\"], [0.3333333333333333, \"#9c179e\"], [0.4444444444444444, \"#bd3786\"], [0.5555555555555556, \"#d8576b\"], [0.6666666666666666, \"#ed7953\"], [0.7777777777777778, \"#fb9f3a\"], [0.8888888888888888, \"#fdca26\"], [1.0, \"#f0f921\"]], \"sequentialminus\": [[0.0, \"#0d0887\"], [0.1111111111111111, \"#46039f\"], [0.2222222222222222, \"#7201a8\"], [0.3333333333333333, \"#9c179e\"], [0.4444444444444444, \"#bd3786\"], [0.5555555555555556, \"#d8576b\"], [0.6666666666666666, \"#ed7953\"], [0.7777777777777778, \"#fb9f3a\"], [0.8888888888888888, \"#fdca26\"], [1.0, \"#f0f921\"]]}, \"colorway\": [\"#636efa\", \"#EF553B\", \"#00cc96\", \"#ab63fa\", \"#FFA15A\", \"#19d3f3\", \"#FF6692\", \"#B6E880\", \"#FF97FF\", \"#FECB52\"], \"font\": {\"color\": \"#2a3f5f\"}, \"geo\": {\"bgcolor\": \"white\", \"lakecolor\": \"white\", \"landcolor\": \"#E5ECF6\", \"showlakes\": true, \"showland\": true, \"subunitcolor\": \"white\"}, \"hoverlabel\": {\"align\": \"left\"}, \"hovermode\": \"closest\", \"mapbox\": {\"style\": \"light\"}, \"paper_bgcolor\": \"white\", \"plot_bgcolor\": \"#E5ECF6\", \"polar\": {\"angularaxis\": {\"gridcolor\": \"white\", \"linecolor\": \"white\", \"ticks\": \"\"}, \"bgcolor\": \"#E5ECF6\", \"radialaxis\": {\"gridcolor\": \"white\", \"linecolor\": \"white\", \"ticks\": \"\"}}, \"scene\": {\"xaxis\": {\"backgroundcolor\": \"#E5ECF6\", \"gridcolor\": \"white\", \"gridwidth\": 2, \"linecolor\": \"white\", \"showbackground\": true, \"ticks\": \"\", \"zerolinecolor\": \"white\"}, \"yaxis\": {\"backgroundcolor\": \"#E5ECF6\", \"gridcolor\": \"white\", \"gridwidth\": 2, \"linecolor\": \"white\", \"showbackground\": true, \"ticks\": \"\", \"zerolinecolor\": \"white\"}, \"zaxis\": {\"backgroundcolor\": \"#E5ECF6\", \"gridcolor\": \"white\", \"gridwidth\": 2, \"linecolor\": \"white\", \"showbackground\": true, \"ticks\": \"\", \"zerolinecolor\": \"white\"}}, \"shapedefaults\": {\"line\": {\"color\": \"#2a3f5f\"}}, \"ternary\": {\"aaxis\": {\"gridcolor\": \"white\", \"linecolor\": \"white\", \"ticks\": \"\"}, \"baxis\": {\"gridcolor\": \"white\", \"linecolor\": \"white\", \"ticks\": \"\"}, \"bgcolor\": \"#E5ECF6\", \"caxis\": {\"gridcolor\": \"white\", \"linecolor\": \"white\", \"ticks\": \"\"}}, \"title\": {\"x\": 0.05}, \"xaxis\": {\"automargin\": true, \"gridcolor\": \"white\", \"linecolor\": \"white\", \"ticks\": \"\", \"title\": {\"standoff\": 15}, \"zerolinecolor\": \"white\", \"zerolinewidth\": 2}, \"yaxis\": {\"automargin\": true, \"gridcolor\": \"white\", \"linecolor\": \"white\", \"ticks\": \"\", \"title\": {\"standoff\": 15}, \"zerolinecolor\": \"white\", \"zerolinewidth\": 2}}}, \"title\": {\"text\": \"Puncta Total Intensity vs. Total Area\"}, \"xaxis\": {\"range\": [-150.6, 910.6], \"showgrid\": true, \"title\": {\"text\": \"Total Area\"}, \"type\": \"linear\"}, \"yaxis\": {\"gridcolor\": \"#E4EAF2\", \"range\": [-2.1309010576456773, 23.439911634102447], \"showgrid\": true, \"title\": {\"text\": \"Total Integrated Intensity\"}, \"zeroline\": false}},                        {\"responsive\": true}                    ).then(function(){\n",
       "                            \n",
       "var gd = document.getElementById('3f61de0d-3031-4c79-9013-a0e2b5b637c8');\n",
       "var x = new MutationObserver(function (mutations, observer) {{\n",
       "        var display = window.getComputedStyle(gd).display;\n",
       "        if (!display || display === 'none') {{\n",
       "            console.log([gd, 'removed!']);\n",
       "            Plotly.purge(gd);\n",
       "            observer.disconnect();\n",
       "        }}\n",
       "}});\n",
       "\n",
       "// Listen for the removal of the full notebook cells\n",
       "var notebookContainer = gd.closest('#notebook-container');\n",
       "if (notebookContainer) {{\n",
       "    x.observe(notebookContainer, {childList: true});\n",
       "}}\n",
       "\n",
       "// Listen for the clearing of the current output cell\n",
       "var outputEl = gd.closest('.output');\n",
       "if (outputEl) {{\n",
       "    x.observe(outputEl, {childList: true});\n",
       "}}\n",
       "\n",
       "                        })                };                });            </script>        </div>"
      ]
     },
     "metadata": {},
     "output_type": "display_data"
    }
   ],
   "source": [
    "fig = plot_multiple_scatter(\n",
    "    summary,\n",
    "    x='area_sum',\n",
    "    y='integrated_intensity_sum',\n",
    "    c='image_number_str',\n",
    "    xlabel='Total Area',\n",
    "    ylabel='Total Integrated Intensity',\n",
    "    title='Puncta Total Intensity vs. Total Area'\n",
    ")\n",
    "\n",
    "if save:\n",
    "    save_fig_as_png(fig, 'figures/scatter/scatter_intensity_area.png', height=800, scale=1)\n",
    "\n",
    "fig"
   ]
  },
  {
   "cell_type": "code",
   "execution_count": 16,
   "metadata": {},
   "outputs": [
    {
     "data": {
      "application/vnd.plotly.v1+json": {
       "config": {
        "plotlyServerURL": "https://plot.ly"
       },
       "data": [
        {
         "hovertemplate": "%{text}<br><extra></extra>",
         "marker": {
          "color": "#1f77b4"
         },
         "mode": "markers",
         "name": "3",
         "showlegend": true,
         "text": [
          "Effective Radius Ratio Puncta / Nucleus: 1.0<br>Total Integrated Intensity: 0.0<br>None: 3<br>",
          "Effective Radius Ratio Puncta / Nucleus: 0.26028642628074766<br>Total Integrated Intensity: 0.8269169256091111<br>None: 3<br>",
          "Effective Radius Ratio Puncta / Nucleus: 0.2655858771331843<br>Total Integrated Intensity: 1.006195172667502<br>None: 3<br>",
          "Effective Radius Ratio Puncta / Nucleus: 1.0<br>Total Integrated Intensity: 0.0<br>None: 3<br>",
          "Effective Radius Ratio Puncta / Nucleus: 0.03873104382610596<br>Total Integrated Intensity: 0.211474785581231<br>None: 3<br>",
          "Effective Radius Ratio Puncta / Nucleus: 1.0<br>Total Integrated Intensity: 0.0<br>None: 3<br>",
          "Effective Radius Ratio Puncta / Nucleus: 0.1870877895331754<br>Total Integrated Intensity: 1.647882822901008<br>None: 3<br>",
          "Effective Radius Ratio Puncta / Nucleus: 1.0<br>Total Integrated Intensity: 0.0<br>None: 3<br>",
          "Effective Radius Ratio Puncta / Nucleus: 1.0<br>Total Integrated Intensity: 0.0<br>None: 3<br>",
          "Effective Radius Ratio Puncta / Nucleus: 0.6762118254721395<br>Total Integrated Intensity: 8.031143683940158<br>None: 3<br>",
          "Effective Radius Ratio Puncta / Nucleus: 1.0<br>Total Integrated Intensity: 0.0<br>None: 3<br>",
          "Effective Radius Ratio Puncta / Nucleus: 0.41089008366122703<br>Total Integrated Intensity: 3.6437323614954864<br>None: 3<br>",
          "Effective Radius Ratio Puncta / Nucleus: 0.5317556799601661<br>Total Integrated Intensity: 7.401007140055288<br>None: 3<br>",
          "Effective Radius Ratio Puncta / Nucleus: 1.0<br>Total Integrated Intensity: 0.0<br>None: 3<br>",
          "Effective Radius Ratio Puncta / Nucleus: 0.6952218816483346<br>Total Integrated Intensity: 15.429358404129719<br>None: 3<br>",
          "Effective Radius Ratio Puncta / Nucleus: 0.5921702942172392<br>Total Integrated Intensity: 6.316472133621558<br>None: 3<br>",
          "Effective Radius Ratio Puncta / Nucleus: 0.329243010543736<br>Total Integrated Intensity: 2.4777142070233795<br>None: 3<br>",
          "Effective Radius Ratio Puncta / Nucleus: 0.4299644954262711<br>Total Integrated Intensity: 2.0525826029479477<br>None: 3<br>",
          "Effective Radius Ratio Puncta / Nucleus: 0.4087180403532356<br>Total Integrated Intensity: 7.676127310842263<br>None: 3<br>",
          "Effective Radius Ratio Puncta / Nucleus: 0.5855040504757217<br>Total Integrated Intensity: 14.562340751290295<br>None: 3<br>",
          "Effective Radius Ratio Puncta / Nucleus: 0.6320050270425176<br>Total Integrated Intensity: 7.542671909555785<br>None: 3<br>",
          "Effective Radius Ratio Puncta / Nucleus: 0.37071623481349064<br>Total Integrated Intensity: 2.3145799990743297<br>None: 3<br>",
          "Effective Radius Ratio Puncta / Nucleus: 0.42731524731011516<br>Total Integrated Intensity: 3.1351949479430887<br>None: 3<br>",
          "Effective Radius Ratio Puncta / Nucleus: 0.1670146789369791<br>Total Integrated Intensity: 0.06758220866322498<br>None: 3<br>",
          "Effective Radius Ratio Puncta / Nucleus: 0.9601073982526703<br>Total Integrated Intensity: 4.633325712755317<br>None: 3<br>",
          "Effective Radius Ratio Puncta / Nucleus: 0.522239277188337<br>Total Integrated Intensity: 5.180651582777493<br>None: 3<br>",
          "Effective Radius Ratio Puncta / Nucleus: 0.3833243742794574<br>Total Integrated Intensity: 4.027328932657833<br>None: 3<br>",
          "Effective Radius Ratio Puncta / Nucleus: 0.27532693116306983<br>Total Integrated Intensity: 0.28194095008075<br>None: 3<br>"
         ],
         "type": "scatter",
         "x": [
          1,
          0.26028642628074766,
          0.2655858771331843,
          1,
          0.03873104382610596,
          1,
          0.1870877895331754,
          1,
          1,
          0.6762118254721395,
          1,
          0.41089008366122703,
          0.5317556799601661,
          1,
          0.6952218816483346,
          0.5921702942172392,
          0.329243010543736,
          0.4299644954262711,
          0.4087180403532356,
          0.5855040504757217,
          0.6320050270425176,
          0.37071623481349064,
          0.42731524731011516,
          0.1670146789369791,
          0.9601073982526703,
          0.522239277188337,
          0.3833243742794574,
          0.27532693116306983
         ],
         "y": [
          0,
          0.8269169256091111,
          1.006195172667502,
          0,
          0.211474785581231,
          0,
          1.647882822901008,
          0,
          0,
          8.031143683940158,
          0,
          3.6437323614954864,
          7.401007140055288,
          0,
          15.429358404129719,
          6.316472133621558,
          2.4777142070233795,
          2.0525826029479477,
          7.676127310842263,
          14.562340751290295,
          7.542671909555785,
          2.3145799990743297,
          3.1351949479430887,
          0.06758220866322498,
          4.633325712755317,
          5.180651582777493,
          4.027328932657833,
          0.28194095008075
         ]
        },
        {
         "hovertemplate": "%{text}<br><extra></extra>",
         "marker": {
          "color": "#ff7f0e"
         },
         "mode": "markers",
         "name": "8",
         "showlegend": true,
         "text": [
          "Effective Radius Ratio Puncta / Nucleus: 0.6160164416854548<br>Total Integrated Intensity: 0.939772646874189<br>None: 8<br>",
          "Effective Radius Ratio Puncta / Nucleus: 0.5071830916127373<br>Total Integrated Intensity: 10.569298872724165<br>None: 8<br>",
          "Effective Radius Ratio Puncta / Nucleus: 0.24445843100392495<br>Total Integrated Intensity: 0.5218738093972201<br>None: 8<br>",
          "Effective Radius Ratio Puncta / Nucleus: 0.38318491762075574<br>Total Integrated Intensity: 4.484855441376554<br>None: 8<br>",
          "Effective Radius Ratio Puncta / Nucleus: 0.46407570813334387<br>Total Integrated Intensity: 5.348104098811737<br>None: 8<br>",
          "Effective Radius Ratio Puncta / Nucleus: 1.0<br>Total Integrated Intensity: 0.0<br>None: 8<br>",
          "Effective Radius Ratio Puncta / Nucleus: 1.0<br>Total Integrated Intensity: 0.0<br>None: 8<br>",
          "Effective Radius Ratio Puncta / Nucleus: 0.2557195022190879<br>Total Integrated Intensity: 4.093553068116301<br>None: 8<br>",
          "Effective Radius Ratio Puncta / Nucleus: 0.3049021438440984<br>Total Integrated Intensity: 0.515358209609984<br>None: 8<br>",
          "Effective Radius Ratio Puncta / Nucleus: 0.39736738736368005<br>Total Integrated Intensity: 10.758602308109385<br>None: 8<br>",
          "Effective Radius Ratio Puncta / Nucleus: 0.3611951441130873<br>Total Integrated Intensity: 0.46558327600359906<br>None: 8<br>",
          "Effective Radius Ratio Puncta / Nucleus: 0.3185178065438761<br>Total Integrated Intensity: 0.39201953634619596<br>None: 8<br>",
          "Effective Radius Ratio Puncta / Nucleus: 0.6729830449714467<br>Total Integrated Intensity: 2.3126878887414897<br>None: 8<br>",
          "Effective Radius Ratio Puncta / Nucleus: 0.6130813485299238<br>Total Integrated Intensity: 1.4850080218166088<br>None: 8<br>",
          "Effective Radius Ratio Puncta / Nucleus: 1.0<br>Total Integrated Intensity: 0.0<br>None: 8<br>",
          "Effective Radius Ratio Puncta / Nucleus: 0.46721129037189574<br>Total Integrated Intensity: 3.384954631328577<br>None: 8<br>",
          "Effective Radius Ratio Puncta / Nucleus: 0.6135484481759725<br>Total Integrated Intensity: 0.17279316298663702<br>None: 8<br>",
          "Effective Radius Ratio Puncta / Nucleus: 0.633242177979923<br>Total Integrated Intensity: 16.29625397734341<br>None: 8<br>",
          "Effective Radius Ratio Puncta / Nucleus: 1.0<br>Total Integrated Intensity: 0.0<br>None: 8<br>",
          "Effective Radius Ratio Puncta / Nucleus: 1.0<br>Total Integrated Intensity: 0.0<br>None: 8<br>",
          "Effective Radius Ratio Puncta / Nucleus: 0.4661103171548466<br>Total Integrated Intensity: 6.928557265549888<br>None: 8<br>",
          "Effective Radius Ratio Puncta / Nucleus: 0.956207454834113<br>Total Integrated Intensity: 0.22046235203743<br>None: 8<br>",
          "Effective Radius Ratio Puncta / Nucleus: 1.0<br>Total Integrated Intensity: 0.0<br>None: 8<br>",
          "Effective Radius Ratio Puncta / Nucleus: 0.2576206251652722<br>Total Integrated Intensity: 0.9273670613765701<br>None: 8<br>",
          "Effective Radius Ratio Puncta / Nucleus: 1.0<br>Total Integrated Intensity: 0.0<br>None: 8<br>",
          "Effective Radius Ratio Puncta / Nucleus: 0.7543929135157798<br>Total Integrated Intensity: 4.556694917380804<br>None: 8<br>",
          "Effective Radius Ratio Puncta / Nucleus: 0.4347544904306764<br>Total Integrated Intensity: 13.755748901516181<br>None: 8<br>",
          "Effective Radius Ratio Puncta / Nucleus: 1.0<br>Total Integrated Intensity: 0.0<br>None: 8<br>",
          "Effective Radius Ratio Puncta / Nucleus: 0.5381913347226407<br>Total Integrated Intensity: 7.713817091658696<br>None: 8<br>",
          "Effective Radius Ratio Puncta / Nucleus: 0.5552988574282419<br>Total Integrated Intensity: 8.833859823644145<br>None: 8<br>",
          "Effective Radius Ratio Puncta / Nucleus: 1.0<br>Total Integrated Intensity: 0.0<br>None: 8<br>",
          "Effective Radius Ratio Puncta / Nucleus: 1.0<br>Total Integrated Intensity: 0.0<br>None: 8<br>"
         ],
         "type": "scatter",
         "x": [
          0.6160164416854548,
          0.5071830916127373,
          0.24445843100392495,
          0.38318491762075574,
          0.46407570813334387,
          1,
          1,
          0.2557195022190879,
          0.3049021438440984,
          0.39736738736368005,
          0.3611951441130873,
          0.3185178065438761,
          0.6729830449714467,
          0.6130813485299238,
          1,
          0.46721129037189574,
          0.6135484481759725,
          0.633242177979923,
          1,
          1,
          0.4661103171548466,
          0.956207454834113,
          1,
          0.2576206251652722,
          1,
          0.7543929135157798,
          0.4347544904306764,
          1,
          0.5381913347226407,
          0.5552988574282419,
          1,
          1
         ],
         "y": [
          0.939772646874189,
          10.569298872724165,
          0.5218738093972201,
          4.484855441376554,
          5.348104098811737,
          0,
          0,
          4.093553068116301,
          0.515358209609984,
          10.758602308109385,
          0.46558327600359906,
          0.39201953634619596,
          2.3126878887414897,
          1.4850080218166088,
          0,
          3.384954631328577,
          0.17279316298663702,
          16.29625397734341,
          0,
          0,
          6.928557265549888,
          0.22046235203743,
          0,
          0.9273670613765701,
          0,
          4.556694917380804,
          13.755748901516181,
          0,
          7.713817091658696,
          8.833859823644145,
          0,
          0
         ]
        },
        {
         "hovertemplate": "%{text}<br><extra></extra>",
         "marker": {
          "color": "#2ca02c"
         },
         "mode": "markers",
         "name": "18",
         "showlegend": true,
         "text": [
          "Effective Radius Ratio Puncta / Nucleus: 1.0<br>Total Integrated Intensity: 0.0<br>None: 18<br>",
          "Effective Radius Ratio Puncta / Nucleus: 1.0<br>Total Integrated Intensity: 0.0<br>None: 18<br>",
          "Effective Radius Ratio Puncta / Nucleus: 0.38899320062318515<br>Total Integrated Intensity: 6.266041051596387<br>None: 18<br>",
          "Effective Radius Ratio Puncta / Nucleus: 0.35717039560839187<br>Total Integrated Intensity: 4.075547438114876<br>None: 18<br>",
          "Effective Radius Ratio Puncta / Nucleus: 0.5505098853053769<br>Total Integrated Intensity: 0.11638056114316002<br>None: 18<br>",
          "Effective Radius Ratio Puncta / Nucleus: 0.22427022558621745<br>Total Integrated Intensity: 0.158587016165256<br>None: 18<br>",
          "Effective Radius Ratio Puncta / Nucleus: 0.02234392810843759<br>Total Integrated Intensity: 0.05648889951407901<br>None: 18<br>",
          "Effective Radius Ratio Puncta / Nucleus: 1.0<br>Total Integrated Intensity: 0.0<br>None: 18<br>",
          "Effective Radius Ratio Puncta / Nucleus: 0.44205440824867476<br>Total Integrated Intensity: 19.2472572252154<br>None: 18<br>",
          "Effective Radius Ratio Puncta / Nucleus: 0.26568762817993086<br>Total Integrated Intensity: 1.115800725296139<br>None: 18<br>",
          "Effective Radius Ratio Puncta / Nucleus: 1.7527300065754154<br>Total Integrated Intensity: 0.322499427944421<br>None: 18<br>",
          "Effective Radius Ratio Puncta / Nucleus: 0.30926468753623965<br>Total Integrated Intensity: 1.357198450714348<br>None: 18<br>",
          "Effective Radius Ratio Puncta / Nucleus: 1.0<br>Total Integrated Intensity: 0.0<br>None: 18<br>",
          "Effective Radius Ratio Puncta / Nucleus: 1.0166345218646355<br>Total Integrated Intensity: 0.175020981580019<br>None: 18<br>",
          "Effective Radius Ratio Puncta / Nucleus: 0.6881781436408219<br>Total Integrated Intensity: 0.46720073372125703<br>None: 18<br>",
          "Effective Radius Ratio Puncta / Nucleus: 0.6099982912186394<br>Total Integrated Intensity: 0.816937515512107<br>None: 18<br>",
          "Effective Radius Ratio Puncta / Nucleus: 0.42709441744160137<br>Total Integrated Intensity: 10.457984309643487<br>None: 18<br>",
          "Effective Radius Ratio Puncta / Nucleus: 0.31640656008384077<br>Total Integrated Intensity: 7.743007577955703<br>None: 18<br>",
          "Effective Radius Ratio Puncta / Nucleus: 0.23915370778455<br>Total Integrated Intensity: 0.35005722008645496<br>None: 18<br>",
          "Effective Radius Ratio Puncta / Nucleus: 1.0<br>Total Integrated Intensity: 0.0<br>None: 18<br>",
          "Effective Radius Ratio Puncta / Nucleus: 1.0<br>Total Integrated Intensity: 0.0<br>None: 18<br>",
          "Effective Radius Ratio Puncta / Nucleus: 0.7461091083301883<br>Total Integrated Intensity: 16.114107033237786<br>None: 18<br>",
          "Effective Radius Ratio Puncta / Nucleus: 1.0<br>Total Integrated Intensity: 0.0<br>None: 18<br>",
          "Effective Radius Ratio Puncta / Nucleus: 0.5192271904487379<br>Total Integrated Intensity: 13.412481905892475<br>None: 18<br>",
          "Effective Radius Ratio Puncta / Nucleus: 0.4478657273377924<br>Total Integrated Intensity: 7.7235523238778<br>None: 18<br>",
          "Effective Radius Ratio Puncta / Nucleus: 0.4290325220980134<br>Total Integrated Intensity: 7.075593212619409<br>None: 18<br>",
          "Effective Radius Ratio Puncta / Nucleus: 1.0<br>Total Integrated Intensity: 0.0<br>None: 18<br>",
          "Effective Radius Ratio Puncta / Nucleus: 1.0<br>Total Integrated Intensity: 0.0<br>None: 18<br>",
          "Effective Radius Ratio Puncta / Nucleus: 0.45409874109460596<br>Total Integrated Intensity: 13.170367017388333<br>None: 18<br>"
         ],
         "type": "scatter",
         "x": [
          1,
          1,
          0.38899320062318515,
          0.35717039560839187,
          0.5505098853053769,
          0.22427022558621745,
          0.02234392810843759,
          1,
          0.44205440824867476,
          0.26568762817993086,
          1.7527300065754154,
          0.30926468753623965,
          1,
          1.0166345218646355,
          0.6881781436408219,
          0.6099982912186394,
          0.42709441744160137,
          0.31640656008384077,
          0.23915370778455,
          1,
          1,
          0.7461091083301883,
          1,
          0.5192271904487379,
          0.4478657273377924,
          0.4290325220980134,
          1,
          1,
          0.45409874109460596
         ],
         "y": [
          0,
          0,
          6.266041051596387,
          4.075547438114876,
          0.11638056114316002,
          0.158587016165256,
          0.05648889951407901,
          0,
          19.2472572252154,
          1.115800725296139,
          0.322499427944421,
          1.357198450714348,
          0,
          0.175020981580019,
          0.46720073372125703,
          0.816937515512107,
          10.457984309643487,
          7.743007577955703,
          0.35005722008645496,
          0,
          0,
          16.114107033237786,
          0,
          13.412481905892475,
          7.7235523238778,
          7.075593212619409,
          0,
          0,
          13.170367017388333
         ]
        },
        {
         "hovertemplate": "%{text}<br><extra></extra>",
         "marker": {
          "color": "#d62728"
         },
         "mode": "markers",
         "name": "20",
         "showlegend": true,
         "text": [
          "Effective Radius Ratio Puncta / Nucleus: 1.0<br>Total Integrated Intensity: 0.0<br>None: 20<br>",
          "Effective Radius Ratio Puncta / Nucleus: 1.0<br>Total Integrated Intensity: 0.0<br>None: 20<br>",
          "Effective Radius Ratio Puncta / Nucleus: 1.0<br>Total Integrated Intensity: 0.0<br>None: 20<br>",
          "Effective Radius Ratio Puncta / Nucleus: 0.01350242221424651<br>Total Integrated Intensity: 0.021911956369877<br>None: 20<br>",
          "Effective Radius Ratio Puncta / Nucleus: 0.7701533761751982<br>Total Integrated Intensity: 1.9427023865282531<br>None: 20<br>",
          "Effective Radius Ratio Puncta / Nucleus: 1.0<br>Total Integrated Intensity: 0.0<br>None: 20<br>",
          "Effective Radius Ratio Puncta / Nucleus: 0.580716200289267<br>Total Integrated Intensity: 6.383703391998989<br>None: 20<br>",
          "Effective Radius Ratio Puncta / Nucleus: 1.0<br>Total Integrated Intensity: 0.0<br>None: 20<br>",
          "Effective Radius Ratio Puncta / Nucleus: 1.0<br>Total Integrated Intensity: 0.0<br>None: 20<br>",
          "Effective Radius Ratio Puncta / Nucleus: 1.2223659045316457<br>Total Integrated Intensity: 0.38619058765471<br>None: 20<br>",
          "Effective Radius Ratio Puncta / Nucleus: 0.6096857652524241<br>Total Integrated Intensity: 1.4292515534907548<br>None: 20<br>",
          "Effective Radius Ratio Puncta / Nucleus: 0.8125615526778324<br>Total Integrated Intensity: 3.327412836253641<br>None: 20<br>",
          "Effective Radius Ratio Puncta / Nucleus: 1.0<br>Total Integrated Intensity: 0.0<br>None: 20<br>",
          "Effective Radius Ratio Puncta / Nucleus: 0.37275669163631125<br>Total Integrated Intensity: 0.842771047726273<br>None: 20<br>",
          "Effective Radius Ratio Puncta / Nucleus: 0.5324968710141941<br>Total Integrated Intensity: 12.431998224928966<br>None: 20<br>",
          "Effective Radius Ratio Puncta / Nucleus: 1.0<br>Total Integrated Intensity: 0.0<br>None: 20<br>",
          "Effective Radius Ratio Puncta / Nucleus: 1.0<br>Total Integrated Intensity: 0.0<br>None: 20<br>",
          "Effective Radius Ratio Puncta / Nucleus: 0.673618310916368<br>Total Integrated Intensity: 0.30150301568209903<br>None: 20<br>",
          "Effective Radius Ratio Puncta / Nucleus: 1.0<br>Total Integrated Intensity: 0.0<br>None: 20<br>",
          "Effective Radius Ratio Puncta / Nucleus: 0.6804259027396037<br>Total Integrated Intensity: 21.30901057645677<br>None: 20<br>",
          "Effective Radius Ratio Puncta / Nucleus: 0.9400404458941006<br>Total Integrated Intensity: 0.424383921548724<br>None: 20<br>",
          "Effective Radius Ratio Puncta / Nucleus: 0.37018543519691705<br>Total Integrated Intensity: 1.174334326758977<br>None: 20<br>",
          "Effective Radius Ratio Puncta / Nucleus: 0.9038832916038753<br>Total Integrated Intensity: 3.3106736969202695<br>None: 20<br>",
          "Effective Radius Ratio Puncta / Nucleus: 1.0<br>Total Integrated Intensity: 0.0<br>None: 20<br>",
          "Effective Radius Ratio Puncta / Nucleus: 1.0<br>Total Integrated Intensity: 0.0<br>None: 20<br>",
          "Effective Radius Ratio Puncta / Nucleus: 0.9180149017895288<br>Total Integrated Intensity: 13.286762857809638<br>None: 20<br>",
          "Effective Radius Ratio Puncta / Nucleus: 1.0878840278644046<br>Total Integrated Intensity: 1.051163505762816<br>None: 20<br>",
          "Effective Radius Ratio Puncta / Nucleus: 1.1260282725264925<br>Total Integrated Intensity: 0.341527428478005<br>None: 20<br>",
          "Effective Radius Ratio Puncta / Nucleus: 1.0<br>Total Integrated Intensity: 0.0<br>None: 20<br>",
          "Effective Radius Ratio Puncta / Nucleus: 0.6754378157725578<br>Total Integrated Intensity: 2.0042572859674648<br>None: 20<br>",
          "Effective Radius Ratio Puncta / Nucleus: 0.015253404749263625<br>Total Integrated Intensity: 0.022705424576998<br>None: 20<br>",
          "Effective Radius Ratio Puncta / Nucleus: 1.0<br>Total Integrated Intensity: 0.0<br>None: 20<br>",
          "Effective Radius Ratio Puncta / Nucleus: 1.0<br>Total Integrated Intensity: 0.0<br>None: 20<br>",
          "Effective Radius Ratio Puncta / Nucleus: 0.5185235207673817<br>Total Integrated Intensity: 6.921934882178886<br>None: 20<br>",
          "Effective Radius Ratio Puncta / Nucleus: 0.32490804622480773<br>Total Integrated Intensity: 2.6206454653292774<br>None: 20<br>",
          "Effective Radius Ratio Puncta / Nucleus: 1.0<br>Total Integrated Intensity: 0.0<br>None: 20<br>",
          "Effective Radius Ratio Puncta / Nucleus: 0.9232028889143029<br>Total Integrated Intensity: 0.8127260301262131<br>None: 20<br>",
          "Effective Radius Ratio Puncta / Nucleus: 0.9087437331093696<br>Total Integrated Intensity: 1.511955453082917<br>None: 20<br>",
          "Effective Radius Ratio Puncta / Nucleus: 0.4342178405709377<br>Total Integrated Intensity: 3.6083467062562655<br>None: 20<br>",
          "Effective Radius Ratio Puncta / Nucleus: 0.669948195629537<br>Total Integrated Intensity: 0.782360576093196<br>None: 20<br>",
          "Effective Radius Ratio Puncta / Nucleus: 0.7235911893142016<br>Total Integrated Intensity: 4.86567484959959<br>None: 20<br>",
          "Effective Radius Ratio Puncta / Nucleus: 1.0<br>Total Integrated Intensity: 0.0<br>None: 20<br>",
          "Effective Radius Ratio Puncta / Nucleus: 0.9257944643313776<br>Total Integrated Intensity: 0.550148781388998<br>None: 20<br>",
          "Effective Radius Ratio Puncta / Nucleus: 0.3295435374351613<br>Total Integrated Intensity: 0.39740596897900105<br>None: 20<br>",
          "Effective Radius Ratio Puncta / Nucleus: 1.0<br>Total Integrated Intensity: 0.0<br>None: 20<br>",
          "Effective Radius Ratio Puncta / Nucleus: 1.0<br>Total Integrated Intensity: 0.0<br>None: 20<br>",
          "Effective Radius Ratio Puncta / Nucleus: 1.0664247609213746<br>Total Integrated Intensity: 0.395056078210474<br>None: 20<br>",
          "Effective Radius Ratio Puncta / Nucleus: 0.37015862913361536<br>Total Integrated Intensity: 0.070222018286586<br>None: 20<br>",
          "Effective Radius Ratio Puncta / Nucleus: 0.02282474539495152<br>Total Integrated Intensity: 0.091157397255301<br>None: 20<br>",
          "Effective Radius Ratio Puncta / Nucleus: 0.34729797550660313<br>Total Integrated Intensity: 0.870710309594869<br>None: 20<br>",
          "Effective Radius Ratio Puncta / Nucleus: 0.2560613032120079<br>Total Integrated Intensity: 4.51340505853294<br>None: 20<br>",
          "Effective Radius Ratio Puncta / Nucleus: 0.6698591273275982<br>Total Integrated Intensity: 0.43385977298021194<br>None: 20<br>",
          "Effective Radius Ratio Puncta / Nucleus: 0.5229030536896515<br>Total Integrated Intensity: 6.018387144431459<br>None: 20<br>"
         ],
         "type": "scatter",
         "x": [
          1,
          1,
          1,
          0.01350242221424651,
          0.7701533761751982,
          1,
          0.580716200289267,
          1,
          1,
          1.2223659045316457,
          0.6096857652524241,
          0.8125615526778324,
          1,
          0.37275669163631125,
          0.5324968710141941,
          1,
          1,
          0.673618310916368,
          1,
          0.6804259027396037,
          0.9400404458941006,
          0.37018543519691705,
          0.9038832916038753,
          1,
          1,
          0.9180149017895288,
          1.0878840278644046,
          1.1260282725264925,
          1,
          0.6754378157725578,
          0.015253404749263625,
          1,
          1,
          0.5185235207673817,
          0.32490804622480773,
          1,
          0.9232028889143029,
          0.9087437331093696,
          0.4342178405709377,
          0.669948195629537,
          0.7235911893142016,
          1,
          0.9257944643313776,
          0.3295435374351613,
          1,
          1,
          1.0664247609213746,
          0.37015862913361536,
          0.02282474539495152,
          0.34729797550660313,
          0.2560613032120079,
          0.6698591273275982,
          0.5229030536896515
         ],
         "y": [
          0,
          0,
          0,
          0.021911956369877,
          1.9427023865282531,
          0,
          6.383703391998989,
          0,
          0,
          0.38619058765471,
          1.4292515534907548,
          3.327412836253641,
          0,
          0.842771047726273,
          12.431998224928966,
          0,
          0,
          0.30150301568209903,
          0,
          21.30901057645677,
          0.424383921548724,
          1.174334326758977,
          3.3106736969202695,
          0,
          0,
          13.286762857809638,
          1.051163505762816,
          0.341527428478005,
          0,
          2.0042572859674648,
          0.022705424576998,
          0,
          0,
          6.921934882178886,
          2.6206454653292774,
          0,
          0.8127260301262131,
          1.511955453082917,
          3.6083467062562655,
          0.782360576093196,
          4.86567484959959,
          0,
          0.550148781388998,
          0.39740596897900105,
          0,
          0,
          0.395056078210474,
          0.070222018286586,
          0.091157397255301,
          0.870710309594869,
          4.51340505853294,
          0.43385977298021194,
          6.018387144431459
         ]
        }
       ],
       "layout": {
        "hovermode": "closest",
        "plot_bgcolor": "rgba(0,0,0,0)",
        "showlegend": true,
        "template": {
         "data": {
          "bar": [
           {
            "error_x": {
             "color": "#2a3f5f"
            },
            "error_y": {
             "color": "#2a3f5f"
            },
            "marker": {
             "line": {
              "color": "#E5ECF6",
              "width": 0.5
             }
            },
            "type": "bar"
           }
          ],
          "barpolar": [
           {
            "marker": {
             "line": {
              "color": "#E5ECF6",
              "width": 0.5
             }
            },
            "type": "barpolar"
           }
          ],
          "carpet": [
           {
            "aaxis": {
             "endlinecolor": "#2a3f5f",
             "gridcolor": "white",
             "linecolor": "white",
             "minorgridcolor": "white",
             "startlinecolor": "#2a3f5f"
            },
            "baxis": {
             "endlinecolor": "#2a3f5f",
             "gridcolor": "white",
             "linecolor": "white",
             "minorgridcolor": "white",
             "startlinecolor": "#2a3f5f"
            },
            "type": "carpet"
           }
          ],
          "choropleth": [
           {
            "colorbar": {
             "outlinewidth": 0,
             "ticks": ""
            },
            "type": "choropleth"
           }
          ],
          "contour": [
           {
            "colorbar": {
             "outlinewidth": 0,
             "ticks": ""
            },
            "colorscale": [
             [
              0,
              "#0d0887"
             ],
             [
              0.1111111111111111,
              "#46039f"
             ],
             [
              0.2222222222222222,
              "#7201a8"
             ],
             [
              0.3333333333333333,
              "#9c179e"
             ],
             [
              0.4444444444444444,
              "#bd3786"
             ],
             [
              0.5555555555555556,
              "#d8576b"
             ],
             [
              0.6666666666666666,
              "#ed7953"
             ],
             [
              0.7777777777777778,
              "#fb9f3a"
             ],
             [
              0.8888888888888888,
              "#fdca26"
             ],
             [
              1,
              "#f0f921"
             ]
            ],
            "type": "contour"
           }
          ],
          "contourcarpet": [
           {
            "colorbar": {
             "outlinewidth": 0,
             "ticks": ""
            },
            "type": "contourcarpet"
           }
          ],
          "heatmap": [
           {
            "colorbar": {
             "outlinewidth": 0,
             "ticks": ""
            },
            "colorscale": [
             [
              0,
              "#0d0887"
             ],
             [
              0.1111111111111111,
              "#46039f"
             ],
             [
              0.2222222222222222,
              "#7201a8"
             ],
             [
              0.3333333333333333,
              "#9c179e"
             ],
             [
              0.4444444444444444,
              "#bd3786"
             ],
             [
              0.5555555555555556,
              "#d8576b"
             ],
             [
              0.6666666666666666,
              "#ed7953"
             ],
             [
              0.7777777777777778,
              "#fb9f3a"
             ],
             [
              0.8888888888888888,
              "#fdca26"
             ],
             [
              1,
              "#f0f921"
             ]
            ],
            "type": "heatmap"
           }
          ],
          "heatmapgl": [
           {
            "colorbar": {
             "outlinewidth": 0,
             "ticks": ""
            },
            "colorscale": [
             [
              0,
              "#0d0887"
             ],
             [
              0.1111111111111111,
              "#46039f"
             ],
             [
              0.2222222222222222,
              "#7201a8"
             ],
             [
              0.3333333333333333,
              "#9c179e"
             ],
             [
              0.4444444444444444,
              "#bd3786"
             ],
             [
              0.5555555555555556,
              "#d8576b"
             ],
             [
              0.6666666666666666,
              "#ed7953"
             ],
             [
              0.7777777777777778,
              "#fb9f3a"
             ],
             [
              0.8888888888888888,
              "#fdca26"
             ],
             [
              1,
              "#f0f921"
             ]
            ],
            "type": "heatmapgl"
           }
          ],
          "histogram": [
           {
            "marker": {
             "colorbar": {
              "outlinewidth": 0,
              "ticks": ""
             }
            },
            "type": "histogram"
           }
          ],
          "histogram2d": [
           {
            "colorbar": {
             "outlinewidth": 0,
             "ticks": ""
            },
            "colorscale": [
             [
              0,
              "#0d0887"
             ],
             [
              0.1111111111111111,
              "#46039f"
             ],
             [
              0.2222222222222222,
              "#7201a8"
             ],
             [
              0.3333333333333333,
              "#9c179e"
             ],
             [
              0.4444444444444444,
              "#bd3786"
             ],
             [
              0.5555555555555556,
              "#d8576b"
             ],
             [
              0.6666666666666666,
              "#ed7953"
             ],
             [
              0.7777777777777778,
              "#fb9f3a"
             ],
             [
              0.8888888888888888,
              "#fdca26"
             ],
             [
              1,
              "#f0f921"
             ]
            ],
            "type": "histogram2d"
           }
          ],
          "histogram2dcontour": [
           {
            "colorbar": {
             "outlinewidth": 0,
             "ticks": ""
            },
            "colorscale": [
             [
              0,
              "#0d0887"
             ],
             [
              0.1111111111111111,
              "#46039f"
             ],
             [
              0.2222222222222222,
              "#7201a8"
             ],
             [
              0.3333333333333333,
              "#9c179e"
             ],
             [
              0.4444444444444444,
              "#bd3786"
             ],
             [
              0.5555555555555556,
              "#d8576b"
             ],
             [
              0.6666666666666666,
              "#ed7953"
             ],
             [
              0.7777777777777778,
              "#fb9f3a"
             ],
             [
              0.8888888888888888,
              "#fdca26"
             ],
             [
              1,
              "#f0f921"
             ]
            ],
            "type": "histogram2dcontour"
           }
          ],
          "mesh3d": [
           {
            "colorbar": {
             "outlinewidth": 0,
             "ticks": ""
            },
            "type": "mesh3d"
           }
          ],
          "parcoords": [
           {
            "line": {
             "colorbar": {
              "outlinewidth": 0,
              "ticks": ""
             }
            },
            "type": "parcoords"
           }
          ],
          "pie": [
           {
            "automargin": true,
            "type": "pie"
           }
          ],
          "scatter": [
           {
            "marker": {
             "colorbar": {
              "outlinewidth": 0,
              "ticks": ""
             }
            },
            "type": "scatter"
           }
          ],
          "scatter3d": [
           {
            "line": {
             "colorbar": {
              "outlinewidth": 0,
              "ticks": ""
             }
            },
            "marker": {
             "colorbar": {
              "outlinewidth": 0,
              "ticks": ""
             }
            },
            "type": "scatter3d"
           }
          ],
          "scattercarpet": [
           {
            "marker": {
             "colorbar": {
              "outlinewidth": 0,
              "ticks": ""
             }
            },
            "type": "scattercarpet"
           }
          ],
          "scattergeo": [
           {
            "marker": {
             "colorbar": {
              "outlinewidth": 0,
              "ticks": ""
             }
            },
            "type": "scattergeo"
           }
          ],
          "scattergl": [
           {
            "marker": {
             "colorbar": {
              "outlinewidth": 0,
              "ticks": ""
             }
            },
            "type": "scattergl"
           }
          ],
          "scattermapbox": [
           {
            "marker": {
             "colorbar": {
              "outlinewidth": 0,
              "ticks": ""
             }
            },
            "type": "scattermapbox"
           }
          ],
          "scatterpolar": [
           {
            "marker": {
             "colorbar": {
              "outlinewidth": 0,
              "ticks": ""
             }
            },
            "type": "scatterpolar"
           }
          ],
          "scatterpolargl": [
           {
            "marker": {
             "colorbar": {
              "outlinewidth": 0,
              "ticks": ""
             }
            },
            "type": "scatterpolargl"
           }
          ],
          "scatterternary": [
           {
            "marker": {
             "colorbar": {
              "outlinewidth": 0,
              "ticks": ""
             }
            },
            "type": "scatterternary"
           }
          ],
          "surface": [
           {
            "colorbar": {
             "outlinewidth": 0,
             "ticks": ""
            },
            "colorscale": [
             [
              0,
              "#0d0887"
             ],
             [
              0.1111111111111111,
              "#46039f"
             ],
             [
              0.2222222222222222,
              "#7201a8"
             ],
             [
              0.3333333333333333,
              "#9c179e"
             ],
             [
              0.4444444444444444,
              "#bd3786"
             ],
             [
              0.5555555555555556,
              "#d8576b"
             ],
             [
              0.6666666666666666,
              "#ed7953"
             ],
             [
              0.7777777777777778,
              "#fb9f3a"
             ],
             [
              0.8888888888888888,
              "#fdca26"
             ],
             [
              1,
              "#f0f921"
             ]
            ],
            "type": "surface"
           }
          ],
          "table": [
           {
            "cells": {
             "fill": {
              "color": "#EBF0F8"
             },
             "line": {
              "color": "white"
             }
            },
            "header": {
             "fill": {
              "color": "#C8D4E3"
             },
             "line": {
              "color": "white"
             }
            },
            "type": "table"
           }
          ]
         },
         "layout": {
          "annotationdefaults": {
           "arrowcolor": "#2a3f5f",
           "arrowhead": 0,
           "arrowwidth": 1
          },
          "coloraxis": {
           "colorbar": {
            "outlinewidth": 0,
            "ticks": ""
           }
          },
          "colorscale": {
           "diverging": [
            [
             0,
             "#8e0152"
            ],
            [
             0.1,
             "#c51b7d"
            ],
            [
             0.2,
             "#de77ae"
            ],
            [
             0.3,
             "#f1b6da"
            ],
            [
             0.4,
             "#fde0ef"
            ],
            [
             0.5,
             "#f7f7f7"
            ],
            [
             0.6,
             "#e6f5d0"
            ],
            [
             0.7,
             "#b8e186"
            ],
            [
             0.8,
             "#7fbc41"
            ],
            [
             0.9,
             "#4d9221"
            ],
            [
             1,
             "#276419"
            ]
           ],
           "sequential": [
            [
             0,
             "#0d0887"
            ],
            [
             0.1111111111111111,
             "#46039f"
            ],
            [
             0.2222222222222222,
             "#7201a8"
            ],
            [
             0.3333333333333333,
             "#9c179e"
            ],
            [
             0.4444444444444444,
             "#bd3786"
            ],
            [
             0.5555555555555556,
             "#d8576b"
            ],
            [
             0.6666666666666666,
             "#ed7953"
            ],
            [
             0.7777777777777778,
             "#fb9f3a"
            ],
            [
             0.8888888888888888,
             "#fdca26"
            ],
            [
             1,
             "#f0f921"
            ]
           ],
           "sequentialminus": [
            [
             0,
             "#0d0887"
            ],
            [
             0.1111111111111111,
             "#46039f"
            ],
            [
             0.2222222222222222,
             "#7201a8"
            ],
            [
             0.3333333333333333,
             "#9c179e"
            ],
            [
             0.4444444444444444,
             "#bd3786"
            ],
            [
             0.5555555555555556,
             "#d8576b"
            ],
            [
             0.6666666666666666,
             "#ed7953"
            ],
            [
             0.7777777777777778,
             "#fb9f3a"
            ],
            [
             0.8888888888888888,
             "#fdca26"
            ],
            [
             1,
             "#f0f921"
            ]
           ]
          },
          "colorway": [
           "#636efa",
           "#EF553B",
           "#00cc96",
           "#ab63fa",
           "#FFA15A",
           "#19d3f3",
           "#FF6692",
           "#B6E880",
           "#FF97FF",
           "#FECB52"
          ],
          "font": {
           "color": "#2a3f5f"
          },
          "geo": {
           "bgcolor": "white",
           "lakecolor": "white",
           "landcolor": "#E5ECF6",
           "showlakes": true,
           "showland": true,
           "subunitcolor": "white"
          },
          "hoverlabel": {
           "align": "left"
          },
          "hovermode": "closest",
          "mapbox": {
           "style": "light"
          },
          "paper_bgcolor": "white",
          "plot_bgcolor": "#E5ECF6",
          "polar": {
           "angularaxis": {
            "gridcolor": "white",
            "linecolor": "white",
            "ticks": ""
           },
           "bgcolor": "#E5ECF6",
           "radialaxis": {
            "gridcolor": "white",
            "linecolor": "white",
            "ticks": ""
           }
          },
          "scene": {
           "xaxis": {
            "backgroundcolor": "#E5ECF6",
            "gridcolor": "white",
            "gridwidth": 2,
            "linecolor": "white",
            "showbackground": true,
            "ticks": "",
            "zerolinecolor": "white"
           },
           "yaxis": {
            "backgroundcolor": "#E5ECF6",
            "gridcolor": "white",
            "gridwidth": 2,
            "linecolor": "white",
            "showbackground": true,
            "ticks": "",
            "zerolinecolor": "white"
           },
           "zaxis": {
            "backgroundcolor": "#E5ECF6",
            "gridcolor": "white",
            "gridwidth": 2,
            "linecolor": "white",
            "showbackground": true,
            "ticks": "",
            "zerolinecolor": "white"
           }
          },
          "shapedefaults": {
           "line": {
            "color": "#2a3f5f"
           }
          },
          "ternary": {
           "aaxis": {
            "gridcolor": "white",
            "linecolor": "white",
            "ticks": ""
           },
           "baxis": {
            "gridcolor": "white",
            "linecolor": "white",
            "ticks": ""
           },
           "bgcolor": "#E5ECF6",
           "caxis": {
            "gridcolor": "white",
            "linecolor": "white",
            "ticks": ""
           }
          },
          "title": {
           "x": 0.05
          },
          "xaxis": {
           "automargin": true,
           "gridcolor": "white",
           "linecolor": "white",
           "ticks": "",
           "title": {
            "standoff": 15
           },
           "zerolinecolor": "white",
           "zerolinewidth": 2
          },
          "yaxis": {
           "automargin": true,
           "gridcolor": "white",
           "linecolor": "white",
           "ticks": "",
           "title": {
            "standoff": 15
           },
           "zerolinecolor": "white",
           "zerolinewidth": 2
          }
         }
        },
        "title": {
         "text": "Puncta Total Intensity vs. Effective Radius Ratio"
        },
        "xaxis": {
         "range": [
          -0.3343430946579873,
          2.1005755234476493
         ],
         "showgrid": true,
         "title": {
          "text": "Effective Radius Ratio Puncta / Nucleus"
         },
         "type": "linear"
        },
        "yaxis": {
         "gridcolor": "#E4EAF2",
         "range": [
          -2.1309010576456773,
          23.439911634102447
         ],
         "showgrid": true,
         "title": {
          "text": "Total Integrated Intensity"
         },
         "zeroline": false
        }
       }
      },
      "text/html": [
       "<div>                            <div id=\"a7268002-4a9a-4369-a180-6857df75540d\" class=\"plotly-graph-div\" style=\"height:525px; width:100%;\"></div>            <script type=\"text/javascript\">                require([\"plotly\"], function(Plotly) {                    window.PLOTLYENV=window.PLOTLYENV || {};                                    if (document.getElementById(\"a7268002-4a9a-4369-a180-6857df75540d\")) {                    Plotly.newPlot(                        \"a7268002-4a9a-4369-a180-6857df75540d\",                        [{\"hovertemplate\": \"%{text}<br><extra></extra>\", \"marker\": {\"color\": \"#1f77b4\"}, \"mode\": \"markers\", \"name\": \"3\", \"showlegend\": true, \"text\": [\"Effective Radius Ratio Puncta / Nucleus: 1.0<br>Total Integrated Intensity: 0.0<br>None: 3<br>\", \"Effective Radius Ratio Puncta / Nucleus: 0.26028642628074766<br>Total Integrated Intensity: 0.8269169256091111<br>None: 3<br>\", \"Effective Radius Ratio Puncta / Nucleus: 0.2655858771331843<br>Total Integrated Intensity: 1.006195172667502<br>None: 3<br>\", \"Effective Radius Ratio Puncta / Nucleus: 1.0<br>Total Integrated Intensity: 0.0<br>None: 3<br>\", \"Effective Radius Ratio Puncta / Nucleus: 0.03873104382610596<br>Total Integrated Intensity: 0.211474785581231<br>None: 3<br>\", \"Effective Radius Ratio Puncta / Nucleus: 1.0<br>Total Integrated Intensity: 0.0<br>None: 3<br>\", \"Effective Radius Ratio Puncta / Nucleus: 0.1870877895331754<br>Total Integrated Intensity: 1.647882822901008<br>None: 3<br>\", \"Effective Radius Ratio Puncta / Nucleus: 1.0<br>Total Integrated Intensity: 0.0<br>None: 3<br>\", \"Effective Radius Ratio Puncta / Nucleus: 1.0<br>Total Integrated Intensity: 0.0<br>None: 3<br>\", \"Effective Radius Ratio Puncta / Nucleus: 0.6762118254721395<br>Total Integrated Intensity: 8.031143683940158<br>None: 3<br>\", \"Effective Radius Ratio Puncta / Nucleus: 1.0<br>Total Integrated Intensity: 0.0<br>None: 3<br>\", \"Effective Radius Ratio Puncta / Nucleus: 0.41089008366122703<br>Total Integrated Intensity: 3.6437323614954864<br>None: 3<br>\", \"Effective Radius Ratio Puncta / Nucleus: 0.5317556799601661<br>Total Integrated Intensity: 7.401007140055288<br>None: 3<br>\", \"Effective Radius Ratio Puncta / Nucleus: 1.0<br>Total Integrated Intensity: 0.0<br>None: 3<br>\", \"Effective Radius Ratio Puncta / Nucleus: 0.6952218816483346<br>Total Integrated Intensity: 15.429358404129719<br>None: 3<br>\", \"Effective Radius Ratio Puncta / Nucleus: 0.5921702942172392<br>Total Integrated Intensity: 6.316472133621558<br>None: 3<br>\", \"Effective Radius Ratio Puncta / Nucleus: 0.329243010543736<br>Total Integrated Intensity: 2.4777142070233795<br>None: 3<br>\", \"Effective Radius Ratio Puncta / Nucleus: 0.4299644954262711<br>Total Integrated Intensity: 2.0525826029479477<br>None: 3<br>\", \"Effective Radius Ratio Puncta / Nucleus: 0.4087180403532356<br>Total Integrated Intensity: 7.676127310842263<br>None: 3<br>\", \"Effective Radius Ratio Puncta / Nucleus: 0.5855040504757217<br>Total Integrated Intensity: 14.562340751290295<br>None: 3<br>\", \"Effective Radius Ratio Puncta / Nucleus: 0.6320050270425176<br>Total Integrated Intensity: 7.542671909555785<br>None: 3<br>\", \"Effective Radius Ratio Puncta / Nucleus: 0.37071623481349064<br>Total Integrated Intensity: 2.3145799990743297<br>None: 3<br>\", \"Effective Radius Ratio Puncta / Nucleus: 0.42731524731011516<br>Total Integrated Intensity: 3.1351949479430887<br>None: 3<br>\", \"Effective Radius Ratio Puncta / Nucleus: 0.1670146789369791<br>Total Integrated Intensity: 0.06758220866322498<br>None: 3<br>\", \"Effective Radius Ratio Puncta / Nucleus: 0.9601073982526703<br>Total Integrated Intensity: 4.633325712755317<br>None: 3<br>\", \"Effective Radius Ratio Puncta / Nucleus: 0.522239277188337<br>Total Integrated Intensity: 5.180651582777493<br>None: 3<br>\", \"Effective Radius Ratio Puncta / Nucleus: 0.3833243742794574<br>Total Integrated Intensity: 4.027328932657833<br>None: 3<br>\", \"Effective Radius Ratio Puncta / Nucleus: 0.27532693116306983<br>Total Integrated Intensity: 0.28194095008075<br>None: 3<br>\"], \"type\": \"scatter\", \"x\": [1.0, 0.26028642628074766, 0.2655858771331843, 1.0, 0.03873104382610596, 1.0, 0.1870877895331754, 1.0, 1.0, 0.6762118254721395, 1.0, 0.41089008366122703, 0.5317556799601661, 1.0, 0.6952218816483346, 0.5921702942172392, 0.329243010543736, 0.4299644954262711, 0.4087180403532356, 0.5855040504757217, 0.6320050270425176, 0.37071623481349064, 0.42731524731011516, 0.1670146789369791, 0.9601073982526703, 0.522239277188337, 0.3833243742794574, 0.27532693116306983], \"y\": [0.0, 0.8269169256091111, 1.006195172667502, 0.0, 0.211474785581231, 0.0, 1.647882822901008, 0.0, 0.0, 8.031143683940158, 0.0, 3.6437323614954864, 7.401007140055288, 0.0, 15.429358404129719, 6.316472133621558, 2.4777142070233795, 2.0525826029479477, 7.676127310842263, 14.562340751290295, 7.542671909555785, 2.3145799990743297, 3.1351949479430887, 0.06758220866322498, 4.633325712755317, 5.180651582777493, 4.027328932657833, 0.28194095008075]}, {\"hovertemplate\": \"%{text}<br><extra></extra>\", \"marker\": {\"color\": \"#ff7f0e\"}, \"mode\": \"markers\", \"name\": \"8\", \"showlegend\": true, \"text\": [\"Effective Radius Ratio Puncta / Nucleus: 0.6160164416854548<br>Total Integrated Intensity: 0.939772646874189<br>None: 8<br>\", \"Effective Radius Ratio Puncta / Nucleus: 0.5071830916127373<br>Total Integrated Intensity: 10.569298872724165<br>None: 8<br>\", \"Effective Radius Ratio Puncta / Nucleus: 0.24445843100392495<br>Total Integrated Intensity: 0.5218738093972201<br>None: 8<br>\", \"Effective Radius Ratio Puncta / Nucleus: 0.38318491762075574<br>Total Integrated Intensity: 4.484855441376554<br>None: 8<br>\", \"Effective Radius Ratio Puncta / Nucleus: 0.46407570813334387<br>Total Integrated Intensity: 5.348104098811737<br>None: 8<br>\", \"Effective Radius Ratio Puncta / Nucleus: 1.0<br>Total Integrated Intensity: 0.0<br>None: 8<br>\", \"Effective Radius Ratio Puncta / Nucleus: 1.0<br>Total Integrated Intensity: 0.0<br>None: 8<br>\", \"Effective Radius Ratio Puncta / Nucleus: 0.2557195022190879<br>Total Integrated Intensity: 4.093553068116301<br>None: 8<br>\", \"Effective Radius Ratio Puncta / Nucleus: 0.3049021438440984<br>Total Integrated Intensity: 0.515358209609984<br>None: 8<br>\", \"Effective Radius Ratio Puncta / Nucleus: 0.39736738736368005<br>Total Integrated Intensity: 10.758602308109385<br>None: 8<br>\", \"Effective Radius Ratio Puncta / Nucleus: 0.3611951441130873<br>Total Integrated Intensity: 0.46558327600359906<br>None: 8<br>\", \"Effective Radius Ratio Puncta / Nucleus: 0.3185178065438761<br>Total Integrated Intensity: 0.39201953634619596<br>None: 8<br>\", \"Effective Radius Ratio Puncta / Nucleus: 0.6729830449714467<br>Total Integrated Intensity: 2.3126878887414897<br>None: 8<br>\", \"Effective Radius Ratio Puncta / Nucleus: 0.6130813485299238<br>Total Integrated Intensity: 1.4850080218166088<br>None: 8<br>\", \"Effective Radius Ratio Puncta / Nucleus: 1.0<br>Total Integrated Intensity: 0.0<br>None: 8<br>\", \"Effective Radius Ratio Puncta / Nucleus: 0.46721129037189574<br>Total Integrated Intensity: 3.384954631328577<br>None: 8<br>\", \"Effective Radius Ratio Puncta / Nucleus: 0.6135484481759725<br>Total Integrated Intensity: 0.17279316298663702<br>None: 8<br>\", \"Effective Radius Ratio Puncta / Nucleus: 0.633242177979923<br>Total Integrated Intensity: 16.29625397734341<br>None: 8<br>\", \"Effective Radius Ratio Puncta / Nucleus: 1.0<br>Total Integrated Intensity: 0.0<br>None: 8<br>\", \"Effective Radius Ratio Puncta / Nucleus: 1.0<br>Total Integrated Intensity: 0.0<br>None: 8<br>\", \"Effective Radius Ratio Puncta / Nucleus: 0.4661103171548466<br>Total Integrated Intensity: 6.928557265549888<br>None: 8<br>\", \"Effective Radius Ratio Puncta / Nucleus: 0.956207454834113<br>Total Integrated Intensity: 0.22046235203743<br>None: 8<br>\", \"Effective Radius Ratio Puncta / Nucleus: 1.0<br>Total Integrated Intensity: 0.0<br>None: 8<br>\", \"Effective Radius Ratio Puncta / Nucleus: 0.2576206251652722<br>Total Integrated Intensity: 0.9273670613765701<br>None: 8<br>\", \"Effective Radius Ratio Puncta / Nucleus: 1.0<br>Total Integrated Intensity: 0.0<br>None: 8<br>\", \"Effective Radius Ratio Puncta / Nucleus: 0.7543929135157798<br>Total Integrated Intensity: 4.556694917380804<br>None: 8<br>\", \"Effective Radius Ratio Puncta / Nucleus: 0.4347544904306764<br>Total Integrated Intensity: 13.755748901516181<br>None: 8<br>\", \"Effective Radius Ratio Puncta / Nucleus: 1.0<br>Total Integrated Intensity: 0.0<br>None: 8<br>\", \"Effective Radius Ratio Puncta / Nucleus: 0.5381913347226407<br>Total Integrated Intensity: 7.713817091658696<br>None: 8<br>\", \"Effective Radius Ratio Puncta / Nucleus: 0.5552988574282419<br>Total Integrated Intensity: 8.833859823644145<br>None: 8<br>\", \"Effective Radius Ratio Puncta / Nucleus: 1.0<br>Total Integrated Intensity: 0.0<br>None: 8<br>\", \"Effective Radius Ratio Puncta / Nucleus: 1.0<br>Total Integrated Intensity: 0.0<br>None: 8<br>\"], \"type\": \"scatter\", \"x\": [0.6160164416854548, 0.5071830916127373, 0.24445843100392495, 0.38318491762075574, 0.46407570813334387, 1.0, 1.0, 0.2557195022190879, 0.3049021438440984, 0.39736738736368005, 0.3611951441130873, 0.3185178065438761, 0.6729830449714467, 0.6130813485299238, 1.0, 0.46721129037189574, 0.6135484481759725, 0.633242177979923, 1.0, 1.0, 0.4661103171548466, 0.956207454834113, 1.0, 0.2576206251652722, 1.0, 0.7543929135157798, 0.4347544904306764, 1.0, 0.5381913347226407, 0.5552988574282419, 1.0, 1.0], \"y\": [0.939772646874189, 10.569298872724165, 0.5218738093972201, 4.484855441376554, 5.348104098811737, 0.0, 0.0, 4.093553068116301, 0.515358209609984, 10.758602308109385, 0.46558327600359906, 0.39201953634619596, 2.3126878887414897, 1.4850080218166088, 0.0, 3.384954631328577, 0.17279316298663702, 16.29625397734341, 0.0, 0.0, 6.928557265549888, 0.22046235203743, 0.0, 0.9273670613765701, 0.0, 4.556694917380804, 13.755748901516181, 0.0, 7.713817091658696, 8.833859823644145, 0.0, 0.0]}, {\"hovertemplate\": \"%{text}<br><extra></extra>\", \"marker\": {\"color\": \"#2ca02c\"}, \"mode\": \"markers\", \"name\": \"18\", \"showlegend\": true, \"text\": [\"Effective Radius Ratio Puncta / Nucleus: 1.0<br>Total Integrated Intensity: 0.0<br>None: 18<br>\", \"Effective Radius Ratio Puncta / Nucleus: 1.0<br>Total Integrated Intensity: 0.0<br>None: 18<br>\", \"Effective Radius Ratio Puncta / Nucleus: 0.38899320062318515<br>Total Integrated Intensity: 6.266041051596387<br>None: 18<br>\", \"Effective Radius Ratio Puncta / Nucleus: 0.35717039560839187<br>Total Integrated Intensity: 4.075547438114876<br>None: 18<br>\", \"Effective Radius Ratio Puncta / Nucleus: 0.5505098853053769<br>Total Integrated Intensity: 0.11638056114316002<br>None: 18<br>\", \"Effective Radius Ratio Puncta / Nucleus: 0.22427022558621745<br>Total Integrated Intensity: 0.158587016165256<br>None: 18<br>\", \"Effective Radius Ratio Puncta / Nucleus: 0.02234392810843759<br>Total Integrated Intensity: 0.05648889951407901<br>None: 18<br>\", \"Effective Radius Ratio Puncta / Nucleus: 1.0<br>Total Integrated Intensity: 0.0<br>None: 18<br>\", \"Effective Radius Ratio Puncta / Nucleus: 0.44205440824867476<br>Total Integrated Intensity: 19.2472572252154<br>None: 18<br>\", \"Effective Radius Ratio Puncta / Nucleus: 0.26568762817993086<br>Total Integrated Intensity: 1.115800725296139<br>None: 18<br>\", \"Effective Radius Ratio Puncta / Nucleus: 1.7527300065754154<br>Total Integrated Intensity: 0.322499427944421<br>None: 18<br>\", \"Effective Radius Ratio Puncta / Nucleus: 0.30926468753623965<br>Total Integrated Intensity: 1.357198450714348<br>None: 18<br>\", \"Effective Radius Ratio Puncta / Nucleus: 1.0<br>Total Integrated Intensity: 0.0<br>None: 18<br>\", \"Effective Radius Ratio Puncta / Nucleus: 1.0166345218646355<br>Total Integrated Intensity: 0.175020981580019<br>None: 18<br>\", \"Effective Radius Ratio Puncta / Nucleus: 0.6881781436408219<br>Total Integrated Intensity: 0.46720073372125703<br>None: 18<br>\", \"Effective Radius Ratio Puncta / Nucleus: 0.6099982912186394<br>Total Integrated Intensity: 0.816937515512107<br>None: 18<br>\", \"Effective Radius Ratio Puncta / Nucleus: 0.42709441744160137<br>Total Integrated Intensity: 10.457984309643487<br>None: 18<br>\", \"Effective Radius Ratio Puncta / Nucleus: 0.31640656008384077<br>Total Integrated Intensity: 7.743007577955703<br>None: 18<br>\", \"Effective Radius Ratio Puncta / Nucleus: 0.23915370778455<br>Total Integrated Intensity: 0.35005722008645496<br>None: 18<br>\", \"Effective Radius Ratio Puncta / Nucleus: 1.0<br>Total Integrated Intensity: 0.0<br>None: 18<br>\", \"Effective Radius Ratio Puncta / Nucleus: 1.0<br>Total Integrated Intensity: 0.0<br>None: 18<br>\", \"Effective Radius Ratio Puncta / Nucleus: 0.7461091083301883<br>Total Integrated Intensity: 16.114107033237786<br>None: 18<br>\", \"Effective Radius Ratio Puncta / Nucleus: 1.0<br>Total Integrated Intensity: 0.0<br>None: 18<br>\", \"Effective Radius Ratio Puncta / Nucleus: 0.5192271904487379<br>Total Integrated Intensity: 13.412481905892475<br>None: 18<br>\", \"Effective Radius Ratio Puncta / Nucleus: 0.4478657273377924<br>Total Integrated Intensity: 7.7235523238778<br>None: 18<br>\", \"Effective Radius Ratio Puncta / Nucleus: 0.4290325220980134<br>Total Integrated Intensity: 7.075593212619409<br>None: 18<br>\", \"Effective Radius Ratio Puncta / Nucleus: 1.0<br>Total Integrated Intensity: 0.0<br>None: 18<br>\", \"Effective Radius Ratio Puncta / Nucleus: 1.0<br>Total Integrated Intensity: 0.0<br>None: 18<br>\", \"Effective Radius Ratio Puncta / Nucleus: 0.45409874109460596<br>Total Integrated Intensity: 13.170367017388333<br>None: 18<br>\"], \"type\": \"scatter\", \"x\": [1.0, 1.0, 0.38899320062318515, 0.35717039560839187, 0.5505098853053769, 0.22427022558621745, 0.02234392810843759, 1.0, 0.44205440824867476, 0.26568762817993086, 1.7527300065754154, 0.30926468753623965, 1.0, 1.0166345218646355, 0.6881781436408219, 0.6099982912186394, 0.42709441744160137, 0.31640656008384077, 0.23915370778455, 1.0, 1.0, 0.7461091083301883, 1.0, 0.5192271904487379, 0.4478657273377924, 0.4290325220980134, 1.0, 1.0, 0.45409874109460596], \"y\": [0.0, 0.0, 6.266041051596387, 4.075547438114876, 0.11638056114316002, 0.158587016165256, 0.05648889951407901, 0.0, 19.2472572252154, 1.115800725296139, 0.322499427944421, 1.357198450714348, 0.0, 0.175020981580019, 0.46720073372125703, 0.816937515512107, 10.457984309643487, 7.743007577955703, 0.35005722008645496, 0.0, 0.0, 16.114107033237786, 0.0, 13.412481905892475, 7.7235523238778, 7.075593212619409, 0.0, 0.0, 13.170367017388333]}, {\"hovertemplate\": \"%{text}<br><extra></extra>\", \"marker\": {\"color\": \"#d62728\"}, \"mode\": \"markers\", \"name\": \"20\", \"showlegend\": true, \"text\": [\"Effective Radius Ratio Puncta / Nucleus: 1.0<br>Total Integrated Intensity: 0.0<br>None: 20<br>\", \"Effective Radius Ratio Puncta / Nucleus: 1.0<br>Total Integrated Intensity: 0.0<br>None: 20<br>\", \"Effective Radius Ratio Puncta / Nucleus: 1.0<br>Total Integrated Intensity: 0.0<br>None: 20<br>\", \"Effective Radius Ratio Puncta / Nucleus: 0.01350242221424651<br>Total Integrated Intensity: 0.021911956369877<br>None: 20<br>\", \"Effective Radius Ratio Puncta / Nucleus: 0.7701533761751982<br>Total Integrated Intensity: 1.9427023865282531<br>None: 20<br>\", \"Effective Radius Ratio Puncta / Nucleus: 1.0<br>Total Integrated Intensity: 0.0<br>None: 20<br>\", \"Effective Radius Ratio Puncta / Nucleus: 0.580716200289267<br>Total Integrated Intensity: 6.383703391998989<br>None: 20<br>\", \"Effective Radius Ratio Puncta / Nucleus: 1.0<br>Total Integrated Intensity: 0.0<br>None: 20<br>\", \"Effective Radius Ratio Puncta / Nucleus: 1.0<br>Total Integrated Intensity: 0.0<br>None: 20<br>\", \"Effective Radius Ratio Puncta / Nucleus: 1.2223659045316457<br>Total Integrated Intensity: 0.38619058765471<br>None: 20<br>\", \"Effective Radius Ratio Puncta / Nucleus: 0.6096857652524241<br>Total Integrated Intensity: 1.4292515534907548<br>None: 20<br>\", \"Effective Radius Ratio Puncta / Nucleus: 0.8125615526778324<br>Total Integrated Intensity: 3.327412836253641<br>None: 20<br>\", \"Effective Radius Ratio Puncta / Nucleus: 1.0<br>Total Integrated Intensity: 0.0<br>None: 20<br>\", \"Effective Radius Ratio Puncta / Nucleus: 0.37275669163631125<br>Total Integrated Intensity: 0.842771047726273<br>None: 20<br>\", \"Effective Radius Ratio Puncta / Nucleus: 0.5324968710141941<br>Total Integrated Intensity: 12.431998224928966<br>None: 20<br>\", \"Effective Radius Ratio Puncta / Nucleus: 1.0<br>Total Integrated Intensity: 0.0<br>None: 20<br>\", \"Effective Radius Ratio Puncta / Nucleus: 1.0<br>Total Integrated Intensity: 0.0<br>None: 20<br>\", \"Effective Radius Ratio Puncta / Nucleus: 0.673618310916368<br>Total Integrated Intensity: 0.30150301568209903<br>None: 20<br>\", \"Effective Radius Ratio Puncta / Nucleus: 1.0<br>Total Integrated Intensity: 0.0<br>None: 20<br>\", \"Effective Radius Ratio Puncta / Nucleus: 0.6804259027396037<br>Total Integrated Intensity: 21.30901057645677<br>None: 20<br>\", \"Effective Radius Ratio Puncta / Nucleus: 0.9400404458941006<br>Total Integrated Intensity: 0.424383921548724<br>None: 20<br>\", \"Effective Radius Ratio Puncta / Nucleus: 0.37018543519691705<br>Total Integrated Intensity: 1.174334326758977<br>None: 20<br>\", \"Effective Radius Ratio Puncta / Nucleus: 0.9038832916038753<br>Total Integrated Intensity: 3.3106736969202695<br>None: 20<br>\", \"Effective Radius Ratio Puncta / Nucleus: 1.0<br>Total Integrated Intensity: 0.0<br>None: 20<br>\", \"Effective Radius Ratio Puncta / Nucleus: 1.0<br>Total Integrated Intensity: 0.0<br>None: 20<br>\", \"Effective Radius Ratio Puncta / Nucleus: 0.9180149017895288<br>Total Integrated Intensity: 13.286762857809638<br>None: 20<br>\", \"Effective Radius Ratio Puncta / Nucleus: 1.0878840278644046<br>Total Integrated Intensity: 1.051163505762816<br>None: 20<br>\", \"Effective Radius Ratio Puncta / Nucleus: 1.1260282725264925<br>Total Integrated Intensity: 0.341527428478005<br>None: 20<br>\", \"Effective Radius Ratio Puncta / Nucleus: 1.0<br>Total Integrated Intensity: 0.0<br>None: 20<br>\", \"Effective Radius Ratio Puncta / Nucleus: 0.6754378157725578<br>Total Integrated Intensity: 2.0042572859674648<br>None: 20<br>\", \"Effective Radius Ratio Puncta / Nucleus: 0.015253404749263625<br>Total Integrated Intensity: 0.022705424576998<br>None: 20<br>\", \"Effective Radius Ratio Puncta / Nucleus: 1.0<br>Total Integrated Intensity: 0.0<br>None: 20<br>\", \"Effective Radius Ratio Puncta / Nucleus: 1.0<br>Total Integrated Intensity: 0.0<br>None: 20<br>\", \"Effective Radius Ratio Puncta / Nucleus: 0.5185235207673817<br>Total Integrated Intensity: 6.921934882178886<br>None: 20<br>\", \"Effective Radius Ratio Puncta / Nucleus: 0.32490804622480773<br>Total Integrated Intensity: 2.6206454653292774<br>None: 20<br>\", \"Effective Radius Ratio Puncta / Nucleus: 1.0<br>Total Integrated Intensity: 0.0<br>None: 20<br>\", \"Effective Radius Ratio Puncta / Nucleus: 0.9232028889143029<br>Total Integrated Intensity: 0.8127260301262131<br>None: 20<br>\", \"Effective Radius Ratio Puncta / Nucleus: 0.9087437331093696<br>Total Integrated Intensity: 1.511955453082917<br>None: 20<br>\", \"Effective Radius Ratio Puncta / Nucleus: 0.4342178405709377<br>Total Integrated Intensity: 3.6083467062562655<br>None: 20<br>\", \"Effective Radius Ratio Puncta / Nucleus: 0.669948195629537<br>Total Integrated Intensity: 0.782360576093196<br>None: 20<br>\", \"Effective Radius Ratio Puncta / Nucleus: 0.7235911893142016<br>Total Integrated Intensity: 4.86567484959959<br>None: 20<br>\", \"Effective Radius Ratio Puncta / Nucleus: 1.0<br>Total Integrated Intensity: 0.0<br>None: 20<br>\", \"Effective Radius Ratio Puncta / Nucleus: 0.9257944643313776<br>Total Integrated Intensity: 0.550148781388998<br>None: 20<br>\", \"Effective Radius Ratio Puncta / Nucleus: 0.3295435374351613<br>Total Integrated Intensity: 0.39740596897900105<br>None: 20<br>\", \"Effective Radius Ratio Puncta / Nucleus: 1.0<br>Total Integrated Intensity: 0.0<br>None: 20<br>\", \"Effective Radius Ratio Puncta / Nucleus: 1.0<br>Total Integrated Intensity: 0.0<br>None: 20<br>\", \"Effective Radius Ratio Puncta / Nucleus: 1.0664247609213746<br>Total Integrated Intensity: 0.395056078210474<br>None: 20<br>\", \"Effective Radius Ratio Puncta / Nucleus: 0.37015862913361536<br>Total Integrated Intensity: 0.070222018286586<br>None: 20<br>\", \"Effective Radius Ratio Puncta / Nucleus: 0.02282474539495152<br>Total Integrated Intensity: 0.091157397255301<br>None: 20<br>\", \"Effective Radius Ratio Puncta / Nucleus: 0.34729797550660313<br>Total Integrated Intensity: 0.870710309594869<br>None: 20<br>\", \"Effective Radius Ratio Puncta / Nucleus: 0.2560613032120079<br>Total Integrated Intensity: 4.51340505853294<br>None: 20<br>\", \"Effective Radius Ratio Puncta / Nucleus: 0.6698591273275982<br>Total Integrated Intensity: 0.43385977298021194<br>None: 20<br>\", \"Effective Radius Ratio Puncta / Nucleus: 0.5229030536896515<br>Total Integrated Intensity: 6.018387144431459<br>None: 20<br>\"], \"type\": \"scatter\", \"x\": [1.0, 1.0, 1.0, 0.01350242221424651, 0.7701533761751982, 1.0, 0.580716200289267, 1.0, 1.0, 1.2223659045316457, 0.6096857652524241, 0.8125615526778324, 1.0, 0.37275669163631125, 0.5324968710141941, 1.0, 1.0, 0.673618310916368, 1.0, 0.6804259027396037, 0.9400404458941006, 0.37018543519691705, 0.9038832916038753, 1.0, 1.0, 0.9180149017895288, 1.0878840278644046, 1.1260282725264925, 1.0, 0.6754378157725578, 0.015253404749263625, 1.0, 1.0, 0.5185235207673817, 0.32490804622480773, 1.0, 0.9232028889143029, 0.9087437331093696, 0.4342178405709377, 0.669948195629537, 0.7235911893142016, 1.0, 0.9257944643313776, 0.3295435374351613, 1.0, 1.0, 1.0664247609213746, 0.37015862913361536, 0.02282474539495152, 0.34729797550660313, 0.2560613032120079, 0.6698591273275982, 0.5229030536896515], \"y\": [0.0, 0.0, 0.0, 0.021911956369877, 1.9427023865282531, 0.0, 6.383703391998989, 0.0, 0.0, 0.38619058765471, 1.4292515534907548, 3.327412836253641, 0.0, 0.842771047726273, 12.431998224928966, 0.0, 0.0, 0.30150301568209903, 0.0, 21.30901057645677, 0.424383921548724, 1.174334326758977, 3.3106736969202695, 0.0, 0.0, 13.286762857809638, 1.051163505762816, 0.341527428478005, 0.0, 2.0042572859674648, 0.022705424576998, 0.0, 0.0, 6.921934882178886, 2.6206454653292774, 0.0, 0.8127260301262131, 1.511955453082917, 3.6083467062562655, 0.782360576093196, 4.86567484959959, 0.0, 0.550148781388998, 0.39740596897900105, 0.0, 0.0, 0.395056078210474, 0.070222018286586, 0.091157397255301, 0.870710309594869, 4.51340505853294, 0.43385977298021194, 6.018387144431459]}],                        {\"hovermode\": \"closest\", \"plot_bgcolor\": \"rgba(0,0,0,0)\", \"showlegend\": true, \"template\": {\"data\": {\"bar\": [{\"error_x\": {\"color\": \"#2a3f5f\"}, \"error_y\": {\"color\": \"#2a3f5f\"}, \"marker\": {\"line\": {\"color\": \"#E5ECF6\", \"width\": 0.5}}, \"type\": \"bar\"}], \"barpolar\": [{\"marker\": {\"line\": {\"color\": \"#E5ECF6\", \"width\": 0.5}}, \"type\": \"barpolar\"}], \"carpet\": [{\"aaxis\": {\"endlinecolor\": \"#2a3f5f\", \"gridcolor\": \"white\", \"linecolor\": \"white\", \"minorgridcolor\": \"white\", \"startlinecolor\": \"#2a3f5f\"}, \"baxis\": {\"endlinecolor\": \"#2a3f5f\", \"gridcolor\": \"white\", \"linecolor\": \"white\", \"minorgridcolor\": \"white\", \"startlinecolor\": \"#2a3f5f\"}, \"type\": \"carpet\"}], \"choropleth\": [{\"colorbar\": {\"outlinewidth\": 0, \"ticks\": \"\"}, \"type\": \"choropleth\"}], \"contour\": [{\"colorbar\": {\"outlinewidth\": 0, \"ticks\": \"\"}, \"colorscale\": [[0.0, \"#0d0887\"], [0.1111111111111111, \"#46039f\"], [0.2222222222222222, \"#7201a8\"], [0.3333333333333333, \"#9c179e\"], [0.4444444444444444, \"#bd3786\"], [0.5555555555555556, \"#d8576b\"], [0.6666666666666666, \"#ed7953\"], [0.7777777777777778, \"#fb9f3a\"], [0.8888888888888888, \"#fdca26\"], [1.0, \"#f0f921\"]], \"type\": \"contour\"}], \"contourcarpet\": [{\"colorbar\": {\"outlinewidth\": 0, \"ticks\": \"\"}, \"type\": \"contourcarpet\"}], \"heatmap\": [{\"colorbar\": {\"outlinewidth\": 0, \"ticks\": \"\"}, \"colorscale\": [[0.0, \"#0d0887\"], [0.1111111111111111, \"#46039f\"], [0.2222222222222222, \"#7201a8\"], [0.3333333333333333, \"#9c179e\"], [0.4444444444444444, \"#bd3786\"], [0.5555555555555556, \"#d8576b\"], [0.6666666666666666, \"#ed7953\"], [0.7777777777777778, \"#fb9f3a\"], [0.8888888888888888, \"#fdca26\"], [1.0, \"#f0f921\"]], \"type\": \"heatmap\"}], \"heatmapgl\": [{\"colorbar\": {\"outlinewidth\": 0, \"ticks\": \"\"}, \"colorscale\": [[0.0, \"#0d0887\"], [0.1111111111111111, \"#46039f\"], [0.2222222222222222, \"#7201a8\"], [0.3333333333333333, \"#9c179e\"], [0.4444444444444444, \"#bd3786\"], [0.5555555555555556, \"#d8576b\"], [0.6666666666666666, \"#ed7953\"], [0.7777777777777778, \"#fb9f3a\"], [0.8888888888888888, \"#fdca26\"], [1.0, \"#f0f921\"]], \"type\": \"heatmapgl\"}], \"histogram\": [{\"marker\": {\"colorbar\": {\"outlinewidth\": 0, \"ticks\": \"\"}}, \"type\": \"histogram\"}], \"histogram2d\": [{\"colorbar\": {\"outlinewidth\": 0, \"ticks\": \"\"}, \"colorscale\": [[0.0, \"#0d0887\"], [0.1111111111111111, \"#46039f\"], [0.2222222222222222, \"#7201a8\"], [0.3333333333333333, \"#9c179e\"], [0.4444444444444444, \"#bd3786\"], [0.5555555555555556, \"#d8576b\"], [0.6666666666666666, \"#ed7953\"], [0.7777777777777778, \"#fb9f3a\"], [0.8888888888888888, \"#fdca26\"], [1.0, \"#f0f921\"]], \"type\": \"histogram2d\"}], \"histogram2dcontour\": [{\"colorbar\": {\"outlinewidth\": 0, \"ticks\": \"\"}, \"colorscale\": [[0.0, \"#0d0887\"], [0.1111111111111111, \"#46039f\"], [0.2222222222222222, \"#7201a8\"], [0.3333333333333333, \"#9c179e\"], [0.4444444444444444, \"#bd3786\"], [0.5555555555555556, \"#d8576b\"], [0.6666666666666666, \"#ed7953\"], [0.7777777777777778, \"#fb9f3a\"], [0.8888888888888888, \"#fdca26\"], [1.0, \"#f0f921\"]], \"type\": \"histogram2dcontour\"}], \"mesh3d\": [{\"colorbar\": {\"outlinewidth\": 0, \"ticks\": \"\"}, \"type\": \"mesh3d\"}], \"parcoords\": [{\"line\": {\"colorbar\": {\"outlinewidth\": 0, \"ticks\": \"\"}}, \"type\": \"parcoords\"}], \"pie\": [{\"automargin\": true, \"type\": \"pie\"}], \"scatter\": [{\"marker\": {\"colorbar\": {\"outlinewidth\": 0, \"ticks\": \"\"}}, \"type\": \"scatter\"}], \"scatter3d\": [{\"line\": {\"colorbar\": {\"outlinewidth\": 0, \"ticks\": \"\"}}, \"marker\": {\"colorbar\": {\"outlinewidth\": 0, \"ticks\": \"\"}}, \"type\": \"scatter3d\"}], \"scattercarpet\": [{\"marker\": {\"colorbar\": {\"outlinewidth\": 0, \"ticks\": \"\"}}, \"type\": \"scattercarpet\"}], \"scattergeo\": [{\"marker\": {\"colorbar\": {\"outlinewidth\": 0, \"ticks\": \"\"}}, \"type\": \"scattergeo\"}], \"scattergl\": [{\"marker\": {\"colorbar\": {\"outlinewidth\": 0, \"ticks\": \"\"}}, \"type\": \"scattergl\"}], \"scattermapbox\": [{\"marker\": {\"colorbar\": {\"outlinewidth\": 0, \"ticks\": \"\"}}, \"type\": \"scattermapbox\"}], \"scatterpolar\": [{\"marker\": {\"colorbar\": {\"outlinewidth\": 0, \"ticks\": \"\"}}, \"type\": \"scatterpolar\"}], \"scatterpolargl\": [{\"marker\": {\"colorbar\": {\"outlinewidth\": 0, \"ticks\": \"\"}}, \"type\": \"scatterpolargl\"}], \"scatterternary\": [{\"marker\": {\"colorbar\": {\"outlinewidth\": 0, \"ticks\": \"\"}}, \"type\": \"scatterternary\"}], \"surface\": [{\"colorbar\": {\"outlinewidth\": 0, \"ticks\": \"\"}, \"colorscale\": [[0.0, \"#0d0887\"], [0.1111111111111111, \"#46039f\"], [0.2222222222222222, \"#7201a8\"], [0.3333333333333333, \"#9c179e\"], [0.4444444444444444, \"#bd3786\"], [0.5555555555555556, \"#d8576b\"], [0.6666666666666666, \"#ed7953\"], [0.7777777777777778, \"#fb9f3a\"], [0.8888888888888888, \"#fdca26\"], [1.0, \"#f0f921\"]], \"type\": \"surface\"}], \"table\": [{\"cells\": {\"fill\": {\"color\": \"#EBF0F8\"}, \"line\": {\"color\": \"white\"}}, \"header\": {\"fill\": {\"color\": \"#C8D4E3\"}, \"line\": {\"color\": \"white\"}}, \"type\": \"table\"}]}, \"layout\": {\"annotationdefaults\": {\"arrowcolor\": \"#2a3f5f\", \"arrowhead\": 0, \"arrowwidth\": 1}, \"coloraxis\": {\"colorbar\": {\"outlinewidth\": 0, \"ticks\": \"\"}}, \"colorscale\": {\"diverging\": [[0, \"#8e0152\"], [0.1, \"#c51b7d\"], [0.2, \"#de77ae\"], [0.3, \"#f1b6da\"], [0.4, \"#fde0ef\"], [0.5, \"#f7f7f7\"], [0.6, \"#e6f5d0\"], [0.7, \"#b8e186\"], [0.8, \"#7fbc41\"], [0.9, \"#4d9221\"], [1, \"#276419\"]], \"sequential\": [[0.0, \"#0d0887\"], [0.1111111111111111, \"#46039f\"], [0.2222222222222222, \"#7201a8\"], [0.3333333333333333, \"#9c179e\"], [0.4444444444444444, \"#bd3786\"], [0.5555555555555556, \"#d8576b\"], [0.6666666666666666, \"#ed7953\"], [0.7777777777777778, \"#fb9f3a\"], [0.8888888888888888, \"#fdca26\"], [1.0, \"#f0f921\"]], \"sequentialminus\": [[0.0, \"#0d0887\"], [0.1111111111111111, \"#46039f\"], [0.2222222222222222, \"#7201a8\"], [0.3333333333333333, \"#9c179e\"], [0.4444444444444444, \"#bd3786\"], [0.5555555555555556, \"#d8576b\"], [0.6666666666666666, \"#ed7953\"], [0.7777777777777778, \"#fb9f3a\"], [0.8888888888888888, \"#fdca26\"], [1.0, \"#f0f921\"]]}, \"colorway\": [\"#636efa\", \"#EF553B\", \"#00cc96\", \"#ab63fa\", \"#FFA15A\", \"#19d3f3\", \"#FF6692\", \"#B6E880\", \"#FF97FF\", \"#FECB52\"], \"font\": {\"color\": \"#2a3f5f\"}, \"geo\": {\"bgcolor\": \"white\", \"lakecolor\": \"white\", \"landcolor\": \"#E5ECF6\", \"showlakes\": true, \"showland\": true, \"subunitcolor\": \"white\"}, \"hoverlabel\": {\"align\": \"left\"}, \"hovermode\": \"closest\", \"mapbox\": {\"style\": \"light\"}, \"paper_bgcolor\": \"white\", \"plot_bgcolor\": \"#E5ECF6\", \"polar\": {\"angularaxis\": {\"gridcolor\": \"white\", \"linecolor\": \"white\", \"ticks\": \"\"}, \"bgcolor\": \"#E5ECF6\", \"radialaxis\": {\"gridcolor\": \"white\", \"linecolor\": \"white\", \"ticks\": \"\"}}, \"scene\": {\"xaxis\": {\"backgroundcolor\": \"#E5ECF6\", \"gridcolor\": \"white\", \"gridwidth\": 2, \"linecolor\": \"white\", \"showbackground\": true, \"ticks\": \"\", \"zerolinecolor\": \"white\"}, \"yaxis\": {\"backgroundcolor\": \"#E5ECF6\", \"gridcolor\": \"white\", \"gridwidth\": 2, \"linecolor\": \"white\", \"showbackground\": true, \"ticks\": \"\", \"zerolinecolor\": \"white\"}, \"zaxis\": {\"backgroundcolor\": \"#E5ECF6\", \"gridcolor\": \"white\", \"gridwidth\": 2, \"linecolor\": \"white\", \"showbackground\": true, \"ticks\": \"\", \"zerolinecolor\": \"white\"}}, \"shapedefaults\": {\"line\": {\"color\": \"#2a3f5f\"}}, \"ternary\": {\"aaxis\": {\"gridcolor\": \"white\", \"linecolor\": \"white\", \"ticks\": \"\"}, \"baxis\": {\"gridcolor\": \"white\", \"linecolor\": \"white\", \"ticks\": \"\"}, \"bgcolor\": \"#E5ECF6\", \"caxis\": {\"gridcolor\": \"white\", \"linecolor\": \"white\", \"ticks\": \"\"}}, \"title\": {\"x\": 0.05}, \"xaxis\": {\"automargin\": true, \"gridcolor\": \"white\", \"linecolor\": \"white\", \"ticks\": \"\", \"title\": {\"standoff\": 15}, \"zerolinecolor\": \"white\", \"zerolinewidth\": 2}, \"yaxis\": {\"automargin\": true, \"gridcolor\": \"white\", \"linecolor\": \"white\", \"ticks\": \"\", \"title\": {\"standoff\": 15}, \"zerolinecolor\": \"white\", \"zerolinewidth\": 2}}}, \"title\": {\"text\": \"Puncta Total Intensity vs. Effective Radius Ratio\"}, \"xaxis\": {\"range\": [-0.3343430946579873, 2.1005755234476493], \"showgrid\": true, \"title\": {\"text\": \"Effective Radius Ratio Puncta / Nucleus\"}, \"type\": \"linear\"}, \"yaxis\": {\"gridcolor\": \"#E4EAF2\", \"range\": [-2.1309010576456773, 23.439911634102447], \"showgrid\": true, \"title\": {\"text\": \"Total Integrated Intensity\"}, \"zeroline\": false}},                        {\"responsive\": true}                    ).then(function(){\n",
       "                            \n",
       "var gd = document.getElementById('a7268002-4a9a-4369-a180-6857df75540d');\n",
       "var x = new MutationObserver(function (mutations, observer) {{\n",
       "        var display = window.getComputedStyle(gd).display;\n",
       "        if (!display || display === 'none') {{\n",
       "            console.log([gd, 'removed!']);\n",
       "            Plotly.purge(gd);\n",
       "            observer.disconnect();\n",
       "        }}\n",
       "}});\n",
       "\n",
       "// Listen for the removal of the full notebook cells\n",
       "var notebookContainer = gd.closest('#notebook-container');\n",
       "if (notebookContainer) {{\n",
       "    x.observe(notebookContainer, {childList: true});\n",
       "}}\n",
       "\n",
       "// Listen for the clearing of the current output cell\n",
       "var outputEl = gd.closest('.output');\n",
       "if (outputEl) {{\n",
       "    x.observe(outputEl, {childList: true});\n",
       "}}\n",
       "\n",
       "                        })                };                });            </script>        </div>"
      ]
     },
     "metadata": {},
     "output_type": "display_data"
    }
   ],
   "source": [
    "fig = plot_multiple_scatter(\n",
    "    summary,\n",
    "    x='pct_puncta',\n",
    "    y='integrated_intensity_sum',\n",
    "    c='image_number_str',\n",
    "    xlabel='Effective Radius Ratio Puncta / Nucleus',\n",
    "    ylabel='Total Integrated Intensity',\n",
    "    title='Puncta Total Intensity vs. Effective Radius Ratio'\n",
    ")\n",
    "\n",
    "if save:\n",
    "    save_fig_as_png(fig, 'figures/scatter/scatter_intensity_radius_ratio.png',\n",
    "                    height=800, scale=1)\n",
    "\n",
    "fig"
   ]
  },
  {
   "cell_type": "code",
   "execution_count": 17,
   "metadata": {},
   "outputs": [
    {
     "data": {
      "text/html": [
       "<div>\n",
       "<style scoped>\n",
       "    .dataframe tbody tr th:only-of-type {\n",
       "        vertical-align: middle;\n",
       "    }\n",
       "\n",
       "    .dataframe tbody tr th {\n",
       "        vertical-align: top;\n",
       "    }\n",
       "\n",
       "    .dataframe thead th {\n",
       "        text-align: right;\n",
       "    }\n",
       "</style>\n",
       "<table border=\"1\" class=\"dataframe\">\n",
       "  <thead>\n",
       "    <tr style=\"text-align: right;\">\n",
       "      <th></th>\n",
       "      <th>image_number</th>\n",
       "      <th>object_number</th>\n",
       "      <th>area</th>\n",
       "      <th>effective_radius_nuclei</th>\n",
       "      <th>nuclei_object_number</th>\n",
       "      <th>area_sum</th>\n",
       "      <th>area_count</th>\n",
       "      <th>integrated_intensity_sum</th>\n",
       "      <th>center_x_mean</th>\n",
       "      <th>center_x_std</th>\n",
       "      <th>center_y_mean</th>\n",
       "      <th>center_y_std</th>\n",
       "      <th>center_std</th>\n",
       "      <th>effective_radius_puncta</th>\n",
       "      <th>bounding_box_min_x</th>\n",
       "      <th>bounding_box_max_x</th>\n",
       "      <th>bounding_box_min_y</th>\n",
       "      <th>bounding_box_max_y</th>\n",
       "      <th>pct_puncta</th>\n",
       "      <th>image_number_str</th>\n",
       "      <th>color</th>\n",
       "    </tr>\n",
       "  </thead>\n",
       "  <tbody>\n",
       "    <tr>\n",
       "      <th>70</th>\n",
       "      <td>18</td>\n",
       "      <td>11</td>\n",
       "      <td>4201</td>\n",
       "      <td>36.568032</td>\n",
       "      <td>11</td>\n",
       "      <td>11.0</td>\n",
       "      <td>6.0</td>\n",
       "      <td>0.322499</td>\n",
       "      <td>317.000000</td>\n",
       "      <td>27.299166</td>\n",
       "      <td>345.138889</td>\n",
       "      <td>20.251863</td>\n",
       "      <td>33.990917</td>\n",
       "      <td>64.093887</td>\n",
       "      <td>252.906113</td>\n",
       "      <td>381.093887</td>\n",
       "      <td>281.045002</td>\n",
       "      <td>409.232776</td>\n",
       "      <td>1.752730</td>\n",
       "      <td>18</td>\n",
       "      <td>#2ca02c</td>\n",
       "    </tr>\n",
       "    <tr>\n",
       "      <th>73</th>\n",
       "      <td>18</td>\n",
       "      <td>14</td>\n",
       "      <td>7615</td>\n",
       "      <td>49.233442</td>\n",
       "      <td>14</td>\n",
       "      <td>6.0</td>\n",
       "      <td>5.0</td>\n",
       "      <td>0.175021</td>\n",
       "      <td>221.400000</td>\n",
       "      <td>20.305172</td>\n",
       "      <td>395.100000</td>\n",
       "      <td>17.096783</td>\n",
       "      <td>26.544303</td>\n",
       "      <td>50.052417</td>\n",
       "      <td>171.347583</td>\n",
       "      <td>271.452417</td>\n",
       "      <td>345.047583</td>\n",
       "      <td>445.152417</td>\n",
       "      <td>1.016635</td>\n",
       "      <td>18</td>\n",
       "      <td>#2ca02c</td>\n",
       "    </tr>\n",
       "    <tr>\n",
       "      <th>98</th>\n",
       "      <td>20</td>\n",
       "      <td>10</td>\n",
       "      <td>4872</td>\n",
       "      <td>39.380288</td>\n",
       "      <td>10</td>\n",
       "      <td>17.0</td>\n",
       "      <td>9.0</td>\n",
       "      <td>0.386191</td>\n",
       "      <td>670.185185</td>\n",
       "      <td>15.198786</td>\n",
       "      <td>208.851852</td>\n",
       "      <td>20.511082</td>\n",
       "      <td>25.528564</td>\n",
       "      <td>48.137121</td>\n",
       "      <td>622.048064</td>\n",
       "      <td>718.322306</td>\n",
       "      <td>160.714731</td>\n",
       "      <td>256.988973</td>\n",
       "      <td>1.222366</td>\n",
       "      <td>20</td>\n",
       "      <td>#d62728</td>\n",
       "    </tr>\n",
       "    <tr>\n",
       "      <th>115</th>\n",
       "      <td>20</td>\n",
       "      <td>27</td>\n",
       "      <td>4565</td>\n",
       "      <td>38.119363</td>\n",
       "      <td>27</td>\n",
       "      <td>46.0</td>\n",
       "      <td>21.0</td>\n",
       "      <td>1.051164</td>\n",
       "      <td>621.704762</td>\n",
       "      <td>13.251852</td>\n",
       "      <td>565.461905</td>\n",
       "      <td>17.551588</td>\n",
       "      <td>21.992495</td>\n",
       "      <td>41.469446</td>\n",
       "      <td>580.235315</td>\n",
       "      <td>663.174208</td>\n",
       "      <td>523.992458</td>\n",
       "      <td>606.931351</td>\n",
       "      <td>1.087884</td>\n",
       "      <td>20</td>\n",
       "      <td>#d62728</td>\n",
       "    </tr>\n",
       "    <tr>\n",
       "      <th>116</th>\n",
       "      <td>20</td>\n",
       "      <td>28</td>\n",
       "      <td>5749</td>\n",
       "      <td>42.778091</td>\n",
       "      <td>28</td>\n",
       "      <td>15.0</td>\n",
       "      <td>9.0</td>\n",
       "      <td>0.341527</td>\n",
       "      <td>319.518519</td>\n",
       "      <td>21.523799</td>\n",
       "      <td>550.592593</td>\n",
       "      <td>13.758864</td>\n",
       "      <td>25.545650</td>\n",
       "      <td>48.169340</td>\n",
       "      <td>271.349178</td>\n",
       "      <td>367.687859</td>\n",
       "      <td>502.423253</td>\n",
       "      <td>598.761933</td>\n",
       "      <td>1.126028</td>\n",
       "      <td>20</td>\n",
       "      <td>#d62728</td>\n",
       "    </tr>\n",
       "    <tr>\n",
       "      <th>135</th>\n",
       "      <td>20</td>\n",
       "      <td>47</td>\n",
       "      <td>7351</td>\n",
       "      <td>48.372492</td>\n",
       "      <td>47</td>\n",
       "      <td>17.0</td>\n",
       "      <td>7.0</td>\n",
       "      <td>0.395056</td>\n",
       "      <td>490.452381</td>\n",
       "      <td>18.939649</td>\n",
       "      <td>846.588435</td>\n",
       "      <td>19.741262</td>\n",
       "      <td>27.357408</td>\n",
       "      <td>51.585623</td>\n",
       "      <td>438.866758</td>\n",
       "      <td>542.038004</td>\n",
       "      <td>795.002813</td>\n",
       "      <td>898.174058</td>\n",
       "      <td>1.066425</td>\n",
       "      <td>20</td>\n",
       "      <td>#d62728</td>\n",
       "    </tr>\n",
       "  </tbody>\n",
       "</table>\n",
       "</div>"
      ],
      "text/plain": [
       "     image_number  object_number  area  effective_radius_nuclei  \\\n",
       "70             18             11  4201                36.568032   \n",
       "73             18             14  7615                49.233442   \n",
       "98             20             10  4872                39.380288   \n",
       "115            20             27  4565                38.119363   \n",
       "116            20             28  5749                42.778091   \n",
       "135            20             47  7351                48.372492   \n",
       "\n",
       "     nuclei_object_number  area_sum  area_count  integrated_intensity_sum  \\\n",
       "70                     11      11.0         6.0                  0.322499   \n",
       "73                     14       6.0         5.0                  0.175021   \n",
       "98                     10      17.0         9.0                  0.386191   \n",
       "115                    27      46.0        21.0                  1.051164   \n",
       "116                    28      15.0         9.0                  0.341527   \n",
       "135                    47      17.0         7.0                  0.395056   \n",
       "\n",
       "     center_x_mean  center_x_std  center_y_mean  center_y_std  center_std  \\\n",
       "70      317.000000     27.299166     345.138889     20.251863   33.990917   \n",
       "73      221.400000     20.305172     395.100000     17.096783   26.544303   \n",
       "98      670.185185     15.198786     208.851852     20.511082   25.528564   \n",
       "115     621.704762     13.251852     565.461905     17.551588   21.992495   \n",
       "116     319.518519     21.523799     550.592593     13.758864   25.545650   \n",
       "135     490.452381     18.939649     846.588435     19.741262   27.357408   \n",
       "\n",
       "     effective_radius_puncta  bounding_box_min_x  bounding_box_max_x  \\\n",
       "70                 64.093887          252.906113          381.093887   \n",
       "73                 50.052417          171.347583          271.452417   \n",
       "98                 48.137121          622.048064          718.322306   \n",
       "115                41.469446          580.235315          663.174208   \n",
       "116                48.169340          271.349178          367.687859   \n",
       "135                51.585623          438.866758          542.038004   \n",
       "\n",
       "     bounding_box_min_y  bounding_box_max_y  pct_puncta image_number_str  \\\n",
       "70           281.045002          409.232776    1.752730               18   \n",
       "73           345.047583          445.152417    1.016635               18   \n",
       "98           160.714731          256.988973    1.222366               20   \n",
       "115          523.992458          606.931351    1.087884               20   \n",
       "116          502.423253          598.761933    1.126028               20   \n",
       "135          795.002813          898.174058    1.066425               20   \n",
       "\n",
       "       color  \n",
       "70   #2ca02c  \n",
       "73   #2ca02c  \n",
       "98   #d62728  \n",
       "115  #d62728  \n",
       "116  #d62728  \n",
       "135  #d62728  "
      ]
     },
     "execution_count": 17,
     "metadata": {},
     "output_type": "execute_result"
    }
   ],
   "source": [
    "# check why some are gt 1\n",
    "summary[(summary['effective_radius_puncta'] > summary['effective_radius_nuclei'])]"
   ]
  },
  {
   "cell_type": "code",
   "execution_count": 19,
   "metadata": {},
   "outputs": [
    {
     "data": {
      "application/vnd.plotly.v1+json": {
       "config": {
        "plotlyServerURL": "https://plot.ly"
       },
       "data": [
        {
         "box": {
          "visible": true
         },
         "hovertemplate": "%{text}<br><extra></extra>",
         "legendgroup": "3",
         "line": {
          "color": "#1f77b4"
         },
         "meanline": {
          "visible": true
         },
         "name": "3",
         "scalegroup": "3",
         "showlegend": true,
         "text": [
          "Image Number: 3<br>Effective Radius Ratio Puncta / Nucleus: 1.0<br>None: 3<br>",
          "Image Number: 3<br>Effective Radius Ratio Puncta / Nucleus: 0.26028642628074766<br>None: 3<br>",
          "Image Number: 3<br>Effective Radius Ratio Puncta / Nucleus: 0.2655858771331843<br>None: 3<br>",
          "Image Number: 3<br>Effective Radius Ratio Puncta / Nucleus: 1.0<br>None: 3<br>",
          "Image Number: 3<br>Effective Radius Ratio Puncta / Nucleus: 0.03873104382610596<br>None: 3<br>",
          "Image Number: 3<br>Effective Radius Ratio Puncta / Nucleus: 1.0<br>None: 3<br>",
          "Image Number: 3<br>Effective Radius Ratio Puncta / Nucleus: 0.1870877895331754<br>None: 3<br>",
          "Image Number: 3<br>Effective Radius Ratio Puncta / Nucleus: 1.0<br>None: 3<br>",
          "Image Number: 3<br>Effective Radius Ratio Puncta / Nucleus: 1.0<br>None: 3<br>",
          "Image Number: 3<br>Effective Radius Ratio Puncta / Nucleus: 0.6762118254721395<br>None: 3<br>",
          "Image Number: 3<br>Effective Radius Ratio Puncta / Nucleus: 1.0<br>None: 3<br>",
          "Image Number: 3<br>Effective Radius Ratio Puncta / Nucleus: 0.41089008366122703<br>None: 3<br>",
          "Image Number: 3<br>Effective Radius Ratio Puncta / Nucleus: 0.5317556799601661<br>None: 3<br>",
          "Image Number: 3<br>Effective Radius Ratio Puncta / Nucleus: 1.0<br>None: 3<br>",
          "Image Number: 3<br>Effective Radius Ratio Puncta / Nucleus: 0.6952218816483346<br>None: 3<br>",
          "Image Number: 3<br>Effective Radius Ratio Puncta / Nucleus: 0.5921702942172392<br>None: 3<br>",
          "Image Number: 3<br>Effective Radius Ratio Puncta / Nucleus: 0.329243010543736<br>None: 3<br>",
          "Image Number: 3<br>Effective Radius Ratio Puncta / Nucleus: 0.4299644954262711<br>None: 3<br>",
          "Image Number: 3<br>Effective Radius Ratio Puncta / Nucleus: 0.4087180403532356<br>None: 3<br>",
          "Image Number: 3<br>Effective Radius Ratio Puncta / Nucleus: 0.5855040504757217<br>None: 3<br>",
          "Image Number: 3<br>Effective Radius Ratio Puncta / Nucleus: 0.6320050270425176<br>None: 3<br>",
          "Image Number: 3<br>Effective Radius Ratio Puncta / Nucleus: 0.37071623481349064<br>None: 3<br>",
          "Image Number: 3<br>Effective Radius Ratio Puncta / Nucleus: 0.42731524731011516<br>None: 3<br>",
          "Image Number: 3<br>Effective Radius Ratio Puncta / Nucleus: 0.1670146789369791<br>None: 3<br>",
          "Image Number: 3<br>Effective Radius Ratio Puncta / Nucleus: 0.9601073982526703<br>None: 3<br>",
          "Image Number: 3<br>Effective Radius Ratio Puncta / Nucleus: 0.522239277188337<br>None: 3<br>",
          "Image Number: 3<br>Effective Radius Ratio Puncta / Nucleus: 0.3833243742794574<br>None: 3<br>",
          "Image Number: 3<br>Effective Radius Ratio Puncta / Nucleus: 0.27532693116306983<br>None: 3<br>"
         ],
         "type": "violin",
         "x": [
          "3",
          "3",
          "3",
          "3",
          "3",
          "3",
          "3",
          "3",
          "3",
          "3",
          "3",
          "3",
          "3",
          "3",
          "3",
          "3",
          "3",
          "3",
          "3",
          "3",
          "3",
          "3",
          "3",
          "3",
          "3",
          "3",
          "3",
          "3"
         ],
         "y": [
          1,
          0.26028642628074766,
          0.2655858771331843,
          1,
          0.03873104382610596,
          1,
          0.1870877895331754,
          1,
          1,
          0.6762118254721395,
          1,
          0.41089008366122703,
          0.5317556799601661,
          1,
          0.6952218816483346,
          0.5921702942172392,
          0.329243010543736,
          0.4299644954262711,
          0.4087180403532356,
          0.5855040504757217,
          0.6320050270425176,
          0.37071623481349064,
          0.42731524731011516,
          0.1670146789369791,
          0.9601073982526703,
          0.522239277188337,
          0.3833243742794574,
          0.27532693116306983
         ]
        },
        {
         "box": {
          "visible": true
         },
         "hovertemplate": "%{text}<br><extra></extra>",
         "legendgroup": "8",
         "line": {
          "color": "#ff7f0e"
         },
         "meanline": {
          "visible": true
         },
         "name": "8",
         "scalegroup": "8",
         "showlegend": true,
         "text": [
          "Image Number: 8<br>Effective Radius Ratio Puncta / Nucleus: 0.6160164416854548<br>None: 8<br>",
          "Image Number: 8<br>Effective Radius Ratio Puncta / Nucleus: 0.5071830916127373<br>None: 8<br>",
          "Image Number: 8<br>Effective Radius Ratio Puncta / Nucleus: 0.24445843100392495<br>None: 8<br>",
          "Image Number: 8<br>Effective Radius Ratio Puncta / Nucleus: 0.38318491762075574<br>None: 8<br>",
          "Image Number: 8<br>Effective Radius Ratio Puncta / Nucleus: 0.46407570813334387<br>None: 8<br>",
          "Image Number: 8<br>Effective Radius Ratio Puncta / Nucleus: 1.0<br>None: 8<br>",
          "Image Number: 8<br>Effective Radius Ratio Puncta / Nucleus: 1.0<br>None: 8<br>",
          "Image Number: 8<br>Effective Radius Ratio Puncta / Nucleus: 0.2557195022190879<br>None: 8<br>",
          "Image Number: 8<br>Effective Radius Ratio Puncta / Nucleus: 0.3049021438440984<br>None: 8<br>",
          "Image Number: 8<br>Effective Radius Ratio Puncta / Nucleus: 0.39736738736368005<br>None: 8<br>",
          "Image Number: 8<br>Effective Radius Ratio Puncta / Nucleus: 0.3611951441130873<br>None: 8<br>",
          "Image Number: 8<br>Effective Radius Ratio Puncta / Nucleus: 0.3185178065438761<br>None: 8<br>",
          "Image Number: 8<br>Effective Radius Ratio Puncta / Nucleus: 0.6729830449714467<br>None: 8<br>",
          "Image Number: 8<br>Effective Radius Ratio Puncta / Nucleus: 0.6130813485299238<br>None: 8<br>",
          "Image Number: 8<br>Effective Radius Ratio Puncta / Nucleus: 1.0<br>None: 8<br>",
          "Image Number: 8<br>Effective Radius Ratio Puncta / Nucleus: 0.46721129037189574<br>None: 8<br>",
          "Image Number: 8<br>Effective Radius Ratio Puncta / Nucleus: 0.6135484481759725<br>None: 8<br>",
          "Image Number: 8<br>Effective Radius Ratio Puncta / Nucleus: 0.633242177979923<br>None: 8<br>",
          "Image Number: 8<br>Effective Radius Ratio Puncta / Nucleus: 1.0<br>None: 8<br>",
          "Image Number: 8<br>Effective Radius Ratio Puncta / Nucleus: 1.0<br>None: 8<br>",
          "Image Number: 8<br>Effective Radius Ratio Puncta / Nucleus: 0.4661103171548466<br>None: 8<br>",
          "Image Number: 8<br>Effective Radius Ratio Puncta / Nucleus: 0.956207454834113<br>None: 8<br>",
          "Image Number: 8<br>Effective Radius Ratio Puncta / Nucleus: 1.0<br>None: 8<br>",
          "Image Number: 8<br>Effective Radius Ratio Puncta / Nucleus: 0.2576206251652722<br>None: 8<br>",
          "Image Number: 8<br>Effective Radius Ratio Puncta / Nucleus: 1.0<br>None: 8<br>",
          "Image Number: 8<br>Effective Radius Ratio Puncta / Nucleus: 0.7543929135157798<br>None: 8<br>",
          "Image Number: 8<br>Effective Radius Ratio Puncta / Nucleus: 0.4347544904306764<br>None: 8<br>",
          "Image Number: 8<br>Effective Radius Ratio Puncta / Nucleus: 1.0<br>None: 8<br>",
          "Image Number: 8<br>Effective Radius Ratio Puncta / Nucleus: 0.5381913347226407<br>None: 8<br>",
          "Image Number: 8<br>Effective Radius Ratio Puncta / Nucleus: 0.5552988574282419<br>None: 8<br>",
          "Image Number: 8<br>Effective Radius Ratio Puncta / Nucleus: 1.0<br>None: 8<br>",
          "Image Number: 8<br>Effective Radius Ratio Puncta / Nucleus: 1.0<br>None: 8<br>"
         ],
         "type": "violin",
         "x": [
          "8",
          "8",
          "8",
          "8",
          "8",
          "8",
          "8",
          "8",
          "8",
          "8",
          "8",
          "8",
          "8",
          "8",
          "8",
          "8",
          "8",
          "8",
          "8",
          "8",
          "8",
          "8",
          "8",
          "8",
          "8",
          "8",
          "8",
          "8",
          "8",
          "8",
          "8",
          "8"
         ],
         "y": [
          0.6160164416854548,
          0.5071830916127373,
          0.24445843100392495,
          0.38318491762075574,
          0.46407570813334387,
          1,
          1,
          0.2557195022190879,
          0.3049021438440984,
          0.39736738736368005,
          0.3611951441130873,
          0.3185178065438761,
          0.6729830449714467,
          0.6130813485299238,
          1,
          0.46721129037189574,
          0.6135484481759725,
          0.633242177979923,
          1,
          1,
          0.4661103171548466,
          0.956207454834113,
          1,
          0.2576206251652722,
          1,
          0.7543929135157798,
          0.4347544904306764,
          1,
          0.5381913347226407,
          0.5552988574282419,
          1,
          1
         ]
        },
        {
         "box": {
          "visible": true
         },
         "hovertemplate": "%{text}<br><extra></extra>",
         "legendgroup": "18",
         "line": {
          "color": "#2ca02c"
         },
         "meanline": {
          "visible": true
         },
         "name": "18",
         "scalegroup": "18",
         "showlegend": true,
         "text": [
          "Image Number: 18<br>Effective Radius Ratio Puncta / Nucleus: 1.0<br>None: 18<br>",
          "Image Number: 18<br>Effective Radius Ratio Puncta / Nucleus: 1.0<br>None: 18<br>",
          "Image Number: 18<br>Effective Radius Ratio Puncta / Nucleus: 0.38899320062318515<br>None: 18<br>",
          "Image Number: 18<br>Effective Radius Ratio Puncta / Nucleus: 0.35717039560839187<br>None: 18<br>",
          "Image Number: 18<br>Effective Radius Ratio Puncta / Nucleus: 0.5505098853053769<br>None: 18<br>",
          "Image Number: 18<br>Effective Radius Ratio Puncta / Nucleus: 0.22427022558621745<br>None: 18<br>",
          "Image Number: 18<br>Effective Radius Ratio Puncta / Nucleus: 0.02234392810843759<br>None: 18<br>",
          "Image Number: 18<br>Effective Radius Ratio Puncta / Nucleus: 1.0<br>None: 18<br>",
          "Image Number: 18<br>Effective Radius Ratio Puncta / Nucleus: 0.44205440824867476<br>None: 18<br>",
          "Image Number: 18<br>Effective Radius Ratio Puncta / Nucleus: 0.26568762817993086<br>None: 18<br>",
          "Image Number: 18<br>Effective Radius Ratio Puncta / Nucleus: 1.7527300065754154<br>None: 18<br>",
          "Image Number: 18<br>Effective Radius Ratio Puncta / Nucleus: 0.30926468753623965<br>None: 18<br>",
          "Image Number: 18<br>Effective Radius Ratio Puncta / Nucleus: 1.0<br>None: 18<br>",
          "Image Number: 18<br>Effective Radius Ratio Puncta / Nucleus: 1.0166345218646355<br>None: 18<br>",
          "Image Number: 18<br>Effective Radius Ratio Puncta / Nucleus: 0.6881781436408219<br>None: 18<br>",
          "Image Number: 18<br>Effective Radius Ratio Puncta / Nucleus: 0.6099982912186394<br>None: 18<br>",
          "Image Number: 18<br>Effective Radius Ratio Puncta / Nucleus: 0.42709441744160137<br>None: 18<br>",
          "Image Number: 18<br>Effective Radius Ratio Puncta / Nucleus: 0.31640656008384077<br>None: 18<br>",
          "Image Number: 18<br>Effective Radius Ratio Puncta / Nucleus: 0.23915370778455<br>None: 18<br>",
          "Image Number: 18<br>Effective Radius Ratio Puncta / Nucleus: 1.0<br>None: 18<br>",
          "Image Number: 18<br>Effective Radius Ratio Puncta / Nucleus: 1.0<br>None: 18<br>",
          "Image Number: 18<br>Effective Radius Ratio Puncta / Nucleus: 0.7461091083301883<br>None: 18<br>",
          "Image Number: 18<br>Effective Radius Ratio Puncta / Nucleus: 1.0<br>None: 18<br>",
          "Image Number: 18<br>Effective Radius Ratio Puncta / Nucleus: 0.5192271904487379<br>None: 18<br>",
          "Image Number: 18<br>Effective Radius Ratio Puncta / Nucleus: 0.4478657273377924<br>None: 18<br>",
          "Image Number: 18<br>Effective Radius Ratio Puncta / Nucleus: 0.4290325220980134<br>None: 18<br>",
          "Image Number: 18<br>Effective Radius Ratio Puncta / Nucleus: 1.0<br>None: 18<br>",
          "Image Number: 18<br>Effective Radius Ratio Puncta / Nucleus: 1.0<br>None: 18<br>",
          "Image Number: 18<br>Effective Radius Ratio Puncta / Nucleus: 0.45409874109460596<br>None: 18<br>"
         ],
         "type": "violin",
         "x": [
          "18",
          "18",
          "18",
          "18",
          "18",
          "18",
          "18",
          "18",
          "18",
          "18",
          "18",
          "18",
          "18",
          "18",
          "18",
          "18",
          "18",
          "18",
          "18",
          "18",
          "18",
          "18",
          "18",
          "18",
          "18",
          "18",
          "18",
          "18",
          "18"
         ],
         "y": [
          1,
          1,
          0.38899320062318515,
          0.35717039560839187,
          0.5505098853053769,
          0.22427022558621745,
          0.02234392810843759,
          1,
          0.44205440824867476,
          0.26568762817993086,
          1.7527300065754154,
          0.30926468753623965,
          1,
          1.0166345218646355,
          0.6881781436408219,
          0.6099982912186394,
          0.42709441744160137,
          0.31640656008384077,
          0.23915370778455,
          1,
          1,
          0.7461091083301883,
          1,
          0.5192271904487379,
          0.4478657273377924,
          0.4290325220980134,
          1,
          1,
          0.45409874109460596
         ]
        },
        {
         "box": {
          "visible": true
         },
         "hovertemplate": "%{text}<br><extra></extra>",
         "legendgroup": "20",
         "line": {
          "color": "#d62728"
         },
         "meanline": {
          "visible": true
         },
         "name": "20",
         "scalegroup": "20",
         "showlegend": true,
         "text": [
          "Image Number: 20<br>Effective Radius Ratio Puncta / Nucleus: 1.0<br>None: 20<br>",
          "Image Number: 20<br>Effective Radius Ratio Puncta / Nucleus: 1.0<br>None: 20<br>",
          "Image Number: 20<br>Effective Radius Ratio Puncta / Nucleus: 1.0<br>None: 20<br>",
          "Image Number: 20<br>Effective Radius Ratio Puncta / Nucleus: 0.01350242221424651<br>None: 20<br>",
          "Image Number: 20<br>Effective Radius Ratio Puncta / Nucleus: 0.7701533761751982<br>None: 20<br>",
          "Image Number: 20<br>Effective Radius Ratio Puncta / Nucleus: 1.0<br>None: 20<br>",
          "Image Number: 20<br>Effective Radius Ratio Puncta / Nucleus: 0.580716200289267<br>None: 20<br>",
          "Image Number: 20<br>Effective Radius Ratio Puncta / Nucleus: 1.0<br>None: 20<br>",
          "Image Number: 20<br>Effective Radius Ratio Puncta / Nucleus: 1.0<br>None: 20<br>",
          "Image Number: 20<br>Effective Radius Ratio Puncta / Nucleus: 1.2223659045316457<br>None: 20<br>",
          "Image Number: 20<br>Effective Radius Ratio Puncta / Nucleus: 0.6096857652524241<br>None: 20<br>",
          "Image Number: 20<br>Effective Radius Ratio Puncta / Nucleus: 0.8125615526778324<br>None: 20<br>",
          "Image Number: 20<br>Effective Radius Ratio Puncta / Nucleus: 1.0<br>None: 20<br>",
          "Image Number: 20<br>Effective Radius Ratio Puncta / Nucleus: 0.37275669163631125<br>None: 20<br>",
          "Image Number: 20<br>Effective Radius Ratio Puncta / Nucleus: 0.5324968710141941<br>None: 20<br>",
          "Image Number: 20<br>Effective Radius Ratio Puncta / Nucleus: 1.0<br>None: 20<br>",
          "Image Number: 20<br>Effective Radius Ratio Puncta / Nucleus: 1.0<br>None: 20<br>",
          "Image Number: 20<br>Effective Radius Ratio Puncta / Nucleus: 0.673618310916368<br>None: 20<br>",
          "Image Number: 20<br>Effective Radius Ratio Puncta / Nucleus: 1.0<br>None: 20<br>",
          "Image Number: 20<br>Effective Radius Ratio Puncta / Nucleus: 0.6804259027396037<br>None: 20<br>",
          "Image Number: 20<br>Effective Radius Ratio Puncta / Nucleus: 0.9400404458941006<br>None: 20<br>",
          "Image Number: 20<br>Effective Radius Ratio Puncta / Nucleus: 0.37018543519691705<br>None: 20<br>",
          "Image Number: 20<br>Effective Radius Ratio Puncta / Nucleus: 0.9038832916038753<br>None: 20<br>",
          "Image Number: 20<br>Effective Radius Ratio Puncta / Nucleus: 1.0<br>None: 20<br>",
          "Image Number: 20<br>Effective Radius Ratio Puncta / Nucleus: 1.0<br>None: 20<br>",
          "Image Number: 20<br>Effective Radius Ratio Puncta / Nucleus: 0.9180149017895288<br>None: 20<br>",
          "Image Number: 20<br>Effective Radius Ratio Puncta / Nucleus: 1.0878840278644046<br>None: 20<br>",
          "Image Number: 20<br>Effective Radius Ratio Puncta / Nucleus: 1.1260282725264925<br>None: 20<br>",
          "Image Number: 20<br>Effective Radius Ratio Puncta / Nucleus: 1.0<br>None: 20<br>",
          "Image Number: 20<br>Effective Radius Ratio Puncta / Nucleus: 0.6754378157725578<br>None: 20<br>",
          "Image Number: 20<br>Effective Radius Ratio Puncta / Nucleus: 0.015253404749263625<br>None: 20<br>",
          "Image Number: 20<br>Effective Radius Ratio Puncta / Nucleus: 1.0<br>None: 20<br>",
          "Image Number: 20<br>Effective Radius Ratio Puncta / Nucleus: 1.0<br>None: 20<br>",
          "Image Number: 20<br>Effective Radius Ratio Puncta / Nucleus: 0.5185235207673817<br>None: 20<br>",
          "Image Number: 20<br>Effective Radius Ratio Puncta / Nucleus: 0.32490804622480773<br>None: 20<br>",
          "Image Number: 20<br>Effective Radius Ratio Puncta / Nucleus: 1.0<br>None: 20<br>",
          "Image Number: 20<br>Effective Radius Ratio Puncta / Nucleus: 0.9232028889143029<br>None: 20<br>",
          "Image Number: 20<br>Effective Radius Ratio Puncta / Nucleus: 0.9087437331093696<br>None: 20<br>",
          "Image Number: 20<br>Effective Radius Ratio Puncta / Nucleus: 0.4342178405709377<br>None: 20<br>",
          "Image Number: 20<br>Effective Radius Ratio Puncta / Nucleus: 0.669948195629537<br>None: 20<br>",
          "Image Number: 20<br>Effective Radius Ratio Puncta / Nucleus: 0.7235911893142016<br>None: 20<br>",
          "Image Number: 20<br>Effective Radius Ratio Puncta / Nucleus: 1.0<br>None: 20<br>",
          "Image Number: 20<br>Effective Radius Ratio Puncta / Nucleus: 0.9257944643313776<br>None: 20<br>",
          "Image Number: 20<br>Effective Radius Ratio Puncta / Nucleus: 0.3295435374351613<br>None: 20<br>",
          "Image Number: 20<br>Effective Radius Ratio Puncta / Nucleus: 1.0<br>None: 20<br>",
          "Image Number: 20<br>Effective Radius Ratio Puncta / Nucleus: 1.0<br>None: 20<br>",
          "Image Number: 20<br>Effective Radius Ratio Puncta / Nucleus: 1.0664247609213746<br>None: 20<br>",
          "Image Number: 20<br>Effective Radius Ratio Puncta / Nucleus: 0.37015862913361536<br>None: 20<br>",
          "Image Number: 20<br>Effective Radius Ratio Puncta / Nucleus: 0.02282474539495152<br>None: 20<br>",
          "Image Number: 20<br>Effective Radius Ratio Puncta / Nucleus: 0.34729797550660313<br>None: 20<br>",
          "Image Number: 20<br>Effective Radius Ratio Puncta / Nucleus: 0.2560613032120079<br>None: 20<br>",
          "Image Number: 20<br>Effective Radius Ratio Puncta / Nucleus: 0.6698591273275982<br>None: 20<br>",
          "Image Number: 20<br>Effective Radius Ratio Puncta / Nucleus: 0.5229030536896515<br>None: 20<br>"
         ],
         "type": "violin",
         "x": [
          "20",
          "20",
          "20",
          "20",
          "20",
          "20",
          "20",
          "20",
          "20",
          "20",
          "20",
          "20",
          "20",
          "20",
          "20",
          "20",
          "20",
          "20",
          "20",
          "20",
          "20",
          "20",
          "20",
          "20",
          "20",
          "20",
          "20",
          "20",
          "20",
          "20",
          "20",
          "20",
          "20",
          "20",
          "20",
          "20",
          "20",
          "20",
          "20",
          "20",
          "20",
          "20",
          "20",
          "20",
          "20",
          "20",
          "20",
          "20",
          "20",
          "20",
          "20",
          "20",
          "20"
         ],
         "y": [
          1,
          1,
          1,
          0.01350242221424651,
          0.7701533761751982,
          1,
          0.580716200289267,
          1,
          1,
          1.2223659045316457,
          0.6096857652524241,
          0.8125615526778324,
          1,
          0.37275669163631125,
          0.5324968710141941,
          1,
          1,
          0.673618310916368,
          1,
          0.6804259027396037,
          0.9400404458941006,
          0.37018543519691705,
          0.9038832916038753,
          1,
          1,
          0.9180149017895288,
          1.0878840278644046,
          1.1260282725264925,
          1,
          0.6754378157725578,
          0.015253404749263625,
          1,
          1,
          0.5185235207673817,
          0.32490804622480773,
          1,
          0.9232028889143029,
          0.9087437331093696,
          0.4342178405709377,
          0.669948195629537,
          0.7235911893142016,
          1,
          0.9257944643313776,
          0.3295435374351613,
          1,
          1,
          1.0664247609213746,
          0.37015862913361536,
          0.02282474539495152,
          0.34729797550660313,
          0.2560613032120079,
          0.6698591273275982,
          0.5229030536896515
         ]
        }
       ],
       "layout": {
        "hovermode": "closest",
        "plot_bgcolor": "rgba(0,0,0,0)",
        "showlegend": true,
        "template": {
         "data": {
          "bar": [
           {
            "error_x": {
             "color": "#2a3f5f"
            },
            "error_y": {
             "color": "#2a3f5f"
            },
            "marker": {
             "line": {
              "color": "#E5ECF6",
              "width": 0.5
             }
            },
            "type": "bar"
           }
          ],
          "barpolar": [
           {
            "marker": {
             "line": {
              "color": "#E5ECF6",
              "width": 0.5
             }
            },
            "type": "barpolar"
           }
          ],
          "carpet": [
           {
            "aaxis": {
             "endlinecolor": "#2a3f5f",
             "gridcolor": "white",
             "linecolor": "white",
             "minorgridcolor": "white",
             "startlinecolor": "#2a3f5f"
            },
            "baxis": {
             "endlinecolor": "#2a3f5f",
             "gridcolor": "white",
             "linecolor": "white",
             "minorgridcolor": "white",
             "startlinecolor": "#2a3f5f"
            },
            "type": "carpet"
           }
          ],
          "choropleth": [
           {
            "colorbar": {
             "outlinewidth": 0,
             "ticks": ""
            },
            "type": "choropleth"
           }
          ],
          "contour": [
           {
            "colorbar": {
             "outlinewidth": 0,
             "ticks": ""
            },
            "colorscale": [
             [
              0,
              "#0d0887"
             ],
             [
              0.1111111111111111,
              "#46039f"
             ],
             [
              0.2222222222222222,
              "#7201a8"
             ],
             [
              0.3333333333333333,
              "#9c179e"
             ],
             [
              0.4444444444444444,
              "#bd3786"
             ],
             [
              0.5555555555555556,
              "#d8576b"
             ],
             [
              0.6666666666666666,
              "#ed7953"
             ],
             [
              0.7777777777777778,
              "#fb9f3a"
             ],
             [
              0.8888888888888888,
              "#fdca26"
             ],
             [
              1,
              "#f0f921"
             ]
            ],
            "type": "contour"
           }
          ],
          "contourcarpet": [
           {
            "colorbar": {
             "outlinewidth": 0,
             "ticks": ""
            },
            "type": "contourcarpet"
           }
          ],
          "heatmap": [
           {
            "colorbar": {
             "outlinewidth": 0,
             "ticks": ""
            },
            "colorscale": [
             [
              0,
              "#0d0887"
             ],
             [
              0.1111111111111111,
              "#46039f"
             ],
             [
              0.2222222222222222,
              "#7201a8"
             ],
             [
              0.3333333333333333,
              "#9c179e"
             ],
             [
              0.4444444444444444,
              "#bd3786"
             ],
             [
              0.5555555555555556,
              "#d8576b"
             ],
             [
              0.6666666666666666,
              "#ed7953"
             ],
             [
              0.7777777777777778,
              "#fb9f3a"
             ],
             [
              0.8888888888888888,
              "#fdca26"
             ],
             [
              1,
              "#f0f921"
             ]
            ],
            "type": "heatmap"
           }
          ],
          "heatmapgl": [
           {
            "colorbar": {
             "outlinewidth": 0,
             "ticks": ""
            },
            "colorscale": [
             [
              0,
              "#0d0887"
             ],
             [
              0.1111111111111111,
              "#46039f"
             ],
             [
              0.2222222222222222,
              "#7201a8"
             ],
             [
              0.3333333333333333,
              "#9c179e"
             ],
             [
              0.4444444444444444,
              "#bd3786"
             ],
             [
              0.5555555555555556,
              "#d8576b"
             ],
             [
              0.6666666666666666,
              "#ed7953"
             ],
             [
              0.7777777777777778,
              "#fb9f3a"
             ],
             [
              0.8888888888888888,
              "#fdca26"
             ],
             [
              1,
              "#f0f921"
             ]
            ],
            "type": "heatmapgl"
           }
          ],
          "histogram": [
           {
            "marker": {
             "colorbar": {
              "outlinewidth": 0,
              "ticks": ""
             }
            },
            "type": "histogram"
           }
          ],
          "histogram2d": [
           {
            "colorbar": {
             "outlinewidth": 0,
             "ticks": ""
            },
            "colorscale": [
             [
              0,
              "#0d0887"
             ],
             [
              0.1111111111111111,
              "#46039f"
             ],
             [
              0.2222222222222222,
              "#7201a8"
             ],
             [
              0.3333333333333333,
              "#9c179e"
             ],
             [
              0.4444444444444444,
              "#bd3786"
             ],
             [
              0.5555555555555556,
              "#d8576b"
             ],
             [
              0.6666666666666666,
              "#ed7953"
             ],
             [
              0.7777777777777778,
              "#fb9f3a"
             ],
             [
              0.8888888888888888,
              "#fdca26"
             ],
             [
              1,
              "#f0f921"
             ]
            ],
            "type": "histogram2d"
           }
          ],
          "histogram2dcontour": [
           {
            "colorbar": {
             "outlinewidth": 0,
             "ticks": ""
            },
            "colorscale": [
             [
              0,
              "#0d0887"
             ],
             [
              0.1111111111111111,
              "#46039f"
             ],
             [
              0.2222222222222222,
              "#7201a8"
             ],
             [
              0.3333333333333333,
              "#9c179e"
             ],
             [
              0.4444444444444444,
              "#bd3786"
             ],
             [
              0.5555555555555556,
              "#d8576b"
             ],
             [
              0.6666666666666666,
              "#ed7953"
             ],
             [
              0.7777777777777778,
              "#fb9f3a"
             ],
             [
              0.8888888888888888,
              "#fdca26"
             ],
             [
              1,
              "#f0f921"
             ]
            ],
            "type": "histogram2dcontour"
           }
          ],
          "mesh3d": [
           {
            "colorbar": {
             "outlinewidth": 0,
             "ticks": ""
            },
            "type": "mesh3d"
           }
          ],
          "parcoords": [
           {
            "line": {
             "colorbar": {
              "outlinewidth": 0,
              "ticks": ""
             }
            },
            "type": "parcoords"
           }
          ],
          "pie": [
           {
            "automargin": true,
            "type": "pie"
           }
          ],
          "scatter": [
           {
            "marker": {
             "colorbar": {
              "outlinewidth": 0,
              "ticks": ""
             }
            },
            "type": "scatter"
           }
          ],
          "scatter3d": [
           {
            "line": {
             "colorbar": {
              "outlinewidth": 0,
              "ticks": ""
             }
            },
            "marker": {
             "colorbar": {
              "outlinewidth": 0,
              "ticks": ""
             }
            },
            "type": "scatter3d"
           }
          ],
          "scattercarpet": [
           {
            "marker": {
             "colorbar": {
              "outlinewidth": 0,
              "ticks": ""
             }
            },
            "type": "scattercarpet"
           }
          ],
          "scattergeo": [
           {
            "marker": {
             "colorbar": {
              "outlinewidth": 0,
              "ticks": ""
             }
            },
            "type": "scattergeo"
           }
          ],
          "scattergl": [
           {
            "marker": {
             "colorbar": {
              "outlinewidth": 0,
              "ticks": ""
             }
            },
            "type": "scattergl"
           }
          ],
          "scattermapbox": [
           {
            "marker": {
             "colorbar": {
              "outlinewidth": 0,
              "ticks": ""
             }
            },
            "type": "scattermapbox"
           }
          ],
          "scatterpolar": [
           {
            "marker": {
             "colorbar": {
              "outlinewidth": 0,
              "ticks": ""
             }
            },
            "type": "scatterpolar"
           }
          ],
          "scatterpolargl": [
           {
            "marker": {
             "colorbar": {
              "outlinewidth": 0,
              "ticks": ""
             }
            },
            "type": "scatterpolargl"
           }
          ],
          "scatterternary": [
           {
            "marker": {
             "colorbar": {
              "outlinewidth": 0,
              "ticks": ""
             }
            },
            "type": "scatterternary"
           }
          ],
          "surface": [
           {
            "colorbar": {
             "outlinewidth": 0,
             "ticks": ""
            },
            "colorscale": [
             [
              0,
              "#0d0887"
             ],
             [
              0.1111111111111111,
              "#46039f"
             ],
             [
              0.2222222222222222,
              "#7201a8"
             ],
             [
              0.3333333333333333,
              "#9c179e"
             ],
             [
              0.4444444444444444,
              "#bd3786"
             ],
             [
              0.5555555555555556,
              "#d8576b"
             ],
             [
              0.6666666666666666,
              "#ed7953"
             ],
             [
              0.7777777777777778,
              "#fb9f3a"
             ],
             [
              0.8888888888888888,
              "#fdca26"
             ],
             [
              1,
              "#f0f921"
             ]
            ],
            "type": "surface"
           }
          ],
          "table": [
           {
            "cells": {
             "fill": {
              "color": "#EBF0F8"
             },
             "line": {
              "color": "white"
             }
            },
            "header": {
             "fill": {
              "color": "#C8D4E3"
             },
             "line": {
              "color": "white"
             }
            },
            "type": "table"
           }
          ]
         },
         "layout": {
          "annotationdefaults": {
           "arrowcolor": "#2a3f5f",
           "arrowhead": 0,
           "arrowwidth": 1
          },
          "coloraxis": {
           "colorbar": {
            "outlinewidth": 0,
            "ticks": ""
           }
          },
          "colorscale": {
           "diverging": [
            [
             0,
             "#8e0152"
            ],
            [
             0.1,
             "#c51b7d"
            ],
            [
             0.2,
             "#de77ae"
            ],
            [
             0.3,
             "#f1b6da"
            ],
            [
             0.4,
             "#fde0ef"
            ],
            [
             0.5,
             "#f7f7f7"
            ],
            [
             0.6,
             "#e6f5d0"
            ],
            [
             0.7,
             "#b8e186"
            ],
            [
             0.8,
             "#7fbc41"
            ],
            [
             0.9,
             "#4d9221"
            ],
            [
             1,
             "#276419"
            ]
           ],
           "sequential": [
            [
             0,
             "#0d0887"
            ],
            [
             0.1111111111111111,
             "#46039f"
            ],
            [
             0.2222222222222222,
             "#7201a8"
            ],
            [
             0.3333333333333333,
             "#9c179e"
            ],
            [
             0.4444444444444444,
             "#bd3786"
            ],
            [
             0.5555555555555556,
             "#d8576b"
            ],
            [
             0.6666666666666666,
             "#ed7953"
            ],
            [
             0.7777777777777778,
             "#fb9f3a"
            ],
            [
             0.8888888888888888,
             "#fdca26"
            ],
            [
             1,
             "#f0f921"
            ]
           ],
           "sequentialminus": [
            [
             0,
             "#0d0887"
            ],
            [
             0.1111111111111111,
             "#46039f"
            ],
            [
             0.2222222222222222,
             "#7201a8"
            ],
            [
             0.3333333333333333,
             "#9c179e"
            ],
            [
             0.4444444444444444,
             "#bd3786"
            ],
            [
             0.5555555555555556,
             "#d8576b"
            ],
            [
             0.6666666666666666,
             "#ed7953"
            ],
            [
             0.7777777777777778,
             "#fb9f3a"
            ],
            [
             0.8888888888888888,
             "#fdca26"
            ],
            [
             1,
             "#f0f921"
            ]
           ]
          },
          "colorway": [
           "#636efa",
           "#EF553B",
           "#00cc96",
           "#ab63fa",
           "#FFA15A",
           "#19d3f3",
           "#FF6692",
           "#B6E880",
           "#FF97FF",
           "#FECB52"
          ],
          "font": {
           "color": "#2a3f5f"
          },
          "geo": {
           "bgcolor": "white",
           "lakecolor": "white",
           "landcolor": "#E5ECF6",
           "showlakes": true,
           "showland": true,
           "subunitcolor": "white"
          },
          "hoverlabel": {
           "align": "left"
          },
          "hovermode": "closest",
          "mapbox": {
           "style": "light"
          },
          "paper_bgcolor": "white",
          "plot_bgcolor": "#E5ECF6",
          "polar": {
           "angularaxis": {
            "gridcolor": "white",
            "linecolor": "white",
            "ticks": ""
           },
           "bgcolor": "#E5ECF6",
           "radialaxis": {
            "gridcolor": "white",
            "linecolor": "white",
            "ticks": ""
           }
          },
          "scene": {
           "xaxis": {
            "backgroundcolor": "#E5ECF6",
            "gridcolor": "white",
            "gridwidth": 2,
            "linecolor": "white",
            "showbackground": true,
            "ticks": "",
            "zerolinecolor": "white"
           },
           "yaxis": {
            "backgroundcolor": "#E5ECF6",
            "gridcolor": "white",
            "gridwidth": 2,
            "linecolor": "white",
            "showbackground": true,
            "ticks": "",
            "zerolinecolor": "white"
           },
           "zaxis": {
            "backgroundcolor": "#E5ECF6",
            "gridcolor": "white",
            "gridwidth": 2,
            "linecolor": "white",
            "showbackground": true,
            "ticks": "",
            "zerolinecolor": "white"
           }
          },
          "shapedefaults": {
           "line": {
            "color": "#2a3f5f"
           }
          },
          "ternary": {
           "aaxis": {
            "gridcolor": "white",
            "linecolor": "white",
            "ticks": ""
           },
           "baxis": {
            "gridcolor": "white",
            "linecolor": "white",
            "ticks": ""
           },
           "bgcolor": "#E5ECF6",
           "caxis": {
            "gridcolor": "white",
            "linecolor": "white",
            "ticks": ""
           }
          },
          "title": {
           "x": 0.05
          },
          "xaxis": {
           "automargin": true,
           "gridcolor": "white",
           "linecolor": "white",
           "ticks": "",
           "title": {
            "standoff": 15
           },
           "zerolinecolor": "white",
           "zerolinewidth": 2
          },
          "yaxis": {
           "automargin": true,
           "gridcolor": "white",
           "linecolor": "white",
           "ticks": "",
           "title": {
            "standoff": 15
           },
           "zerolinecolor": "white",
           "zerolinewidth": 2
          }
         }
        },
        "title": {
         "text": "Distribution of Puncta / Nucleus Ratio"
        },
        "xaxis": {
         "showgrid": true,
         "title": {
          "text": "Image Number"
         },
         "type": "category"
        },
        "yaxis": {
         "gridcolor": "#E4EAF2",
         "range": [
          0.012152179992821859,
          1.9280030072329573
         ],
         "showgrid": true,
         "title": {
          "text": "Effective Radius Ratio Puncta / Nucleus"
         },
         "zeroline": false
        }
       }
      },
      "text/html": [
       "<div>                            <div id=\"8d9ff4e5-d983-4cd7-86f0-aaadb888baa9\" class=\"plotly-graph-div\" style=\"height:525px; width:100%;\"></div>            <script type=\"text/javascript\">                require([\"plotly\"], function(Plotly) {                    window.PLOTLYENV=window.PLOTLYENV || {};                                    if (document.getElementById(\"8d9ff4e5-d983-4cd7-86f0-aaadb888baa9\")) {                    Plotly.newPlot(                        \"8d9ff4e5-d983-4cd7-86f0-aaadb888baa9\",                        [{\"box\": {\"visible\": true}, \"hovertemplate\": \"%{text}<br><extra></extra>\", \"legendgroup\": \"3\", \"line\": {\"color\": \"#1f77b4\"}, \"meanline\": {\"visible\": true}, \"name\": \"3\", \"scalegroup\": \"3\", \"showlegend\": true, \"text\": [\"Image Number: 3<br>Effective Radius Ratio Puncta / Nucleus: 1.0<br>None: 3<br>\", \"Image Number: 3<br>Effective Radius Ratio Puncta / Nucleus: 0.26028642628074766<br>None: 3<br>\", \"Image Number: 3<br>Effective Radius Ratio Puncta / Nucleus: 0.2655858771331843<br>None: 3<br>\", \"Image Number: 3<br>Effective Radius Ratio Puncta / Nucleus: 1.0<br>None: 3<br>\", \"Image Number: 3<br>Effective Radius Ratio Puncta / Nucleus: 0.03873104382610596<br>None: 3<br>\", \"Image Number: 3<br>Effective Radius Ratio Puncta / Nucleus: 1.0<br>None: 3<br>\", \"Image Number: 3<br>Effective Radius Ratio Puncta / Nucleus: 0.1870877895331754<br>None: 3<br>\", \"Image Number: 3<br>Effective Radius Ratio Puncta / Nucleus: 1.0<br>None: 3<br>\", \"Image Number: 3<br>Effective Radius Ratio Puncta / Nucleus: 1.0<br>None: 3<br>\", \"Image Number: 3<br>Effective Radius Ratio Puncta / Nucleus: 0.6762118254721395<br>None: 3<br>\", \"Image Number: 3<br>Effective Radius Ratio Puncta / Nucleus: 1.0<br>None: 3<br>\", \"Image Number: 3<br>Effective Radius Ratio Puncta / Nucleus: 0.41089008366122703<br>None: 3<br>\", \"Image Number: 3<br>Effective Radius Ratio Puncta / Nucleus: 0.5317556799601661<br>None: 3<br>\", \"Image Number: 3<br>Effective Radius Ratio Puncta / Nucleus: 1.0<br>None: 3<br>\", \"Image Number: 3<br>Effective Radius Ratio Puncta / Nucleus: 0.6952218816483346<br>None: 3<br>\", \"Image Number: 3<br>Effective Radius Ratio Puncta / Nucleus: 0.5921702942172392<br>None: 3<br>\", \"Image Number: 3<br>Effective Radius Ratio Puncta / Nucleus: 0.329243010543736<br>None: 3<br>\", \"Image Number: 3<br>Effective Radius Ratio Puncta / Nucleus: 0.4299644954262711<br>None: 3<br>\", \"Image Number: 3<br>Effective Radius Ratio Puncta / Nucleus: 0.4087180403532356<br>None: 3<br>\", \"Image Number: 3<br>Effective Radius Ratio Puncta / Nucleus: 0.5855040504757217<br>None: 3<br>\", \"Image Number: 3<br>Effective Radius Ratio Puncta / Nucleus: 0.6320050270425176<br>None: 3<br>\", \"Image Number: 3<br>Effective Radius Ratio Puncta / Nucleus: 0.37071623481349064<br>None: 3<br>\", \"Image Number: 3<br>Effective Radius Ratio Puncta / Nucleus: 0.42731524731011516<br>None: 3<br>\", \"Image Number: 3<br>Effective Radius Ratio Puncta / Nucleus: 0.1670146789369791<br>None: 3<br>\", \"Image Number: 3<br>Effective Radius Ratio Puncta / Nucleus: 0.9601073982526703<br>None: 3<br>\", \"Image Number: 3<br>Effective Radius Ratio Puncta / Nucleus: 0.522239277188337<br>None: 3<br>\", \"Image Number: 3<br>Effective Radius Ratio Puncta / Nucleus: 0.3833243742794574<br>None: 3<br>\", \"Image Number: 3<br>Effective Radius Ratio Puncta / Nucleus: 0.27532693116306983<br>None: 3<br>\"], \"type\": \"violin\", \"x\": [\"3\", \"3\", \"3\", \"3\", \"3\", \"3\", \"3\", \"3\", \"3\", \"3\", \"3\", \"3\", \"3\", \"3\", \"3\", \"3\", \"3\", \"3\", \"3\", \"3\", \"3\", \"3\", \"3\", \"3\", \"3\", \"3\", \"3\", \"3\"], \"y\": [1.0, 0.26028642628074766, 0.2655858771331843, 1.0, 0.03873104382610596, 1.0, 0.1870877895331754, 1.0, 1.0, 0.6762118254721395, 1.0, 0.41089008366122703, 0.5317556799601661, 1.0, 0.6952218816483346, 0.5921702942172392, 0.329243010543736, 0.4299644954262711, 0.4087180403532356, 0.5855040504757217, 0.6320050270425176, 0.37071623481349064, 0.42731524731011516, 0.1670146789369791, 0.9601073982526703, 0.522239277188337, 0.3833243742794574, 0.27532693116306983]}, {\"box\": {\"visible\": true}, \"hovertemplate\": \"%{text}<br><extra></extra>\", \"legendgroup\": \"8\", \"line\": {\"color\": \"#ff7f0e\"}, \"meanline\": {\"visible\": true}, \"name\": \"8\", \"scalegroup\": \"8\", \"showlegend\": true, \"text\": [\"Image Number: 8<br>Effective Radius Ratio Puncta / Nucleus: 0.6160164416854548<br>None: 8<br>\", \"Image Number: 8<br>Effective Radius Ratio Puncta / Nucleus: 0.5071830916127373<br>None: 8<br>\", \"Image Number: 8<br>Effective Radius Ratio Puncta / Nucleus: 0.24445843100392495<br>None: 8<br>\", \"Image Number: 8<br>Effective Radius Ratio Puncta / Nucleus: 0.38318491762075574<br>None: 8<br>\", \"Image Number: 8<br>Effective Radius Ratio Puncta / Nucleus: 0.46407570813334387<br>None: 8<br>\", \"Image Number: 8<br>Effective Radius Ratio Puncta / Nucleus: 1.0<br>None: 8<br>\", \"Image Number: 8<br>Effective Radius Ratio Puncta / Nucleus: 1.0<br>None: 8<br>\", \"Image Number: 8<br>Effective Radius Ratio Puncta / Nucleus: 0.2557195022190879<br>None: 8<br>\", \"Image Number: 8<br>Effective Radius Ratio Puncta / Nucleus: 0.3049021438440984<br>None: 8<br>\", \"Image Number: 8<br>Effective Radius Ratio Puncta / Nucleus: 0.39736738736368005<br>None: 8<br>\", \"Image Number: 8<br>Effective Radius Ratio Puncta / Nucleus: 0.3611951441130873<br>None: 8<br>\", \"Image Number: 8<br>Effective Radius Ratio Puncta / Nucleus: 0.3185178065438761<br>None: 8<br>\", \"Image Number: 8<br>Effective Radius Ratio Puncta / Nucleus: 0.6729830449714467<br>None: 8<br>\", \"Image Number: 8<br>Effective Radius Ratio Puncta / Nucleus: 0.6130813485299238<br>None: 8<br>\", \"Image Number: 8<br>Effective Radius Ratio Puncta / Nucleus: 1.0<br>None: 8<br>\", \"Image Number: 8<br>Effective Radius Ratio Puncta / Nucleus: 0.46721129037189574<br>None: 8<br>\", \"Image Number: 8<br>Effective Radius Ratio Puncta / Nucleus: 0.6135484481759725<br>None: 8<br>\", \"Image Number: 8<br>Effective Radius Ratio Puncta / Nucleus: 0.633242177979923<br>None: 8<br>\", \"Image Number: 8<br>Effective Radius Ratio Puncta / Nucleus: 1.0<br>None: 8<br>\", \"Image Number: 8<br>Effective Radius Ratio Puncta / Nucleus: 1.0<br>None: 8<br>\", \"Image Number: 8<br>Effective Radius Ratio Puncta / Nucleus: 0.4661103171548466<br>None: 8<br>\", \"Image Number: 8<br>Effective Radius Ratio Puncta / Nucleus: 0.956207454834113<br>None: 8<br>\", \"Image Number: 8<br>Effective Radius Ratio Puncta / Nucleus: 1.0<br>None: 8<br>\", \"Image Number: 8<br>Effective Radius Ratio Puncta / Nucleus: 0.2576206251652722<br>None: 8<br>\", \"Image Number: 8<br>Effective Radius Ratio Puncta / Nucleus: 1.0<br>None: 8<br>\", \"Image Number: 8<br>Effective Radius Ratio Puncta / Nucleus: 0.7543929135157798<br>None: 8<br>\", \"Image Number: 8<br>Effective Radius Ratio Puncta / Nucleus: 0.4347544904306764<br>None: 8<br>\", \"Image Number: 8<br>Effective Radius Ratio Puncta / Nucleus: 1.0<br>None: 8<br>\", \"Image Number: 8<br>Effective Radius Ratio Puncta / Nucleus: 0.5381913347226407<br>None: 8<br>\", \"Image Number: 8<br>Effective Radius Ratio Puncta / Nucleus: 0.5552988574282419<br>None: 8<br>\", \"Image Number: 8<br>Effective Radius Ratio Puncta / Nucleus: 1.0<br>None: 8<br>\", \"Image Number: 8<br>Effective Radius Ratio Puncta / Nucleus: 1.0<br>None: 8<br>\"], \"type\": \"violin\", \"x\": [\"8\", \"8\", \"8\", \"8\", \"8\", \"8\", \"8\", \"8\", \"8\", \"8\", \"8\", \"8\", \"8\", \"8\", \"8\", \"8\", \"8\", \"8\", \"8\", \"8\", \"8\", \"8\", \"8\", \"8\", \"8\", \"8\", \"8\", \"8\", \"8\", \"8\", \"8\", \"8\"], \"y\": [0.6160164416854548, 0.5071830916127373, 0.24445843100392495, 0.38318491762075574, 0.46407570813334387, 1.0, 1.0, 0.2557195022190879, 0.3049021438440984, 0.39736738736368005, 0.3611951441130873, 0.3185178065438761, 0.6729830449714467, 0.6130813485299238, 1.0, 0.46721129037189574, 0.6135484481759725, 0.633242177979923, 1.0, 1.0, 0.4661103171548466, 0.956207454834113, 1.0, 0.2576206251652722, 1.0, 0.7543929135157798, 0.4347544904306764, 1.0, 0.5381913347226407, 0.5552988574282419, 1.0, 1.0]}, {\"box\": {\"visible\": true}, \"hovertemplate\": \"%{text}<br><extra></extra>\", \"legendgroup\": \"18\", \"line\": {\"color\": \"#2ca02c\"}, \"meanline\": {\"visible\": true}, \"name\": \"18\", \"scalegroup\": \"18\", \"showlegend\": true, \"text\": [\"Image Number: 18<br>Effective Radius Ratio Puncta / Nucleus: 1.0<br>None: 18<br>\", \"Image Number: 18<br>Effective Radius Ratio Puncta / Nucleus: 1.0<br>None: 18<br>\", \"Image Number: 18<br>Effective Radius Ratio Puncta / Nucleus: 0.38899320062318515<br>None: 18<br>\", \"Image Number: 18<br>Effective Radius Ratio Puncta / Nucleus: 0.35717039560839187<br>None: 18<br>\", \"Image Number: 18<br>Effective Radius Ratio Puncta / Nucleus: 0.5505098853053769<br>None: 18<br>\", \"Image Number: 18<br>Effective Radius Ratio Puncta / Nucleus: 0.22427022558621745<br>None: 18<br>\", \"Image Number: 18<br>Effective Radius Ratio Puncta / Nucleus: 0.02234392810843759<br>None: 18<br>\", \"Image Number: 18<br>Effective Radius Ratio Puncta / Nucleus: 1.0<br>None: 18<br>\", \"Image Number: 18<br>Effective Radius Ratio Puncta / Nucleus: 0.44205440824867476<br>None: 18<br>\", \"Image Number: 18<br>Effective Radius Ratio Puncta / Nucleus: 0.26568762817993086<br>None: 18<br>\", \"Image Number: 18<br>Effective Radius Ratio Puncta / Nucleus: 1.7527300065754154<br>None: 18<br>\", \"Image Number: 18<br>Effective Radius Ratio Puncta / Nucleus: 0.30926468753623965<br>None: 18<br>\", \"Image Number: 18<br>Effective Radius Ratio Puncta / Nucleus: 1.0<br>None: 18<br>\", \"Image Number: 18<br>Effective Radius Ratio Puncta / Nucleus: 1.0166345218646355<br>None: 18<br>\", \"Image Number: 18<br>Effective Radius Ratio Puncta / Nucleus: 0.6881781436408219<br>None: 18<br>\", \"Image Number: 18<br>Effective Radius Ratio Puncta / Nucleus: 0.6099982912186394<br>None: 18<br>\", \"Image Number: 18<br>Effective Radius Ratio Puncta / Nucleus: 0.42709441744160137<br>None: 18<br>\", \"Image Number: 18<br>Effective Radius Ratio Puncta / Nucleus: 0.31640656008384077<br>None: 18<br>\", \"Image Number: 18<br>Effective Radius Ratio Puncta / Nucleus: 0.23915370778455<br>None: 18<br>\", \"Image Number: 18<br>Effective Radius Ratio Puncta / Nucleus: 1.0<br>None: 18<br>\", \"Image Number: 18<br>Effective Radius Ratio Puncta / Nucleus: 1.0<br>None: 18<br>\", \"Image Number: 18<br>Effective Radius Ratio Puncta / Nucleus: 0.7461091083301883<br>None: 18<br>\", \"Image Number: 18<br>Effective Radius Ratio Puncta / Nucleus: 1.0<br>None: 18<br>\", \"Image Number: 18<br>Effective Radius Ratio Puncta / Nucleus: 0.5192271904487379<br>None: 18<br>\", \"Image Number: 18<br>Effective Radius Ratio Puncta / Nucleus: 0.4478657273377924<br>None: 18<br>\", \"Image Number: 18<br>Effective Radius Ratio Puncta / Nucleus: 0.4290325220980134<br>None: 18<br>\", \"Image Number: 18<br>Effective Radius Ratio Puncta / Nucleus: 1.0<br>None: 18<br>\", \"Image Number: 18<br>Effective Radius Ratio Puncta / Nucleus: 1.0<br>None: 18<br>\", \"Image Number: 18<br>Effective Radius Ratio Puncta / Nucleus: 0.45409874109460596<br>None: 18<br>\"], \"type\": \"violin\", \"x\": [\"18\", \"18\", \"18\", \"18\", \"18\", \"18\", \"18\", \"18\", \"18\", \"18\", \"18\", \"18\", \"18\", \"18\", \"18\", \"18\", \"18\", \"18\", \"18\", \"18\", \"18\", \"18\", \"18\", \"18\", \"18\", \"18\", \"18\", \"18\", \"18\"], \"y\": [1.0, 1.0, 0.38899320062318515, 0.35717039560839187, 0.5505098853053769, 0.22427022558621745, 0.02234392810843759, 1.0, 0.44205440824867476, 0.26568762817993086, 1.7527300065754154, 0.30926468753623965, 1.0, 1.0166345218646355, 0.6881781436408219, 0.6099982912186394, 0.42709441744160137, 0.31640656008384077, 0.23915370778455, 1.0, 1.0, 0.7461091083301883, 1.0, 0.5192271904487379, 0.4478657273377924, 0.4290325220980134, 1.0, 1.0, 0.45409874109460596]}, {\"box\": {\"visible\": true}, \"hovertemplate\": \"%{text}<br><extra></extra>\", \"legendgroup\": \"20\", \"line\": {\"color\": \"#d62728\"}, \"meanline\": {\"visible\": true}, \"name\": \"20\", \"scalegroup\": \"20\", \"showlegend\": true, \"text\": [\"Image Number: 20<br>Effective Radius Ratio Puncta / Nucleus: 1.0<br>None: 20<br>\", \"Image Number: 20<br>Effective Radius Ratio Puncta / Nucleus: 1.0<br>None: 20<br>\", \"Image Number: 20<br>Effective Radius Ratio Puncta / Nucleus: 1.0<br>None: 20<br>\", \"Image Number: 20<br>Effective Radius Ratio Puncta / Nucleus: 0.01350242221424651<br>None: 20<br>\", \"Image Number: 20<br>Effective Radius Ratio Puncta / Nucleus: 0.7701533761751982<br>None: 20<br>\", \"Image Number: 20<br>Effective Radius Ratio Puncta / Nucleus: 1.0<br>None: 20<br>\", \"Image Number: 20<br>Effective Radius Ratio Puncta / Nucleus: 0.580716200289267<br>None: 20<br>\", \"Image Number: 20<br>Effective Radius Ratio Puncta / Nucleus: 1.0<br>None: 20<br>\", \"Image Number: 20<br>Effective Radius Ratio Puncta / Nucleus: 1.0<br>None: 20<br>\", \"Image Number: 20<br>Effective Radius Ratio Puncta / Nucleus: 1.2223659045316457<br>None: 20<br>\", \"Image Number: 20<br>Effective Radius Ratio Puncta / Nucleus: 0.6096857652524241<br>None: 20<br>\", \"Image Number: 20<br>Effective Radius Ratio Puncta / Nucleus: 0.8125615526778324<br>None: 20<br>\", \"Image Number: 20<br>Effective Radius Ratio Puncta / Nucleus: 1.0<br>None: 20<br>\", \"Image Number: 20<br>Effective Radius Ratio Puncta / Nucleus: 0.37275669163631125<br>None: 20<br>\", \"Image Number: 20<br>Effective Radius Ratio Puncta / Nucleus: 0.5324968710141941<br>None: 20<br>\", \"Image Number: 20<br>Effective Radius Ratio Puncta / Nucleus: 1.0<br>None: 20<br>\", \"Image Number: 20<br>Effective Radius Ratio Puncta / Nucleus: 1.0<br>None: 20<br>\", \"Image Number: 20<br>Effective Radius Ratio Puncta / Nucleus: 0.673618310916368<br>None: 20<br>\", \"Image Number: 20<br>Effective Radius Ratio Puncta / Nucleus: 1.0<br>None: 20<br>\", \"Image Number: 20<br>Effective Radius Ratio Puncta / Nucleus: 0.6804259027396037<br>None: 20<br>\", \"Image Number: 20<br>Effective Radius Ratio Puncta / Nucleus: 0.9400404458941006<br>None: 20<br>\", \"Image Number: 20<br>Effective Radius Ratio Puncta / Nucleus: 0.37018543519691705<br>None: 20<br>\", \"Image Number: 20<br>Effective Radius Ratio Puncta / Nucleus: 0.9038832916038753<br>None: 20<br>\", \"Image Number: 20<br>Effective Radius Ratio Puncta / Nucleus: 1.0<br>None: 20<br>\", \"Image Number: 20<br>Effective Radius Ratio Puncta / Nucleus: 1.0<br>None: 20<br>\", \"Image Number: 20<br>Effective Radius Ratio Puncta / Nucleus: 0.9180149017895288<br>None: 20<br>\", \"Image Number: 20<br>Effective Radius Ratio Puncta / Nucleus: 1.0878840278644046<br>None: 20<br>\", \"Image Number: 20<br>Effective Radius Ratio Puncta / Nucleus: 1.1260282725264925<br>None: 20<br>\", \"Image Number: 20<br>Effective Radius Ratio Puncta / Nucleus: 1.0<br>None: 20<br>\", \"Image Number: 20<br>Effective Radius Ratio Puncta / Nucleus: 0.6754378157725578<br>None: 20<br>\", \"Image Number: 20<br>Effective Radius Ratio Puncta / Nucleus: 0.015253404749263625<br>None: 20<br>\", \"Image Number: 20<br>Effective Radius Ratio Puncta / Nucleus: 1.0<br>None: 20<br>\", \"Image Number: 20<br>Effective Radius Ratio Puncta / Nucleus: 1.0<br>None: 20<br>\", \"Image Number: 20<br>Effective Radius Ratio Puncta / Nucleus: 0.5185235207673817<br>None: 20<br>\", \"Image Number: 20<br>Effective Radius Ratio Puncta / Nucleus: 0.32490804622480773<br>None: 20<br>\", \"Image Number: 20<br>Effective Radius Ratio Puncta / Nucleus: 1.0<br>None: 20<br>\", \"Image Number: 20<br>Effective Radius Ratio Puncta / Nucleus: 0.9232028889143029<br>None: 20<br>\", \"Image Number: 20<br>Effective Radius Ratio Puncta / Nucleus: 0.9087437331093696<br>None: 20<br>\", \"Image Number: 20<br>Effective Radius Ratio Puncta / Nucleus: 0.4342178405709377<br>None: 20<br>\", \"Image Number: 20<br>Effective Radius Ratio Puncta / Nucleus: 0.669948195629537<br>None: 20<br>\", \"Image Number: 20<br>Effective Radius Ratio Puncta / Nucleus: 0.7235911893142016<br>None: 20<br>\", \"Image Number: 20<br>Effective Radius Ratio Puncta / Nucleus: 1.0<br>None: 20<br>\", \"Image Number: 20<br>Effective Radius Ratio Puncta / Nucleus: 0.9257944643313776<br>None: 20<br>\", \"Image Number: 20<br>Effective Radius Ratio Puncta / Nucleus: 0.3295435374351613<br>None: 20<br>\", \"Image Number: 20<br>Effective Radius Ratio Puncta / Nucleus: 1.0<br>None: 20<br>\", \"Image Number: 20<br>Effective Radius Ratio Puncta / Nucleus: 1.0<br>None: 20<br>\", \"Image Number: 20<br>Effective Radius Ratio Puncta / Nucleus: 1.0664247609213746<br>None: 20<br>\", \"Image Number: 20<br>Effective Radius Ratio Puncta / Nucleus: 0.37015862913361536<br>None: 20<br>\", \"Image Number: 20<br>Effective Radius Ratio Puncta / Nucleus: 0.02282474539495152<br>None: 20<br>\", \"Image Number: 20<br>Effective Radius Ratio Puncta / Nucleus: 0.34729797550660313<br>None: 20<br>\", \"Image Number: 20<br>Effective Radius Ratio Puncta / Nucleus: 0.2560613032120079<br>None: 20<br>\", \"Image Number: 20<br>Effective Radius Ratio Puncta / Nucleus: 0.6698591273275982<br>None: 20<br>\", \"Image Number: 20<br>Effective Radius Ratio Puncta / Nucleus: 0.5229030536896515<br>None: 20<br>\"], \"type\": \"violin\", \"x\": [\"20\", \"20\", \"20\", \"20\", \"20\", \"20\", \"20\", \"20\", \"20\", \"20\", \"20\", \"20\", \"20\", \"20\", \"20\", \"20\", \"20\", \"20\", \"20\", \"20\", \"20\", \"20\", \"20\", \"20\", \"20\", \"20\", \"20\", \"20\", \"20\", \"20\", \"20\", \"20\", \"20\", \"20\", \"20\", \"20\", \"20\", \"20\", \"20\", \"20\", \"20\", \"20\", \"20\", \"20\", \"20\", \"20\", \"20\", \"20\", \"20\", \"20\", \"20\", \"20\", \"20\"], \"y\": [1.0, 1.0, 1.0, 0.01350242221424651, 0.7701533761751982, 1.0, 0.580716200289267, 1.0, 1.0, 1.2223659045316457, 0.6096857652524241, 0.8125615526778324, 1.0, 0.37275669163631125, 0.5324968710141941, 1.0, 1.0, 0.673618310916368, 1.0, 0.6804259027396037, 0.9400404458941006, 0.37018543519691705, 0.9038832916038753, 1.0, 1.0, 0.9180149017895288, 1.0878840278644046, 1.1260282725264925, 1.0, 0.6754378157725578, 0.015253404749263625, 1.0, 1.0, 0.5185235207673817, 0.32490804622480773, 1.0, 0.9232028889143029, 0.9087437331093696, 0.4342178405709377, 0.669948195629537, 0.7235911893142016, 1.0, 0.9257944643313776, 0.3295435374351613, 1.0, 1.0, 1.0664247609213746, 0.37015862913361536, 0.02282474539495152, 0.34729797550660313, 0.2560613032120079, 0.6698591273275982, 0.5229030536896515]}],                        {\"hovermode\": \"closest\", \"plot_bgcolor\": \"rgba(0,0,0,0)\", \"showlegend\": true, \"template\": {\"data\": {\"bar\": [{\"error_x\": {\"color\": \"#2a3f5f\"}, \"error_y\": {\"color\": \"#2a3f5f\"}, \"marker\": {\"line\": {\"color\": \"#E5ECF6\", \"width\": 0.5}}, \"type\": \"bar\"}], \"barpolar\": [{\"marker\": {\"line\": {\"color\": \"#E5ECF6\", \"width\": 0.5}}, \"type\": \"barpolar\"}], \"carpet\": [{\"aaxis\": {\"endlinecolor\": \"#2a3f5f\", \"gridcolor\": \"white\", \"linecolor\": \"white\", \"minorgridcolor\": \"white\", \"startlinecolor\": \"#2a3f5f\"}, \"baxis\": {\"endlinecolor\": \"#2a3f5f\", \"gridcolor\": \"white\", \"linecolor\": \"white\", \"minorgridcolor\": \"white\", \"startlinecolor\": \"#2a3f5f\"}, \"type\": \"carpet\"}], \"choropleth\": [{\"colorbar\": {\"outlinewidth\": 0, \"ticks\": \"\"}, \"type\": \"choropleth\"}], \"contour\": [{\"colorbar\": {\"outlinewidth\": 0, \"ticks\": \"\"}, \"colorscale\": [[0.0, \"#0d0887\"], [0.1111111111111111, \"#46039f\"], [0.2222222222222222, \"#7201a8\"], [0.3333333333333333, \"#9c179e\"], [0.4444444444444444, \"#bd3786\"], [0.5555555555555556, \"#d8576b\"], [0.6666666666666666, \"#ed7953\"], [0.7777777777777778, \"#fb9f3a\"], [0.8888888888888888, \"#fdca26\"], [1.0, \"#f0f921\"]], \"type\": \"contour\"}], \"contourcarpet\": [{\"colorbar\": {\"outlinewidth\": 0, \"ticks\": \"\"}, \"type\": \"contourcarpet\"}], \"heatmap\": [{\"colorbar\": {\"outlinewidth\": 0, \"ticks\": \"\"}, \"colorscale\": [[0.0, \"#0d0887\"], [0.1111111111111111, \"#46039f\"], [0.2222222222222222, \"#7201a8\"], [0.3333333333333333, \"#9c179e\"], [0.4444444444444444, \"#bd3786\"], [0.5555555555555556, \"#d8576b\"], [0.6666666666666666, \"#ed7953\"], [0.7777777777777778, \"#fb9f3a\"], [0.8888888888888888, \"#fdca26\"], [1.0, \"#f0f921\"]], \"type\": \"heatmap\"}], \"heatmapgl\": [{\"colorbar\": {\"outlinewidth\": 0, \"ticks\": \"\"}, \"colorscale\": [[0.0, \"#0d0887\"], [0.1111111111111111, \"#46039f\"], [0.2222222222222222, \"#7201a8\"], [0.3333333333333333, \"#9c179e\"], [0.4444444444444444, \"#bd3786\"], [0.5555555555555556, \"#d8576b\"], [0.6666666666666666, \"#ed7953\"], [0.7777777777777778, \"#fb9f3a\"], [0.8888888888888888, \"#fdca26\"], [1.0, \"#f0f921\"]], \"type\": \"heatmapgl\"}], \"histogram\": [{\"marker\": {\"colorbar\": {\"outlinewidth\": 0, \"ticks\": \"\"}}, \"type\": \"histogram\"}], \"histogram2d\": [{\"colorbar\": {\"outlinewidth\": 0, \"ticks\": \"\"}, \"colorscale\": [[0.0, \"#0d0887\"], [0.1111111111111111, \"#46039f\"], [0.2222222222222222, \"#7201a8\"], [0.3333333333333333, \"#9c179e\"], [0.4444444444444444, \"#bd3786\"], [0.5555555555555556, \"#d8576b\"], [0.6666666666666666, \"#ed7953\"], [0.7777777777777778, \"#fb9f3a\"], [0.8888888888888888, \"#fdca26\"], [1.0, \"#f0f921\"]], \"type\": \"histogram2d\"}], \"histogram2dcontour\": [{\"colorbar\": {\"outlinewidth\": 0, \"ticks\": \"\"}, \"colorscale\": [[0.0, \"#0d0887\"], [0.1111111111111111, \"#46039f\"], [0.2222222222222222, \"#7201a8\"], [0.3333333333333333, \"#9c179e\"], [0.4444444444444444, \"#bd3786\"], [0.5555555555555556, \"#d8576b\"], [0.6666666666666666, \"#ed7953\"], [0.7777777777777778, \"#fb9f3a\"], [0.8888888888888888, \"#fdca26\"], [1.0, \"#f0f921\"]], \"type\": \"histogram2dcontour\"}], \"mesh3d\": [{\"colorbar\": {\"outlinewidth\": 0, \"ticks\": \"\"}, \"type\": \"mesh3d\"}], \"parcoords\": [{\"line\": {\"colorbar\": {\"outlinewidth\": 0, \"ticks\": \"\"}}, \"type\": \"parcoords\"}], \"pie\": [{\"automargin\": true, \"type\": \"pie\"}], \"scatter\": [{\"marker\": {\"colorbar\": {\"outlinewidth\": 0, \"ticks\": \"\"}}, \"type\": \"scatter\"}], \"scatter3d\": [{\"line\": {\"colorbar\": {\"outlinewidth\": 0, \"ticks\": \"\"}}, \"marker\": {\"colorbar\": {\"outlinewidth\": 0, \"ticks\": \"\"}}, \"type\": \"scatter3d\"}], \"scattercarpet\": [{\"marker\": {\"colorbar\": {\"outlinewidth\": 0, \"ticks\": \"\"}}, \"type\": \"scattercarpet\"}], \"scattergeo\": [{\"marker\": {\"colorbar\": {\"outlinewidth\": 0, \"ticks\": \"\"}}, \"type\": \"scattergeo\"}], \"scattergl\": [{\"marker\": {\"colorbar\": {\"outlinewidth\": 0, \"ticks\": \"\"}}, \"type\": \"scattergl\"}], \"scattermapbox\": [{\"marker\": {\"colorbar\": {\"outlinewidth\": 0, \"ticks\": \"\"}}, \"type\": \"scattermapbox\"}], \"scatterpolar\": [{\"marker\": {\"colorbar\": {\"outlinewidth\": 0, \"ticks\": \"\"}}, \"type\": \"scatterpolar\"}], \"scatterpolargl\": [{\"marker\": {\"colorbar\": {\"outlinewidth\": 0, \"ticks\": \"\"}}, \"type\": \"scatterpolargl\"}], \"scatterternary\": [{\"marker\": {\"colorbar\": {\"outlinewidth\": 0, \"ticks\": \"\"}}, \"type\": \"scatterternary\"}], \"surface\": [{\"colorbar\": {\"outlinewidth\": 0, \"ticks\": \"\"}, \"colorscale\": [[0.0, \"#0d0887\"], [0.1111111111111111, \"#46039f\"], [0.2222222222222222, \"#7201a8\"], [0.3333333333333333, \"#9c179e\"], [0.4444444444444444, \"#bd3786\"], [0.5555555555555556, \"#d8576b\"], [0.6666666666666666, \"#ed7953\"], [0.7777777777777778, \"#fb9f3a\"], [0.8888888888888888, \"#fdca26\"], [1.0, \"#f0f921\"]], \"type\": \"surface\"}], \"table\": [{\"cells\": {\"fill\": {\"color\": \"#EBF0F8\"}, \"line\": {\"color\": \"white\"}}, \"header\": {\"fill\": {\"color\": \"#C8D4E3\"}, \"line\": {\"color\": \"white\"}}, \"type\": \"table\"}]}, \"layout\": {\"annotationdefaults\": {\"arrowcolor\": \"#2a3f5f\", \"arrowhead\": 0, \"arrowwidth\": 1}, \"coloraxis\": {\"colorbar\": {\"outlinewidth\": 0, \"ticks\": \"\"}}, \"colorscale\": {\"diverging\": [[0, \"#8e0152\"], [0.1, \"#c51b7d\"], [0.2, \"#de77ae\"], [0.3, \"#f1b6da\"], [0.4, \"#fde0ef\"], [0.5, \"#f7f7f7\"], [0.6, \"#e6f5d0\"], [0.7, \"#b8e186\"], [0.8, \"#7fbc41\"], [0.9, \"#4d9221\"], [1, \"#276419\"]], \"sequential\": [[0.0, \"#0d0887\"], [0.1111111111111111, \"#46039f\"], [0.2222222222222222, \"#7201a8\"], [0.3333333333333333, \"#9c179e\"], [0.4444444444444444, \"#bd3786\"], [0.5555555555555556, \"#d8576b\"], [0.6666666666666666, \"#ed7953\"], [0.7777777777777778, \"#fb9f3a\"], [0.8888888888888888, \"#fdca26\"], [1.0, \"#f0f921\"]], \"sequentialminus\": [[0.0, \"#0d0887\"], [0.1111111111111111, \"#46039f\"], [0.2222222222222222, \"#7201a8\"], [0.3333333333333333, \"#9c179e\"], [0.4444444444444444, \"#bd3786\"], [0.5555555555555556, \"#d8576b\"], [0.6666666666666666, \"#ed7953\"], [0.7777777777777778, \"#fb9f3a\"], [0.8888888888888888, \"#fdca26\"], [1.0, \"#f0f921\"]]}, \"colorway\": [\"#636efa\", \"#EF553B\", \"#00cc96\", \"#ab63fa\", \"#FFA15A\", \"#19d3f3\", \"#FF6692\", \"#B6E880\", \"#FF97FF\", \"#FECB52\"], \"font\": {\"color\": \"#2a3f5f\"}, \"geo\": {\"bgcolor\": \"white\", \"lakecolor\": \"white\", \"landcolor\": \"#E5ECF6\", \"showlakes\": true, \"showland\": true, \"subunitcolor\": \"white\"}, \"hoverlabel\": {\"align\": \"left\"}, \"hovermode\": \"closest\", \"mapbox\": {\"style\": \"light\"}, \"paper_bgcolor\": \"white\", \"plot_bgcolor\": \"#E5ECF6\", \"polar\": {\"angularaxis\": {\"gridcolor\": \"white\", \"linecolor\": \"white\", \"ticks\": \"\"}, \"bgcolor\": \"#E5ECF6\", \"radialaxis\": {\"gridcolor\": \"white\", \"linecolor\": \"white\", \"ticks\": \"\"}}, \"scene\": {\"xaxis\": {\"backgroundcolor\": \"#E5ECF6\", \"gridcolor\": \"white\", \"gridwidth\": 2, \"linecolor\": \"white\", \"showbackground\": true, \"ticks\": \"\", \"zerolinecolor\": \"white\"}, \"yaxis\": {\"backgroundcolor\": \"#E5ECF6\", \"gridcolor\": \"white\", \"gridwidth\": 2, \"linecolor\": \"white\", \"showbackground\": true, \"ticks\": \"\", \"zerolinecolor\": \"white\"}, \"zaxis\": {\"backgroundcolor\": \"#E5ECF6\", \"gridcolor\": \"white\", \"gridwidth\": 2, \"linecolor\": \"white\", \"showbackground\": true, \"ticks\": \"\", \"zerolinecolor\": \"white\"}}, \"shapedefaults\": {\"line\": {\"color\": \"#2a3f5f\"}}, \"ternary\": {\"aaxis\": {\"gridcolor\": \"white\", \"linecolor\": \"white\", \"ticks\": \"\"}, \"baxis\": {\"gridcolor\": \"white\", \"linecolor\": \"white\", \"ticks\": \"\"}, \"bgcolor\": \"#E5ECF6\", \"caxis\": {\"gridcolor\": \"white\", \"linecolor\": \"white\", \"ticks\": \"\"}}, \"title\": {\"x\": 0.05}, \"xaxis\": {\"automargin\": true, \"gridcolor\": \"white\", \"linecolor\": \"white\", \"ticks\": \"\", \"title\": {\"standoff\": 15}, \"zerolinecolor\": \"white\", \"zerolinewidth\": 2}, \"yaxis\": {\"automargin\": true, \"gridcolor\": \"white\", \"linecolor\": \"white\", \"ticks\": \"\", \"title\": {\"standoff\": 15}, \"zerolinecolor\": \"white\", \"zerolinewidth\": 2}}}, \"title\": {\"text\": \"Distribution of Puncta / Nucleus Ratio\"}, \"xaxis\": {\"showgrid\": true, \"title\": {\"text\": \"Image Number\"}, \"type\": \"category\"}, \"yaxis\": {\"gridcolor\": \"#E4EAF2\", \"range\": [0.012152179992821859, 1.9280030072329573], \"showgrid\": true, \"title\": {\"text\": \"Effective Radius Ratio Puncta / Nucleus\"}, \"zeroline\": false}},                        {\"responsive\": true}                    ).then(function(){\n",
       "                            \n",
       "var gd = document.getElementById('8d9ff4e5-d983-4cd7-86f0-aaadb888baa9');\n",
       "var x = new MutationObserver(function (mutations, observer) {{\n",
       "        var display = window.getComputedStyle(gd).display;\n",
       "        if (!display || display === 'none') {{\n",
       "            console.log([gd, 'removed!']);\n",
       "            Plotly.purge(gd);\n",
       "            observer.disconnect();\n",
       "        }}\n",
       "}});\n",
       "\n",
       "// Listen for the removal of the full notebook cells\n",
       "var notebookContainer = gd.closest('#notebook-container');\n",
       "if (notebookContainer) {{\n",
       "    x.observe(notebookContainer, {childList: true});\n",
       "}}\n",
       "\n",
       "// Listen for the clearing of the current output cell\n",
       "var outputEl = gd.closest('.output');\n",
       "if (outputEl) {{\n",
       "    x.observe(outputEl, {childList: true});\n",
       "}}\n",
       "\n",
       "                        })                };                });            </script>        </div>"
      ]
     },
     "metadata": {},
     "output_type": "display_data"
    }
   ],
   "source": [
    "fig = plot_violin(\n",
    "    summary,\n",
    "    x='image_number_str',\n",
    "    y='pct_puncta',\n",
    "    xlabel='Image Number',\n",
    "    ylabel='Effective Radius Ratio Puncta / Nucleus',\n",
    "    title='Distribution of Puncta / Nucleus Ratio'\n",
    ")\n",
    "\n",
    "fig.update_xaxes(type='category')\n",
    "\n",
    "if save:\n",
    "    save_fig_as_png(fig, 'figures/scatter/violin_radius_ratio.png',\n",
    "                    height=800, scale=1)\n",
    "fig"
   ]
  },
  {
   "cell_type": "code",
   "execution_count": null,
   "metadata": {},
   "outputs": [],
   "source": []
  }
 ],
 "metadata": {
  "kernelspec": {
   "display_name": "Python 3",
   "language": "python",
   "name": "python3"
  },
  "language_info": {
   "codemirror_mode": {
    "name": "ipython",
    "version": 3
   },
   "file_extension": ".py",
   "mimetype": "text/x-python",
   "name": "python",
   "nbconvert_exporter": "python",
   "pygments_lexer": "ipython3",
   "version": "3.7.6"
  }
 },
 "nbformat": 4,
 "nbformat_minor": 4
}
