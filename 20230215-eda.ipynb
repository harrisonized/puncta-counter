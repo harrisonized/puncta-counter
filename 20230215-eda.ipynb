{
 "cells": [
  {
   "cell_type": "code",
   "execution_count": 1,
   "metadata": {},
   "outputs": [],
   "source": [
    "# conclusions: filter on eccentricity > 0.69 and major_axis_length > 128"
   ]
  },
  {
   "cell_type": "code",
   "execution_count": 2,
   "metadata": {
    "scrolled": true
   },
   "outputs": [
    {
     "data": {
      "text/html": [
       "\n",
       "    <div class=\"bk-root\">\n",
       "        <a href=\"https://bokeh.org\" target=\"_blank\" class=\"bk-logo bk-logo-small bk-logo-notebook\"></a>\n",
       "        <span id=\"1001\">Loading BokehJS ...</span>\n",
       "    </div>"
      ]
     },
     "metadata": {},
     "output_type": "display_data"
    },
    {
     "data": {
      "application/javascript": [
       "\n",
       "(function(root) {\n",
       "  function now() {\n",
       "    return new Date();\n",
       "  }\n",
       "\n",
       "  var force = true;\n",
       "\n",
       "  if (typeof root._bokeh_onload_callbacks === \"undefined\" || force === true) {\n",
       "    root._bokeh_onload_callbacks = [];\n",
       "    root._bokeh_is_loading = undefined;\n",
       "  }\n",
       "\n",
       "  var JS_MIME_TYPE = 'application/javascript';\n",
       "  var HTML_MIME_TYPE = 'text/html';\n",
       "  var EXEC_MIME_TYPE = 'application/vnd.bokehjs_exec.v0+json';\n",
       "  var CLASS_NAME = 'output_bokeh rendered_html';\n",
       "\n",
       "  /**\n",
       "   * Render data to the DOM node\n",
       "   */\n",
       "  function render(props, node) {\n",
       "    var script = document.createElement(\"script\");\n",
       "    node.appendChild(script);\n",
       "  }\n",
       "\n",
       "  /**\n",
       "   * Handle when an output is cleared or removed\n",
       "   */\n",
       "  function handleClearOutput(event, handle) {\n",
       "    var cell = handle.cell;\n",
       "\n",
       "    var id = cell.output_area._bokeh_element_id;\n",
       "    var server_id = cell.output_area._bokeh_server_id;\n",
       "    // Clean up Bokeh references\n",
       "    if (id != null && id in Bokeh.index) {\n",
       "      Bokeh.index[id].model.document.clear();\n",
       "      delete Bokeh.index[id];\n",
       "    }\n",
       "\n",
       "    if (server_id !== undefined) {\n",
       "      // Clean up Bokeh references\n",
       "      var cmd = \"from bokeh.io.state import curstate; print(curstate().uuid_to_server['\" + server_id + \"'].get_sessions()[0].document.roots[0]._id)\";\n",
       "      cell.notebook.kernel.execute(cmd, {\n",
       "        iopub: {\n",
       "          output: function(msg) {\n",
       "            var id = msg.content.text.trim();\n",
       "            if (id in Bokeh.index) {\n",
       "              Bokeh.index[id].model.document.clear();\n",
       "              delete Bokeh.index[id];\n",
       "            }\n",
       "          }\n",
       "        }\n",
       "      });\n",
       "      // Destroy server and session\n",
       "      var cmd = \"import bokeh.io.notebook as ion; ion.destroy_server('\" + server_id + \"')\";\n",
       "      cell.notebook.kernel.execute(cmd);\n",
       "    }\n",
       "  }\n",
       "\n",
       "  /**\n",
       "   * Handle when a new output is added\n",
       "   */\n",
       "  function handleAddOutput(event, handle) {\n",
       "    var output_area = handle.output_area;\n",
       "    var output = handle.output;\n",
       "\n",
       "    // limit handleAddOutput to display_data with EXEC_MIME_TYPE content only\n",
       "    if ((output.output_type != \"display_data\") || (!output.data.hasOwnProperty(EXEC_MIME_TYPE))) {\n",
       "      return\n",
       "    }\n",
       "\n",
       "    var toinsert = output_area.element.find(\".\" + CLASS_NAME.split(' ')[0]);\n",
       "\n",
       "    if (output.metadata[EXEC_MIME_TYPE][\"id\"] !== undefined) {\n",
       "      toinsert[toinsert.length - 1].firstChild.textContent = output.data[JS_MIME_TYPE];\n",
       "      // store reference to embed id on output_area\n",
       "      output_area._bokeh_element_id = output.metadata[EXEC_MIME_TYPE][\"id\"];\n",
       "    }\n",
       "    if (output.metadata[EXEC_MIME_TYPE][\"server_id\"] !== undefined) {\n",
       "      var bk_div = document.createElement(\"div\");\n",
       "      bk_div.innerHTML = output.data[HTML_MIME_TYPE];\n",
       "      var script_attrs = bk_div.children[0].attributes;\n",
       "      for (var i = 0; i < script_attrs.length; i++) {\n",
       "        toinsert[toinsert.length - 1].firstChild.setAttribute(script_attrs[i].name, script_attrs[i].value);\n",
       "        toinsert[toinsert.length - 1].firstChild.textContent = bk_div.children[0].textContent\n",
       "      }\n",
       "      // store reference to server id on output_area\n",
       "      output_area._bokeh_server_id = output.metadata[EXEC_MIME_TYPE][\"server_id\"];\n",
       "    }\n",
       "  }\n",
       "\n",
       "  function register_renderer(events, OutputArea) {\n",
       "\n",
       "    function append_mime(data, metadata, element) {\n",
       "      // create a DOM node to render to\n",
       "      var toinsert = this.create_output_subarea(\n",
       "        metadata,\n",
       "        CLASS_NAME,\n",
       "        EXEC_MIME_TYPE\n",
       "      );\n",
       "      this.keyboard_manager.register_events(toinsert);\n",
       "      // Render to node\n",
       "      var props = {data: data, metadata: metadata[EXEC_MIME_TYPE]};\n",
       "      render(props, toinsert[toinsert.length - 1]);\n",
       "      element.append(toinsert);\n",
       "      return toinsert\n",
       "    }\n",
       "\n",
       "    /* Handle when an output is cleared or removed */\n",
       "    events.on('clear_output.CodeCell', handleClearOutput);\n",
       "    events.on('delete.Cell', handleClearOutput);\n",
       "\n",
       "    /* Handle when a new output is added */\n",
       "    events.on('output_added.OutputArea', handleAddOutput);\n",
       "\n",
       "    /**\n",
       "     * Register the mime type and append_mime function with output_area\n",
       "     */\n",
       "    OutputArea.prototype.register_mime_type(EXEC_MIME_TYPE, append_mime, {\n",
       "      /* Is output safe? */\n",
       "      safe: true,\n",
       "      /* Index of renderer in `output_area.display_order` */\n",
       "      index: 0\n",
       "    });\n",
       "  }\n",
       "\n",
       "  // register the mime type if in Jupyter Notebook environment and previously unregistered\n",
       "  if (root.Jupyter !== undefined) {\n",
       "    var events = require('base/js/events');\n",
       "    var OutputArea = require('notebook/js/outputarea').OutputArea;\n",
       "\n",
       "    if (OutputArea.prototype.mime_types().indexOf(EXEC_MIME_TYPE) == -1) {\n",
       "      register_renderer(events, OutputArea);\n",
       "    }\n",
       "  }\n",
       "\n",
       "  \n",
       "  if (typeof (root._bokeh_timeout) === \"undefined\" || force === true) {\n",
       "    root._bokeh_timeout = Date.now() + 5000;\n",
       "    root._bokeh_failed_load = false;\n",
       "  }\n",
       "\n",
       "  var NB_LOAD_WARNING = {'data': {'text/html':\n",
       "     \"<div style='background-color: #fdd'>\\n\"+\n",
       "     \"<p>\\n\"+\n",
       "     \"BokehJS does not appear to have successfully loaded. If loading BokehJS from CDN, this \\n\"+\n",
       "     \"may be due to a slow or bad network connection. Possible fixes:\\n\"+\n",
       "     \"</p>\\n\"+\n",
       "     \"<ul>\\n\"+\n",
       "     \"<li>re-rerun `output_notebook()` to attempt to load from CDN again, or</li>\\n\"+\n",
       "     \"<li>use INLINE resources instead, as so:</li>\\n\"+\n",
       "     \"</ul>\\n\"+\n",
       "     \"<code>\\n\"+\n",
       "     \"from bokeh.resources import INLINE\\n\"+\n",
       "     \"output_notebook(resources=INLINE)\\n\"+\n",
       "     \"</code>\\n\"+\n",
       "     \"</div>\"}};\n",
       "\n",
       "  function display_loaded() {\n",
       "    var el = document.getElementById(\"1001\");\n",
       "    if (el != null) {\n",
       "      el.textContent = \"BokehJS is loading...\";\n",
       "    }\n",
       "    if (root.Bokeh !== undefined) {\n",
       "      if (el != null) {\n",
       "        el.textContent = \"BokehJS \" + root.Bokeh.version + \" successfully loaded.\";\n",
       "      }\n",
       "    } else if (Date.now() < root._bokeh_timeout) {\n",
       "      setTimeout(display_loaded, 100)\n",
       "    }\n",
       "  }\n",
       "\n",
       "\n",
       "  function run_callbacks() {\n",
       "    try {\n",
       "      root._bokeh_onload_callbacks.forEach(function(callback) {\n",
       "        if (callback != null)\n",
       "          callback();\n",
       "      });\n",
       "    } finally {\n",
       "      delete root._bokeh_onload_callbacks\n",
       "    }\n",
       "    console.debug(\"Bokeh: all callbacks have finished\");\n",
       "  }\n",
       "\n",
       "  function load_libs(css_urls, js_urls, callback) {\n",
       "    if (css_urls == null) css_urls = [];\n",
       "    if (js_urls == null) js_urls = [];\n",
       "\n",
       "    root._bokeh_onload_callbacks.push(callback);\n",
       "    if (root._bokeh_is_loading > 0) {\n",
       "      console.debug(\"Bokeh: BokehJS is being loaded, scheduling callback at\", now());\n",
       "      return null;\n",
       "    }\n",
       "    if (js_urls == null || js_urls.length === 0) {\n",
       "      run_callbacks();\n",
       "      return null;\n",
       "    }\n",
       "    console.debug(\"Bokeh: BokehJS not loaded, scheduling load and callback at\", now());\n",
       "    root._bokeh_is_loading = css_urls.length + js_urls.length;\n",
       "\n",
       "    function on_load() {\n",
       "      root._bokeh_is_loading--;\n",
       "      if (root._bokeh_is_loading === 0) {\n",
       "        console.debug(\"Bokeh: all BokehJS libraries/stylesheets loaded\");\n",
       "        run_callbacks()\n",
       "      }\n",
       "    }\n",
       "\n",
       "    function on_error() {\n",
       "      console.error(\"failed to load \" + url);\n",
       "    }\n",
       "\n",
       "    for (var i = 0; i < css_urls.length; i++) {\n",
       "      var url = css_urls[i];\n",
       "      const element = document.createElement(\"link\");\n",
       "      element.onload = on_load;\n",
       "      element.onerror = on_error;\n",
       "      element.rel = \"stylesheet\";\n",
       "      element.type = \"text/css\";\n",
       "      element.href = url;\n",
       "      console.debug(\"Bokeh: injecting link tag for BokehJS stylesheet: \", url);\n",
       "      document.body.appendChild(element);\n",
       "    }\n",
       "\n",
       "    const hashes = {\"https://cdn.bokeh.org/bokeh/release/bokeh-2.2.1.min.js\": \"qkRvDQVAIfzsJo40iRBbxt6sttt0hv4lh74DG7OK4MCHv4C5oohXYoHUM5W11uqS\", \"https://cdn.bokeh.org/bokeh/release/bokeh-widgets-2.2.1.min.js\": \"Sb7Mr06a9TNlet/GEBeKaf5xH3eb6AlCzwjtU82wNPyDrnfoiVl26qnvlKjmcAd+\", \"https://cdn.bokeh.org/bokeh/release/bokeh-tables-2.2.1.min.js\": \"HaJ15vgfmcfRtB4c4YBOI4f1MUujukqInOWVqZJZZGK7Q+ivud0OKGSTn/Vm2iso\"};\n",
       "\n",
       "    for (var i = 0; i < js_urls.length; i++) {\n",
       "      var url = js_urls[i];\n",
       "      var element = document.createElement('script');\n",
       "      element.onload = on_load;\n",
       "      element.onerror = on_error;\n",
       "      element.async = false;\n",
       "      element.src = url;\n",
       "      if (url in hashes) {\n",
       "        element.crossOrigin = \"anonymous\";\n",
       "        element.integrity = \"sha384-\" + hashes[url];\n",
       "      }\n",
       "      console.debug(\"Bokeh: injecting script tag for BokehJS library: \", url);\n",
       "      document.head.appendChild(element);\n",
       "    }\n",
       "  };\n",
       "\n",
       "  function inject_raw_css(css) {\n",
       "    const element = document.createElement(\"style\");\n",
       "    element.appendChild(document.createTextNode(css));\n",
       "    document.body.appendChild(element);\n",
       "  }\n",
       "\n",
       "  \n",
       "  var js_urls = [\"https://cdn.bokeh.org/bokeh/release/bokeh-2.2.1.min.js\", \"https://cdn.bokeh.org/bokeh/release/bokeh-widgets-2.2.1.min.js\", \"https://cdn.bokeh.org/bokeh/release/bokeh-tables-2.2.1.min.js\"];\n",
       "  var css_urls = [];\n",
       "  \n",
       "\n",
       "  var inline_js = [\n",
       "    function(Bokeh) {\n",
       "      Bokeh.set_log_level(\"info\");\n",
       "    },\n",
       "    function(Bokeh) {\n",
       "    \n",
       "    \n",
       "    }\n",
       "  ];\n",
       "\n",
       "  function run_inline_js() {\n",
       "    \n",
       "    if (root.Bokeh !== undefined || force === true) {\n",
       "      \n",
       "    for (var i = 0; i < inline_js.length; i++) {\n",
       "      inline_js[i].call(root, root.Bokeh);\n",
       "    }\n",
       "    if (force === true) {\n",
       "        display_loaded();\n",
       "      }} else if (Date.now() < root._bokeh_timeout) {\n",
       "      setTimeout(run_inline_js, 100);\n",
       "    } else if (!root._bokeh_failed_load) {\n",
       "      console.log(\"Bokeh: BokehJS failed to load within specified timeout.\");\n",
       "      root._bokeh_failed_load = true;\n",
       "    } else if (force !== true) {\n",
       "      var cell = $(document.getElementById(\"1001\")).parents('.cell').data().cell;\n",
       "      cell.output_area.append_execute_result(NB_LOAD_WARNING)\n",
       "    }\n",
       "\n",
       "  }\n",
       "\n",
       "  if (root._bokeh_is_loading === 0) {\n",
       "    console.debug(\"Bokeh: BokehJS loaded, going straight to plotting\");\n",
       "    run_inline_js();\n",
       "  } else {\n",
       "    load_libs(css_urls, js_urls, function() {\n",
       "      console.debug(\"Bokeh: BokehJS plotting callback run at\", now());\n",
       "      run_inline_js();\n",
       "    });\n",
       "  }\n",
       "}(window));"
      ],
      "application/vnd.bokehjs_load.v0+json": "\n(function(root) {\n  function now() {\n    return new Date();\n  }\n\n  var force = true;\n\n  if (typeof root._bokeh_onload_callbacks === \"undefined\" || force === true) {\n    root._bokeh_onload_callbacks = [];\n    root._bokeh_is_loading = undefined;\n  }\n\n  \n\n  \n  if (typeof (root._bokeh_timeout) === \"undefined\" || force === true) {\n    root._bokeh_timeout = Date.now() + 5000;\n    root._bokeh_failed_load = false;\n  }\n\n  var NB_LOAD_WARNING = {'data': {'text/html':\n     \"<div style='background-color: #fdd'>\\n\"+\n     \"<p>\\n\"+\n     \"BokehJS does not appear to have successfully loaded. If loading BokehJS from CDN, this \\n\"+\n     \"may be due to a slow or bad network connection. Possible fixes:\\n\"+\n     \"</p>\\n\"+\n     \"<ul>\\n\"+\n     \"<li>re-rerun `output_notebook()` to attempt to load from CDN again, or</li>\\n\"+\n     \"<li>use INLINE resources instead, as so:</li>\\n\"+\n     \"</ul>\\n\"+\n     \"<code>\\n\"+\n     \"from bokeh.resources import INLINE\\n\"+\n     \"output_notebook(resources=INLINE)\\n\"+\n     \"</code>\\n\"+\n     \"</div>\"}};\n\n  function display_loaded() {\n    var el = document.getElementById(\"1001\");\n    if (el != null) {\n      el.textContent = \"BokehJS is loading...\";\n    }\n    if (root.Bokeh !== undefined) {\n      if (el != null) {\n        el.textContent = \"BokehJS \" + root.Bokeh.version + \" successfully loaded.\";\n      }\n    } else if (Date.now() < root._bokeh_timeout) {\n      setTimeout(display_loaded, 100)\n    }\n  }\n\n\n  function run_callbacks() {\n    try {\n      root._bokeh_onload_callbacks.forEach(function(callback) {\n        if (callback != null)\n          callback();\n      });\n    } finally {\n      delete root._bokeh_onload_callbacks\n    }\n    console.debug(\"Bokeh: all callbacks have finished\");\n  }\n\n  function load_libs(css_urls, js_urls, callback) {\n    if (css_urls == null) css_urls = [];\n    if (js_urls == null) js_urls = [];\n\n    root._bokeh_onload_callbacks.push(callback);\n    if (root._bokeh_is_loading > 0) {\n      console.debug(\"Bokeh: BokehJS is being loaded, scheduling callback at\", now());\n      return null;\n    }\n    if (js_urls == null || js_urls.length === 0) {\n      run_callbacks();\n      return null;\n    }\n    console.debug(\"Bokeh: BokehJS not loaded, scheduling load and callback at\", now());\n    root._bokeh_is_loading = css_urls.length + js_urls.length;\n\n    function on_load() {\n      root._bokeh_is_loading--;\n      if (root._bokeh_is_loading === 0) {\n        console.debug(\"Bokeh: all BokehJS libraries/stylesheets loaded\");\n        run_callbacks()\n      }\n    }\n\n    function on_error() {\n      console.error(\"failed to load \" + url);\n    }\n\n    for (var i = 0; i < css_urls.length; i++) {\n      var url = css_urls[i];\n      const element = document.createElement(\"link\");\n      element.onload = on_load;\n      element.onerror = on_error;\n      element.rel = \"stylesheet\";\n      element.type = \"text/css\";\n      element.href = url;\n      console.debug(\"Bokeh: injecting link tag for BokehJS stylesheet: \", url);\n      document.body.appendChild(element);\n    }\n\n    const hashes = {\"https://cdn.bokeh.org/bokeh/release/bokeh-2.2.1.min.js\": \"qkRvDQVAIfzsJo40iRBbxt6sttt0hv4lh74DG7OK4MCHv4C5oohXYoHUM5W11uqS\", \"https://cdn.bokeh.org/bokeh/release/bokeh-widgets-2.2.1.min.js\": \"Sb7Mr06a9TNlet/GEBeKaf5xH3eb6AlCzwjtU82wNPyDrnfoiVl26qnvlKjmcAd+\", \"https://cdn.bokeh.org/bokeh/release/bokeh-tables-2.2.1.min.js\": \"HaJ15vgfmcfRtB4c4YBOI4f1MUujukqInOWVqZJZZGK7Q+ivud0OKGSTn/Vm2iso\"};\n\n    for (var i = 0; i < js_urls.length; i++) {\n      var url = js_urls[i];\n      var element = document.createElement('script');\n      element.onload = on_load;\n      element.onerror = on_error;\n      element.async = false;\n      element.src = url;\n      if (url in hashes) {\n        element.crossOrigin = \"anonymous\";\n        element.integrity = \"sha384-\" + hashes[url];\n      }\n      console.debug(\"Bokeh: injecting script tag for BokehJS library: \", url);\n      document.head.appendChild(element);\n    }\n  };\n\n  function inject_raw_css(css) {\n    const element = document.createElement(\"style\");\n    element.appendChild(document.createTextNode(css));\n    document.body.appendChild(element);\n  }\n\n  \n  var js_urls = [\"https://cdn.bokeh.org/bokeh/release/bokeh-2.2.1.min.js\", \"https://cdn.bokeh.org/bokeh/release/bokeh-widgets-2.2.1.min.js\", \"https://cdn.bokeh.org/bokeh/release/bokeh-tables-2.2.1.min.js\"];\n  var css_urls = [];\n  \n\n  var inline_js = [\n    function(Bokeh) {\n      Bokeh.set_log_level(\"info\");\n    },\n    function(Bokeh) {\n    \n    \n    }\n  ];\n\n  function run_inline_js() {\n    \n    if (root.Bokeh !== undefined || force === true) {\n      \n    for (var i = 0; i < inline_js.length; i++) {\n      inline_js[i].call(root, root.Bokeh);\n    }\n    if (force === true) {\n        display_loaded();\n      }} else if (Date.now() < root._bokeh_timeout) {\n      setTimeout(run_inline_js, 100);\n    } else if (!root._bokeh_failed_load) {\n      console.log(\"Bokeh: BokehJS failed to load within specified timeout.\");\n      root._bokeh_failed_load = true;\n    } else if (force !== true) {\n      var cell = $(document.getElementById(\"1001\")).parents('.cell').data().cell;\n      cell.output_area.append_execute_result(NB_LOAD_WARNING)\n    }\n\n  }\n\n  if (root._bokeh_is_loading === 0) {\n    console.debug(\"Bokeh: BokehJS loaded, going straight to plotting\");\n    run_inline_js();\n  } else {\n    load_libs(css_urls, js_urls, function() {\n      console.debug(\"Bokeh: BokehJS plotting callback run at\", now());\n      run_inline_js();\n    });\n  }\n}(window));"
     },
     "metadata": {},
     "output_type": "display_data"
    }
   ],
   "source": [
    "import numpy as np\n",
    "import pandas as pd\n",
    "from scipy.stats import t\n",
    "\n",
    "from bokeh.plotting import show\n",
    "from bokeh.models.annotations import Title\n",
    "from bokeh.models import Plot, ColumnDataSource, Ellipse, Grid, LinearAxis, Text\n",
    "from bokeh.io import output_notebook, export_png\n",
    "\n",
    "from harrison_functions.utils.std.text import camel_to_snake_case\n",
    "from harrison_functions.utils.plotting.plotly import plot_single_scatter, save_fig_as_png\n",
    "\n",
    "pd.options.display.max_columns = None\n",
    "output_notebook()\n",
    "\n",
    "# troubleshooting\n",
    "# from selenium import webdriver\n",
    "# driver = webdriver.Firefox(executable_path='/home/harrisonized/geckodriver')"
   ]
  },
  {
   "cell_type": "code",
   "execution_count": 3,
   "metadata": {},
   "outputs": [],
   "source": [
    "save=False"
   ]
  },
  {
   "cell_type": "code",
   "execution_count": 4,
   "metadata": {},
   "outputs": [],
   "source": [
    "def find_nearest_point(point, points:list):\n",
    "    \"\"\"O(n^2) algorithm to find the nearest point\n",
    "    Can make this faster with binary search on one of the variables\n",
    "    However, since this is a small dataset (20 nuclei per image), whatever\n",
    "    \n",
    "    >>> find_nearest_point(\n",
    "        point=(281.415801, 135.945238),\n",
    "        points=[(693.094713, 59.080090), (295.184921, 118.996760), (282.528024, 182.998269)],\n",
    "    )\n",
    "    (295.184921, 118.99676)\n",
    "    \"\"\"\n",
    "    \n",
    "    d = np.inf\n",
    "    for x, y in points:\n",
    "        d_current = np.sqrt((point[0]-x)**2+(point[1]-y)**2)\n",
    "        if d_current < d:\n",
    "            closest_point = (x, y)\n",
    "            d = d_current\n",
    "        \n",
    "    return closest_point\n",
    "\n",
    "def flatten_columns(multicols):\n",
    "    \"\"\"Flattens a 2 level multi-index\n",
    "    \"\"\"\n",
    "    return [f'{cols[0].lower()}_{cols[1]}'.strip('_') for cols in multicols]"
   ]
  },
  {
   "cell_type": "code",
   "execution_count": 5,
   "metadata": {},
   "outputs": [],
   "source": [
    "puncta_cols = [\n",
    "    'image_number', 'object_number', 'parent_manual_nuclei', 'center_x',\n",
    "    'center_y', 'bounding_box_min_x', 'bounding_box_max_x',\n",
    "    'bounding_box_min_y', 'bounding_box_max_y', 'bounding_box_area',\n",
    "    'orientation', 'major_axis_length', 'minor_axis_length', 'area',\n",
    "    'convex_area', 'perimeter', 'eccentricity', 'form_factor',\n",
    "    'compactness', 'integrated_intensity', 'min_intensity', 'max_intensity',\n",
    "    'mean_intensity', 'median_intensity', 'edge_integrated_intensity',\n",
    "    'edge_min_intensity', 'edge_max_intensity', 'edge_mean_intensity',\n",
    "]"
   ]
  },
  {
   "cell_type": "markdown",
   "metadata": {},
   "source": [
    "# Data"
   ]
  },
  {
   "cell_type": "code",
   "execution_count": 6,
   "metadata": {},
   "outputs": [],
   "source": [
    "# read in data\n",
    "nuclei = pd.read_csv(\"data/nuclei_subset.csv\")\n",
    "puncta = pd.read_csv(\"data/puncta_subset.csv\")"
   ]
  },
  {
   "cell_type": "code",
   "execution_count": 7,
   "metadata": {},
   "outputs": [],
   "source": [
    "# ----------------------------------------------------------------------\n",
    "# Reassign nuclei\n",
    "puncta_centers = (\n",
    "    puncta\n",
    "    .groupby([\"image_number\", \"parent_manual_nuclei\"])[[\"center_x\", \"center_y\"]]\n",
    "    .mean()\n",
    "    .reset_index()\n",
    ")\n",
    "puncta_centers['center'] = puncta_centers[['center_x', 'center_y']].apply(list, axis=1)\n",
    "\n",
    "\n",
    "# use find_nearest_point to find the center of the closest nuclei\n",
    "# there are more nuclei than puncta, so this is fine\n",
    "puncta_centers[[\"closest_nuclei_x\", \"closest_nuclei_y\"]] = pd.DataFrame(\n",
    "    puncta_centers[['image_number', 'center']].apply(\n",
    "    lambda x: find_nearest_point(\n",
    "        point=x['center'],\n",
    "        points=nuclei.loc[(nuclei['image_number']==x['image_number']),\n",
    "                          [\"center_x\", \"center_y\"]].to_records(index=False)\n",
    "    )\n",
    "    , axis=1).to_list(),\n",
    "    columns=[\"closest_nuclei_x\", \"closest_nuclei_y\"],\n",
    ")\n",
    "\n",
    "# left join nuclei_table on closest_nuclei_x and closest_nuclei_y\n",
    "puncta_centers['nuclei_object_number'] = pd.merge(\n",
    "    left=puncta_centers[[\"closest_nuclei_x\", \"closest_nuclei_y\", 'image_number', 'parent_manual_nuclei']],\n",
    "    right=nuclei[['center_x', 'center_y', 'image_number', 'object_number']],\n",
    "    left_on=[\"closest_nuclei_x\", \"closest_nuclei_y\", 'image_number',],\n",
    "    right_on=['center_x', 'center_y', 'image_number',],\n",
    "    how='left',\n",
    "    suffixes=('', '_nuclei')\n",
    ")['object_number']\n",
    "\n",
    "\n",
    "# add back to puncta\n",
    "puncta = pd.merge(\n",
    "    left=puncta[puncta_cols],\n",
    "    right=puncta_centers[['image_number', 'parent_manual_nuclei', 'nuclei_object_number']],\n",
    "    left_on=['image_number', 'parent_manual_nuclei'],\n",
    "    right_on=['image_number', 'parent_manual_nuclei',],\n",
    "    how='left',\n",
    "    suffixes=('', '_')\n",
    ")\n",
    "\n",
    "\n",
    "# filter puncta that are too far away from the nuclei\n",
    "puncta = pd.merge(\n",
    "    left=puncta[list(puncta_cols)+['nuclei_object_number']],\n",
    "    right=nuclei[['image_number', 'object_number', 'bounding_box_min_x', 'bounding_box_max_x', 'bounding_box_min_y', 'bounding_box_max_y']],\n",
    "    left_on=['image_number', 'nuclei_object_number'],\n",
    "    right_on=['image_number', 'object_number'],\n",
    "    how='left',\n",
    "    suffixes=('', '_nuclei')\n",
    ")  # left join nuclei data\n",
    "\n",
    "puncta = puncta[\n",
    "    (puncta['center_x'] >= puncta['bounding_box_min_x_nuclei']) & \n",
    "    (puncta['center_x'] <= puncta['bounding_box_max_x_nuclei']) &\n",
    "    (puncta['center_y'] >= puncta['bounding_box_min_y_nuclei']) &\n",
    "    (puncta['center_y'] <= puncta['bounding_box_max_y_nuclei'])\n",
    "].copy()  # filter\n",
    "\n",
    "\n",
    "# regenerate puncta_centers using filtered data\n",
    "puncta_centers = (\n",
    "    puncta\n",
    "    .groupby([\"image_number\", \"nuclei_object_number\"])[[\"center_x\", \"center_y\"]]\n",
    "    .mean()\n",
    "    .reset_index()\n",
    ")"
   ]
  },
  {
   "cell_type": "markdown",
   "metadata": {},
   "source": [
    "# Filter"
   ]
  },
  {
   "cell_type": "code",
   "execution_count": 35,
   "metadata": {},
   "outputs": [],
   "source": [
    "# filters\n",
    "nuclei_tmp = nuclei[\n",
    "    (nuclei['eccentricity'] < 0.69)\n",
    "    & (nuclei['major_axis_length'] < 128)\n",
    "].copy()\n",
    "\n",
    "puncta = pd.merge(\n",
    "    left=nuclei_tmp[[\"image_number\", 'object_number']],\n",
    "    right=puncta.loc[:, puncta.columns != 'object_number'],\n",
    "    left_on=[\"image_number\", 'object_number'],\n",
    "    right_on=['image_number', 'nuclei_object_number'],\n",
    "    how=\"left\",\n",
    ").dropna(subset=['nuclei_object_number'])  # left join without duplicates"
   ]
  },
  {
   "cell_type": "markdown",
   "metadata": {},
   "source": [
    "# Draw Boundaries around Puncta"
   ]
  },
  {
   "cell_type": "code",
   "execution_count": 36,
   "metadata": {},
   "outputs": [
    {
     "data": {
      "text/html": [
       "<div>\n",
       "<style scoped>\n",
       "    .dataframe tbody tr th:only-of-type {\n",
       "        vertical-align: middle;\n",
       "    }\n",
       "\n",
       "    .dataframe tbody tr th {\n",
       "        vertical-align: top;\n",
       "    }\n",
       "\n",
       "    .dataframe thead th {\n",
       "        text-align: right;\n",
       "    }\n",
       "</style>\n",
       "<table border=\"1\" class=\"dataframe\">\n",
       "  <thead>\n",
       "    <tr style=\"text-align: right;\">\n",
       "      <th></th>\n",
       "      <th>image_number</th>\n",
       "      <th>nuclei_object_number</th>\n",
       "      <th>area_sum</th>\n",
       "      <th>area_count</th>\n",
       "      <th>integrated_intensity_sum</th>\n",
       "      <th>center_x_mean</th>\n",
       "      <th>center_x_std</th>\n",
       "      <th>center_y_mean</th>\n",
       "      <th>center_y_std</th>\n",
       "      <th>center_std</th>\n",
       "      <th>effective_radius_puncta</th>\n",
       "      <th>bounding_box_min_x</th>\n",
       "      <th>bounding_box_max_x</th>\n",
       "      <th>bounding_box_min_y</th>\n",
       "      <th>bounding_box_max_y</th>\n",
       "    </tr>\n",
       "  </thead>\n",
       "  <tbody>\n",
       "    <tr>\n",
       "      <th>0</th>\n",
       "      <td>3</td>\n",
       "      <td>2.0</td>\n",
       "      <td>36.0</td>\n",
       "      <td>10</td>\n",
       "      <td>0.826917</td>\n",
       "      <td>281.415801</td>\n",
       "      <td>3.973904</td>\n",
       "      <td>135.945238</td>\n",
       "      <td>3.504848</td>\n",
       "      <td>5.298667</td>\n",
       "      <td>9.991262</td>\n",
       "      <td>271.424539</td>\n",
       "      <td>291.407063</td>\n",
       "      <td>125.953976</td>\n",
       "      <td>145.936500</td>\n",
       "    </tr>\n",
       "    <tr>\n",
       "      <th>1</th>\n",
       "      <td>3</td>\n",
       "      <td>3.0</td>\n",
       "      <td>41.0</td>\n",
       "      <td>6</td>\n",
       "      <td>1.006195</td>\n",
       "      <td>308.584722</td>\n",
       "      <td>2.340527</td>\n",
       "      <td>197.160417</td>\n",
       "      <td>4.868488</td>\n",
       "      <td>5.401874</td>\n",
       "      <td>10.185872</td>\n",
       "      <td>298.398850</td>\n",
       "      <td>318.770594</td>\n",
       "      <td>186.974545</td>\n",
       "      <td>207.346289</td>\n",
       "    </tr>\n",
       "    <tr>\n",
       "      <th>2</th>\n",
       "      <td>3</td>\n",
       "      <td>5.0</td>\n",
       "      <td>8.0</td>\n",
       "      <td>1</td>\n",
       "      <td>0.211475</td>\n",
       "      <td>314.875000</td>\n",
       "      <td>NaN</td>\n",
       "      <td>197.875000</td>\n",
       "      <td>NaN</td>\n",
       "      <td>NaN</td>\n",
       "      <td>1.595770</td>\n",
       "      <td>313.279230</td>\n",
       "      <td>316.470770</td>\n",
       "      <td>196.279230</td>\n",
       "      <td>199.470770</td>\n",
       "    </tr>\n",
       "    <tr>\n",
       "      <th>3</th>\n",
       "      <td>3</td>\n",
       "      <td>7.0</td>\n",
       "      <td>62.0</td>\n",
       "      <td>5</td>\n",
       "      <td>1.647883</td>\n",
       "      <td>1101.156032</td>\n",
       "      <td>2.224032</td>\n",
       "      <td>380.154921</td>\n",
       "      <td>3.402007</td>\n",
       "      <td>4.064477</td>\n",
       "      <td>7.664051</td>\n",
       "      <td>1093.491981</td>\n",
       "      <td>1108.820083</td>\n",
       "      <td>372.490870</td>\n",
       "      <td>387.818972</td>\n",
       "    </tr>\n",
       "    <tr>\n",
       "      <th>4</th>\n",
       "      <td>3</td>\n",
       "      <td>10.0</td>\n",
       "      <td>286.0</td>\n",
       "      <td>28</td>\n",
       "      <td>8.031144</td>\n",
       "      <td>223.689128</td>\n",
       "      <td>9.258510</td>\n",
       "      <td>448.006676</td>\n",
       "      <td>8.897830</td>\n",
       "      <td>12.841005</td>\n",
       "      <td>24.213231</td>\n",
       "      <td>199.475897</td>\n",
       "      <td>247.902359</td>\n",
       "      <td>423.793446</td>\n",
       "      <td>472.219907</td>\n",
       "    </tr>\n",
       "    <tr>\n",
       "      <th>...</th>\n",
       "      <td>...</td>\n",
       "      <td>...</td>\n",
       "      <td>...</td>\n",
       "      <td>...</td>\n",
       "      <td>...</td>\n",
       "      <td>...</td>\n",
       "      <td>...</td>\n",
       "      <td>...</td>\n",
       "      <td>...</td>\n",
       "      <td>...</td>\n",
       "      <td>...</td>\n",
       "      <td>...</td>\n",
       "      <td>...</td>\n",
       "      <td>...</td>\n",
       "      <td>...</td>\n",
       "    </tr>\n",
       "    <tr>\n",
       "      <th>92</th>\n",
       "      <td>20</td>\n",
       "      <td>49.0</td>\n",
       "      <td>4.0</td>\n",
       "      <td>1</td>\n",
       "      <td>0.091157</td>\n",
       "      <td>661.500000</td>\n",
       "      <td>NaN</td>\n",
       "      <td>867.500000</td>\n",
       "      <td>NaN</td>\n",
       "      <td>NaN</td>\n",
       "      <td>1.128380</td>\n",
       "      <td>660.371620</td>\n",
       "      <td>662.628380</td>\n",
       "      <td>866.371620</td>\n",
       "      <td>868.628380</td>\n",
       "    </tr>\n",
       "    <tr>\n",
       "      <th>93</th>\n",
       "      <td>20</td>\n",
       "      <td>50.0</td>\n",
       "      <td>37.0</td>\n",
       "      <td>10</td>\n",
       "      <td>0.870710</td>\n",
       "      <td>142.769881</td>\n",
       "      <td>7.776392</td>\n",
       "      <td>923.256310</td>\n",
       "      <td>6.621799</td>\n",
       "      <td>10.213740</td>\n",
       "      <td>19.259213</td>\n",
       "      <td>123.510668</td>\n",
       "      <td>162.029094</td>\n",
       "      <td>903.997096</td>\n",
       "      <td>942.515523</td>\n",
       "    </tr>\n",
       "    <tr>\n",
       "      <th>94</th>\n",
       "      <td>20</td>\n",
       "      <td>51.0</td>\n",
       "      <td>175.0</td>\n",
       "      <td>16</td>\n",
       "      <td>4.513405</td>\n",
       "      <td>1060.745804</td>\n",
       "      <td>3.282882</td>\n",
       "      <td>907.430531</td>\n",
       "      <td>5.931118</td>\n",
       "      <td>6.779046</td>\n",
       "      <td>12.782693</td>\n",
       "      <td>1047.963111</td>\n",
       "      <td>1073.528497</td>\n",
       "      <td>894.647838</td>\n",
       "      <td>920.213224</td>\n",
       "    </tr>\n",
       "    <tr>\n",
       "      <th>95</th>\n",
       "      <td>20</td>\n",
       "      <td>52.0</td>\n",
       "      <td>19.0</td>\n",
       "      <td>15</td>\n",
       "      <td>0.433860</td>\n",
       "      <td>256.533333</td>\n",
       "      <td>14.516575</td>\n",
       "      <td>889.666667</td>\n",
       "      <td>11.482388</td>\n",
       "      <td>18.508814</td>\n",
       "      <td>34.900554</td>\n",
       "      <td>221.632779</td>\n",
       "      <td>291.433887</td>\n",
       "      <td>854.766113</td>\n",
       "      <td>924.567221</td>\n",
       "    </tr>\n",
       "    <tr>\n",
       "      <th>96</th>\n",
       "      <td>20</td>\n",
       "      <td>53.0</td>\n",
       "      <td>182.0</td>\n",
       "      <td>12</td>\n",
       "      <td>6.018387</td>\n",
       "      <td>334.065092</td>\n",
       "      <td>11.062623</td>\n",
       "      <td>911.335412</td>\n",
       "      <td>8.223184</td>\n",
       "      <td>13.784135</td>\n",
       "      <td>25.991614</td>\n",
       "      <td>308.073478</td>\n",
       "      <td>360.056706</td>\n",
       "      <td>885.343798</td>\n",
       "      <td>937.327026</td>\n",
       "    </tr>\n",
       "  </tbody>\n",
       "</table>\n",
       "<p>97 rows × 15 columns</p>\n",
       "</div>"
      ],
      "text/plain": [
       "    image_number  nuclei_object_number  area_sum  area_count  \\\n",
       "0              3                   2.0      36.0          10   \n",
       "1              3                   3.0      41.0           6   \n",
       "2              3                   5.0       8.0           1   \n",
       "3              3                   7.0      62.0           5   \n",
       "4              3                  10.0     286.0          28   \n",
       "..           ...                   ...       ...         ...   \n",
       "92            20                  49.0       4.0           1   \n",
       "93            20                  50.0      37.0          10   \n",
       "94            20                  51.0     175.0          16   \n",
       "95            20                  52.0      19.0          15   \n",
       "96            20                  53.0     182.0          12   \n",
       "\n",
       "    integrated_intensity_sum  center_x_mean  center_x_std  center_y_mean  \\\n",
       "0                   0.826917     281.415801      3.973904     135.945238   \n",
       "1                   1.006195     308.584722      2.340527     197.160417   \n",
       "2                   0.211475     314.875000           NaN     197.875000   \n",
       "3                   1.647883    1101.156032      2.224032     380.154921   \n",
       "4                   8.031144     223.689128      9.258510     448.006676   \n",
       "..                       ...            ...           ...            ...   \n",
       "92                  0.091157     661.500000           NaN     867.500000   \n",
       "93                  0.870710     142.769881      7.776392     923.256310   \n",
       "94                  4.513405    1060.745804      3.282882     907.430531   \n",
       "95                  0.433860     256.533333     14.516575     889.666667   \n",
       "96                  6.018387     334.065092     11.062623     911.335412   \n",
       "\n",
       "    center_y_std  center_std  effective_radius_puncta  bounding_box_min_x  \\\n",
       "0       3.504848    5.298667                 9.991262          271.424539   \n",
       "1       4.868488    5.401874                10.185872          298.398850   \n",
       "2            NaN         NaN                 1.595770          313.279230   \n",
       "3       3.402007    4.064477                 7.664051         1093.491981   \n",
       "4       8.897830   12.841005                24.213231          199.475897   \n",
       "..           ...         ...                      ...                 ...   \n",
       "92           NaN         NaN                 1.128380          660.371620   \n",
       "93      6.621799   10.213740                19.259213          123.510668   \n",
       "94      5.931118    6.779046                12.782693         1047.963111   \n",
       "95     11.482388   18.508814                34.900554          221.632779   \n",
       "96      8.223184   13.784135                25.991614          308.073478   \n",
       "\n",
       "    bounding_box_max_x  bounding_box_min_y  bounding_box_max_y  \n",
       "0           291.407063          125.953976          145.936500  \n",
       "1           318.770594          186.974545          207.346289  \n",
       "2           316.470770          196.279230          199.470770  \n",
       "3          1108.820083          372.490870          387.818972  \n",
       "4           247.902359          423.793446          472.219907  \n",
       "..                 ...                 ...                 ...  \n",
       "92          662.628380          866.371620          868.628380  \n",
       "93          162.029094          903.997096          942.515523  \n",
       "94         1073.528497          894.647838          920.213224  \n",
       "95          291.433887          854.766113          924.567221  \n",
       "96          360.056706          885.343798          937.327026  \n",
       "\n",
       "[97 rows x 15 columns]"
      ]
     },
     "execution_count": 36,
     "metadata": {},
     "output_type": "execute_result"
    }
   ],
   "source": [
    "puncta_summary = puncta.groupby([\"image_number\", \"nuclei_object_number\"]).agg(\n",
    "        {\n",
    "            \"area\": [sum, \"count\"],\n",
    "            \"integrated_intensity\": sum,\n",
    "            \"center_x\": [np.mean, np.std],\n",
    "            \"center_y\": [np.mean, np.std],\n",
    "        }\n",
    "    ).reset_index()\n",
    "puncta_summary.columns = flatten_columns(puncta_summary.columns)\n",
    "\n",
    "# derive effective radius\n",
    "puncta_summary[\"center_std\"] = np.sqrt(puncta_summary[\"center_x_std\"]**2+puncta_summary[\"center_y_std\"]**2)\n",
    "puncta_summary[\"effective_radius_puncta\"] = puncta_summary[\"center_std\"].apply(lambda x: x*t.ppf(0.90, 2))  # 90% CI\n",
    "\n",
    "# fillna\n",
    "puncta_summary.loc[puncta_summary[\"effective_radius_puncta\"].isna(), \"effective_radius_puncta\"\n",
    "] = puncta_summary.loc[puncta_summary[\"effective_radius_puncta\"].isna(), \"area_sum\"].apply(\n",
    "    lambda x: np.sqrt(x / 3.14159)\n",
    ")\n",
    "puncta_summary[\"bounding_box_min_x\"] = puncta_summary[\"center_x_mean\"] - puncta_summary[\"effective_radius_puncta\"]\n",
    "puncta_summary[\"bounding_box_max_x\"] = puncta_summary[\"center_x_mean\"] + puncta_summary[\"effective_radius_puncta\"]\n",
    "puncta_summary[\"bounding_box_min_y\"] = puncta_summary[\"center_y_mean\"] - puncta_summary[\"effective_radius_puncta\"]\n",
    "puncta_summary[\"bounding_box_max_y\"] = puncta_summary[\"center_y_mean\"] + puncta_summary[\"effective_radius_puncta\"]\n",
    "\n",
    "puncta_summary"
   ]
  },
  {
   "cell_type": "code",
   "execution_count": 50,
   "metadata": {},
   "outputs": [],
   "source": [
    "save=True"
   ]
  },
  {
   "cell_type": "code",
   "execution_count": 37,
   "metadata": {},
   "outputs": [],
   "source": [
    "# get nuclei boundaries\n",
    "shapes = list(\n",
    "    puncta_summary.loc[\n",
    "        (puncta_summary['image_number']==3)\n",
    "        , [\"bounding_box_min_x\",\n",
    "         \"bounding_box_max_x\",\n",
    "         \"bounding_box_min_y\",\n",
    "         \"bounding_box_max_y\",]\n",
    "    ]\n",
    "    .rename(columns={\n",
    "                \"bounding_box_min_x\": \"x0\",\n",
    "                \"bounding_box_max_x\": \"x1\",\n",
    "                \"bounding_box_min_y\": \"y0\",\n",
    "                \"bounding_box_max_y\": \"y1\",}\n",
    "           )\n",
    "    .apply(lambda x: {**{\"type\": \"circle\", 'xref':\"x\", 'yref':\"y\", 'line':{'width':1.5}}, **dict(x)}, axis=1)\n",
    ")"
   ]
  },
  {
   "cell_type": "code",
   "execution_count": 51,
   "metadata": {
    "scrolled": false
   },
   "outputs": [
    {
     "data": {
      "application/vnd.plotly.v1+json": {
       "config": {
        "plotlyServerURL": "https://plot.ly"
       },
       "data": [
        {
         "hovertemplate": "center_x=%{x}<br>center_y=%{y}<extra></extra>",
         "legendgroup": "",
         "marker": {
          "color": "#3366CC",
          "size": 3,
          "symbol": "circle"
         },
         "mode": "markers",
         "name": "",
         "orientation": "v",
         "showlegend": false,
         "type": "scatter",
         "x": [
          275,
          280,
          285.5,
          280.142857142857,
          277,
          283.181818181818,
          286,
          281.33333333333303,
          279,
          287,
          310,
          309.25,
          306.8,
          311.33333333333303,
          309.25,
          304.875,
          314.875,
          1103.5,
          1099.95,
          1100.7777777777699,
          1098.28571428571,
          1103.26666666666,
          217,
          218,
          215,
          225,
          217.5,
          221.9,
          226.666666666666,
          210,
          236,
          228.833333333333,
          220.461538461538,
          226.1,
          217.166666666666,
          224.377358490566,
          219.2,
          230.060606060606,
          212.8,
          225.2,
          233.5,
          216,
          218,
          223,
          227.529411764705,
          216,
          224,
          231.666666666666,
          224.333333333333,
          258,
          654,
          660,
          662,
          656,
          665,
          659,
          656.533333333333,
          654.4545454545449,
          659.5,
          654.6666666666661,
          657.882352941176,
          651.203703703703,
          656.8,
          651.1666666666661,
          454.2,
          467.5,
          446.888888888888,
          449.85714285714204,
          457.5,
          464.461538461538,
          451.166666666666,
          472.666666666666,
          458.29411764705804,
          473.428571428571,
          446.5,
          449.35714285714204,
          453.666666666666,
          454.76,
          459.708333333333,
          464,
          449,
          462,
          458.125,
          457,
          450,
          454,
          443,
          451.5,
          452.5,
          620,
          602,
          603,
          601.6666666666661,
          607,
          599.428571428571,
          603.208333333333,
          631.6666666666661,
          609.083333333333,
          613.25,
          617.75,
          623.770833333333,
          602.51724137931,
          606.6666666666661,
          623.271186440678,
          614.226415094339,
          632,
          608.35294117647,
          616.28,
          628,
          619.8125,
          641,
          611.833333333333,
          625,
          617.772727272727,
          622.4166666666661,
          613.777777777777,
          625,
          626.625,
          621,
          617,
          625.5,
          626,
          622.6666666666661,
          608,
          26,
          27.5,
          30.5,
          22,
          26,
          28,
          25,
          27,
          28.2,
          32.6666666666666,
          39,
          22.9090909090909,
          27.5675675675675,
          27,
          38.5,
          32.4222222222222,
          28.4444444444444,
          36,
          32.6666666666666,
          39.1333333333333,
          42.6521739130434,
          39.5,
          47.5,
          713.058823529411,
          722,
          716.333333333333,
          713,
          722.4,
          708.333333333333,
          710.333333333333,
          717.916666666666,
          725,
          709.5,
          713,
          711,
          790.111111111111,
          793.6,
          776.5,
          781,
          795,
          779.1428571428571,
          776.5,
          782.6,
          786,
          779.5,
          784.333333333333,
          793.5,
          781.714285714285,
          784.5714285714281,
          786.928571428571,
          793.5,
          788,
          788.666666666666,
          678.1,
          682.5,
          687.4,
          686,
          680.5,
          674.545454545454,
          684.2666666666661,
          697,
          676,
          687,
          679.75,
          676.75,
          683.6875,
          688.333333333333,
          689.875,
          673.153846153846,
          679,
          669,
          671,
          686.6875,
          690.285714285714,
          675.714285714285,
          679.1666666666661,
          683.1666666666661,
          691.666666666666,
          673.1666666666661,
          688.666666666666,
          671.6,
          674.9166666666661,
          678.545454545454,
          682.2,
          684.8,
          676.25,
          686,
          517,
          521,
          525,
          520.7272727272721,
          514,
          518.478260869565,
          524.375,
          528.6666666666661,
          522.482758620689,
          516.6875,
          534.5,
          524.872093023255,
          523.333333333333,
          527.825242718446,
          519.47619047619,
          532.296296296296,
          521.923076923076,
          517.428571428571,
          518,
          519.5,
          522.333333333333,
          522,
          524,
          395,
          392,
          395,
          396.5,
          391.25,
          402,
          397.818181818181,
          389.5,
          393.166666666666,
          402.44444444444395,
          394.916666666666,
          408.333333333333,
          396.15789473684197,
          401.85714285714204,
          406.333333333333,
          398.5,
          405.25,
          402.94444444444395,
          390.5,
          393.642857142857,
          409,
          397,
          406,
          382,
          404,
          752.5,
          751,
          753.8888888888879,
          757,
          752.7777777777769,
          757.166666666666,
          762.666666666666,
          753,
          764,
          761.5,
          763.75,
          320.5,
          329,
          327,
          319.33333333333303,
          333,
          323.25,
          330.4,
          331.5,
          333.857142857142,
          335.8,
          328.116279069767,
          324.444444444444,
          321,
          334.5,
          320.75,
          325,
          157,
          161,
          425,
          423,
          381,
          384,
          382,
          384,
          386.8,
          390.85,
          394.51851851851796,
          397.85714285714204,
          387.7777777777769,
          389.7,
          392.61538461538396,
          397.454545454545,
          386,
          396.592592592592,
          401,
          402,
          558.5,
          564.7272727272721,
          567.333333333333,
          552.2,
          558.857142857142,
          552.6,
          557,
          560.75,
          547.75,
          554,
          557.5,
          568.5,
          551.55,
          559.695652173913,
          563.5,
          553,
          566.222222222222,
          545.5,
          556,
          562.6666666666661,
          550.875,
          556.875,
          565,
          560.2,
          553,
          567.5,
          554.6,
          560.285714285714,
          822,
          810,
          821.5,
          819,
          808.8,
          827,
          806.666666666666,
          811.416666666666,
          816.842105263157,
          824.7777777777769,
          820.272727272727,
          808.470588235294,
          822.125,
          816.5,
          819.285714285714,
          813.08,
          75.4,
          77,
          83.8,
          73
         ],
         "xaxis": "x",
         "y": [
          131,
          131,
          133,
          134.785714285714,
          136,
          137,
          137,
          138.666666666666,
          140,
          141,
          188,
          196,
          198.4,
          198.666666666666,
          200.333333333333,
          201.5625,
          197.875,
          376,
          377.4,
          380.888888888888,
          382.28571428571405,
          384.2,
          431,
          436.5,
          438,
          438.5,
          439.5,
          439.1,
          440.44444444444395,
          442.5,
          442.5,
          442.833333333333,
          443.134615384615,
          443.7,
          447.333333333333,
          448.264150943396,
          449.4,
          450.515151515151,
          451,
          451.2,
          451,
          452,
          451.428571428571,
          453.75,
          454.5,
          456,
          456.75,
          456.666666666666,
          466.666666666666,
          470,
          454.5,
          457,
          458,
          465,
          466,
          469.5,
          468.8,
          470.818181818181,
          472,
          473.333333333333,
          473.941176470588,
          475.796296296296,
          476.4,
          480.166666666666,
          464.8,
          465,
          466.666666666666,
          466.714285714285,
          466,
          467.90384615384596,
          468.555555555555,
          467.666666666666,
          469.29411764705804,
          469.714285714285,
          471,
          471.428571428571,
          470.25,
          473.16,
          473.708333333333,
          473.5,
          475.5,
          475.5,
          477.25,
          480.5,
          481,
          481.5,
          483,
          487,
          490.5,
          554.5,
          559.5,
          569.833333333333,
          572.9333333333329,
          575,
          577.285714285714,
          576.6666666666661,
          576.333333333333,
          578.083333333333,
          576.25,
          576,
          577.708333333333,
          581.3103448275859,
          581.833333333333,
          583.5762711864402,
          580.962264150943,
          581.5,
          584.529411764705,
          585.44,
          585.5,
          587.8125,
          586,
          587.6666666666661,
          588,
          591.090909090909,
          590.75,
          591.888888888888,
          590.5,
          591.75,
          593,
          595,
          595.5,
          598.5,
          598.6666666666661,
          609.5,
          609,
          621.5,
          622.5,
          629,
          631,
          632.5,
          633,
          634.8,
          637.4,
          639.333333333333,
          641,
          642.363636363636,
          642.162162162162,
          647,
          647,
          646.9333333333329,
          650.222222222222,
          650.478260869565,
          651.333333333333,
          651.066666666666,
          651.826086956521,
          655,
          658.5,
          726.9411764705881,
          726,
          726.333333333333,
          729.5,
          728.2,
          729.666666666666,
          729.666666666666,
          730.25,
          731.5,
          732,
          732.25,
          736,
          739.444444444444,
          739.8,
          744,
          744,
          745,
          745.714285714285,
          746.5,
          746.2,
          747,
          748,
          747.333333333333,
          747.5,
          748.857142857142,
          749.714285714285,
          750.1428571428571,
          752.5,
          759,
          762.333333333333,
          750.9,
          751,
          751.3,
          752.666666666666,
          752.875,
          754.1818181818179,
          753.666666666666,
          755,
          756,
          755.25,
          756.3214285714281,
          757.625,
          756.9375,
          756.9333333333328,
          757.875,
          758.3076923076918,
          759.6153846153841,
          760,
          760.5,
          761.5,
          760.5714285714281,
          761.428571428571,
          762.833333333333,
          761.833333333333,
          761.666666666666,
          762.666666666666,
          762.333333333333,
          763.4,
          764.333333333333,
          764.90909090909,
          765.2,
          764.4,
          766.375,
          765.333333333333,
          771,
          775,
          775.75,
          777.1818181818179,
          782,
          780.217391304347,
          779.0625,
          780.9259259259261,
          784.03448275862,
          786.229166666666,
          788,
          788.220930232558,
          792.333333333333,
          795.776699029126,
          795.3095238095232,
          796.092592592592,
          799.6923076923068,
          799,
          801.5,
          801,
          803.666666666666,
          806,
          807,
          777,
          781,
          781,
          783.5,
          782.75,
          784.5,
          786.6363636363631,
          787.5,
          787.833333333333,
          788.4814814814812,
          790.25,
          791.333333333333,
          794.3157894736839,
          792.8095238095232,
          794.666666666666,
          799.153846153846,
          796.75,
          799.222222222222,
          799.5,
          799.714285714285,
          800.2,
          803.5,
          807,
          812,
          825,
          793,
          794,
          794.222222222222,
          795,
          798.7777777777769,
          799.761904761904,
          800.333333333333,
          803,
          804.75,
          805.5,
          807,
          840,
          840.5,
          841.25,
          842.333333333333,
          843,
          844.75,
          845.666666666666,
          848.5,
          847.714285714285,
          848.6,
          852.1627906976739,
          854.111111111111,
          855,
          855,
          858.25,
          858,
          838,
          840.5,
          842,
          848,
          881,
          882,
          884.666666666666,
          885.5,
          886.7,
          887.2,
          887.0370370370372,
          887.5714285714281,
          888.8888888888879,
          891.3,
          892.538461538461,
          890.4545454545448,
          893,
          893.8888888888879,
          893,
          895.5,
          874,
          874,
          876.333333333333,
          877.6,
          878.714285714285,
          880,
          880.5,
          881.7,
          883,
          882,
          883,
          884,
          884.2,
          886.217391304347,
          887,
          888,
          889.166666666666,
          890,
          890.5,
          891.666666666666,
          891.875,
          895.125,
          895,
          896,
          898,
          897.5,
          898.8,
          899.1428571428571,
          917,
          923,
          924,
          924.5,
          925.4,
          926,
          927.666666666666,
          927.666666666666,
          927.842105263157,
          927.8888888888879,
          927.6363636363632,
          929.470588235294,
          929.75,
          931.785714285714,
          931,
          932.24,
          871,
          876,
          877.4,
          879
         ],
         "yaxis": "y"
        }
       ],
       "layout": {
        "height": 700,
        "hovermode": "closest",
        "plot_bgcolor": "rgba(0,0,0,0)",
        "shapes": [
         {
          "line": {
           "width": 1.5
          },
          "type": "circle",
          "x0": 271.42453862471234,
          "x1": 291.40706310688927,
          "xref": "x",
          "y0": 125.95397585414956,
          "y1": 145.93650033632647,
          "yref": "y"
         },
         {
          "line": {
           "width": 1.5
          },
          "type": "circle",
          "x0": 298.398850359848,
          "x1": 318.7705940845964,
          "xref": "x",
          "y0": 186.9745448042923,
          "y1": 207.3462885290407,
          "yref": "y"
         },
         {
          "line": {
           "width": 1.5
          },
          "type": "circle",
          "x0": 313.27923020444956,
          "x1": 316.47076979555044,
          "xref": "x",
          "y0": 196.2792302044496,
          "y1": 199.4707697955504,
          "yref": "y"
         },
         {
          "line": {
           "width": 1.5
          },
          "type": "circle",
          "x0": 1093.4919806477965,
          "x1": 1108.8200828442596,
          "xref": "x",
          "y0": 372.49086953668876,
          "y1": 387.81897173315195,
          "yref": "y"
         },
         {
          "line": {
           "width": 1.5
          },
          "type": "circle",
          "x0": 199.4758972404641,
          "x1": 247.90235857697016,
          "xref": "x",
          "y0": 423.7934455358961,
          "y1": 472.21990687240213,
          "yref": "y"
         },
         {
          "line": {
           "width": 1.5
          },
          "type": "circle",
          "x0": 640.6521877644248,
          "x1": 673.377422059302,
          "xref": "x",
          "y0": 452.2985010372088,
          "y1": 485.02373533208606,
          "yref": "y"
         },
         {
          "line": {
           "width": 1.5
          },
          "type": "circle",
          "x0": 436.1020775806659,
          "x1": 475.9843812572277,
          "xref": "x",
          "y0": 453.5433413169296,
          "y1": 493.4256449934916,
          "yref": "y"
         },
         {
          "line": {
           "width": 1.5
          },
          "type": "circle",
          "x0": 588.7196054028554,
          "x1": 644.7971675820895,
          "xref": "x",
          "y0": 555.6861133159595,
          "y1": 611.7636754951935,
          "yref": "y"
         },
         {
          "line": {
           "width": 1.5
          },
          "type": "circle",
          "x0": 5.261244388886169,
          "x1": 57.88329176094296,
          "xref": "x",
          "y0": 613.9028474113962,
          "y1": 666.5248947834531,
          "yref": "y"
         },
         {
          "line": {
           "width": 1.5
          },
          "type": "circle",
          "x0": 703.3992701263701,
          "x1": 726.9133115729758,
          "xref": "x",
          "y0": 718.1019662048016,
          "y1": 741.6160076514072,
          "yref": "y"
         },
         {
          "line": {
           "width": 1.5
          },
          "type": "circle",
          "x0": 770.0725112697867,
          "x1": 801.1684058377966,
          "xref": "x",
          "y0": 732.3987017459772,
          "y1": 763.4945963139871,
          "yref": "y"
         },
         {
          "line": {
           "width": 1.5
          },
          "type": "circle",
          "x0": 666.0202100543107,
          "x1": 696.7265402542038,
          "xref": "x",
          "y0": 743.6391755251143,
          "y1": 774.3455057250073,
          "yref": "y"
         },
         {
          "line": {
           "width": 1.5
          },
          "type": "circle",
          "x0": 499.7527240658797,
          "x1": 545.1086321442674,
          "xref": "x",
          "y0": 767.1043650126965,
          "y1": 812.4602730910842,
          "yref": "y"
         },
         {
          "line": {
           "width": 1.5
          },
          "type": "circle",
          "x0": 373.9582474329556,
          "x1": 422.1309498025569,
          "xref": "x",
          "y0": 769.7383226481887,
          "y1": 817.9110250177899,
          "yref": "y"
         },
         {
          "line": {
           "width": 1.5
          },
          "type": "circle",
          "x0": 743.8694193315345,
          "x1": 770.5396715775559,
          "xref": "x",
          "y0": 786.241713703829,
          "y1": 812.9119659498504,
          "yref": "y"
         },
         {
          "line": {
           "width": 1.5
          },
          "type": "circle",
          "x0": 311.58681849552323,
          "x1": 343.0945814675626,
          "xref": "x",
          "y0": 832.6735052341722,
          "y1": 864.1812682062115,
          "yref": "y"
         },
         {
          "line": {
           "width": 1.5
          },
          "type": "circle",
          "x0": 152.71067924529552,
          "x1": 165.28932075470448,
          "xref": "x",
          "y0": 832.9606792452955,
          "y1": 845.5393207547045,
          "yref": "y"
         },
         {
          "line": {
           "width": 1.5
          },
          "type": "circle",
          "x0": 358.15095625364694,
          "x1": 430.9785950592372,
          "xref": "x",
          "y0": 847.4887315442002,
          "y1": 920.3163703497903,
          "yref": "y"
         },
         {
          "line": {
           "width": 1.5
          },
          "type": "circle",
          "x0": 539.4783144338955,
          "x1": 576.6779715851233,
          "xref": "x",
          "y0": 868.2945000253916,
          "y1": 905.4941571766193,
          "yref": "y"
         },
         {
          "line": {
           "width": 1.5
          },
          "type": "circle",
          "x0": 802.8688103153879,
          "x1": 830.5983454556122,
          "xref": "x",
          "y0": 913.1881695325596,
          "y1": 940.9177046727839,
          "yref": "y"
         },
         {
          "line": {
           "width": 1.5
          },
          "type": "circle",
          "x0": 66.39651771561353,
          "x1": 88.20348228438647,
          "xref": "x",
          "y0": 864.9465177156136,
          "y1": 886.7534822843865,
          "yref": "y"
         }
        ],
        "showlegend": false,
        "template": {
         "data": {
          "bar": [
           {
            "error_x": {
             "color": "#2a3f5f"
            },
            "error_y": {
             "color": "#2a3f5f"
            },
            "marker": {
             "line": {
              "color": "#E5ECF6",
              "width": 0.5
             }
            },
            "type": "bar"
           }
          ],
          "barpolar": [
           {
            "marker": {
             "line": {
              "color": "#E5ECF6",
              "width": 0.5
             }
            },
            "type": "barpolar"
           }
          ],
          "carpet": [
           {
            "aaxis": {
             "endlinecolor": "#2a3f5f",
             "gridcolor": "white",
             "linecolor": "white",
             "minorgridcolor": "white",
             "startlinecolor": "#2a3f5f"
            },
            "baxis": {
             "endlinecolor": "#2a3f5f",
             "gridcolor": "white",
             "linecolor": "white",
             "minorgridcolor": "white",
             "startlinecolor": "#2a3f5f"
            },
            "type": "carpet"
           }
          ],
          "choropleth": [
           {
            "colorbar": {
             "outlinewidth": 0,
             "ticks": ""
            },
            "type": "choropleth"
           }
          ],
          "contour": [
           {
            "colorbar": {
             "outlinewidth": 0,
             "ticks": ""
            },
            "colorscale": [
             [
              0,
              "#0d0887"
             ],
             [
              0.1111111111111111,
              "#46039f"
             ],
             [
              0.2222222222222222,
              "#7201a8"
             ],
             [
              0.3333333333333333,
              "#9c179e"
             ],
             [
              0.4444444444444444,
              "#bd3786"
             ],
             [
              0.5555555555555556,
              "#d8576b"
             ],
             [
              0.6666666666666666,
              "#ed7953"
             ],
             [
              0.7777777777777778,
              "#fb9f3a"
             ],
             [
              0.8888888888888888,
              "#fdca26"
             ],
             [
              1,
              "#f0f921"
             ]
            ],
            "type": "contour"
           }
          ],
          "contourcarpet": [
           {
            "colorbar": {
             "outlinewidth": 0,
             "ticks": ""
            },
            "type": "contourcarpet"
           }
          ],
          "heatmap": [
           {
            "colorbar": {
             "outlinewidth": 0,
             "ticks": ""
            },
            "colorscale": [
             [
              0,
              "#0d0887"
             ],
             [
              0.1111111111111111,
              "#46039f"
             ],
             [
              0.2222222222222222,
              "#7201a8"
             ],
             [
              0.3333333333333333,
              "#9c179e"
             ],
             [
              0.4444444444444444,
              "#bd3786"
             ],
             [
              0.5555555555555556,
              "#d8576b"
             ],
             [
              0.6666666666666666,
              "#ed7953"
             ],
             [
              0.7777777777777778,
              "#fb9f3a"
             ],
             [
              0.8888888888888888,
              "#fdca26"
             ],
             [
              1,
              "#f0f921"
             ]
            ],
            "type": "heatmap"
           }
          ],
          "heatmapgl": [
           {
            "colorbar": {
             "outlinewidth": 0,
             "ticks": ""
            },
            "colorscale": [
             [
              0,
              "#0d0887"
             ],
             [
              0.1111111111111111,
              "#46039f"
             ],
             [
              0.2222222222222222,
              "#7201a8"
             ],
             [
              0.3333333333333333,
              "#9c179e"
             ],
             [
              0.4444444444444444,
              "#bd3786"
             ],
             [
              0.5555555555555556,
              "#d8576b"
             ],
             [
              0.6666666666666666,
              "#ed7953"
             ],
             [
              0.7777777777777778,
              "#fb9f3a"
             ],
             [
              0.8888888888888888,
              "#fdca26"
             ],
             [
              1,
              "#f0f921"
             ]
            ],
            "type": "heatmapgl"
           }
          ],
          "histogram": [
           {
            "marker": {
             "colorbar": {
              "outlinewidth": 0,
              "ticks": ""
             }
            },
            "type": "histogram"
           }
          ],
          "histogram2d": [
           {
            "colorbar": {
             "outlinewidth": 0,
             "ticks": ""
            },
            "colorscale": [
             [
              0,
              "#0d0887"
             ],
             [
              0.1111111111111111,
              "#46039f"
             ],
             [
              0.2222222222222222,
              "#7201a8"
             ],
             [
              0.3333333333333333,
              "#9c179e"
             ],
             [
              0.4444444444444444,
              "#bd3786"
             ],
             [
              0.5555555555555556,
              "#d8576b"
             ],
             [
              0.6666666666666666,
              "#ed7953"
             ],
             [
              0.7777777777777778,
              "#fb9f3a"
             ],
             [
              0.8888888888888888,
              "#fdca26"
             ],
             [
              1,
              "#f0f921"
             ]
            ],
            "type": "histogram2d"
           }
          ],
          "histogram2dcontour": [
           {
            "colorbar": {
             "outlinewidth": 0,
             "ticks": ""
            },
            "colorscale": [
             [
              0,
              "#0d0887"
             ],
             [
              0.1111111111111111,
              "#46039f"
             ],
             [
              0.2222222222222222,
              "#7201a8"
             ],
             [
              0.3333333333333333,
              "#9c179e"
             ],
             [
              0.4444444444444444,
              "#bd3786"
             ],
             [
              0.5555555555555556,
              "#d8576b"
             ],
             [
              0.6666666666666666,
              "#ed7953"
             ],
             [
              0.7777777777777778,
              "#fb9f3a"
             ],
             [
              0.8888888888888888,
              "#fdca26"
             ],
             [
              1,
              "#f0f921"
             ]
            ],
            "type": "histogram2dcontour"
           }
          ],
          "mesh3d": [
           {
            "colorbar": {
             "outlinewidth": 0,
             "ticks": ""
            },
            "type": "mesh3d"
           }
          ],
          "parcoords": [
           {
            "line": {
             "colorbar": {
              "outlinewidth": 0,
              "ticks": ""
             }
            },
            "type": "parcoords"
           }
          ],
          "pie": [
           {
            "automargin": true,
            "type": "pie"
           }
          ],
          "scatter": [
           {
            "marker": {
             "colorbar": {
              "outlinewidth": 0,
              "ticks": ""
             }
            },
            "type": "scatter"
           }
          ],
          "scatter3d": [
           {
            "line": {
             "colorbar": {
              "outlinewidth": 0,
              "ticks": ""
             }
            },
            "marker": {
             "colorbar": {
              "outlinewidth": 0,
              "ticks": ""
             }
            },
            "type": "scatter3d"
           }
          ],
          "scattercarpet": [
           {
            "marker": {
             "colorbar": {
              "outlinewidth": 0,
              "ticks": ""
             }
            },
            "type": "scattercarpet"
           }
          ],
          "scattergeo": [
           {
            "marker": {
             "colorbar": {
              "outlinewidth": 0,
              "ticks": ""
             }
            },
            "type": "scattergeo"
           }
          ],
          "scattergl": [
           {
            "marker": {
             "colorbar": {
              "outlinewidth": 0,
              "ticks": ""
             }
            },
            "type": "scattergl"
           }
          ],
          "scattermapbox": [
           {
            "marker": {
             "colorbar": {
              "outlinewidth": 0,
              "ticks": ""
             }
            },
            "type": "scattermapbox"
           }
          ],
          "scatterpolar": [
           {
            "marker": {
             "colorbar": {
              "outlinewidth": 0,
              "ticks": ""
             }
            },
            "type": "scatterpolar"
           }
          ],
          "scatterpolargl": [
           {
            "marker": {
             "colorbar": {
              "outlinewidth": 0,
              "ticks": ""
             }
            },
            "type": "scatterpolargl"
           }
          ],
          "scatterternary": [
           {
            "marker": {
             "colorbar": {
              "outlinewidth": 0,
              "ticks": ""
             }
            },
            "type": "scatterternary"
           }
          ],
          "surface": [
           {
            "colorbar": {
             "outlinewidth": 0,
             "ticks": ""
            },
            "colorscale": [
             [
              0,
              "#0d0887"
             ],
             [
              0.1111111111111111,
              "#46039f"
             ],
             [
              0.2222222222222222,
              "#7201a8"
             ],
             [
              0.3333333333333333,
              "#9c179e"
             ],
             [
              0.4444444444444444,
              "#bd3786"
             ],
             [
              0.5555555555555556,
              "#d8576b"
             ],
             [
              0.6666666666666666,
              "#ed7953"
             ],
             [
              0.7777777777777778,
              "#fb9f3a"
             ],
             [
              0.8888888888888888,
              "#fdca26"
             ],
             [
              1,
              "#f0f921"
             ]
            ],
            "type": "surface"
           }
          ],
          "table": [
           {
            "cells": {
             "fill": {
              "color": "#EBF0F8"
             },
             "line": {
              "color": "white"
             }
            },
            "header": {
             "fill": {
              "color": "#C8D4E3"
             },
             "line": {
              "color": "white"
             }
            },
            "type": "table"
           }
          ]
         },
         "layout": {
          "annotationdefaults": {
           "arrowcolor": "#2a3f5f",
           "arrowhead": 0,
           "arrowwidth": 1
          },
          "coloraxis": {
           "colorbar": {
            "outlinewidth": 0,
            "ticks": ""
           }
          },
          "colorscale": {
           "diverging": [
            [
             0,
             "#8e0152"
            ],
            [
             0.1,
             "#c51b7d"
            ],
            [
             0.2,
             "#de77ae"
            ],
            [
             0.3,
             "#f1b6da"
            ],
            [
             0.4,
             "#fde0ef"
            ],
            [
             0.5,
             "#f7f7f7"
            ],
            [
             0.6,
             "#e6f5d0"
            ],
            [
             0.7,
             "#b8e186"
            ],
            [
             0.8,
             "#7fbc41"
            ],
            [
             0.9,
             "#4d9221"
            ],
            [
             1,
             "#276419"
            ]
           ],
           "sequential": [
            [
             0,
             "#0d0887"
            ],
            [
             0.1111111111111111,
             "#46039f"
            ],
            [
             0.2222222222222222,
             "#7201a8"
            ],
            [
             0.3333333333333333,
             "#9c179e"
            ],
            [
             0.4444444444444444,
             "#bd3786"
            ],
            [
             0.5555555555555556,
             "#d8576b"
            ],
            [
             0.6666666666666666,
             "#ed7953"
            ],
            [
             0.7777777777777778,
             "#fb9f3a"
            ],
            [
             0.8888888888888888,
             "#fdca26"
            ],
            [
             1,
             "#f0f921"
            ]
           ],
           "sequentialminus": [
            [
             0,
             "#0d0887"
            ],
            [
             0.1111111111111111,
             "#46039f"
            ],
            [
             0.2222222222222222,
             "#7201a8"
            ],
            [
             0.3333333333333333,
             "#9c179e"
            ],
            [
             0.4444444444444444,
             "#bd3786"
            ],
            [
             0.5555555555555556,
             "#d8576b"
            ],
            [
             0.6666666666666666,
             "#ed7953"
            ],
            [
             0.7777777777777778,
             "#fb9f3a"
            ],
            [
             0.8888888888888888,
             "#fdca26"
            ],
            [
             1,
             "#f0f921"
            ]
           ]
          },
          "colorway": [
           "#636efa",
           "#EF553B",
           "#00cc96",
           "#ab63fa",
           "#FFA15A",
           "#19d3f3",
           "#FF6692",
           "#B6E880",
           "#FF97FF",
           "#FECB52"
          ],
          "font": {
           "color": "#2a3f5f"
          },
          "geo": {
           "bgcolor": "white",
           "lakecolor": "white",
           "landcolor": "#E5ECF6",
           "showlakes": true,
           "showland": true,
           "subunitcolor": "white"
          },
          "hoverlabel": {
           "align": "left"
          },
          "hovermode": "closest",
          "mapbox": {
           "style": "light"
          },
          "paper_bgcolor": "white",
          "plot_bgcolor": "#E5ECF6",
          "polar": {
           "angularaxis": {
            "gridcolor": "white",
            "linecolor": "white",
            "ticks": ""
           },
           "bgcolor": "#E5ECF6",
           "radialaxis": {
            "gridcolor": "white",
            "linecolor": "white",
            "ticks": ""
           }
          },
          "scene": {
           "xaxis": {
            "backgroundcolor": "#E5ECF6",
            "gridcolor": "white",
            "gridwidth": 2,
            "linecolor": "white",
            "showbackground": true,
            "ticks": "",
            "zerolinecolor": "white"
           },
           "yaxis": {
            "backgroundcolor": "#E5ECF6",
            "gridcolor": "white",
            "gridwidth": 2,
            "linecolor": "white",
            "showbackground": true,
            "ticks": "",
            "zerolinecolor": "white"
           },
           "zaxis": {
            "backgroundcolor": "#E5ECF6",
            "gridcolor": "white",
            "gridwidth": 2,
            "linecolor": "white",
            "showbackground": true,
            "ticks": "",
            "zerolinecolor": "white"
           }
          },
          "shapedefaults": {
           "line": {
            "color": "#2a3f5f"
           }
          },
          "ternary": {
           "aaxis": {
            "gridcolor": "white",
            "linecolor": "white",
            "ticks": ""
           },
           "baxis": {
            "gridcolor": "white",
            "linecolor": "white",
            "ticks": ""
           },
           "bgcolor": "#E5ECF6",
           "caxis": {
            "gridcolor": "white",
            "linecolor": "white",
            "ticks": ""
           }
          },
          "title": {
           "x": 0.05
          },
          "xaxis": {
           "automargin": true,
           "gridcolor": "white",
           "linecolor": "white",
           "ticks": "",
           "title": {
            "standoff": 15
           },
           "zerolinecolor": "white",
           "zerolinewidth": 2
          },
          "yaxis": {
           "automargin": true,
           "gridcolor": "white",
           "linecolor": "white",
           "ticks": "",
           "title": {
            "standoff": 15
           },
           "zerolinecolor": "white",
           "zerolinewidth": 2
          }
         }
        },
        "title": {
         "text": "Puncta"
        },
        "xaxis": {
         "constrain": "domain",
         "gridcolor": "#E4EAF2",
         "range": [
          -50,
          1250
         ],
         "showgrid": true,
         "title": {
          "text": "x"
         },
         "type": "linear"
        },
        "yaxis": {
         "gridcolor": "#E4EAF2",
         "range": [
          1050,
          -50
         ],
         "scaleanchor": "x",
         "scaleratio": 1,
         "showgrid": true,
         "title": {
          "text": "y"
         },
         "zeroline": false
        }
       }
      },
      "text/html": [
       "<div>                            <div id=\"9a762df1-7d97-47fc-a77c-b6ca4d7f59ee\" class=\"plotly-graph-div\" style=\"height:700px; width:100%;\"></div>            <script type=\"text/javascript\">                require([\"plotly\"], function(Plotly) {                    window.PLOTLYENV=window.PLOTLYENV || {};                                    if (document.getElementById(\"9a762df1-7d97-47fc-a77c-b6ca4d7f59ee\")) {                    Plotly.newPlot(                        \"9a762df1-7d97-47fc-a77c-b6ca4d7f59ee\",                        [{\"hovertemplate\": \"center_x=%{x}<br>center_y=%{y}<extra></extra>\", \"legendgroup\": \"\", \"marker\": {\"color\": \"#3366CC\", \"size\": 3, \"symbol\": \"circle\"}, \"mode\": \"markers\", \"name\": \"\", \"orientation\": \"v\", \"showlegend\": false, \"type\": \"scatter\", \"x\": [275.0, 280.0, 285.5, 280.142857142857, 277.0, 283.181818181818, 286.0, 281.33333333333303, 279.0, 287.0, 310.0, 309.25, 306.8, 311.33333333333303, 309.25, 304.875, 314.875, 1103.5, 1099.95, 1100.7777777777699, 1098.28571428571, 1103.26666666666, 217.0, 218.0, 215.0, 225.0, 217.5, 221.9, 226.666666666666, 210.0, 236.0, 228.833333333333, 220.461538461538, 226.1, 217.166666666666, 224.377358490566, 219.2, 230.060606060606, 212.8, 225.2, 233.5, 216.0, 218.0, 223.0, 227.529411764705, 216.0, 224.0, 231.666666666666, 224.333333333333, 258.0, 654.0, 660.0, 662.0, 656.0, 665.0, 659.0, 656.533333333333, 654.4545454545449, 659.5, 654.6666666666661, 657.882352941176, 651.203703703703, 656.8, 651.1666666666661, 454.2, 467.5, 446.888888888888, 449.85714285714204, 457.5, 464.461538461538, 451.166666666666, 472.666666666666, 458.29411764705804, 473.428571428571, 446.5, 449.35714285714204, 453.666666666666, 454.76, 459.708333333333, 464.0, 449.0, 462.0, 458.125, 457.0, 450.0, 454.0, 443.0, 451.5, 452.5, 620.0, 602.0, 603.0, 601.6666666666661, 607.0, 599.428571428571, 603.208333333333, 631.6666666666661, 609.083333333333, 613.25, 617.75, 623.770833333333, 602.51724137931, 606.6666666666661, 623.271186440678, 614.226415094339, 632.0, 608.35294117647, 616.28, 628.0, 619.8125, 641.0, 611.833333333333, 625.0, 617.772727272727, 622.4166666666661, 613.777777777777, 625.0, 626.625, 621.0, 617.0, 625.5, 626.0, 622.6666666666661, 608.0, 26.0, 27.5, 30.5, 22.0, 26.0, 28.0, 25.0, 27.0, 28.2, 32.6666666666666, 39.0, 22.9090909090909, 27.5675675675675, 27.0, 38.5, 32.4222222222222, 28.4444444444444, 36.0, 32.6666666666666, 39.1333333333333, 42.6521739130434, 39.5, 47.5, 713.058823529411, 722.0, 716.333333333333, 713.0, 722.4, 708.333333333333, 710.333333333333, 717.916666666666, 725.0, 709.5, 713.0, 711.0, 790.111111111111, 793.6, 776.5, 781.0, 795.0, 779.1428571428571, 776.5, 782.6, 786.0, 779.5, 784.333333333333, 793.5, 781.714285714285, 784.5714285714281, 786.928571428571, 793.5, 788.0, 788.666666666666, 678.1, 682.5, 687.4, 686.0, 680.5, 674.545454545454, 684.2666666666661, 697.0, 676.0, 687.0, 679.75, 676.75, 683.6875, 688.333333333333, 689.875, 673.153846153846, 679.0, 669.0, 671.0, 686.6875, 690.285714285714, 675.714285714285, 679.1666666666661, 683.1666666666661, 691.666666666666, 673.1666666666661, 688.666666666666, 671.6, 674.9166666666661, 678.545454545454, 682.2, 684.8, 676.25, 686.0, 517.0, 521.0, 525.0, 520.7272727272721, 514.0, 518.478260869565, 524.375, 528.6666666666661, 522.482758620689, 516.6875, 534.5, 524.872093023255, 523.333333333333, 527.825242718446, 519.47619047619, 532.296296296296, 521.923076923076, 517.428571428571, 518.0, 519.5, 522.333333333333, 522.0, 524.0, 395.0, 392.0, 395.0, 396.5, 391.25, 402.0, 397.818181818181, 389.5, 393.166666666666, 402.44444444444395, 394.916666666666, 408.333333333333, 396.15789473684197, 401.85714285714204, 406.333333333333, 398.5, 405.25, 402.94444444444395, 390.5, 393.642857142857, 409.0, 397.0, 406.0, 382.0, 404.0, 752.5, 751.0, 753.8888888888879, 757.0, 752.7777777777769, 757.166666666666, 762.666666666666, 753.0, 764.0, 761.5, 763.75, 320.5, 329.0, 327.0, 319.33333333333303, 333.0, 323.25, 330.4, 331.5, 333.857142857142, 335.8, 328.116279069767, 324.444444444444, 321.0, 334.5, 320.75, 325.0, 157.0, 161.0, 425.0, 423.0, 381.0, 384.0, 382.0, 384.0, 386.8, 390.85, 394.51851851851796, 397.85714285714204, 387.7777777777769, 389.7, 392.61538461538396, 397.454545454545, 386.0, 396.592592592592, 401.0, 402.0, 558.5, 564.7272727272721, 567.333333333333, 552.2, 558.857142857142, 552.6, 557.0, 560.75, 547.75, 554.0, 557.5, 568.5, 551.55, 559.695652173913, 563.5, 553.0, 566.222222222222, 545.5, 556.0, 562.6666666666661, 550.875, 556.875, 565.0, 560.2, 553.0, 567.5, 554.6, 560.285714285714, 822.0, 810.0, 821.5, 819.0, 808.8, 827.0, 806.666666666666, 811.416666666666, 816.842105263157, 824.7777777777769, 820.272727272727, 808.470588235294, 822.125, 816.5, 819.285714285714, 813.08, 75.4, 77.0, 83.8, 73.0], \"xaxis\": \"x\", \"y\": [131.0, 131.0, 133.0, 134.785714285714, 136.0, 137.0, 137.0, 138.666666666666, 140.0, 141.0, 188.0, 196.0, 198.4, 198.666666666666, 200.333333333333, 201.5625, 197.875, 376.0, 377.4, 380.888888888888, 382.28571428571405, 384.2, 431.0, 436.5, 438.0, 438.5, 439.5, 439.1, 440.44444444444395, 442.5, 442.5, 442.833333333333, 443.134615384615, 443.7, 447.333333333333, 448.264150943396, 449.4, 450.515151515151, 451.0, 451.2, 451.0, 452.0, 451.428571428571, 453.75, 454.5, 456.0, 456.75, 456.666666666666, 466.666666666666, 470.0, 454.5, 457.0, 458.0, 465.0, 466.0, 469.5, 468.8, 470.818181818181, 472.0, 473.333333333333, 473.941176470588, 475.796296296296, 476.4, 480.166666666666, 464.8, 465.0, 466.666666666666, 466.714285714285, 466.0, 467.90384615384596, 468.555555555555, 467.666666666666, 469.29411764705804, 469.714285714285, 471.0, 471.428571428571, 470.25, 473.16, 473.708333333333, 473.5, 475.5, 475.5, 477.25, 480.5, 481.0, 481.5, 483.0, 487.0, 490.5, 554.5, 559.5, 569.833333333333, 572.9333333333329, 575.0, 577.285714285714, 576.6666666666661, 576.333333333333, 578.083333333333, 576.25, 576.0, 577.708333333333, 581.3103448275859, 581.833333333333, 583.5762711864402, 580.962264150943, 581.5, 584.529411764705, 585.44, 585.5, 587.8125, 586.0, 587.6666666666661, 588.0, 591.090909090909, 590.75, 591.888888888888, 590.5, 591.75, 593.0, 595.0, 595.5, 598.5, 598.6666666666661, 609.5, 609.0, 621.5, 622.5, 629.0, 631.0, 632.5, 633.0, 634.8, 637.4, 639.333333333333, 641.0, 642.363636363636, 642.162162162162, 647.0, 647.0, 646.9333333333329, 650.222222222222, 650.478260869565, 651.333333333333, 651.066666666666, 651.826086956521, 655.0, 658.5, 726.9411764705881, 726.0, 726.333333333333, 729.5, 728.2, 729.666666666666, 729.666666666666, 730.25, 731.5, 732.0, 732.25, 736.0, 739.444444444444, 739.8, 744.0, 744.0, 745.0, 745.714285714285, 746.5, 746.2, 747.0, 748.0, 747.333333333333, 747.5, 748.857142857142, 749.714285714285, 750.1428571428571, 752.5, 759.0, 762.333333333333, 750.9, 751.0, 751.3, 752.666666666666, 752.875, 754.1818181818179, 753.666666666666, 755.0, 756.0, 755.25, 756.3214285714281, 757.625, 756.9375, 756.9333333333328, 757.875, 758.3076923076918, 759.6153846153841, 760.0, 760.5, 761.5, 760.5714285714281, 761.428571428571, 762.833333333333, 761.833333333333, 761.666666666666, 762.666666666666, 762.333333333333, 763.4, 764.333333333333, 764.90909090909, 765.2, 764.4, 766.375, 765.333333333333, 771.0, 775.0, 775.75, 777.1818181818179, 782.0, 780.217391304347, 779.0625, 780.9259259259261, 784.03448275862, 786.229166666666, 788.0, 788.220930232558, 792.333333333333, 795.776699029126, 795.3095238095232, 796.092592592592, 799.6923076923068, 799.0, 801.5, 801.0, 803.666666666666, 806.0, 807.0, 777.0, 781.0, 781.0, 783.5, 782.75, 784.5, 786.6363636363631, 787.5, 787.833333333333, 788.4814814814812, 790.25, 791.333333333333, 794.3157894736839, 792.8095238095232, 794.666666666666, 799.153846153846, 796.75, 799.222222222222, 799.5, 799.714285714285, 800.2, 803.5, 807.0, 812.0, 825.0, 793.0, 794.0, 794.222222222222, 795.0, 798.7777777777769, 799.761904761904, 800.333333333333, 803.0, 804.75, 805.5, 807.0, 840.0, 840.5, 841.25, 842.333333333333, 843.0, 844.75, 845.666666666666, 848.5, 847.714285714285, 848.6, 852.1627906976739, 854.111111111111, 855.0, 855.0, 858.25, 858.0, 838.0, 840.5, 842.0, 848.0, 881.0, 882.0, 884.666666666666, 885.5, 886.7, 887.2, 887.0370370370372, 887.5714285714281, 888.8888888888879, 891.3, 892.538461538461, 890.4545454545448, 893.0, 893.8888888888879, 893.0, 895.5, 874.0, 874.0, 876.333333333333, 877.6, 878.714285714285, 880.0, 880.5, 881.7, 883.0, 882.0, 883.0, 884.0, 884.2, 886.217391304347, 887.0, 888.0, 889.166666666666, 890.0, 890.5, 891.666666666666, 891.875, 895.125, 895.0, 896.0, 898.0, 897.5, 898.8, 899.1428571428571, 917.0, 923.0, 924.0, 924.5, 925.4, 926.0, 927.666666666666, 927.666666666666, 927.842105263157, 927.8888888888879, 927.6363636363632, 929.470588235294, 929.75, 931.785714285714, 931.0, 932.24, 871.0, 876.0, 877.4, 879.0], \"yaxis\": \"y\"}],                        {\"height\": 700, \"hovermode\": \"closest\", \"plot_bgcolor\": \"rgba(0,0,0,0)\", \"shapes\": [{\"line\": {\"width\": 1.5}, \"type\": \"circle\", \"x0\": 271.42453862471234, \"x1\": 291.40706310688927, \"xref\": \"x\", \"y0\": 125.95397585414956, \"y1\": 145.93650033632647, \"yref\": \"y\"}, {\"line\": {\"width\": 1.5}, \"type\": \"circle\", \"x0\": 298.398850359848, \"x1\": 318.7705940845964, \"xref\": \"x\", \"y0\": 186.9745448042923, \"y1\": 207.3462885290407, \"yref\": \"y\"}, {\"line\": {\"width\": 1.5}, \"type\": \"circle\", \"x0\": 313.27923020444956, \"x1\": 316.47076979555044, \"xref\": \"x\", \"y0\": 196.2792302044496, \"y1\": 199.4707697955504, \"yref\": \"y\"}, {\"line\": {\"width\": 1.5}, \"type\": \"circle\", \"x0\": 1093.4919806477965, \"x1\": 1108.8200828442596, \"xref\": \"x\", \"y0\": 372.49086953668876, \"y1\": 387.81897173315195, \"yref\": \"y\"}, {\"line\": {\"width\": 1.5}, \"type\": \"circle\", \"x0\": 199.4758972404641, \"x1\": 247.90235857697016, \"xref\": \"x\", \"y0\": 423.7934455358961, \"y1\": 472.21990687240213, \"yref\": \"y\"}, {\"line\": {\"width\": 1.5}, \"type\": \"circle\", \"x0\": 640.6521877644248, \"x1\": 673.377422059302, \"xref\": \"x\", \"y0\": 452.2985010372088, \"y1\": 485.02373533208606, \"yref\": \"y\"}, {\"line\": {\"width\": 1.5}, \"type\": \"circle\", \"x0\": 436.1020775806659, \"x1\": 475.9843812572277, \"xref\": \"x\", \"y0\": 453.5433413169296, \"y1\": 493.4256449934916, \"yref\": \"y\"}, {\"line\": {\"width\": 1.5}, \"type\": \"circle\", \"x0\": 588.7196054028554, \"x1\": 644.7971675820895, \"xref\": \"x\", \"y0\": 555.6861133159595, \"y1\": 611.7636754951935, \"yref\": \"y\"}, {\"line\": {\"width\": 1.5}, \"type\": \"circle\", \"x0\": 5.261244388886169, \"x1\": 57.88329176094296, \"xref\": \"x\", \"y0\": 613.9028474113962, \"y1\": 666.5248947834531, \"yref\": \"y\"}, {\"line\": {\"width\": 1.5}, \"type\": \"circle\", \"x0\": 703.3992701263701, \"x1\": 726.9133115729758, \"xref\": \"x\", \"y0\": 718.1019662048016, \"y1\": 741.6160076514072, \"yref\": \"y\"}, {\"line\": {\"width\": 1.5}, \"type\": \"circle\", \"x0\": 770.0725112697867, \"x1\": 801.1684058377966, \"xref\": \"x\", \"y0\": 732.3987017459772, \"y1\": 763.4945963139871, \"yref\": \"y\"}, {\"line\": {\"width\": 1.5}, \"type\": \"circle\", \"x0\": 666.0202100543107, \"x1\": 696.7265402542038, \"xref\": \"x\", \"y0\": 743.6391755251143, \"y1\": 774.3455057250073, \"yref\": \"y\"}, {\"line\": {\"width\": 1.5}, \"type\": \"circle\", \"x0\": 499.7527240658797, \"x1\": 545.1086321442674, \"xref\": \"x\", \"y0\": 767.1043650126965, \"y1\": 812.4602730910842, \"yref\": \"y\"}, {\"line\": {\"width\": 1.5}, \"type\": \"circle\", \"x0\": 373.9582474329556, \"x1\": 422.1309498025569, \"xref\": \"x\", \"y0\": 769.7383226481887, \"y1\": 817.9110250177899, \"yref\": \"y\"}, {\"line\": {\"width\": 1.5}, \"type\": \"circle\", \"x0\": 743.8694193315345, \"x1\": 770.5396715775559, \"xref\": \"x\", \"y0\": 786.241713703829, \"y1\": 812.9119659498504, \"yref\": \"y\"}, {\"line\": {\"width\": 1.5}, \"type\": \"circle\", \"x0\": 311.58681849552323, \"x1\": 343.0945814675626, \"xref\": \"x\", \"y0\": 832.6735052341722, \"y1\": 864.1812682062115, \"yref\": \"y\"}, {\"line\": {\"width\": 1.5}, \"type\": \"circle\", \"x0\": 152.71067924529552, \"x1\": 165.28932075470448, \"xref\": \"x\", \"y0\": 832.9606792452955, \"y1\": 845.5393207547045, \"yref\": \"y\"}, {\"line\": {\"width\": 1.5}, \"type\": \"circle\", \"x0\": 358.15095625364694, \"x1\": 430.9785950592372, \"xref\": \"x\", \"y0\": 847.4887315442002, \"y1\": 920.3163703497903, \"yref\": \"y\"}, {\"line\": {\"width\": 1.5}, \"type\": \"circle\", \"x0\": 539.4783144338955, \"x1\": 576.6779715851233, \"xref\": \"x\", \"y0\": 868.2945000253916, \"y1\": 905.4941571766193, \"yref\": \"y\"}, {\"line\": {\"width\": 1.5}, \"type\": \"circle\", \"x0\": 802.8688103153879, \"x1\": 830.5983454556122, \"xref\": \"x\", \"y0\": 913.1881695325596, \"y1\": 940.9177046727839, \"yref\": \"y\"}, {\"line\": {\"width\": 1.5}, \"type\": \"circle\", \"x0\": 66.39651771561353, \"x1\": 88.20348228438647, \"xref\": \"x\", \"y0\": 864.9465177156136, \"y1\": 886.7534822843865, \"yref\": \"y\"}], \"showlegend\": false, \"template\": {\"data\": {\"bar\": [{\"error_x\": {\"color\": \"#2a3f5f\"}, \"error_y\": {\"color\": \"#2a3f5f\"}, \"marker\": {\"line\": {\"color\": \"#E5ECF6\", \"width\": 0.5}}, \"type\": \"bar\"}], \"barpolar\": [{\"marker\": {\"line\": {\"color\": \"#E5ECF6\", \"width\": 0.5}}, \"type\": \"barpolar\"}], \"carpet\": [{\"aaxis\": {\"endlinecolor\": \"#2a3f5f\", \"gridcolor\": \"white\", \"linecolor\": \"white\", \"minorgridcolor\": \"white\", \"startlinecolor\": \"#2a3f5f\"}, \"baxis\": {\"endlinecolor\": \"#2a3f5f\", \"gridcolor\": \"white\", \"linecolor\": \"white\", \"minorgridcolor\": \"white\", \"startlinecolor\": \"#2a3f5f\"}, \"type\": \"carpet\"}], \"choropleth\": [{\"colorbar\": {\"outlinewidth\": 0, \"ticks\": \"\"}, \"type\": \"choropleth\"}], \"contour\": [{\"colorbar\": {\"outlinewidth\": 0, \"ticks\": \"\"}, \"colorscale\": [[0.0, \"#0d0887\"], [0.1111111111111111, \"#46039f\"], [0.2222222222222222, \"#7201a8\"], [0.3333333333333333, \"#9c179e\"], [0.4444444444444444, \"#bd3786\"], [0.5555555555555556, \"#d8576b\"], [0.6666666666666666, \"#ed7953\"], [0.7777777777777778, \"#fb9f3a\"], [0.8888888888888888, \"#fdca26\"], [1.0, \"#f0f921\"]], \"type\": \"contour\"}], \"contourcarpet\": [{\"colorbar\": {\"outlinewidth\": 0, \"ticks\": \"\"}, \"type\": \"contourcarpet\"}], \"heatmap\": [{\"colorbar\": {\"outlinewidth\": 0, \"ticks\": \"\"}, \"colorscale\": [[0.0, \"#0d0887\"], [0.1111111111111111, \"#46039f\"], [0.2222222222222222, \"#7201a8\"], [0.3333333333333333, \"#9c179e\"], [0.4444444444444444, \"#bd3786\"], [0.5555555555555556, \"#d8576b\"], [0.6666666666666666, \"#ed7953\"], [0.7777777777777778, \"#fb9f3a\"], [0.8888888888888888, \"#fdca26\"], [1.0, \"#f0f921\"]], \"type\": \"heatmap\"}], \"heatmapgl\": [{\"colorbar\": {\"outlinewidth\": 0, \"ticks\": \"\"}, \"colorscale\": [[0.0, \"#0d0887\"], [0.1111111111111111, \"#46039f\"], [0.2222222222222222, \"#7201a8\"], [0.3333333333333333, \"#9c179e\"], [0.4444444444444444, \"#bd3786\"], [0.5555555555555556, \"#d8576b\"], [0.6666666666666666, \"#ed7953\"], [0.7777777777777778, \"#fb9f3a\"], [0.8888888888888888, \"#fdca26\"], [1.0, \"#f0f921\"]], \"type\": \"heatmapgl\"}], \"histogram\": [{\"marker\": {\"colorbar\": {\"outlinewidth\": 0, \"ticks\": \"\"}}, \"type\": \"histogram\"}], \"histogram2d\": [{\"colorbar\": {\"outlinewidth\": 0, \"ticks\": \"\"}, \"colorscale\": [[0.0, \"#0d0887\"], [0.1111111111111111, \"#46039f\"], [0.2222222222222222, \"#7201a8\"], [0.3333333333333333, \"#9c179e\"], [0.4444444444444444, \"#bd3786\"], [0.5555555555555556, \"#d8576b\"], [0.6666666666666666, \"#ed7953\"], [0.7777777777777778, \"#fb9f3a\"], [0.8888888888888888, \"#fdca26\"], [1.0, \"#f0f921\"]], \"type\": \"histogram2d\"}], \"histogram2dcontour\": [{\"colorbar\": {\"outlinewidth\": 0, \"ticks\": \"\"}, \"colorscale\": [[0.0, \"#0d0887\"], [0.1111111111111111, \"#46039f\"], [0.2222222222222222, \"#7201a8\"], [0.3333333333333333, \"#9c179e\"], [0.4444444444444444, \"#bd3786\"], [0.5555555555555556, \"#d8576b\"], [0.6666666666666666, \"#ed7953\"], [0.7777777777777778, \"#fb9f3a\"], [0.8888888888888888, \"#fdca26\"], [1.0, \"#f0f921\"]], \"type\": \"histogram2dcontour\"}], \"mesh3d\": [{\"colorbar\": {\"outlinewidth\": 0, \"ticks\": \"\"}, \"type\": \"mesh3d\"}], \"parcoords\": [{\"line\": {\"colorbar\": {\"outlinewidth\": 0, \"ticks\": \"\"}}, \"type\": \"parcoords\"}], \"pie\": [{\"automargin\": true, \"type\": \"pie\"}], \"scatter\": [{\"marker\": {\"colorbar\": {\"outlinewidth\": 0, \"ticks\": \"\"}}, \"type\": \"scatter\"}], \"scatter3d\": [{\"line\": {\"colorbar\": {\"outlinewidth\": 0, \"ticks\": \"\"}}, \"marker\": {\"colorbar\": {\"outlinewidth\": 0, \"ticks\": \"\"}}, \"type\": \"scatter3d\"}], \"scattercarpet\": [{\"marker\": {\"colorbar\": {\"outlinewidth\": 0, \"ticks\": \"\"}}, \"type\": \"scattercarpet\"}], \"scattergeo\": [{\"marker\": {\"colorbar\": {\"outlinewidth\": 0, \"ticks\": \"\"}}, \"type\": \"scattergeo\"}], \"scattergl\": [{\"marker\": {\"colorbar\": {\"outlinewidth\": 0, \"ticks\": \"\"}}, \"type\": \"scattergl\"}], \"scattermapbox\": [{\"marker\": {\"colorbar\": {\"outlinewidth\": 0, \"ticks\": \"\"}}, \"type\": \"scattermapbox\"}], \"scatterpolar\": [{\"marker\": {\"colorbar\": {\"outlinewidth\": 0, \"ticks\": \"\"}}, \"type\": \"scatterpolar\"}], \"scatterpolargl\": [{\"marker\": {\"colorbar\": {\"outlinewidth\": 0, \"ticks\": \"\"}}, \"type\": \"scatterpolargl\"}], \"scatterternary\": [{\"marker\": {\"colorbar\": {\"outlinewidth\": 0, \"ticks\": \"\"}}, \"type\": \"scatterternary\"}], \"surface\": [{\"colorbar\": {\"outlinewidth\": 0, \"ticks\": \"\"}, \"colorscale\": [[0.0, \"#0d0887\"], [0.1111111111111111, \"#46039f\"], [0.2222222222222222, \"#7201a8\"], [0.3333333333333333, \"#9c179e\"], [0.4444444444444444, \"#bd3786\"], [0.5555555555555556, \"#d8576b\"], [0.6666666666666666, \"#ed7953\"], [0.7777777777777778, \"#fb9f3a\"], [0.8888888888888888, \"#fdca26\"], [1.0, \"#f0f921\"]], \"type\": \"surface\"}], \"table\": [{\"cells\": {\"fill\": {\"color\": \"#EBF0F8\"}, \"line\": {\"color\": \"white\"}}, \"header\": {\"fill\": {\"color\": \"#C8D4E3\"}, \"line\": {\"color\": \"white\"}}, \"type\": \"table\"}]}, \"layout\": {\"annotationdefaults\": {\"arrowcolor\": \"#2a3f5f\", \"arrowhead\": 0, \"arrowwidth\": 1}, \"coloraxis\": {\"colorbar\": {\"outlinewidth\": 0, \"ticks\": \"\"}}, \"colorscale\": {\"diverging\": [[0, \"#8e0152\"], [0.1, \"#c51b7d\"], [0.2, \"#de77ae\"], [0.3, \"#f1b6da\"], [0.4, \"#fde0ef\"], [0.5, \"#f7f7f7\"], [0.6, \"#e6f5d0\"], [0.7, \"#b8e186\"], [0.8, \"#7fbc41\"], [0.9, \"#4d9221\"], [1, \"#276419\"]], \"sequential\": [[0.0, \"#0d0887\"], [0.1111111111111111, \"#46039f\"], [0.2222222222222222, \"#7201a8\"], [0.3333333333333333, \"#9c179e\"], [0.4444444444444444, \"#bd3786\"], [0.5555555555555556, \"#d8576b\"], [0.6666666666666666, \"#ed7953\"], [0.7777777777777778, \"#fb9f3a\"], [0.8888888888888888, \"#fdca26\"], [1.0, \"#f0f921\"]], \"sequentialminus\": [[0.0, \"#0d0887\"], [0.1111111111111111, \"#46039f\"], [0.2222222222222222, \"#7201a8\"], [0.3333333333333333, \"#9c179e\"], [0.4444444444444444, \"#bd3786\"], [0.5555555555555556, \"#d8576b\"], [0.6666666666666666, \"#ed7953\"], [0.7777777777777778, \"#fb9f3a\"], [0.8888888888888888, \"#fdca26\"], [1.0, \"#f0f921\"]]}, \"colorway\": [\"#636efa\", \"#EF553B\", \"#00cc96\", \"#ab63fa\", \"#FFA15A\", \"#19d3f3\", \"#FF6692\", \"#B6E880\", \"#FF97FF\", \"#FECB52\"], \"font\": {\"color\": \"#2a3f5f\"}, \"geo\": {\"bgcolor\": \"white\", \"lakecolor\": \"white\", \"landcolor\": \"#E5ECF6\", \"showlakes\": true, \"showland\": true, \"subunitcolor\": \"white\"}, \"hoverlabel\": {\"align\": \"left\"}, \"hovermode\": \"closest\", \"mapbox\": {\"style\": \"light\"}, \"paper_bgcolor\": \"white\", \"plot_bgcolor\": \"#E5ECF6\", \"polar\": {\"angularaxis\": {\"gridcolor\": \"white\", \"linecolor\": \"white\", \"ticks\": \"\"}, \"bgcolor\": \"#E5ECF6\", \"radialaxis\": {\"gridcolor\": \"white\", \"linecolor\": \"white\", \"ticks\": \"\"}}, \"scene\": {\"xaxis\": {\"backgroundcolor\": \"#E5ECF6\", \"gridcolor\": \"white\", \"gridwidth\": 2, \"linecolor\": \"white\", \"showbackground\": true, \"ticks\": \"\", \"zerolinecolor\": \"white\"}, \"yaxis\": {\"backgroundcolor\": \"#E5ECF6\", \"gridcolor\": \"white\", \"gridwidth\": 2, \"linecolor\": \"white\", \"showbackground\": true, \"ticks\": \"\", \"zerolinecolor\": \"white\"}, \"zaxis\": {\"backgroundcolor\": \"#E5ECF6\", \"gridcolor\": \"white\", \"gridwidth\": 2, \"linecolor\": \"white\", \"showbackground\": true, \"ticks\": \"\", \"zerolinecolor\": \"white\"}}, \"shapedefaults\": {\"line\": {\"color\": \"#2a3f5f\"}}, \"ternary\": {\"aaxis\": {\"gridcolor\": \"white\", \"linecolor\": \"white\", \"ticks\": \"\"}, \"baxis\": {\"gridcolor\": \"white\", \"linecolor\": \"white\", \"ticks\": \"\"}, \"bgcolor\": \"#E5ECF6\", \"caxis\": {\"gridcolor\": \"white\", \"linecolor\": \"white\", \"ticks\": \"\"}}, \"title\": {\"x\": 0.05}, \"xaxis\": {\"automargin\": true, \"gridcolor\": \"white\", \"linecolor\": \"white\", \"ticks\": \"\", \"title\": {\"standoff\": 15}, \"zerolinecolor\": \"white\", \"zerolinewidth\": 2}, \"yaxis\": {\"automargin\": true, \"gridcolor\": \"white\", \"linecolor\": \"white\", \"ticks\": \"\", \"title\": {\"standoff\": 15}, \"zerolinecolor\": \"white\", \"zerolinewidth\": 2}}}, \"title\": {\"text\": \"Puncta\"}, \"xaxis\": {\"constrain\": \"domain\", \"gridcolor\": \"#E4EAF2\", \"range\": [-50, 1250], \"showgrid\": true, \"title\": {\"text\": \"x\"}, \"type\": \"linear\"}, \"yaxis\": {\"gridcolor\": \"#E4EAF2\", \"range\": [1050, -50], \"scaleanchor\": \"x\", \"scaleratio\": 1, \"showgrid\": true, \"title\": {\"text\": \"y\"}, \"zeroline\": false}},                        {\"responsive\": true}                    ).then(function(){\n",
       "                            \n",
       "var gd = document.getElementById('9a762df1-7d97-47fc-a77c-b6ca4d7f59ee');\n",
       "var x = new MutationObserver(function (mutations, observer) {{\n",
       "        var display = window.getComputedStyle(gd).display;\n",
       "        if (!display || display === 'none') {{\n",
       "            console.log([gd, 'removed!']);\n",
       "            Plotly.purge(gd);\n",
       "            observer.disconnect();\n",
       "        }}\n",
       "}});\n",
       "\n",
       "// Listen for the removal of the full notebook cells\n",
       "var notebookContainer = gd.closest('#notebook-container');\n",
       "if (notebookContainer) {{\n",
       "    x.observe(notebookContainer, {childList: true});\n",
       "}}\n",
       "\n",
       "// Listen for the clearing of the current output cell\n",
       "var outputEl = gd.closest('.output');\n",
       "if (outputEl) {{\n",
       "    x.observe(outputEl, {childList: true});\n",
       "}}\n",
       "\n",
       "                        })                };                });            </script>        </div>"
      ]
     },
     "metadata": {},
     "output_type": "display_data"
    }
   ],
   "source": [
    "# plot puncta\n",
    "fig = plot_single_scatter(\n",
    "    puncta[puncta['image_number']==3].copy(),\n",
    "    x='center_x',\n",
    "    y='center_y',\n",
    "    title='Puncta',\n",
    "    xlabel='x',\n",
    "    ylabel='y'\n",
    ")\n",
    "\n",
    "fig.layout.update(\n",
    "    xaxis = {'range': [-50, 1250], 'constrain': \"domain\"},\n",
    "    yaxis = {'range': [1050, -50], 'scaleanchor': 'x', 'scaleratio': 1},\n",
    "    shapes=shapes,\n",
    "    height=700,\n",
    ")\n",
    "fig.update_traces(\n",
    "    marker=dict(size=3)\n",
    ")\n",
    "\n",
    "if save:\n",
    "    save_fig_as_png(fig, 'figures/bounding_boxes/puncta_bounding_box_3.png', height=800, scale=1)\n",
    "\n",
    "fig"
   ]
  },
  {
   "cell_type": "markdown",
   "metadata": {},
   "source": [
    "# Scatter Plots"
   ]
  },
  {
   "cell_type": "code",
   "execution_count": 52,
   "metadata": {},
   "outputs": [
    {
     "data": {
      "application/vnd.plotly.v1+json": {
       "config": {
        "plotlyServerURL": "https://plot.ly"
       },
       "data": [
        {
         "hovertemplate": "area_sum=%{x}<br>integrated_intensity_sum=%{y}<extra></extra>",
         "legendgroup": "",
         "marker": {
          "color": "#3366CC",
          "size": 8,
          "symbol": "circle"
         },
         "mode": "markers",
         "name": "",
         "orientation": "v",
         "showlegend": false,
         "type": "scatter",
         "x": [
          null,
          36,
          41,
          null,
          8,
          null,
          62,
          null,
          null,
          286,
          null,
          141,
          261,
          null,
          490,
          211,
          95,
          85,
          303,
          500,
          248,
          89,
          116,
          3,
          161,
          204,
          144,
          12,
          42,
          403,
          24,
          203,
          210,
          null,
          null,
          154,
          22,
          373,
          21,
          17,
          98,
          60,
          null,
          148,
          8,
          493,
          null,
          null,
          267,
          10,
          null,
          41,
          null,
          175,
          492,
          null,
          313,
          324,
          null,
          null,
          null,
          null,
          158,
          128,
          4,
          5,
          2,
          null,
          508,
          36,
          11,
          44,
          null,
          6,
          16,
          28,
          291,
          231,
          12,
          null,
          null,
          369,
          null,
          318,
          198,
          201,
          null,
          null,
          380,
          null,
          null,
          null,
          1,
          82,
          null,
          238,
          null,
          null,
          17,
          58,
          134,
          null,
          36,
          463,
          null,
          null,
          13,
          null,
          759,
          18,
          50,
          134,
          null,
          null,
          500,
          46,
          15,
          null,
          82,
          1,
          null,
          null,
          262,
          107,
          null,
          34,
          64,
          151,
          33,
          203,
          null,
          23,
          16,
          null,
          null,
          17,
          3,
          4,
          37,
          175,
          19,
          182
         ],
         "xaxis": "x",
         "y": [
          null,
          0.8269169256091111,
          1.006195172667502,
          null,
          0.211474785581231,
          null,
          1.647882822901008,
          null,
          null,
          8.031143683940158,
          null,
          3.6437323614954864,
          7.401007140055288,
          null,
          15.429358404129719,
          6.316472133621558,
          2.4777142070233795,
          2.0525826029479477,
          7.676127310842263,
          14.562340751290295,
          7.542671909555785,
          2.3145799990743297,
          3.1351949479430887,
          0.06758220866322498,
          4.633325712755317,
          5.180651582777493,
          4.027328932657833,
          0.28194095008075,
          0.939772646874189,
          10.569298872724165,
          0.5218738093972201,
          4.484855441376554,
          5.348104098811737,
          null,
          null,
          4.093553068116301,
          0.515358209609984,
          10.758602308109385,
          0.46558327600359906,
          0.39201953634619596,
          2.3126878887414897,
          1.4850080218166088,
          null,
          3.384954631328577,
          0.17279316298663702,
          16.29625397734341,
          null,
          null,
          6.928557265549888,
          0.22046235203743,
          null,
          0.9273670613765701,
          null,
          4.556694917380804,
          13.755748901516181,
          null,
          7.713817091658696,
          8.833859823644145,
          null,
          null,
          null,
          null,
          6.266041051596387,
          4.075547438114876,
          0.11638056114316002,
          0.158587016165256,
          0.05648889951407901,
          null,
          19.2472572252154,
          1.115800725296139,
          0.322499427944421,
          1.357198450714348,
          null,
          0.175020981580019,
          0.46720073372125703,
          0.816937515512107,
          10.457984309643487,
          7.743007577955703,
          0.35005722008645496,
          null,
          null,
          16.114107033237786,
          null,
          13.412481905892475,
          7.7235523238778,
          7.075593212619409,
          null,
          null,
          13.170367017388333,
          null,
          null,
          null,
          0.021911956369877,
          1.9427023865282531,
          null,
          6.383703391998989,
          null,
          null,
          0.38619058765471,
          1.4292515534907548,
          3.327412836253641,
          null,
          0.842771047726273,
          12.431998224928966,
          null,
          null,
          0.30150301568209903,
          null,
          21.30901057645677,
          0.424383921548724,
          1.174334326758977,
          3.3106736969202695,
          null,
          null,
          13.286762857809638,
          1.051163505762816,
          0.341527428478005,
          null,
          2.0042572859674648,
          0.022705424576998,
          null,
          null,
          6.921934882178886,
          2.6206454653292774,
          null,
          0.8127260301262131,
          1.511955453082917,
          3.6083467062562655,
          0.782360576093196,
          4.86567484959959,
          null,
          0.550148781388998,
          0.39740596897900105,
          null,
          null,
          0.395056078210474,
          0.070222018286586,
          0.091157397255301,
          0.870710309594869,
          4.51340505853294,
          0.43385977298021194,
          6.018387144431459
         ],
         "yaxis": "y"
        }
       ],
       "layout": {
        "hovermode": "closest",
        "plot_bgcolor": "rgba(0,0,0,0)",
        "showlegend": false,
        "template": {
         "data": {
          "bar": [
           {
            "error_x": {
             "color": "#2a3f5f"
            },
            "error_y": {
             "color": "#2a3f5f"
            },
            "marker": {
             "line": {
              "color": "#E5ECF6",
              "width": 0.5
             }
            },
            "type": "bar"
           }
          ],
          "barpolar": [
           {
            "marker": {
             "line": {
              "color": "#E5ECF6",
              "width": 0.5
             }
            },
            "type": "barpolar"
           }
          ],
          "carpet": [
           {
            "aaxis": {
             "endlinecolor": "#2a3f5f",
             "gridcolor": "white",
             "linecolor": "white",
             "minorgridcolor": "white",
             "startlinecolor": "#2a3f5f"
            },
            "baxis": {
             "endlinecolor": "#2a3f5f",
             "gridcolor": "white",
             "linecolor": "white",
             "minorgridcolor": "white",
             "startlinecolor": "#2a3f5f"
            },
            "type": "carpet"
           }
          ],
          "choropleth": [
           {
            "colorbar": {
             "outlinewidth": 0,
             "ticks": ""
            },
            "type": "choropleth"
           }
          ],
          "contour": [
           {
            "colorbar": {
             "outlinewidth": 0,
             "ticks": ""
            },
            "colorscale": [
             [
              0,
              "#0d0887"
             ],
             [
              0.1111111111111111,
              "#46039f"
             ],
             [
              0.2222222222222222,
              "#7201a8"
             ],
             [
              0.3333333333333333,
              "#9c179e"
             ],
             [
              0.4444444444444444,
              "#bd3786"
             ],
             [
              0.5555555555555556,
              "#d8576b"
             ],
             [
              0.6666666666666666,
              "#ed7953"
             ],
             [
              0.7777777777777778,
              "#fb9f3a"
             ],
             [
              0.8888888888888888,
              "#fdca26"
             ],
             [
              1,
              "#f0f921"
             ]
            ],
            "type": "contour"
           }
          ],
          "contourcarpet": [
           {
            "colorbar": {
             "outlinewidth": 0,
             "ticks": ""
            },
            "type": "contourcarpet"
           }
          ],
          "heatmap": [
           {
            "colorbar": {
             "outlinewidth": 0,
             "ticks": ""
            },
            "colorscale": [
             [
              0,
              "#0d0887"
             ],
             [
              0.1111111111111111,
              "#46039f"
             ],
             [
              0.2222222222222222,
              "#7201a8"
             ],
             [
              0.3333333333333333,
              "#9c179e"
             ],
             [
              0.4444444444444444,
              "#bd3786"
             ],
             [
              0.5555555555555556,
              "#d8576b"
             ],
             [
              0.6666666666666666,
              "#ed7953"
             ],
             [
              0.7777777777777778,
              "#fb9f3a"
             ],
             [
              0.8888888888888888,
              "#fdca26"
             ],
             [
              1,
              "#f0f921"
             ]
            ],
            "type": "heatmap"
           }
          ],
          "heatmapgl": [
           {
            "colorbar": {
             "outlinewidth": 0,
             "ticks": ""
            },
            "colorscale": [
             [
              0,
              "#0d0887"
             ],
             [
              0.1111111111111111,
              "#46039f"
             ],
             [
              0.2222222222222222,
              "#7201a8"
             ],
             [
              0.3333333333333333,
              "#9c179e"
             ],
             [
              0.4444444444444444,
              "#bd3786"
             ],
             [
              0.5555555555555556,
              "#d8576b"
             ],
             [
              0.6666666666666666,
              "#ed7953"
             ],
             [
              0.7777777777777778,
              "#fb9f3a"
             ],
             [
              0.8888888888888888,
              "#fdca26"
             ],
             [
              1,
              "#f0f921"
             ]
            ],
            "type": "heatmapgl"
           }
          ],
          "histogram": [
           {
            "marker": {
             "colorbar": {
              "outlinewidth": 0,
              "ticks": ""
             }
            },
            "type": "histogram"
           }
          ],
          "histogram2d": [
           {
            "colorbar": {
             "outlinewidth": 0,
             "ticks": ""
            },
            "colorscale": [
             [
              0,
              "#0d0887"
             ],
             [
              0.1111111111111111,
              "#46039f"
             ],
             [
              0.2222222222222222,
              "#7201a8"
             ],
             [
              0.3333333333333333,
              "#9c179e"
             ],
             [
              0.4444444444444444,
              "#bd3786"
             ],
             [
              0.5555555555555556,
              "#d8576b"
             ],
             [
              0.6666666666666666,
              "#ed7953"
             ],
             [
              0.7777777777777778,
              "#fb9f3a"
             ],
             [
              0.8888888888888888,
              "#fdca26"
             ],
             [
              1,
              "#f0f921"
             ]
            ],
            "type": "histogram2d"
           }
          ],
          "histogram2dcontour": [
           {
            "colorbar": {
             "outlinewidth": 0,
             "ticks": ""
            },
            "colorscale": [
             [
              0,
              "#0d0887"
             ],
             [
              0.1111111111111111,
              "#46039f"
             ],
             [
              0.2222222222222222,
              "#7201a8"
             ],
             [
              0.3333333333333333,
              "#9c179e"
             ],
             [
              0.4444444444444444,
              "#bd3786"
             ],
             [
              0.5555555555555556,
              "#d8576b"
             ],
             [
              0.6666666666666666,
              "#ed7953"
             ],
             [
              0.7777777777777778,
              "#fb9f3a"
             ],
             [
              0.8888888888888888,
              "#fdca26"
             ],
             [
              1,
              "#f0f921"
             ]
            ],
            "type": "histogram2dcontour"
           }
          ],
          "mesh3d": [
           {
            "colorbar": {
             "outlinewidth": 0,
             "ticks": ""
            },
            "type": "mesh3d"
           }
          ],
          "parcoords": [
           {
            "line": {
             "colorbar": {
              "outlinewidth": 0,
              "ticks": ""
             }
            },
            "type": "parcoords"
           }
          ],
          "pie": [
           {
            "automargin": true,
            "type": "pie"
           }
          ],
          "scatter": [
           {
            "marker": {
             "colorbar": {
              "outlinewidth": 0,
              "ticks": ""
             }
            },
            "type": "scatter"
           }
          ],
          "scatter3d": [
           {
            "line": {
             "colorbar": {
              "outlinewidth": 0,
              "ticks": ""
             }
            },
            "marker": {
             "colorbar": {
              "outlinewidth": 0,
              "ticks": ""
             }
            },
            "type": "scatter3d"
           }
          ],
          "scattercarpet": [
           {
            "marker": {
             "colorbar": {
              "outlinewidth": 0,
              "ticks": ""
             }
            },
            "type": "scattercarpet"
           }
          ],
          "scattergeo": [
           {
            "marker": {
             "colorbar": {
              "outlinewidth": 0,
              "ticks": ""
             }
            },
            "type": "scattergeo"
           }
          ],
          "scattergl": [
           {
            "marker": {
             "colorbar": {
              "outlinewidth": 0,
              "ticks": ""
             }
            },
            "type": "scattergl"
           }
          ],
          "scattermapbox": [
           {
            "marker": {
             "colorbar": {
              "outlinewidth": 0,
              "ticks": ""
             }
            },
            "type": "scattermapbox"
           }
          ],
          "scatterpolar": [
           {
            "marker": {
             "colorbar": {
              "outlinewidth": 0,
              "ticks": ""
             }
            },
            "type": "scatterpolar"
           }
          ],
          "scatterpolargl": [
           {
            "marker": {
             "colorbar": {
              "outlinewidth": 0,
              "ticks": ""
             }
            },
            "type": "scatterpolargl"
           }
          ],
          "scatterternary": [
           {
            "marker": {
             "colorbar": {
              "outlinewidth": 0,
              "ticks": ""
             }
            },
            "type": "scatterternary"
           }
          ],
          "surface": [
           {
            "colorbar": {
             "outlinewidth": 0,
             "ticks": ""
            },
            "colorscale": [
             [
              0,
              "#0d0887"
             ],
             [
              0.1111111111111111,
              "#46039f"
             ],
             [
              0.2222222222222222,
              "#7201a8"
             ],
             [
              0.3333333333333333,
              "#9c179e"
             ],
             [
              0.4444444444444444,
              "#bd3786"
             ],
             [
              0.5555555555555556,
              "#d8576b"
             ],
             [
              0.6666666666666666,
              "#ed7953"
             ],
             [
              0.7777777777777778,
              "#fb9f3a"
             ],
             [
              0.8888888888888888,
              "#fdca26"
             ],
             [
              1,
              "#f0f921"
             ]
            ],
            "type": "surface"
           }
          ],
          "table": [
           {
            "cells": {
             "fill": {
              "color": "#EBF0F8"
             },
             "line": {
              "color": "white"
             }
            },
            "header": {
             "fill": {
              "color": "#C8D4E3"
             },
             "line": {
              "color": "white"
             }
            },
            "type": "table"
           }
          ]
         },
         "layout": {
          "annotationdefaults": {
           "arrowcolor": "#2a3f5f",
           "arrowhead": 0,
           "arrowwidth": 1
          },
          "coloraxis": {
           "colorbar": {
            "outlinewidth": 0,
            "ticks": ""
           }
          },
          "colorscale": {
           "diverging": [
            [
             0,
             "#8e0152"
            ],
            [
             0.1,
             "#c51b7d"
            ],
            [
             0.2,
             "#de77ae"
            ],
            [
             0.3,
             "#f1b6da"
            ],
            [
             0.4,
             "#fde0ef"
            ],
            [
             0.5,
             "#f7f7f7"
            ],
            [
             0.6,
             "#e6f5d0"
            ],
            [
             0.7,
             "#b8e186"
            ],
            [
             0.8,
             "#7fbc41"
            ],
            [
             0.9,
             "#4d9221"
            ],
            [
             1,
             "#276419"
            ]
           ],
           "sequential": [
            [
             0,
             "#0d0887"
            ],
            [
             0.1111111111111111,
             "#46039f"
            ],
            [
             0.2222222222222222,
             "#7201a8"
            ],
            [
             0.3333333333333333,
             "#9c179e"
            ],
            [
             0.4444444444444444,
             "#bd3786"
            ],
            [
             0.5555555555555556,
             "#d8576b"
            ],
            [
             0.6666666666666666,
             "#ed7953"
            ],
            [
             0.7777777777777778,
             "#fb9f3a"
            ],
            [
             0.8888888888888888,
             "#fdca26"
            ],
            [
             1,
             "#f0f921"
            ]
           ],
           "sequentialminus": [
            [
             0,
             "#0d0887"
            ],
            [
             0.1111111111111111,
             "#46039f"
            ],
            [
             0.2222222222222222,
             "#7201a8"
            ],
            [
             0.3333333333333333,
             "#9c179e"
            ],
            [
             0.4444444444444444,
             "#bd3786"
            ],
            [
             0.5555555555555556,
             "#d8576b"
            ],
            [
             0.6666666666666666,
             "#ed7953"
            ],
            [
             0.7777777777777778,
             "#fb9f3a"
            ],
            [
             0.8888888888888888,
             "#fdca26"
            ],
            [
             1,
             "#f0f921"
            ]
           ]
          },
          "colorway": [
           "#636efa",
           "#EF553B",
           "#00cc96",
           "#ab63fa",
           "#FFA15A",
           "#19d3f3",
           "#FF6692",
           "#B6E880",
           "#FF97FF",
           "#FECB52"
          ],
          "font": {
           "color": "#2a3f5f"
          },
          "geo": {
           "bgcolor": "white",
           "lakecolor": "white",
           "landcolor": "#E5ECF6",
           "showlakes": true,
           "showland": true,
           "subunitcolor": "white"
          },
          "hoverlabel": {
           "align": "left"
          },
          "hovermode": "closest",
          "mapbox": {
           "style": "light"
          },
          "paper_bgcolor": "white",
          "plot_bgcolor": "#E5ECF6",
          "polar": {
           "angularaxis": {
            "gridcolor": "white",
            "linecolor": "white",
            "ticks": ""
           },
           "bgcolor": "#E5ECF6",
           "radialaxis": {
            "gridcolor": "white",
            "linecolor": "white",
            "ticks": ""
           }
          },
          "scene": {
           "xaxis": {
            "backgroundcolor": "#E5ECF6",
            "gridcolor": "white",
            "gridwidth": 2,
            "linecolor": "white",
            "showbackground": true,
            "ticks": "",
            "zerolinecolor": "white"
           },
           "yaxis": {
            "backgroundcolor": "#E5ECF6",
            "gridcolor": "white",
            "gridwidth": 2,
            "linecolor": "white",
            "showbackground": true,
            "ticks": "",
            "zerolinecolor": "white"
           },
           "zaxis": {
            "backgroundcolor": "#E5ECF6",
            "gridcolor": "white",
            "gridwidth": 2,
            "linecolor": "white",
            "showbackground": true,
            "ticks": "",
            "zerolinecolor": "white"
           }
          },
          "shapedefaults": {
           "line": {
            "color": "#2a3f5f"
           }
          },
          "ternary": {
           "aaxis": {
            "gridcolor": "white",
            "linecolor": "white",
            "ticks": ""
           },
           "baxis": {
            "gridcolor": "white",
            "linecolor": "white",
            "ticks": ""
           },
           "bgcolor": "#E5ECF6",
           "caxis": {
            "gridcolor": "white",
            "linecolor": "white",
            "ticks": ""
           }
          },
          "title": {
           "x": 0.05
          },
          "xaxis": {
           "automargin": true,
           "gridcolor": "white",
           "linecolor": "white",
           "ticks": "",
           "title": {
            "standoff": 15
           },
           "zerolinecolor": "white",
           "zerolinewidth": 2
          },
          "yaxis": {
           "automargin": true,
           "gridcolor": "white",
           "linecolor": "white",
           "ticks": "",
           "title": {
            "standoff": 15
           },
           "zerolinecolor": "white",
           "zerolinewidth": 2
          }
         }
        },
        "title": {
         "text": "Puncta Total Intensity vs. Total Area"
        },
        "xaxis": {
         "gridcolor": "#E4EAF2",
         "range": [
          -36.9,
          796.9
         ],
         "showgrid": true,
         "title": {
          "text": "Total Area"
         },
         "type": "linear"
        },
        "yaxis": {
         "gridcolor": "#E4EAF2",
         "range": [
          -2.1067979056388126,
          23.437720438465462
         ],
         "showgrid": true,
         "title": {
          "text": "Total Integrated Intensity"
         },
         "zeroline": false
        }
       }
      },
      "text/html": [
       "<div>                            <div id=\"59817e57-df64-4228-a0ad-4b45284c9bed\" class=\"plotly-graph-div\" style=\"height:525px; width:100%;\"></div>            <script type=\"text/javascript\">                require([\"plotly\"], function(Plotly) {                    window.PLOTLYENV=window.PLOTLYENV || {};                                    if (document.getElementById(\"59817e57-df64-4228-a0ad-4b45284c9bed\")) {                    Plotly.newPlot(                        \"59817e57-df64-4228-a0ad-4b45284c9bed\",                        [{\"hovertemplate\": \"area_sum=%{x}<br>integrated_intensity_sum=%{y}<extra></extra>\", \"legendgroup\": \"\", \"marker\": {\"color\": \"#3366CC\", \"size\": 8, \"symbol\": \"circle\"}, \"mode\": \"markers\", \"name\": \"\", \"orientation\": \"v\", \"showlegend\": false, \"type\": \"scatter\", \"x\": [null, 36.0, 41.0, null, 8.0, null, 62.0, null, null, 286.0, null, 141.0, 261.0, null, 490.0, 211.0, 95.0, 85.0, 303.0, 500.0, 248.0, 89.0, 116.0, 3.0, 161.0, 204.0, 144.0, 12.0, 42.0, 403.0, 24.0, 203.0, 210.0, null, null, 154.0, 22.0, 373.0, 21.0, 17.0, 98.0, 60.0, null, 148.0, 8.0, 493.0, null, null, 267.0, 10.0, null, 41.0, null, 175.0, 492.0, null, 313.0, 324.0, null, null, null, null, 158.0, 128.0, 4.0, 5.0, 2.0, null, 508.0, 36.0, 11.0, 44.0, null, 6.0, 16.0, 28.0, 291.0, 231.0, 12.0, null, null, 369.0, null, 318.0, 198.0, 201.0, null, null, 380.0, null, null, null, 1.0, 82.0, null, 238.0, null, null, 17.0, 58.0, 134.0, null, 36.0, 463.0, null, null, 13.0, null, 759.0, 18.0, 50.0, 134.0, null, null, 500.0, 46.0, 15.0, null, 82.0, 1.0, null, null, 262.0, 107.0, null, 34.0, 64.0, 151.0, 33.0, 203.0, null, 23.0, 16.0, null, null, 17.0, 3.0, 4.0, 37.0, 175.0, 19.0, 182.0], \"xaxis\": \"x\", \"y\": [null, 0.8269169256091111, 1.006195172667502, null, 0.211474785581231, null, 1.647882822901008, null, null, 8.031143683940158, null, 3.6437323614954864, 7.401007140055288, null, 15.429358404129719, 6.316472133621558, 2.4777142070233795, 2.0525826029479477, 7.676127310842263, 14.562340751290295, 7.542671909555785, 2.3145799990743297, 3.1351949479430887, 0.06758220866322498, 4.633325712755317, 5.180651582777493, 4.027328932657833, 0.28194095008075, 0.939772646874189, 10.569298872724165, 0.5218738093972201, 4.484855441376554, 5.348104098811737, null, null, 4.093553068116301, 0.515358209609984, 10.758602308109385, 0.46558327600359906, 0.39201953634619596, 2.3126878887414897, 1.4850080218166088, null, 3.384954631328577, 0.17279316298663702, 16.29625397734341, null, null, 6.928557265549888, 0.22046235203743, null, 0.9273670613765701, null, 4.556694917380804, 13.755748901516181, null, 7.713817091658696, 8.833859823644145, null, null, null, null, 6.266041051596387, 4.075547438114876, 0.11638056114316002, 0.158587016165256, 0.05648889951407901, null, 19.2472572252154, 1.115800725296139, 0.322499427944421, 1.357198450714348, null, 0.175020981580019, 0.46720073372125703, 0.816937515512107, 10.457984309643487, 7.743007577955703, 0.35005722008645496, null, null, 16.114107033237786, null, 13.412481905892475, 7.7235523238778, 7.075593212619409, null, null, 13.170367017388333, null, null, null, 0.021911956369877, 1.9427023865282531, null, 6.383703391998989, null, null, 0.38619058765471, 1.4292515534907548, 3.327412836253641, null, 0.842771047726273, 12.431998224928966, null, null, 0.30150301568209903, null, 21.30901057645677, 0.424383921548724, 1.174334326758977, 3.3106736969202695, null, null, 13.286762857809638, 1.051163505762816, 0.341527428478005, null, 2.0042572859674648, 0.022705424576998, null, null, 6.921934882178886, 2.6206454653292774, null, 0.8127260301262131, 1.511955453082917, 3.6083467062562655, 0.782360576093196, 4.86567484959959, null, 0.550148781388998, 0.39740596897900105, null, null, 0.395056078210474, 0.070222018286586, 0.091157397255301, 0.870710309594869, 4.51340505853294, 0.43385977298021194, 6.018387144431459], \"yaxis\": \"y\"}],                        {\"hovermode\": \"closest\", \"plot_bgcolor\": \"rgba(0,0,0,0)\", \"showlegend\": false, \"template\": {\"data\": {\"bar\": [{\"error_x\": {\"color\": \"#2a3f5f\"}, \"error_y\": {\"color\": \"#2a3f5f\"}, \"marker\": {\"line\": {\"color\": \"#E5ECF6\", \"width\": 0.5}}, \"type\": \"bar\"}], \"barpolar\": [{\"marker\": {\"line\": {\"color\": \"#E5ECF6\", \"width\": 0.5}}, \"type\": \"barpolar\"}], \"carpet\": [{\"aaxis\": {\"endlinecolor\": \"#2a3f5f\", \"gridcolor\": \"white\", \"linecolor\": \"white\", \"minorgridcolor\": \"white\", \"startlinecolor\": \"#2a3f5f\"}, \"baxis\": {\"endlinecolor\": \"#2a3f5f\", \"gridcolor\": \"white\", \"linecolor\": \"white\", \"minorgridcolor\": \"white\", \"startlinecolor\": \"#2a3f5f\"}, \"type\": \"carpet\"}], \"choropleth\": [{\"colorbar\": {\"outlinewidth\": 0, \"ticks\": \"\"}, \"type\": \"choropleth\"}], \"contour\": [{\"colorbar\": {\"outlinewidth\": 0, \"ticks\": \"\"}, \"colorscale\": [[0.0, \"#0d0887\"], [0.1111111111111111, \"#46039f\"], [0.2222222222222222, \"#7201a8\"], [0.3333333333333333, \"#9c179e\"], [0.4444444444444444, \"#bd3786\"], [0.5555555555555556, \"#d8576b\"], [0.6666666666666666, \"#ed7953\"], [0.7777777777777778, \"#fb9f3a\"], [0.8888888888888888, \"#fdca26\"], [1.0, \"#f0f921\"]], \"type\": \"contour\"}], \"contourcarpet\": [{\"colorbar\": {\"outlinewidth\": 0, \"ticks\": \"\"}, \"type\": \"contourcarpet\"}], \"heatmap\": [{\"colorbar\": {\"outlinewidth\": 0, \"ticks\": \"\"}, \"colorscale\": [[0.0, \"#0d0887\"], [0.1111111111111111, \"#46039f\"], [0.2222222222222222, \"#7201a8\"], [0.3333333333333333, \"#9c179e\"], [0.4444444444444444, \"#bd3786\"], [0.5555555555555556, \"#d8576b\"], [0.6666666666666666, \"#ed7953\"], [0.7777777777777778, \"#fb9f3a\"], [0.8888888888888888, \"#fdca26\"], [1.0, \"#f0f921\"]], \"type\": \"heatmap\"}], \"heatmapgl\": [{\"colorbar\": {\"outlinewidth\": 0, \"ticks\": \"\"}, \"colorscale\": [[0.0, \"#0d0887\"], [0.1111111111111111, \"#46039f\"], [0.2222222222222222, \"#7201a8\"], [0.3333333333333333, \"#9c179e\"], [0.4444444444444444, \"#bd3786\"], [0.5555555555555556, \"#d8576b\"], [0.6666666666666666, \"#ed7953\"], [0.7777777777777778, \"#fb9f3a\"], [0.8888888888888888, \"#fdca26\"], [1.0, \"#f0f921\"]], \"type\": \"heatmapgl\"}], \"histogram\": [{\"marker\": {\"colorbar\": {\"outlinewidth\": 0, \"ticks\": \"\"}}, \"type\": \"histogram\"}], \"histogram2d\": [{\"colorbar\": {\"outlinewidth\": 0, \"ticks\": \"\"}, \"colorscale\": [[0.0, \"#0d0887\"], [0.1111111111111111, \"#46039f\"], [0.2222222222222222, \"#7201a8\"], [0.3333333333333333, \"#9c179e\"], [0.4444444444444444, \"#bd3786\"], [0.5555555555555556, \"#d8576b\"], [0.6666666666666666, \"#ed7953\"], [0.7777777777777778, \"#fb9f3a\"], [0.8888888888888888, \"#fdca26\"], [1.0, \"#f0f921\"]], \"type\": \"histogram2d\"}], \"histogram2dcontour\": [{\"colorbar\": {\"outlinewidth\": 0, \"ticks\": \"\"}, \"colorscale\": [[0.0, \"#0d0887\"], [0.1111111111111111, \"#46039f\"], [0.2222222222222222, \"#7201a8\"], [0.3333333333333333, \"#9c179e\"], [0.4444444444444444, \"#bd3786\"], [0.5555555555555556, \"#d8576b\"], [0.6666666666666666, \"#ed7953\"], [0.7777777777777778, \"#fb9f3a\"], [0.8888888888888888, \"#fdca26\"], [1.0, \"#f0f921\"]], \"type\": \"histogram2dcontour\"}], \"mesh3d\": [{\"colorbar\": {\"outlinewidth\": 0, \"ticks\": \"\"}, \"type\": \"mesh3d\"}], \"parcoords\": [{\"line\": {\"colorbar\": {\"outlinewidth\": 0, \"ticks\": \"\"}}, \"type\": \"parcoords\"}], \"pie\": [{\"automargin\": true, \"type\": \"pie\"}], \"scatter\": [{\"marker\": {\"colorbar\": {\"outlinewidth\": 0, \"ticks\": \"\"}}, \"type\": \"scatter\"}], \"scatter3d\": [{\"line\": {\"colorbar\": {\"outlinewidth\": 0, \"ticks\": \"\"}}, \"marker\": {\"colorbar\": {\"outlinewidth\": 0, \"ticks\": \"\"}}, \"type\": \"scatter3d\"}], \"scattercarpet\": [{\"marker\": {\"colorbar\": {\"outlinewidth\": 0, \"ticks\": \"\"}}, \"type\": \"scattercarpet\"}], \"scattergeo\": [{\"marker\": {\"colorbar\": {\"outlinewidth\": 0, \"ticks\": \"\"}}, \"type\": \"scattergeo\"}], \"scattergl\": [{\"marker\": {\"colorbar\": {\"outlinewidth\": 0, \"ticks\": \"\"}}, \"type\": \"scattergl\"}], \"scattermapbox\": [{\"marker\": {\"colorbar\": {\"outlinewidth\": 0, \"ticks\": \"\"}}, \"type\": \"scattermapbox\"}], \"scatterpolar\": [{\"marker\": {\"colorbar\": {\"outlinewidth\": 0, \"ticks\": \"\"}}, \"type\": \"scatterpolar\"}], \"scatterpolargl\": [{\"marker\": {\"colorbar\": {\"outlinewidth\": 0, \"ticks\": \"\"}}, \"type\": \"scatterpolargl\"}], \"scatterternary\": [{\"marker\": {\"colorbar\": {\"outlinewidth\": 0, \"ticks\": \"\"}}, \"type\": \"scatterternary\"}], \"surface\": [{\"colorbar\": {\"outlinewidth\": 0, \"ticks\": \"\"}, \"colorscale\": [[0.0, \"#0d0887\"], [0.1111111111111111, \"#46039f\"], [0.2222222222222222, \"#7201a8\"], [0.3333333333333333, \"#9c179e\"], [0.4444444444444444, \"#bd3786\"], [0.5555555555555556, \"#d8576b\"], [0.6666666666666666, \"#ed7953\"], [0.7777777777777778, \"#fb9f3a\"], [0.8888888888888888, \"#fdca26\"], [1.0, \"#f0f921\"]], \"type\": \"surface\"}], \"table\": [{\"cells\": {\"fill\": {\"color\": \"#EBF0F8\"}, \"line\": {\"color\": \"white\"}}, \"header\": {\"fill\": {\"color\": \"#C8D4E3\"}, \"line\": {\"color\": \"white\"}}, \"type\": \"table\"}]}, \"layout\": {\"annotationdefaults\": {\"arrowcolor\": \"#2a3f5f\", \"arrowhead\": 0, \"arrowwidth\": 1}, \"coloraxis\": {\"colorbar\": {\"outlinewidth\": 0, \"ticks\": \"\"}}, \"colorscale\": {\"diverging\": [[0, \"#8e0152\"], [0.1, \"#c51b7d\"], [0.2, \"#de77ae\"], [0.3, \"#f1b6da\"], [0.4, \"#fde0ef\"], [0.5, \"#f7f7f7\"], [0.6, \"#e6f5d0\"], [0.7, \"#b8e186\"], [0.8, \"#7fbc41\"], [0.9, \"#4d9221\"], [1, \"#276419\"]], \"sequential\": [[0.0, \"#0d0887\"], [0.1111111111111111, \"#46039f\"], [0.2222222222222222, \"#7201a8\"], [0.3333333333333333, \"#9c179e\"], [0.4444444444444444, \"#bd3786\"], [0.5555555555555556, \"#d8576b\"], [0.6666666666666666, \"#ed7953\"], [0.7777777777777778, \"#fb9f3a\"], [0.8888888888888888, \"#fdca26\"], [1.0, \"#f0f921\"]], \"sequentialminus\": [[0.0, \"#0d0887\"], [0.1111111111111111, \"#46039f\"], [0.2222222222222222, \"#7201a8\"], [0.3333333333333333, \"#9c179e\"], [0.4444444444444444, \"#bd3786\"], [0.5555555555555556, \"#d8576b\"], [0.6666666666666666, \"#ed7953\"], [0.7777777777777778, \"#fb9f3a\"], [0.8888888888888888, \"#fdca26\"], [1.0, \"#f0f921\"]]}, \"colorway\": [\"#636efa\", \"#EF553B\", \"#00cc96\", \"#ab63fa\", \"#FFA15A\", \"#19d3f3\", \"#FF6692\", \"#B6E880\", \"#FF97FF\", \"#FECB52\"], \"font\": {\"color\": \"#2a3f5f\"}, \"geo\": {\"bgcolor\": \"white\", \"lakecolor\": \"white\", \"landcolor\": \"#E5ECF6\", \"showlakes\": true, \"showland\": true, \"subunitcolor\": \"white\"}, \"hoverlabel\": {\"align\": \"left\"}, \"hovermode\": \"closest\", \"mapbox\": {\"style\": \"light\"}, \"paper_bgcolor\": \"white\", \"plot_bgcolor\": \"#E5ECF6\", \"polar\": {\"angularaxis\": {\"gridcolor\": \"white\", \"linecolor\": \"white\", \"ticks\": \"\"}, \"bgcolor\": \"#E5ECF6\", \"radialaxis\": {\"gridcolor\": \"white\", \"linecolor\": \"white\", \"ticks\": \"\"}}, \"scene\": {\"xaxis\": {\"backgroundcolor\": \"#E5ECF6\", \"gridcolor\": \"white\", \"gridwidth\": 2, \"linecolor\": \"white\", \"showbackground\": true, \"ticks\": \"\", \"zerolinecolor\": \"white\"}, \"yaxis\": {\"backgroundcolor\": \"#E5ECF6\", \"gridcolor\": \"white\", \"gridwidth\": 2, \"linecolor\": \"white\", \"showbackground\": true, \"ticks\": \"\", \"zerolinecolor\": \"white\"}, \"zaxis\": {\"backgroundcolor\": \"#E5ECF6\", \"gridcolor\": \"white\", \"gridwidth\": 2, \"linecolor\": \"white\", \"showbackground\": true, \"ticks\": \"\", \"zerolinecolor\": \"white\"}}, \"shapedefaults\": {\"line\": {\"color\": \"#2a3f5f\"}}, \"ternary\": {\"aaxis\": {\"gridcolor\": \"white\", \"linecolor\": \"white\", \"ticks\": \"\"}, \"baxis\": {\"gridcolor\": \"white\", \"linecolor\": \"white\", \"ticks\": \"\"}, \"bgcolor\": \"#E5ECF6\", \"caxis\": {\"gridcolor\": \"white\", \"linecolor\": \"white\", \"ticks\": \"\"}}, \"title\": {\"x\": 0.05}, \"xaxis\": {\"automargin\": true, \"gridcolor\": \"white\", \"linecolor\": \"white\", \"ticks\": \"\", \"title\": {\"standoff\": 15}, \"zerolinecolor\": \"white\", \"zerolinewidth\": 2}, \"yaxis\": {\"automargin\": true, \"gridcolor\": \"white\", \"linecolor\": \"white\", \"ticks\": \"\", \"title\": {\"standoff\": 15}, \"zerolinecolor\": \"white\", \"zerolinewidth\": 2}}}, \"title\": {\"text\": \"Puncta Total Intensity vs. Total Area\"}, \"xaxis\": {\"gridcolor\": \"#E4EAF2\", \"range\": [-36.9, 796.9], \"showgrid\": true, \"title\": {\"text\": \"Total Area\"}, \"type\": \"linear\"}, \"yaxis\": {\"gridcolor\": \"#E4EAF2\", \"range\": [-2.1067979056388126, 23.437720438465462], \"showgrid\": true, \"title\": {\"text\": \"Total Integrated Intensity\"}, \"zeroline\": false}},                        {\"responsive\": true}                    ).then(function(){\n",
       "                            \n",
       "var gd = document.getElementById('59817e57-df64-4228-a0ad-4b45284c9bed');\n",
       "var x = new MutationObserver(function (mutations, observer) {{\n",
       "        var display = window.getComputedStyle(gd).display;\n",
       "        if (!display || display === 'none') {{\n",
       "            console.log([gd, 'removed!']);\n",
       "            Plotly.purge(gd);\n",
       "            observer.disconnect();\n",
       "        }}\n",
       "}});\n",
       "\n",
       "// Listen for the removal of the full notebook cells\n",
       "var notebookContainer = gd.closest('#notebook-container');\n",
       "if (notebookContainer) {{\n",
       "    x.observe(notebookContainer, {childList: true});\n",
       "}}\n",
       "\n",
       "// Listen for the clearing of the current output cell\n",
       "var outputEl = gd.closest('.output');\n",
       "if (outputEl) {{\n",
       "    x.observe(outputEl, {childList: true});\n",
       "}}\n",
       "\n",
       "                        })                };                });            </script>        </div>"
      ]
     },
     "metadata": {},
     "output_type": "display_data"
    }
   ],
   "source": [
    "fig = plot_single_scatter(\n",
    "    summary,\n",
    "    x='area_sum',\n",
    "    y='integrated_intensity_sum',\n",
    "    xlabel='Total Area',\n",
    "    ylabel='Total Integrated Intensity',\n",
    "    title='Puncta Total Intensity vs. Total Area'\n",
    ")\n",
    "\n",
    "if save:\n",
    "    save_fig_as_png(fig, 'figures/scatter/scatter_intensity_area.png', height=800, scale=1)\n",
    "\n",
    "fig"
   ]
  },
  {
   "cell_type": "code",
   "execution_count": 53,
   "metadata": {
    "scrolled": true
   },
   "outputs": [],
   "source": [
    "nuclei['effective_radius_nuclei'] = nuclei['area'].apply(lambda x: np.sqrt(x/3.14159))"
   ]
  },
  {
   "cell_type": "code",
   "execution_count": 55,
   "metadata": {
    "scrolled": true
   },
   "outputs": [],
   "source": [
    "summary = pd.merge(\n",
    "    left=nuclei[['image_number', 'object_number', 'area', 'effective_radius_nuclei']],\n",
    "    right=puncta_summary,\n",
    "    left_on=['image_number', 'object_number'],\n",
    "    right_on=['image_number', 'nuclei_object_number'],\n",
    "    suffixes=('_nuclei', '_puncta'),\n",
    "    how='left'\n",
    ").fillna({'area_puncta': 0, 'integrated_intensity': 0})\n",
    "\n",
    "summary['nuclei_object_number'] = summary['object_number']  # fillna\n",
    "summary['pct_puncta'] = (\n",
    "    summary['effective_radius_puncta'] / summary['effective_radius_nuclei']\n",
    ").fillna(0)"
   ]
  },
  {
   "cell_type": "code",
   "execution_count": 56,
   "metadata": {},
   "outputs": [
    {
     "data": {
      "application/vnd.plotly.v1+json": {
       "config": {
        "plotlyServerURL": "https://plot.ly"
       },
       "data": [
        {
         "hovertemplate": "pct_puncta=%{x}<br>integrated_intensity_sum=%{y}<extra></extra>",
         "legendgroup": "",
         "marker": {
          "color": "#3366CC",
          "size": 8,
          "symbol": "circle"
         },
         "mode": "markers",
         "name": "",
         "orientation": "v",
         "showlegend": false,
         "type": "scatter",
         "x": [
          0,
          0.26028642628074766,
          0.2655858771331843,
          0,
          0.03873104382610596,
          0,
          0.1870877895331754,
          0,
          0,
          0.6762118254721395,
          0,
          0.41089008366122703,
          0.5317556799601661,
          0,
          0.6952218816483346,
          0.5921702942172392,
          0.329243010543736,
          0.4299644954262711,
          0.4087180403532356,
          0.5855040504757217,
          0.6320050270425176,
          0.37071623481349064,
          0.42731524731011516,
          0.1670146789369791,
          0.9601073982526703,
          0.522239277188337,
          0.3833243742794574,
          0.27532693116306983,
          0.6160164416854548,
          0.5071830916127373,
          0.24445843100392495,
          0.38318491762075574,
          0.46407570813334387,
          0,
          0,
          0.2557195022190879,
          0.3049021438440984,
          0.39736738736368005,
          0.3611951441130873,
          0.3185178065438761,
          0.6729830449714467,
          0.6130813485299238,
          0,
          0.46721129037189574,
          0.6135484481759725,
          0.633242177979923,
          0,
          0,
          0.4661103171548466,
          0.956207454834113,
          0,
          0.2576206251652722,
          0,
          0.7543929135157798,
          0.4347544904306764,
          0,
          0.5381913347226407,
          0.5552988574282419,
          0,
          0,
          0,
          0,
          0.38899320062318515,
          0.35717039560839187,
          0.5505098853053769,
          0.22427022558621745,
          0.02234392810843759,
          0,
          0.44205440824867476,
          0.26568762817993086,
          1.7527300065754154,
          0.30926468753623965,
          0,
          1.0166345218646355,
          0.6881781436408219,
          0.6099982912186394,
          0.42709441744160137,
          0.31640656008384077,
          0.23915370778455,
          0,
          0,
          0.7461091083301883,
          0,
          0.5192271904487379,
          0.4478657273377924,
          0.4290325220980134,
          0,
          0,
          0.45409874109460596,
          0,
          0,
          0,
          0.01350242221424651,
          0.7701533761751982,
          0,
          0.580716200289267,
          0,
          0,
          1.2223659045316457,
          0.6096857652524241,
          0.8125615526778324,
          0,
          0.37275669163631125,
          0.5324968710141941,
          0,
          0,
          0.673618310916368,
          0,
          0.6804259027396037,
          0.9400404458941006,
          0.37018543519691705,
          0.9038832916038753,
          0,
          0,
          0.9180149017895288,
          1.0878840278644046,
          1.1260282725264925,
          0,
          0.6754378157725578,
          0.015253404749263625,
          0,
          0,
          0.5185235207673817,
          0.32490804622480773,
          0,
          0.9232028889143029,
          0.9087437331093696,
          0.4342178405709377,
          0.669948195629537,
          0.7235911893142016,
          0,
          0.9257944643313776,
          0.3295435374351613,
          0,
          0,
          1.0664247609213746,
          0.37015862913361536,
          0.02282474539495152,
          0.34729797550660313,
          0.2560613032120079,
          0.6698591273275982,
          0.5229030536896515
         ],
         "xaxis": "x",
         "y": [
          null,
          0.8269169256091111,
          1.006195172667502,
          null,
          0.211474785581231,
          null,
          1.647882822901008,
          null,
          null,
          8.031143683940158,
          null,
          3.6437323614954864,
          7.401007140055288,
          null,
          15.429358404129719,
          6.316472133621558,
          2.4777142070233795,
          2.0525826029479477,
          7.676127310842263,
          14.562340751290295,
          7.542671909555785,
          2.3145799990743297,
          3.1351949479430887,
          0.06758220866322498,
          4.633325712755317,
          5.180651582777493,
          4.027328932657833,
          0.28194095008075,
          0.939772646874189,
          10.569298872724165,
          0.5218738093972201,
          4.484855441376554,
          5.348104098811737,
          null,
          null,
          4.093553068116301,
          0.515358209609984,
          10.758602308109385,
          0.46558327600359906,
          0.39201953634619596,
          2.3126878887414897,
          1.4850080218166088,
          null,
          3.384954631328577,
          0.17279316298663702,
          16.29625397734341,
          null,
          null,
          6.928557265549888,
          0.22046235203743,
          null,
          0.9273670613765701,
          null,
          4.556694917380804,
          13.755748901516181,
          null,
          7.713817091658696,
          8.833859823644145,
          null,
          null,
          null,
          null,
          6.266041051596387,
          4.075547438114876,
          0.11638056114316002,
          0.158587016165256,
          0.05648889951407901,
          null,
          19.2472572252154,
          1.115800725296139,
          0.322499427944421,
          1.357198450714348,
          null,
          0.175020981580019,
          0.46720073372125703,
          0.816937515512107,
          10.457984309643487,
          7.743007577955703,
          0.35005722008645496,
          null,
          null,
          16.114107033237786,
          null,
          13.412481905892475,
          7.7235523238778,
          7.075593212619409,
          null,
          null,
          13.170367017388333,
          null,
          null,
          null,
          0.021911956369877,
          1.9427023865282531,
          null,
          6.383703391998989,
          null,
          null,
          0.38619058765471,
          1.4292515534907548,
          3.327412836253641,
          null,
          0.842771047726273,
          12.431998224928966,
          null,
          null,
          0.30150301568209903,
          null,
          21.30901057645677,
          0.424383921548724,
          1.174334326758977,
          3.3106736969202695,
          null,
          null,
          13.286762857809638,
          1.051163505762816,
          0.341527428478005,
          null,
          2.0042572859674648,
          0.022705424576998,
          null,
          null,
          6.921934882178886,
          2.6206454653292774,
          null,
          0.8127260301262131,
          1.511955453082917,
          3.6083467062562655,
          0.782360576093196,
          4.86567484959959,
          null,
          0.550148781388998,
          0.39740596897900105,
          null,
          null,
          0.395056078210474,
          0.070222018286586,
          0.091157397255301,
          0.870710309594869,
          4.51340505853294,
          0.43385977298021194,
          6.018387144431459
         ],
         "yaxis": "y"
        }
       ],
       "layout": {
        "hovermode": "closest",
        "plot_bgcolor": "rgba(0,0,0,0)",
        "showlegend": false,
        "template": {
         "data": {
          "bar": [
           {
            "error_x": {
             "color": "#2a3f5f"
            },
            "error_y": {
             "color": "#2a3f5f"
            },
            "marker": {
             "line": {
              "color": "#E5ECF6",
              "width": 0.5
             }
            },
            "type": "bar"
           }
          ],
          "barpolar": [
           {
            "marker": {
             "line": {
              "color": "#E5ECF6",
              "width": 0.5
             }
            },
            "type": "barpolar"
           }
          ],
          "carpet": [
           {
            "aaxis": {
             "endlinecolor": "#2a3f5f",
             "gridcolor": "white",
             "linecolor": "white",
             "minorgridcolor": "white",
             "startlinecolor": "#2a3f5f"
            },
            "baxis": {
             "endlinecolor": "#2a3f5f",
             "gridcolor": "white",
             "linecolor": "white",
             "minorgridcolor": "white",
             "startlinecolor": "#2a3f5f"
            },
            "type": "carpet"
           }
          ],
          "choropleth": [
           {
            "colorbar": {
             "outlinewidth": 0,
             "ticks": ""
            },
            "type": "choropleth"
           }
          ],
          "contour": [
           {
            "colorbar": {
             "outlinewidth": 0,
             "ticks": ""
            },
            "colorscale": [
             [
              0,
              "#0d0887"
             ],
             [
              0.1111111111111111,
              "#46039f"
             ],
             [
              0.2222222222222222,
              "#7201a8"
             ],
             [
              0.3333333333333333,
              "#9c179e"
             ],
             [
              0.4444444444444444,
              "#bd3786"
             ],
             [
              0.5555555555555556,
              "#d8576b"
             ],
             [
              0.6666666666666666,
              "#ed7953"
             ],
             [
              0.7777777777777778,
              "#fb9f3a"
             ],
             [
              0.8888888888888888,
              "#fdca26"
             ],
             [
              1,
              "#f0f921"
             ]
            ],
            "type": "contour"
           }
          ],
          "contourcarpet": [
           {
            "colorbar": {
             "outlinewidth": 0,
             "ticks": ""
            },
            "type": "contourcarpet"
           }
          ],
          "heatmap": [
           {
            "colorbar": {
             "outlinewidth": 0,
             "ticks": ""
            },
            "colorscale": [
             [
              0,
              "#0d0887"
             ],
             [
              0.1111111111111111,
              "#46039f"
             ],
             [
              0.2222222222222222,
              "#7201a8"
             ],
             [
              0.3333333333333333,
              "#9c179e"
             ],
             [
              0.4444444444444444,
              "#bd3786"
             ],
             [
              0.5555555555555556,
              "#d8576b"
             ],
             [
              0.6666666666666666,
              "#ed7953"
             ],
             [
              0.7777777777777778,
              "#fb9f3a"
             ],
             [
              0.8888888888888888,
              "#fdca26"
             ],
             [
              1,
              "#f0f921"
             ]
            ],
            "type": "heatmap"
           }
          ],
          "heatmapgl": [
           {
            "colorbar": {
             "outlinewidth": 0,
             "ticks": ""
            },
            "colorscale": [
             [
              0,
              "#0d0887"
             ],
             [
              0.1111111111111111,
              "#46039f"
             ],
             [
              0.2222222222222222,
              "#7201a8"
             ],
             [
              0.3333333333333333,
              "#9c179e"
             ],
             [
              0.4444444444444444,
              "#bd3786"
             ],
             [
              0.5555555555555556,
              "#d8576b"
             ],
             [
              0.6666666666666666,
              "#ed7953"
             ],
             [
              0.7777777777777778,
              "#fb9f3a"
             ],
             [
              0.8888888888888888,
              "#fdca26"
             ],
             [
              1,
              "#f0f921"
             ]
            ],
            "type": "heatmapgl"
           }
          ],
          "histogram": [
           {
            "marker": {
             "colorbar": {
              "outlinewidth": 0,
              "ticks": ""
             }
            },
            "type": "histogram"
           }
          ],
          "histogram2d": [
           {
            "colorbar": {
             "outlinewidth": 0,
             "ticks": ""
            },
            "colorscale": [
             [
              0,
              "#0d0887"
             ],
             [
              0.1111111111111111,
              "#46039f"
             ],
             [
              0.2222222222222222,
              "#7201a8"
             ],
             [
              0.3333333333333333,
              "#9c179e"
             ],
             [
              0.4444444444444444,
              "#bd3786"
             ],
             [
              0.5555555555555556,
              "#d8576b"
             ],
             [
              0.6666666666666666,
              "#ed7953"
             ],
             [
              0.7777777777777778,
              "#fb9f3a"
             ],
             [
              0.8888888888888888,
              "#fdca26"
             ],
             [
              1,
              "#f0f921"
             ]
            ],
            "type": "histogram2d"
           }
          ],
          "histogram2dcontour": [
           {
            "colorbar": {
             "outlinewidth": 0,
             "ticks": ""
            },
            "colorscale": [
             [
              0,
              "#0d0887"
             ],
             [
              0.1111111111111111,
              "#46039f"
             ],
             [
              0.2222222222222222,
              "#7201a8"
             ],
             [
              0.3333333333333333,
              "#9c179e"
             ],
             [
              0.4444444444444444,
              "#bd3786"
             ],
             [
              0.5555555555555556,
              "#d8576b"
             ],
             [
              0.6666666666666666,
              "#ed7953"
             ],
             [
              0.7777777777777778,
              "#fb9f3a"
             ],
             [
              0.8888888888888888,
              "#fdca26"
             ],
             [
              1,
              "#f0f921"
             ]
            ],
            "type": "histogram2dcontour"
           }
          ],
          "mesh3d": [
           {
            "colorbar": {
             "outlinewidth": 0,
             "ticks": ""
            },
            "type": "mesh3d"
           }
          ],
          "parcoords": [
           {
            "line": {
             "colorbar": {
              "outlinewidth": 0,
              "ticks": ""
             }
            },
            "type": "parcoords"
           }
          ],
          "pie": [
           {
            "automargin": true,
            "type": "pie"
           }
          ],
          "scatter": [
           {
            "marker": {
             "colorbar": {
              "outlinewidth": 0,
              "ticks": ""
             }
            },
            "type": "scatter"
           }
          ],
          "scatter3d": [
           {
            "line": {
             "colorbar": {
              "outlinewidth": 0,
              "ticks": ""
             }
            },
            "marker": {
             "colorbar": {
              "outlinewidth": 0,
              "ticks": ""
             }
            },
            "type": "scatter3d"
           }
          ],
          "scattercarpet": [
           {
            "marker": {
             "colorbar": {
              "outlinewidth": 0,
              "ticks": ""
             }
            },
            "type": "scattercarpet"
           }
          ],
          "scattergeo": [
           {
            "marker": {
             "colorbar": {
              "outlinewidth": 0,
              "ticks": ""
             }
            },
            "type": "scattergeo"
           }
          ],
          "scattergl": [
           {
            "marker": {
             "colorbar": {
              "outlinewidth": 0,
              "ticks": ""
             }
            },
            "type": "scattergl"
           }
          ],
          "scattermapbox": [
           {
            "marker": {
             "colorbar": {
              "outlinewidth": 0,
              "ticks": ""
             }
            },
            "type": "scattermapbox"
           }
          ],
          "scatterpolar": [
           {
            "marker": {
             "colorbar": {
              "outlinewidth": 0,
              "ticks": ""
             }
            },
            "type": "scatterpolar"
           }
          ],
          "scatterpolargl": [
           {
            "marker": {
             "colorbar": {
              "outlinewidth": 0,
              "ticks": ""
             }
            },
            "type": "scatterpolargl"
           }
          ],
          "scatterternary": [
           {
            "marker": {
             "colorbar": {
              "outlinewidth": 0,
              "ticks": ""
             }
            },
            "type": "scatterternary"
           }
          ],
          "surface": [
           {
            "colorbar": {
             "outlinewidth": 0,
             "ticks": ""
            },
            "colorscale": [
             [
              0,
              "#0d0887"
             ],
             [
              0.1111111111111111,
              "#46039f"
             ],
             [
              0.2222222222222222,
              "#7201a8"
             ],
             [
              0.3333333333333333,
              "#9c179e"
             ],
             [
              0.4444444444444444,
              "#bd3786"
             ],
             [
              0.5555555555555556,
              "#d8576b"
             ],
             [
              0.6666666666666666,
              "#ed7953"
             ],
             [
              0.7777777777777778,
              "#fb9f3a"
             ],
             [
              0.8888888888888888,
              "#fdca26"
             ],
             [
              1,
              "#f0f921"
             ]
            ],
            "type": "surface"
           }
          ],
          "table": [
           {
            "cells": {
             "fill": {
              "color": "#EBF0F8"
             },
             "line": {
              "color": "white"
             }
            },
            "header": {
             "fill": {
              "color": "#C8D4E3"
             },
             "line": {
              "color": "white"
             }
            },
            "type": "table"
           }
          ]
         },
         "layout": {
          "annotationdefaults": {
           "arrowcolor": "#2a3f5f",
           "arrowhead": 0,
           "arrowwidth": 1
          },
          "coloraxis": {
           "colorbar": {
            "outlinewidth": 0,
            "ticks": ""
           }
          },
          "colorscale": {
           "diverging": [
            [
             0,
             "#8e0152"
            ],
            [
             0.1,
             "#c51b7d"
            ],
            [
             0.2,
             "#de77ae"
            ],
            [
             0.3,
             "#f1b6da"
            ],
            [
             0.4,
             "#fde0ef"
            ],
            [
             0.5,
             "#f7f7f7"
            ],
            [
             0.6,
             "#e6f5d0"
            ],
            [
             0.7,
             "#b8e186"
            ],
            [
             0.8,
             "#7fbc41"
            ],
            [
             0.9,
             "#4d9221"
            ],
            [
             1,
             "#276419"
            ]
           ],
           "sequential": [
            [
             0,
             "#0d0887"
            ],
            [
             0.1111111111111111,
             "#46039f"
            ],
            [
             0.2222222222222222,
             "#7201a8"
            ],
            [
             0.3333333333333333,
             "#9c179e"
            ],
            [
             0.4444444444444444,
             "#bd3786"
            ],
            [
             0.5555555555555556,
             "#d8576b"
            ],
            [
             0.6666666666666666,
             "#ed7953"
            ],
            [
             0.7777777777777778,
             "#fb9f3a"
            ],
            [
             0.8888888888888888,
             "#fdca26"
            ],
            [
             1,
             "#f0f921"
            ]
           ],
           "sequentialminus": [
            [
             0,
             "#0d0887"
            ],
            [
             0.1111111111111111,
             "#46039f"
            ],
            [
             0.2222222222222222,
             "#7201a8"
            ],
            [
             0.3333333333333333,
             "#9c179e"
            ],
            [
             0.4444444444444444,
             "#bd3786"
            ],
            [
             0.5555555555555556,
             "#d8576b"
            ],
            [
             0.6666666666666666,
             "#ed7953"
            ],
            [
             0.7777777777777778,
             "#fb9f3a"
            ],
            [
             0.8888888888888888,
             "#fdca26"
            ],
            [
             1,
             "#f0f921"
            ]
           ]
          },
          "colorway": [
           "#636efa",
           "#EF553B",
           "#00cc96",
           "#ab63fa",
           "#FFA15A",
           "#19d3f3",
           "#FF6692",
           "#B6E880",
           "#FF97FF",
           "#FECB52"
          ],
          "font": {
           "color": "#2a3f5f"
          },
          "geo": {
           "bgcolor": "white",
           "lakecolor": "white",
           "landcolor": "#E5ECF6",
           "showlakes": true,
           "showland": true,
           "subunitcolor": "white"
          },
          "hoverlabel": {
           "align": "left"
          },
          "hovermode": "closest",
          "mapbox": {
           "style": "light"
          },
          "paper_bgcolor": "white",
          "plot_bgcolor": "#E5ECF6",
          "polar": {
           "angularaxis": {
            "gridcolor": "white",
            "linecolor": "white",
            "ticks": ""
           },
           "bgcolor": "#E5ECF6",
           "radialaxis": {
            "gridcolor": "white",
            "linecolor": "white",
            "ticks": ""
           }
          },
          "scene": {
           "xaxis": {
            "backgroundcolor": "#E5ECF6",
            "gridcolor": "white",
            "gridwidth": 2,
            "linecolor": "white",
            "showbackground": true,
            "ticks": "",
            "zerolinecolor": "white"
           },
           "yaxis": {
            "backgroundcolor": "#E5ECF6",
            "gridcolor": "white",
            "gridwidth": 2,
            "linecolor": "white",
            "showbackground": true,
            "ticks": "",
            "zerolinecolor": "white"
           },
           "zaxis": {
            "backgroundcolor": "#E5ECF6",
            "gridcolor": "white",
            "gridwidth": 2,
            "linecolor": "white",
            "showbackground": true,
            "ticks": "",
            "zerolinecolor": "white"
           }
          },
          "shapedefaults": {
           "line": {
            "color": "#2a3f5f"
           }
          },
          "ternary": {
           "aaxis": {
            "gridcolor": "white",
            "linecolor": "white",
            "ticks": ""
           },
           "baxis": {
            "gridcolor": "white",
            "linecolor": "white",
            "ticks": ""
           },
           "bgcolor": "#E5ECF6",
           "caxis": {
            "gridcolor": "white",
            "linecolor": "white",
            "ticks": ""
           }
          },
          "title": {
           "x": 0.05
          },
          "xaxis": {
           "automargin": true,
           "gridcolor": "white",
           "linecolor": "white",
           "ticks": "",
           "title": {
            "standoff": 15
           },
           "zerolinecolor": "white",
           "zerolinewidth": 2
          },
          "yaxis": {
           "automargin": true,
           "gridcolor": "white",
           "linecolor": "white",
           "ticks": "",
           "title": {
            "standoff": 15
           },
           "zerolinecolor": "white",
           "zerolinewidth": 2
          }
         }
        },
        "title": {
         "text": "Puncta Total Intensity vs. Effective Radius Ratio"
        },
        "xaxis": {
         "gridcolor": "#E4EAF2",
         "range": [
          -0.08763650032877078,
          1.8403665069041861
         ],
         "showgrid": true,
         "title": {
          "text": "Effective Radius Ratio Puncta / Nucleus"
         },
         "type": "linear"
        },
        "yaxis": {
         "gridcolor": "#E4EAF2",
         "range": [
          -2.1067979056388126,
          23.437720438465462
         ],
         "showgrid": true,
         "title": {
          "text": "Total Integrated Intensity"
         },
         "zeroline": false
        }
       }
      },
      "text/html": [
       "<div>                            <div id=\"71bfb8a8-3cec-4a81-aefc-c0c57ede19d3\" class=\"plotly-graph-div\" style=\"height:525px; width:100%;\"></div>            <script type=\"text/javascript\">                require([\"plotly\"], function(Plotly) {                    window.PLOTLYENV=window.PLOTLYENV || {};                                    if (document.getElementById(\"71bfb8a8-3cec-4a81-aefc-c0c57ede19d3\")) {                    Plotly.newPlot(                        \"71bfb8a8-3cec-4a81-aefc-c0c57ede19d3\",                        [{\"hovertemplate\": \"pct_puncta=%{x}<br>integrated_intensity_sum=%{y}<extra></extra>\", \"legendgroup\": \"\", \"marker\": {\"color\": \"#3366CC\", \"size\": 8, \"symbol\": \"circle\"}, \"mode\": \"markers\", \"name\": \"\", \"orientation\": \"v\", \"showlegend\": false, \"type\": \"scatter\", \"x\": [0.0, 0.26028642628074766, 0.2655858771331843, 0.0, 0.03873104382610596, 0.0, 0.1870877895331754, 0.0, 0.0, 0.6762118254721395, 0.0, 0.41089008366122703, 0.5317556799601661, 0.0, 0.6952218816483346, 0.5921702942172392, 0.329243010543736, 0.4299644954262711, 0.4087180403532356, 0.5855040504757217, 0.6320050270425176, 0.37071623481349064, 0.42731524731011516, 0.1670146789369791, 0.9601073982526703, 0.522239277188337, 0.3833243742794574, 0.27532693116306983, 0.6160164416854548, 0.5071830916127373, 0.24445843100392495, 0.38318491762075574, 0.46407570813334387, 0.0, 0.0, 0.2557195022190879, 0.3049021438440984, 0.39736738736368005, 0.3611951441130873, 0.3185178065438761, 0.6729830449714467, 0.6130813485299238, 0.0, 0.46721129037189574, 0.6135484481759725, 0.633242177979923, 0.0, 0.0, 0.4661103171548466, 0.956207454834113, 0.0, 0.2576206251652722, 0.0, 0.7543929135157798, 0.4347544904306764, 0.0, 0.5381913347226407, 0.5552988574282419, 0.0, 0.0, 0.0, 0.0, 0.38899320062318515, 0.35717039560839187, 0.5505098853053769, 0.22427022558621745, 0.02234392810843759, 0.0, 0.44205440824867476, 0.26568762817993086, 1.7527300065754154, 0.30926468753623965, 0.0, 1.0166345218646355, 0.6881781436408219, 0.6099982912186394, 0.42709441744160137, 0.31640656008384077, 0.23915370778455, 0.0, 0.0, 0.7461091083301883, 0.0, 0.5192271904487379, 0.4478657273377924, 0.4290325220980134, 0.0, 0.0, 0.45409874109460596, 0.0, 0.0, 0.0, 0.01350242221424651, 0.7701533761751982, 0.0, 0.580716200289267, 0.0, 0.0, 1.2223659045316457, 0.6096857652524241, 0.8125615526778324, 0.0, 0.37275669163631125, 0.5324968710141941, 0.0, 0.0, 0.673618310916368, 0.0, 0.6804259027396037, 0.9400404458941006, 0.37018543519691705, 0.9038832916038753, 0.0, 0.0, 0.9180149017895288, 1.0878840278644046, 1.1260282725264925, 0.0, 0.6754378157725578, 0.015253404749263625, 0.0, 0.0, 0.5185235207673817, 0.32490804622480773, 0.0, 0.9232028889143029, 0.9087437331093696, 0.4342178405709377, 0.669948195629537, 0.7235911893142016, 0.0, 0.9257944643313776, 0.3295435374351613, 0.0, 0.0, 1.0664247609213746, 0.37015862913361536, 0.02282474539495152, 0.34729797550660313, 0.2560613032120079, 0.6698591273275982, 0.5229030536896515], \"xaxis\": \"x\", \"y\": [null, 0.8269169256091111, 1.006195172667502, null, 0.211474785581231, null, 1.647882822901008, null, null, 8.031143683940158, null, 3.6437323614954864, 7.401007140055288, null, 15.429358404129719, 6.316472133621558, 2.4777142070233795, 2.0525826029479477, 7.676127310842263, 14.562340751290295, 7.542671909555785, 2.3145799990743297, 3.1351949479430887, 0.06758220866322498, 4.633325712755317, 5.180651582777493, 4.027328932657833, 0.28194095008075, 0.939772646874189, 10.569298872724165, 0.5218738093972201, 4.484855441376554, 5.348104098811737, null, null, 4.093553068116301, 0.515358209609984, 10.758602308109385, 0.46558327600359906, 0.39201953634619596, 2.3126878887414897, 1.4850080218166088, null, 3.384954631328577, 0.17279316298663702, 16.29625397734341, null, null, 6.928557265549888, 0.22046235203743, null, 0.9273670613765701, null, 4.556694917380804, 13.755748901516181, null, 7.713817091658696, 8.833859823644145, null, null, null, null, 6.266041051596387, 4.075547438114876, 0.11638056114316002, 0.158587016165256, 0.05648889951407901, null, 19.2472572252154, 1.115800725296139, 0.322499427944421, 1.357198450714348, null, 0.175020981580019, 0.46720073372125703, 0.816937515512107, 10.457984309643487, 7.743007577955703, 0.35005722008645496, null, null, 16.114107033237786, null, 13.412481905892475, 7.7235523238778, 7.075593212619409, null, null, 13.170367017388333, null, null, null, 0.021911956369877, 1.9427023865282531, null, 6.383703391998989, null, null, 0.38619058765471, 1.4292515534907548, 3.327412836253641, null, 0.842771047726273, 12.431998224928966, null, null, 0.30150301568209903, null, 21.30901057645677, 0.424383921548724, 1.174334326758977, 3.3106736969202695, null, null, 13.286762857809638, 1.051163505762816, 0.341527428478005, null, 2.0042572859674648, 0.022705424576998, null, null, 6.921934882178886, 2.6206454653292774, null, 0.8127260301262131, 1.511955453082917, 3.6083467062562655, 0.782360576093196, 4.86567484959959, null, 0.550148781388998, 0.39740596897900105, null, null, 0.395056078210474, 0.070222018286586, 0.091157397255301, 0.870710309594869, 4.51340505853294, 0.43385977298021194, 6.018387144431459], \"yaxis\": \"y\"}],                        {\"hovermode\": \"closest\", \"plot_bgcolor\": \"rgba(0,0,0,0)\", \"showlegend\": false, \"template\": {\"data\": {\"bar\": [{\"error_x\": {\"color\": \"#2a3f5f\"}, \"error_y\": {\"color\": \"#2a3f5f\"}, \"marker\": {\"line\": {\"color\": \"#E5ECF6\", \"width\": 0.5}}, \"type\": \"bar\"}], \"barpolar\": [{\"marker\": {\"line\": {\"color\": \"#E5ECF6\", \"width\": 0.5}}, \"type\": \"barpolar\"}], \"carpet\": [{\"aaxis\": {\"endlinecolor\": \"#2a3f5f\", \"gridcolor\": \"white\", \"linecolor\": \"white\", \"minorgridcolor\": \"white\", \"startlinecolor\": \"#2a3f5f\"}, \"baxis\": {\"endlinecolor\": \"#2a3f5f\", \"gridcolor\": \"white\", \"linecolor\": \"white\", \"minorgridcolor\": \"white\", \"startlinecolor\": \"#2a3f5f\"}, \"type\": \"carpet\"}], \"choropleth\": [{\"colorbar\": {\"outlinewidth\": 0, \"ticks\": \"\"}, \"type\": \"choropleth\"}], \"contour\": [{\"colorbar\": {\"outlinewidth\": 0, \"ticks\": \"\"}, \"colorscale\": [[0.0, \"#0d0887\"], [0.1111111111111111, \"#46039f\"], [0.2222222222222222, \"#7201a8\"], [0.3333333333333333, \"#9c179e\"], [0.4444444444444444, \"#bd3786\"], [0.5555555555555556, \"#d8576b\"], [0.6666666666666666, \"#ed7953\"], [0.7777777777777778, \"#fb9f3a\"], [0.8888888888888888, \"#fdca26\"], [1.0, \"#f0f921\"]], \"type\": \"contour\"}], \"contourcarpet\": [{\"colorbar\": {\"outlinewidth\": 0, \"ticks\": \"\"}, \"type\": \"contourcarpet\"}], \"heatmap\": [{\"colorbar\": {\"outlinewidth\": 0, \"ticks\": \"\"}, \"colorscale\": [[0.0, \"#0d0887\"], [0.1111111111111111, \"#46039f\"], [0.2222222222222222, \"#7201a8\"], [0.3333333333333333, \"#9c179e\"], [0.4444444444444444, \"#bd3786\"], [0.5555555555555556, \"#d8576b\"], [0.6666666666666666, \"#ed7953\"], [0.7777777777777778, \"#fb9f3a\"], [0.8888888888888888, \"#fdca26\"], [1.0, \"#f0f921\"]], \"type\": \"heatmap\"}], \"heatmapgl\": [{\"colorbar\": {\"outlinewidth\": 0, \"ticks\": \"\"}, \"colorscale\": [[0.0, \"#0d0887\"], [0.1111111111111111, \"#46039f\"], [0.2222222222222222, \"#7201a8\"], [0.3333333333333333, \"#9c179e\"], [0.4444444444444444, \"#bd3786\"], [0.5555555555555556, \"#d8576b\"], [0.6666666666666666, \"#ed7953\"], [0.7777777777777778, \"#fb9f3a\"], [0.8888888888888888, \"#fdca26\"], [1.0, \"#f0f921\"]], \"type\": \"heatmapgl\"}], \"histogram\": [{\"marker\": {\"colorbar\": {\"outlinewidth\": 0, \"ticks\": \"\"}}, \"type\": \"histogram\"}], \"histogram2d\": [{\"colorbar\": {\"outlinewidth\": 0, \"ticks\": \"\"}, \"colorscale\": [[0.0, \"#0d0887\"], [0.1111111111111111, \"#46039f\"], [0.2222222222222222, \"#7201a8\"], [0.3333333333333333, \"#9c179e\"], [0.4444444444444444, \"#bd3786\"], [0.5555555555555556, \"#d8576b\"], [0.6666666666666666, \"#ed7953\"], [0.7777777777777778, \"#fb9f3a\"], [0.8888888888888888, \"#fdca26\"], [1.0, \"#f0f921\"]], \"type\": \"histogram2d\"}], \"histogram2dcontour\": [{\"colorbar\": {\"outlinewidth\": 0, \"ticks\": \"\"}, \"colorscale\": [[0.0, \"#0d0887\"], [0.1111111111111111, \"#46039f\"], [0.2222222222222222, \"#7201a8\"], [0.3333333333333333, \"#9c179e\"], [0.4444444444444444, \"#bd3786\"], [0.5555555555555556, \"#d8576b\"], [0.6666666666666666, \"#ed7953\"], [0.7777777777777778, \"#fb9f3a\"], [0.8888888888888888, \"#fdca26\"], [1.0, \"#f0f921\"]], \"type\": \"histogram2dcontour\"}], \"mesh3d\": [{\"colorbar\": {\"outlinewidth\": 0, \"ticks\": \"\"}, \"type\": \"mesh3d\"}], \"parcoords\": [{\"line\": {\"colorbar\": {\"outlinewidth\": 0, \"ticks\": \"\"}}, \"type\": \"parcoords\"}], \"pie\": [{\"automargin\": true, \"type\": \"pie\"}], \"scatter\": [{\"marker\": {\"colorbar\": {\"outlinewidth\": 0, \"ticks\": \"\"}}, \"type\": \"scatter\"}], \"scatter3d\": [{\"line\": {\"colorbar\": {\"outlinewidth\": 0, \"ticks\": \"\"}}, \"marker\": {\"colorbar\": {\"outlinewidth\": 0, \"ticks\": \"\"}}, \"type\": \"scatter3d\"}], \"scattercarpet\": [{\"marker\": {\"colorbar\": {\"outlinewidth\": 0, \"ticks\": \"\"}}, \"type\": \"scattercarpet\"}], \"scattergeo\": [{\"marker\": {\"colorbar\": {\"outlinewidth\": 0, \"ticks\": \"\"}}, \"type\": \"scattergeo\"}], \"scattergl\": [{\"marker\": {\"colorbar\": {\"outlinewidth\": 0, \"ticks\": \"\"}}, \"type\": \"scattergl\"}], \"scattermapbox\": [{\"marker\": {\"colorbar\": {\"outlinewidth\": 0, \"ticks\": \"\"}}, \"type\": \"scattermapbox\"}], \"scatterpolar\": [{\"marker\": {\"colorbar\": {\"outlinewidth\": 0, \"ticks\": \"\"}}, \"type\": \"scatterpolar\"}], \"scatterpolargl\": [{\"marker\": {\"colorbar\": {\"outlinewidth\": 0, \"ticks\": \"\"}}, \"type\": \"scatterpolargl\"}], \"scatterternary\": [{\"marker\": {\"colorbar\": {\"outlinewidth\": 0, \"ticks\": \"\"}}, \"type\": \"scatterternary\"}], \"surface\": [{\"colorbar\": {\"outlinewidth\": 0, \"ticks\": \"\"}, \"colorscale\": [[0.0, \"#0d0887\"], [0.1111111111111111, \"#46039f\"], [0.2222222222222222, \"#7201a8\"], [0.3333333333333333, \"#9c179e\"], [0.4444444444444444, \"#bd3786\"], [0.5555555555555556, \"#d8576b\"], [0.6666666666666666, \"#ed7953\"], [0.7777777777777778, \"#fb9f3a\"], [0.8888888888888888, \"#fdca26\"], [1.0, \"#f0f921\"]], \"type\": \"surface\"}], \"table\": [{\"cells\": {\"fill\": {\"color\": \"#EBF0F8\"}, \"line\": {\"color\": \"white\"}}, \"header\": {\"fill\": {\"color\": \"#C8D4E3\"}, \"line\": {\"color\": \"white\"}}, \"type\": \"table\"}]}, \"layout\": {\"annotationdefaults\": {\"arrowcolor\": \"#2a3f5f\", \"arrowhead\": 0, \"arrowwidth\": 1}, \"coloraxis\": {\"colorbar\": {\"outlinewidth\": 0, \"ticks\": \"\"}}, \"colorscale\": {\"diverging\": [[0, \"#8e0152\"], [0.1, \"#c51b7d\"], [0.2, \"#de77ae\"], [0.3, \"#f1b6da\"], [0.4, \"#fde0ef\"], [0.5, \"#f7f7f7\"], [0.6, \"#e6f5d0\"], [0.7, \"#b8e186\"], [0.8, \"#7fbc41\"], [0.9, \"#4d9221\"], [1, \"#276419\"]], \"sequential\": [[0.0, \"#0d0887\"], [0.1111111111111111, \"#46039f\"], [0.2222222222222222, \"#7201a8\"], [0.3333333333333333, \"#9c179e\"], [0.4444444444444444, \"#bd3786\"], [0.5555555555555556, \"#d8576b\"], [0.6666666666666666, \"#ed7953\"], [0.7777777777777778, \"#fb9f3a\"], [0.8888888888888888, \"#fdca26\"], [1.0, \"#f0f921\"]], \"sequentialminus\": [[0.0, \"#0d0887\"], [0.1111111111111111, \"#46039f\"], [0.2222222222222222, \"#7201a8\"], [0.3333333333333333, \"#9c179e\"], [0.4444444444444444, \"#bd3786\"], [0.5555555555555556, \"#d8576b\"], [0.6666666666666666, \"#ed7953\"], [0.7777777777777778, \"#fb9f3a\"], [0.8888888888888888, \"#fdca26\"], [1.0, \"#f0f921\"]]}, \"colorway\": [\"#636efa\", \"#EF553B\", \"#00cc96\", \"#ab63fa\", \"#FFA15A\", \"#19d3f3\", \"#FF6692\", \"#B6E880\", \"#FF97FF\", \"#FECB52\"], \"font\": {\"color\": \"#2a3f5f\"}, \"geo\": {\"bgcolor\": \"white\", \"lakecolor\": \"white\", \"landcolor\": \"#E5ECF6\", \"showlakes\": true, \"showland\": true, \"subunitcolor\": \"white\"}, \"hoverlabel\": {\"align\": \"left\"}, \"hovermode\": \"closest\", \"mapbox\": {\"style\": \"light\"}, \"paper_bgcolor\": \"white\", \"plot_bgcolor\": \"#E5ECF6\", \"polar\": {\"angularaxis\": {\"gridcolor\": \"white\", \"linecolor\": \"white\", \"ticks\": \"\"}, \"bgcolor\": \"#E5ECF6\", \"radialaxis\": {\"gridcolor\": \"white\", \"linecolor\": \"white\", \"ticks\": \"\"}}, \"scene\": {\"xaxis\": {\"backgroundcolor\": \"#E5ECF6\", \"gridcolor\": \"white\", \"gridwidth\": 2, \"linecolor\": \"white\", \"showbackground\": true, \"ticks\": \"\", \"zerolinecolor\": \"white\"}, \"yaxis\": {\"backgroundcolor\": \"#E5ECF6\", \"gridcolor\": \"white\", \"gridwidth\": 2, \"linecolor\": \"white\", \"showbackground\": true, \"ticks\": \"\", \"zerolinecolor\": \"white\"}, \"zaxis\": {\"backgroundcolor\": \"#E5ECF6\", \"gridcolor\": \"white\", \"gridwidth\": 2, \"linecolor\": \"white\", \"showbackground\": true, \"ticks\": \"\", \"zerolinecolor\": \"white\"}}, \"shapedefaults\": {\"line\": {\"color\": \"#2a3f5f\"}}, \"ternary\": {\"aaxis\": {\"gridcolor\": \"white\", \"linecolor\": \"white\", \"ticks\": \"\"}, \"baxis\": {\"gridcolor\": \"white\", \"linecolor\": \"white\", \"ticks\": \"\"}, \"bgcolor\": \"#E5ECF6\", \"caxis\": {\"gridcolor\": \"white\", \"linecolor\": \"white\", \"ticks\": \"\"}}, \"title\": {\"x\": 0.05}, \"xaxis\": {\"automargin\": true, \"gridcolor\": \"white\", \"linecolor\": \"white\", \"ticks\": \"\", \"title\": {\"standoff\": 15}, \"zerolinecolor\": \"white\", \"zerolinewidth\": 2}, \"yaxis\": {\"automargin\": true, \"gridcolor\": \"white\", \"linecolor\": \"white\", \"ticks\": \"\", \"title\": {\"standoff\": 15}, \"zerolinecolor\": \"white\", \"zerolinewidth\": 2}}}, \"title\": {\"text\": \"Puncta Total Intensity vs. Effective Radius Ratio\"}, \"xaxis\": {\"gridcolor\": \"#E4EAF2\", \"range\": [-0.08763650032877078, 1.8403665069041861], \"showgrid\": true, \"title\": {\"text\": \"Effective Radius Ratio Puncta / Nucleus\"}, \"type\": \"linear\"}, \"yaxis\": {\"gridcolor\": \"#E4EAF2\", \"range\": [-2.1067979056388126, 23.437720438465462], \"showgrid\": true, \"title\": {\"text\": \"Total Integrated Intensity\"}, \"zeroline\": false}},                        {\"responsive\": true}                    ).then(function(){\n",
       "                            \n",
       "var gd = document.getElementById('71bfb8a8-3cec-4a81-aefc-c0c57ede19d3');\n",
       "var x = new MutationObserver(function (mutations, observer) {{\n",
       "        var display = window.getComputedStyle(gd).display;\n",
       "        if (!display || display === 'none') {{\n",
       "            console.log([gd, 'removed!']);\n",
       "            Plotly.purge(gd);\n",
       "            observer.disconnect();\n",
       "        }}\n",
       "}});\n",
       "\n",
       "// Listen for the removal of the full notebook cells\n",
       "var notebookContainer = gd.closest('#notebook-container');\n",
       "if (notebookContainer) {{\n",
       "    x.observe(notebookContainer, {childList: true});\n",
       "}}\n",
       "\n",
       "// Listen for the clearing of the current output cell\n",
       "var outputEl = gd.closest('.output');\n",
       "if (outputEl) {{\n",
       "    x.observe(outputEl, {childList: true});\n",
       "}}\n",
       "\n",
       "                        })                };                });            </script>        </div>"
      ]
     },
     "metadata": {},
     "output_type": "display_data"
    }
   ],
   "source": [
    "fig = plot_single_scatter(\n",
    "    summary,\n",
    "    x='pct_puncta',\n",
    "    y='integrated_intensity_sum',\n",
    "    xlabel='Effective Radius Ratio Puncta / Nucleus',\n",
    "    ylabel='Total Integrated Intensity',\n",
    "    title='Puncta Total Intensity vs. Effective Radius Ratio'\n",
    ")\n",
    "\n",
    "if save:\n",
    "    save_fig_as_png(fig, 'figures/scatter/scatter_intensity_radius_ratio.png',\n",
    "                    height=800, scale=1)\n",
    "\n",
    "fig"
   ]
  },
  {
   "cell_type": "code",
   "execution_count": 43,
   "metadata": {},
   "outputs": [
    {
     "data": {
      "text/html": [
       "<div>\n",
       "<style scoped>\n",
       "    .dataframe tbody tr th:only-of-type {\n",
       "        vertical-align: middle;\n",
       "    }\n",
       "\n",
       "    .dataframe tbody tr th {\n",
       "        vertical-align: top;\n",
       "    }\n",
       "\n",
       "    .dataframe thead th {\n",
       "        text-align: right;\n",
       "    }\n",
       "</style>\n",
       "<table border=\"1\" class=\"dataframe\">\n",
       "  <thead>\n",
       "    <tr style=\"text-align: right;\">\n",
       "      <th></th>\n",
       "      <th>image_number</th>\n",
       "      <th>object_number</th>\n",
       "      <th>area</th>\n",
       "      <th>effective_radius_nuclei</th>\n",
       "      <th>nuclei_object_number</th>\n",
       "      <th>area_sum</th>\n",
       "      <th>area_count</th>\n",
       "      <th>integrated_intensity_sum</th>\n",
       "      <th>center_x_mean</th>\n",
       "      <th>center_x_std</th>\n",
       "      <th>center_y_mean</th>\n",
       "      <th>center_y_std</th>\n",
       "      <th>center_std</th>\n",
       "      <th>effective_radius_puncta</th>\n",
       "      <th>bounding_box_min_x</th>\n",
       "      <th>bounding_box_max_x</th>\n",
       "      <th>bounding_box_min_y</th>\n",
       "      <th>bounding_box_max_y</th>\n",
       "      <th>pct_puncta</th>\n",
       "    </tr>\n",
       "  </thead>\n",
       "  <tbody>\n",
       "    <tr>\n",
       "      <th>70</th>\n",
       "      <td>18</td>\n",
       "      <td>11</td>\n",
       "      <td>4201</td>\n",
       "      <td>36.568032</td>\n",
       "      <td>11</td>\n",
       "      <td>11.0</td>\n",
       "      <td>6.0</td>\n",
       "      <td>0.322499</td>\n",
       "      <td>317.000000</td>\n",
       "      <td>27.299166</td>\n",
       "      <td>345.138889</td>\n",
       "      <td>20.251863</td>\n",
       "      <td>33.990917</td>\n",
       "      <td>64.093887</td>\n",
       "      <td>252.906113</td>\n",
       "      <td>381.093887</td>\n",
       "      <td>281.045002</td>\n",
       "      <td>409.232776</td>\n",
       "      <td>1.752730</td>\n",
       "    </tr>\n",
       "    <tr>\n",
       "      <th>73</th>\n",
       "      <td>18</td>\n",
       "      <td>14</td>\n",
       "      <td>7615</td>\n",
       "      <td>49.233442</td>\n",
       "      <td>14</td>\n",
       "      <td>6.0</td>\n",
       "      <td>5.0</td>\n",
       "      <td>0.175021</td>\n",
       "      <td>221.400000</td>\n",
       "      <td>20.305172</td>\n",
       "      <td>395.100000</td>\n",
       "      <td>17.096783</td>\n",
       "      <td>26.544303</td>\n",
       "      <td>50.052417</td>\n",
       "      <td>171.347583</td>\n",
       "      <td>271.452417</td>\n",
       "      <td>345.047583</td>\n",
       "      <td>445.152417</td>\n",
       "      <td>1.016635</td>\n",
       "    </tr>\n",
       "    <tr>\n",
       "      <th>98</th>\n",
       "      <td>20</td>\n",
       "      <td>10</td>\n",
       "      <td>4872</td>\n",
       "      <td>39.380288</td>\n",
       "      <td>10</td>\n",
       "      <td>17.0</td>\n",
       "      <td>9.0</td>\n",
       "      <td>0.386191</td>\n",
       "      <td>670.185185</td>\n",
       "      <td>15.198786</td>\n",
       "      <td>208.851852</td>\n",
       "      <td>20.511082</td>\n",
       "      <td>25.528564</td>\n",
       "      <td>48.137121</td>\n",
       "      <td>622.048064</td>\n",
       "      <td>718.322306</td>\n",
       "      <td>160.714731</td>\n",
       "      <td>256.988973</td>\n",
       "      <td>1.222366</td>\n",
       "    </tr>\n",
       "    <tr>\n",
       "      <th>115</th>\n",
       "      <td>20</td>\n",
       "      <td>27</td>\n",
       "      <td>4565</td>\n",
       "      <td>38.119363</td>\n",
       "      <td>27</td>\n",
       "      <td>46.0</td>\n",
       "      <td>21.0</td>\n",
       "      <td>1.051164</td>\n",
       "      <td>621.704762</td>\n",
       "      <td>13.251852</td>\n",
       "      <td>565.461905</td>\n",
       "      <td>17.551588</td>\n",
       "      <td>21.992495</td>\n",
       "      <td>41.469446</td>\n",
       "      <td>580.235315</td>\n",
       "      <td>663.174208</td>\n",
       "      <td>523.992458</td>\n",
       "      <td>606.931351</td>\n",
       "      <td>1.087884</td>\n",
       "    </tr>\n",
       "    <tr>\n",
       "      <th>116</th>\n",
       "      <td>20</td>\n",
       "      <td>28</td>\n",
       "      <td>5749</td>\n",
       "      <td>42.778091</td>\n",
       "      <td>28</td>\n",
       "      <td>15.0</td>\n",
       "      <td>9.0</td>\n",
       "      <td>0.341527</td>\n",
       "      <td>319.518519</td>\n",
       "      <td>21.523799</td>\n",
       "      <td>550.592593</td>\n",
       "      <td>13.758864</td>\n",
       "      <td>25.545650</td>\n",
       "      <td>48.169340</td>\n",
       "      <td>271.349178</td>\n",
       "      <td>367.687859</td>\n",
       "      <td>502.423253</td>\n",
       "      <td>598.761933</td>\n",
       "      <td>1.126028</td>\n",
       "    </tr>\n",
       "    <tr>\n",
       "      <th>135</th>\n",
       "      <td>20</td>\n",
       "      <td>47</td>\n",
       "      <td>7351</td>\n",
       "      <td>48.372492</td>\n",
       "      <td>47</td>\n",
       "      <td>17.0</td>\n",
       "      <td>7.0</td>\n",
       "      <td>0.395056</td>\n",
       "      <td>490.452381</td>\n",
       "      <td>18.939649</td>\n",
       "      <td>846.588435</td>\n",
       "      <td>19.741262</td>\n",
       "      <td>27.357408</td>\n",
       "      <td>51.585623</td>\n",
       "      <td>438.866758</td>\n",
       "      <td>542.038004</td>\n",
       "      <td>795.002813</td>\n",
       "      <td>898.174058</td>\n",
       "      <td>1.066425</td>\n",
       "    </tr>\n",
       "  </tbody>\n",
       "</table>\n",
       "</div>"
      ],
      "text/plain": [
       "     image_number  object_number  area  effective_radius_nuclei  \\\n",
       "70             18             11  4201                36.568032   \n",
       "73             18             14  7615                49.233442   \n",
       "98             20             10  4872                39.380288   \n",
       "115            20             27  4565                38.119363   \n",
       "116            20             28  5749                42.778091   \n",
       "135            20             47  7351                48.372492   \n",
       "\n",
       "     nuclei_object_number  area_sum  area_count  integrated_intensity_sum  \\\n",
       "70                     11      11.0         6.0                  0.322499   \n",
       "73                     14       6.0         5.0                  0.175021   \n",
       "98                     10      17.0         9.0                  0.386191   \n",
       "115                    27      46.0        21.0                  1.051164   \n",
       "116                    28      15.0         9.0                  0.341527   \n",
       "135                    47      17.0         7.0                  0.395056   \n",
       "\n",
       "     center_x_mean  center_x_std  center_y_mean  center_y_std  center_std  \\\n",
       "70      317.000000     27.299166     345.138889     20.251863   33.990917   \n",
       "73      221.400000     20.305172     395.100000     17.096783   26.544303   \n",
       "98      670.185185     15.198786     208.851852     20.511082   25.528564   \n",
       "115     621.704762     13.251852     565.461905     17.551588   21.992495   \n",
       "116     319.518519     21.523799     550.592593     13.758864   25.545650   \n",
       "135     490.452381     18.939649     846.588435     19.741262   27.357408   \n",
       "\n",
       "     effective_radius_puncta  bounding_box_min_x  bounding_box_max_x  \\\n",
       "70                 64.093887          252.906113          381.093887   \n",
       "73                 50.052417          171.347583          271.452417   \n",
       "98                 48.137121          622.048064          718.322306   \n",
       "115                41.469446          580.235315          663.174208   \n",
       "116                48.169340          271.349178          367.687859   \n",
       "135                51.585623          438.866758          542.038004   \n",
       "\n",
       "     bounding_box_min_y  bounding_box_max_y  pct_puncta  \n",
       "70           281.045002          409.232776    1.752730  \n",
       "73           345.047583          445.152417    1.016635  \n",
       "98           160.714731          256.988973    1.222366  \n",
       "115          523.992458          606.931351    1.087884  \n",
       "116          502.423253          598.761933    1.126028  \n",
       "135          795.002813          898.174058    1.066425  "
      ]
     },
     "execution_count": 43,
     "metadata": {},
     "output_type": "execute_result"
    }
   ],
   "source": [
    "# check why some are gt 1\n",
    "summary[(summary['effective_radius_puncta'] > summary['effective_radius_nuclei'])]"
   ]
  },
  {
   "cell_type": "code",
   "execution_count": null,
   "metadata": {},
   "outputs": [],
   "source": []
  }
 ],
 "metadata": {
  "kernelspec": {
   "display_name": "Python 3",
   "language": "python",
   "name": "python3"
  },
  "language_info": {
   "codemirror_mode": {
    "name": "ipython",
    "version": 3
   },
   "file_extension": ".py",
   "mimetype": "text/x-python",
   "name": "python",
   "nbconvert_exporter": "python",
   "pygments_lexer": "ipython3",
   "version": "3.7.6"
  }
 },
 "nbformat": 4,
 "nbformat_minor": 4
}
