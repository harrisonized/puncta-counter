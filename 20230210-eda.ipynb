{
 "cells": [
  {
   "cell_type": "code",
   "execution_count": 75,
   "metadata": {},
   "outputs": [],
   "source": [
    "import pandas as pd\n",
    "\n",
    "from harrison_functions.utils.std.text import camel_to_snake_case\n",
    "from harrison_functions.utils.plotting.plotly import plot_single_scatter, save_fig_as_png"
   ]
  },
  {
   "cell_type": "code",
   "execution_count": 2,
   "metadata": {},
   "outputs": [],
   "source": [
    "pd.options.display.max_columns = None"
   ]
  },
  {
   "cell_type": "markdown",
   "metadata": {},
   "source": [
    "# Data"
   ]
  },
  {
   "cell_type": "code",
   "execution_count": 7,
   "metadata": {},
   "outputs": [],
   "source": [
    "nuclei = pd.read_csv(\"data/nuclei_subset.csv\")\n",
    "nuclei_subset = nuclei[nuclei['image_number']==3].copy()\n",
    "\n",
    "puncta = pd.read_csv(\"data/puncta_subset.csv\")\n",
    "puncta_subset = puncta[puncta['image_number']==3].copy()"
   ]
  },
  {
   "cell_type": "markdown",
   "metadata": {},
   "source": [
    "# Plot"
   ]
  },
  {
   "cell_type": "code",
   "execution_count": 35,
   "metadata": {},
   "outputs": [],
   "source": [
    "# get nuclei boundaries\n",
    "shapes = list(\n",
    "    nuclei_subset[\n",
    "        [\"bounding_box_min_x\",\n",
    "         \"bounding_box_max_x\",\n",
    "         \"bounding_box_min_y\",\n",
    "        \"bounding_box_max_y\",]]\n",
    "    .rename(columns={\n",
    "                \"bounding_box_min_x\": \"x0\",\n",
    "                \"bounding_box_max_x\": \"x1\",\n",
    "                \"bounding_box_min_y\": \"y0\",\n",
    "                \"bounding_box_max_y\": \"y1\",}\n",
    "           )\n",
    "    .apply(lambda x: {**{\"type\": \"circle\", 'xref':\"x\", 'yref':\"y\",}, **dict(x)}, axis=1)\n",
    "\n",
    ")"
   ]
  },
  {
   "cell_type": "code",
   "execution_count": 73,
   "metadata": {
    "scrolled": false
   },
   "outputs": [
    {
     "data": {
      "application/vnd.plotly.v1+json": {
       "config": {
        "plotlyServerURL": "https://plot.ly"
       },
       "data": [
        {
         "hovertemplate": "center_x=%{x}<br>center_y=%{y}<extra></extra>",
         "legendgroup": "",
         "marker": {
          "color": "#3366CC",
          "size": 8,
          "symbol": "circle"
         },
         "mode": "markers",
         "name": "",
         "orientation": "v",
         "showlegend": false,
         "type": "scatter",
         "x": [
          693.0947132,
          295.1849211,
          282.5280242,
          211.8946445,
          345.9122445,
          108.4616084,
          1078.326252,
          108.0136149,
          751.9430815000002,
          233.8088381,
          587.6286522,
          657.2549177,
          464.7136713,
          470.5311492,
          614.5256360000002,
          58.14430829,
          713.8162756,
          761.5946932999999,
          672.2961877,
          506.5291746,
          376.3263204,
          736.8870849,
          312.7470726,
          165.7290685,
          404.8935605,
          550.5495609,
          813.4418491,
          51.06170083
         ],
         "xaxis": "x",
         "y": [
          59.08008999,
          118.9967596,
          182.9982688,
          190.4579871,
          212.3197075,
          240.5583967,
          352.6437785,
          365.4274799,
          422.7139352,
          446.43421050000006,
          469.62477750000005,
          487.9841429,
          498.5991399,
          574.808141,
          590.8146771,
          616.8885842999998,
          699.8634548,
          751.0486855,
          777.553801,
          798.5607892999999,
          807.7725181,
          825.2194342,
          843.2793911,
          858.6558923,
          869.6820093,
          874.7989962000001,
          897.1610706,
          897.2220417999998
         ],
         "yaxis": "y"
        }
       ],
       "layout": {
        "height": 700,
        "hovermode": "closest",
        "plot_bgcolor": "rgba(0,0,0,0)",
        "shapes": [
         {
          "type": "circle",
          "x0": 655,
          "x1": 733,
          "xref": "x",
          "y0": 19,
          "y1": 98,
          "yref": "y"
         },
         {
          "type": "circle",
          "x0": 255,
          "x1": 334,
          "xref": "x",
          "y0": 81,
          "y1": 161,
          "yref": "y"
         },
         {
          "type": "circle",
          "x0": 246,
          "x1": 326,
          "xref": "x",
          "y0": 139,
          "y1": 230,
          "yref": "y"
         },
         {
          "type": "circle",
          "x0": 151,
          "x1": 268,
          "xref": "x",
          "y0": 117,
          "y1": 271,
          "yref": "y"
         },
         {
          "type": "circle",
          "x0": 297,
          "x1": 393,
          "xref": "x",
          "y0": 171,
          "y1": 253,
          "yref": "y"
         },
         {
          "type": "circle",
          "x0": 5,
          "x1": 218,
          "xref": "x",
          "y0": 133,
          "y1": 338,
          "yref": "y"
         },
         {
          "type": "circle",
          "x0": 1037,
          "x1": 1120,
          "xref": "x",
          "y0": 310,
          "y1": 396,
          "yref": "y"
         },
         {
          "type": "circle",
          "x0": 46,
          "x1": 155,
          "xref": "x",
          "y0": 316,
          "y1": 417,
          "yref": "y"
         },
         {
          "type": "circle",
          "x0": 714,
          "x1": 794,
          "xref": "x",
          "y0": 384,
          "y1": 466,
          "yref": "y"
         },
         {
          "type": "circle",
          "x0": 198,
          "x1": 269,
          "xref": "x",
          "y0": 410,
          "y1": 482,
          "yref": "y"
         },
         {
          "type": "circle",
          "x0": 547,
          "x1": 634,
          "xref": "x",
          "y0": 401,
          "y1": 553,
          "yref": "y"
         },
         {
          "type": "circle",
          "x0": 619,
          "x1": 699,
          "xref": "x",
          "y0": 446,
          "y1": 528,
          "yref": "y"
         },
         {
          "type": "circle",
          "x0": 427,
          "x1": 502,
          "xref": "x",
          "y0": 461,
          "y1": 536,
          "yref": "y"
         },
         {
          "type": "circle",
          "x0": 430,
          "x1": 520,
          "xref": "x",
          "y0": 542,
          "y1": 626,
          "yref": "y"
         },
         {
          "type": "circle",
          "x0": 575,
          "x1": 656,
          "xref": "x",
          "y0": 550,
          "y1": 633,
          "yref": "y"
         },
         {
          "type": "circle",
          "x0": 20,
          "x1": 101,
          "xref": "x",
          "y0": 569,
          "y1": 663,
          "yref": "y"
         },
         {
          "type": "circle",
          "x0": 681,
          "x1": 749,
          "xref": "x",
          "y0": 663,
          "y1": 740,
          "yref": "y"
         },
         {
          "type": "circle",
          "x0": 726,
          "x1": 799,
          "xref": "x",
          "y0": 716,
          "y1": 791,
          "yref": "y"
         },
         {
          "type": "circle",
          "x0": 632,
          "x1": 711,
          "xref": "x",
          "y0": 738,
          "y1": 813,
          "yref": "y"
         },
         {
          "type": "circle",
          "x0": 468,
          "x1": 547,
          "xref": "x",
          "y0": 764,
          "y1": 838,
          "yref": "y"
         },
         {
          "type": "circle",
          "x0": 341,
          "x1": 415,
          "xref": "x",
          "y0": 766,
          "y1": 856,
          "yref": "y"
         },
         {
          "type": "circle",
          "x0": 697,
          "x1": 774,
          "xref": "x",
          "y0": 791,
          "y1": 860,
          "yref": "y"
         },
         {
          "type": "circle",
          "x0": 273,
          "x1": 357,
          "xref": "x",
          "y0": 811,
          "y1": 879,
          "yref": "y"
         },
         {
          "type": "circle",
          "x0": 128,
          "x1": 203,
          "xref": "x",
          "y0": 820,
          "y1": 898,
          "yref": "y"
         },
         {
          "type": "circle",
          "x0": 361,
          "x1": 445,
          "xref": "x",
          "y0": 829,
          "y1": 907,
          "yref": "y"
         },
         {
          "type": "circle",
          "x0": 515,
          "x1": 588,
          "xref": "x",
          "y0": 840,
          "y1": 912,
          "yref": "y"
         },
         {
          "type": "circle",
          "x0": 781,
          "x1": 851,
          "xref": "x",
          "y0": 859,
          "y1": 938,
          "yref": "y"
         },
         {
          "type": "circle",
          "x0": 11,
          "x1": 92,
          "xref": "x",
          "y0": 856,
          "y1": 939,
          "yref": "y"
         }
        ],
        "showlegend": false,
        "template": {
         "data": {
          "bar": [
           {
            "error_x": {
             "color": "#2a3f5f"
            },
            "error_y": {
             "color": "#2a3f5f"
            },
            "marker": {
             "line": {
              "color": "#E5ECF6",
              "width": 0.5
             }
            },
            "type": "bar"
           }
          ],
          "barpolar": [
           {
            "marker": {
             "line": {
              "color": "#E5ECF6",
              "width": 0.5
             }
            },
            "type": "barpolar"
           }
          ],
          "carpet": [
           {
            "aaxis": {
             "endlinecolor": "#2a3f5f",
             "gridcolor": "white",
             "linecolor": "white",
             "minorgridcolor": "white",
             "startlinecolor": "#2a3f5f"
            },
            "baxis": {
             "endlinecolor": "#2a3f5f",
             "gridcolor": "white",
             "linecolor": "white",
             "minorgridcolor": "white",
             "startlinecolor": "#2a3f5f"
            },
            "type": "carpet"
           }
          ],
          "choropleth": [
           {
            "colorbar": {
             "outlinewidth": 0,
             "ticks": ""
            },
            "type": "choropleth"
           }
          ],
          "contour": [
           {
            "colorbar": {
             "outlinewidth": 0,
             "ticks": ""
            },
            "colorscale": [
             [
              0,
              "#0d0887"
             ],
             [
              0.1111111111111111,
              "#46039f"
             ],
             [
              0.2222222222222222,
              "#7201a8"
             ],
             [
              0.3333333333333333,
              "#9c179e"
             ],
             [
              0.4444444444444444,
              "#bd3786"
             ],
             [
              0.5555555555555556,
              "#d8576b"
             ],
             [
              0.6666666666666666,
              "#ed7953"
             ],
             [
              0.7777777777777778,
              "#fb9f3a"
             ],
             [
              0.8888888888888888,
              "#fdca26"
             ],
             [
              1,
              "#f0f921"
             ]
            ],
            "type": "contour"
           }
          ],
          "contourcarpet": [
           {
            "colorbar": {
             "outlinewidth": 0,
             "ticks": ""
            },
            "type": "contourcarpet"
           }
          ],
          "heatmap": [
           {
            "colorbar": {
             "outlinewidth": 0,
             "ticks": ""
            },
            "colorscale": [
             [
              0,
              "#0d0887"
             ],
             [
              0.1111111111111111,
              "#46039f"
             ],
             [
              0.2222222222222222,
              "#7201a8"
             ],
             [
              0.3333333333333333,
              "#9c179e"
             ],
             [
              0.4444444444444444,
              "#bd3786"
             ],
             [
              0.5555555555555556,
              "#d8576b"
             ],
             [
              0.6666666666666666,
              "#ed7953"
             ],
             [
              0.7777777777777778,
              "#fb9f3a"
             ],
             [
              0.8888888888888888,
              "#fdca26"
             ],
             [
              1,
              "#f0f921"
             ]
            ],
            "type": "heatmap"
           }
          ],
          "heatmapgl": [
           {
            "colorbar": {
             "outlinewidth": 0,
             "ticks": ""
            },
            "colorscale": [
             [
              0,
              "#0d0887"
             ],
             [
              0.1111111111111111,
              "#46039f"
             ],
             [
              0.2222222222222222,
              "#7201a8"
             ],
             [
              0.3333333333333333,
              "#9c179e"
             ],
             [
              0.4444444444444444,
              "#bd3786"
             ],
             [
              0.5555555555555556,
              "#d8576b"
             ],
             [
              0.6666666666666666,
              "#ed7953"
             ],
             [
              0.7777777777777778,
              "#fb9f3a"
             ],
             [
              0.8888888888888888,
              "#fdca26"
             ],
             [
              1,
              "#f0f921"
             ]
            ],
            "type": "heatmapgl"
           }
          ],
          "histogram": [
           {
            "marker": {
             "colorbar": {
              "outlinewidth": 0,
              "ticks": ""
             }
            },
            "type": "histogram"
           }
          ],
          "histogram2d": [
           {
            "colorbar": {
             "outlinewidth": 0,
             "ticks": ""
            },
            "colorscale": [
             [
              0,
              "#0d0887"
             ],
             [
              0.1111111111111111,
              "#46039f"
             ],
             [
              0.2222222222222222,
              "#7201a8"
             ],
             [
              0.3333333333333333,
              "#9c179e"
             ],
             [
              0.4444444444444444,
              "#bd3786"
             ],
             [
              0.5555555555555556,
              "#d8576b"
             ],
             [
              0.6666666666666666,
              "#ed7953"
             ],
             [
              0.7777777777777778,
              "#fb9f3a"
             ],
             [
              0.8888888888888888,
              "#fdca26"
             ],
             [
              1,
              "#f0f921"
             ]
            ],
            "type": "histogram2d"
           }
          ],
          "histogram2dcontour": [
           {
            "colorbar": {
             "outlinewidth": 0,
             "ticks": ""
            },
            "colorscale": [
             [
              0,
              "#0d0887"
             ],
             [
              0.1111111111111111,
              "#46039f"
             ],
             [
              0.2222222222222222,
              "#7201a8"
             ],
             [
              0.3333333333333333,
              "#9c179e"
             ],
             [
              0.4444444444444444,
              "#bd3786"
             ],
             [
              0.5555555555555556,
              "#d8576b"
             ],
             [
              0.6666666666666666,
              "#ed7953"
             ],
             [
              0.7777777777777778,
              "#fb9f3a"
             ],
             [
              0.8888888888888888,
              "#fdca26"
             ],
             [
              1,
              "#f0f921"
             ]
            ],
            "type": "histogram2dcontour"
           }
          ],
          "mesh3d": [
           {
            "colorbar": {
             "outlinewidth": 0,
             "ticks": ""
            },
            "type": "mesh3d"
           }
          ],
          "parcoords": [
           {
            "line": {
             "colorbar": {
              "outlinewidth": 0,
              "ticks": ""
             }
            },
            "type": "parcoords"
           }
          ],
          "pie": [
           {
            "automargin": true,
            "type": "pie"
           }
          ],
          "scatter": [
           {
            "marker": {
             "colorbar": {
              "outlinewidth": 0,
              "ticks": ""
             }
            },
            "type": "scatter"
           }
          ],
          "scatter3d": [
           {
            "line": {
             "colorbar": {
              "outlinewidth": 0,
              "ticks": ""
             }
            },
            "marker": {
             "colorbar": {
              "outlinewidth": 0,
              "ticks": ""
             }
            },
            "type": "scatter3d"
           }
          ],
          "scattercarpet": [
           {
            "marker": {
             "colorbar": {
              "outlinewidth": 0,
              "ticks": ""
             }
            },
            "type": "scattercarpet"
           }
          ],
          "scattergeo": [
           {
            "marker": {
             "colorbar": {
              "outlinewidth": 0,
              "ticks": ""
             }
            },
            "type": "scattergeo"
           }
          ],
          "scattergl": [
           {
            "marker": {
             "colorbar": {
              "outlinewidth": 0,
              "ticks": ""
             }
            },
            "type": "scattergl"
           }
          ],
          "scattermapbox": [
           {
            "marker": {
             "colorbar": {
              "outlinewidth": 0,
              "ticks": ""
             }
            },
            "type": "scattermapbox"
           }
          ],
          "scatterpolar": [
           {
            "marker": {
             "colorbar": {
              "outlinewidth": 0,
              "ticks": ""
             }
            },
            "type": "scatterpolar"
           }
          ],
          "scatterpolargl": [
           {
            "marker": {
             "colorbar": {
              "outlinewidth": 0,
              "ticks": ""
             }
            },
            "type": "scatterpolargl"
           }
          ],
          "scatterternary": [
           {
            "marker": {
             "colorbar": {
              "outlinewidth": 0,
              "ticks": ""
             }
            },
            "type": "scatterternary"
           }
          ],
          "surface": [
           {
            "colorbar": {
             "outlinewidth": 0,
             "ticks": ""
            },
            "colorscale": [
             [
              0,
              "#0d0887"
             ],
             [
              0.1111111111111111,
              "#46039f"
             ],
             [
              0.2222222222222222,
              "#7201a8"
             ],
             [
              0.3333333333333333,
              "#9c179e"
             ],
             [
              0.4444444444444444,
              "#bd3786"
             ],
             [
              0.5555555555555556,
              "#d8576b"
             ],
             [
              0.6666666666666666,
              "#ed7953"
             ],
             [
              0.7777777777777778,
              "#fb9f3a"
             ],
             [
              0.8888888888888888,
              "#fdca26"
             ],
             [
              1,
              "#f0f921"
             ]
            ],
            "type": "surface"
           }
          ],
          "table": [
           {
            "cells": {
             "fill": {
              "color": "#EBF0F8"
             },
             "line": {
              "color": "white"
             }
            },
            "header": {
             "fill": {
              "color": "#C8D4E3"
             },
             "line": {
              "color": "white"
             }
            },
            "type": "table"
           }
          ]
         },
         "layout": {
          "annotationdefaults": {
           "arrowcolor": "#2a3f5f",
           "arrowhead": 0,
           "arrowwidth": 1
          },
          "coloraxis": {
           "colorbar": {
            "outlinewidth": 0,
            "ticks": ""
           }
          },
          "colorscale": {
           "diverging": [
            [
             0,
             "#8e0152"
            ],
            [
             0.1,
             "#c51b7d"
            ],
            [
             0.2,
             "#de77ae"
            ],
            [
             0.3,
             "#f1b6da"
            ],
            [
             0.4,
             "#fde0ef"
            ],
            [
             0.5,
             "#f7f7f7"
            ],
            [
             0.6,
             "#e6f5d0"
            ],
            [
             0.7,
             "#b8e186"
            ],
            [
             0.8,
             "#7fbc41"
            ],
            [
             0.9,
             "#4d9221"
            ],
            [
             1,
             "#276419"
            ]
           ],
           "sequential": [
            [
             0,
             "#0d0887"
            ],
            [
             0.1111111111111111,
             "#46039f"
            ],
            [
             0.2222222222222222,
             "#7201a8"
            ],
            [
             0.3333333333333333,
             "#9c179e"
            ],
            [
             0.4444444444444444,
             "#bd3786"
            ],
            [
             0.5555555555555556,
             "#d8576b"
            ],
            [
             0.6666666666666666,
             "#ed7953"
            ],
            [
             0.7777777777777778,
             "#fb9f3a"
            ],
            [
             0.8888888888888888,
             "#fdca26"
            ],
            [
             1,
             "#f0f921"
            ]
           ],
           "sequentialminus": [
            [
             0,
             "#0d0887"
            ],
            [
             0.1111111111111111,
             "#46039f"
            ],
            [
             0.2222222222222222,
             "#7201a8"
            ],
            [
             0.3333333333333333,
             "#9c179e"
            ],
            [
             0.4444444444444444,
             "#bd3786"
            ],
            [
             0.5555555555555556,
             "#d8576b"
            ],
            [
             0.6666666666666666,
             "#ed7953"
            ],
            [
             0.7777777777777778,
             "#fb9f3a"
            ],
            [
             0.8888888888888888,
             "#fdca26"
            ],
            [
             1,
             "#f0f921"
            ]
           ]
          },
          "colorway": [
           "#636efa",
           "#EF553B",
           "#00cc96",
           "#ab63fa",
           "#FFA15A",
           "#19d3f3",
           "#FF6692",
           "#B6E880",
           "#FF97FF",
           "#FECB52"
          ],
          "font": {
           "color": "#2a3f5f"
          },
          "geo": {
           "bgcolor": "white",
           "lakecolor": "white",
           "landcolor": "#E5ECF6",
           "showlakes": true,
           "showland": true,
           "subunitcolor": "white"
          },
          "hoverlabel": {
           "align": "left"
          },
          "hovermode": "closest",
          "mapbox": {
           "style": "light"
          },
          "paper_bgcolor": "white",
          "plot_bgcolor": "#E5ECF6",
          "polar": {
           "angularaxis": {
            "gridcolor": "white",
            "linecolor": "white",
            "ticks": ""
           },
           "bgcolor": "#E5ECF6",
           "radialaxis": {
            "gridcolor": "white",
            "linecolor": "white",
            "ticks": ""
           }
          },
          "scene": {
           "xaxis": {
            "backgroundcolor": "#E5ECF6",
            "gridcolor": "white",
            "gridwidth": 2,
            "linecolor": "white",
            "showbackground": true,
            "ticks": "",
            "zerolinecolor": "white"
           },
           "yaxis": {
            "backgroundcolor": "#E5ECF6",
            "gridcolor": "white",
            "gridwidth": 2,
            "linecolor": "white",
            "showbackground": true,
            "ticks": "",
            "zerolinecolor": "white"
           },
           "zaxis": {
            "backgroundcolor": "#E5ECF6",
            "gridcolor": "white",
            "gridwidth": 2,
            "linecolor": "white",
            "showbackground": true,
            "ticks": "",
            "zerolinecolor": "white"
           }
          },
          "shapedefaults": {
           "line": {
            "color": "#2a3f5f"
           }
          },
          "ternary": {
           "aaxis": {
            "gridcolor": "white",
            "linecolor": "white",
            "ticks": ""
           },
           "baxis": {
            "gridcolor": "white",
            "linecolor": "white",
            "ticks": ""
           },
           "bgcolor": "#E5ECF6",
           "caxis": {
            "gridcolor": "white",
            "linecolor": "white",
            "ticks": ""
           }
          },
          "title": {
           "x": 0.05
          },
          "xaxis": {
           "automargin": true,
           "gridcolor": "white",
           "linecolor": "white",
           "ticks": "",
           "title": {
            "standoff": 15
           },
           "zerolinecolor": "white",
           "zerolinewidth": 2
          },
          "yaxis": {
           "automargin": true,
           "gridcolor": "white",
           "linecolor": "white",
           "ticks": "",
           "title": {
            "standoff": 15
           },
           "zerolinecolor": "white",
           "zerolinewidth": 2
          }
         }
        },
        "title": {
         "text": "Nuclei"
        },
        "xaxis": {
         "constrain": "domain",
         "gridcolor": "#E4EAF2",
         "range": [
          -50,
          1250
         ],
         "showgrid": true,
         "type": "linear"
        },
        "yaxis": {
         "gridcolor": "#E4EAF2",
         "range": [
          1050,
          -50
         ],
         "scaleanchor": "x",
         "scaleratio": 1,
         "showgrid": true,
         "zeroline": false
        }
       }
      },
      "text/html": [
       "<div>                            <div id=\"ede71dee-8dfd-4f2a-9022-38d3f28198eb\" class=\"plotly-graph-div\" style=\"height:700px; width:100%;\"></div>            <script type=\"text/javascript\">                require([\"plotly\"], function(Plotly) {                    window.PLOTLYENV=window.PLOTLYENV || {};                                    if (document.getElementById(\"ede71dee-8dfd-4f2a-9022-38d3f28198eb\")) {                    Plotly.newPlot(                        \"ede71dee-8dfd-4f2a-9022-38d3f28198eb\",                        [{\"hovertemplate\": \"center_x=%{x}<br>center_y=%{y}<extra></extra>\", \"legendgroup\": \"\", \"marker\": {\"color\": \"#3366CC\", \"size\": 8, \"symbol\": \"circle\"}, \"mode\": \"markers\", \"name\": \"\", \"orientation\": \"v\", \"showlegend\": false, \"type\": \"scatter\", \"x\": [693.0947132, 295.1849211, 282.5280242, 211.8946445, 345.9122445, 108.4616084, 1078.326252, 108.0136149, 751.9430815000002, 233.8088381, 587.6286522, 657.2549177, 464.7136713, 470.5311492, 614.5256360000002, 58.14430829, 713.8162756, 761.5946932999999, 672.2961877, 506.5291746, 376.3263204, 736.8870849, 312.7470726, 165.7290685, 404.8935605, 550.5495609, 813.4418491, 51.06170083], \"xaxis\": \"x\", \"y\": [59.08008999, 118.9967596, 182.9982688, 190.4579871, 212.3197075, 240.5583967, 352.6437785, 365.4274799, 422.7139352, 446.43421050000006, 469.62477750000005, 487.9841429, 498.5991399, 574.808141, 590.8146771, 616.8885842999998, 699.8634548, 751.0486855, 777.553801, 798.5607892999999, 807.7725181, 825.2194342, 843.2793911, 858.6558923, 869.6820093, 874.7989962000001, 897.1610706, 897.2220417999998], \"yaxis\": \"y\"}],                        {\"height\": 700, \"hovermode\": \"closest\", \"plot_bgcolor\": \"rgba(0,0,0,0)\", \"shapes\": [{\"type\": \"circle\", \"x0\": 655, \"x1\": 733, \"xref\": \"x\", \"y0\": 19, \"y1\": 98, \"yref\": \"y\"}, {\"type\": \"circle\", \"x0\": 255, \"x1\": 334, \"xref\": \"x\", \"y0\": 81, \"y1\": 161, \"yref\": \"y\"}, {\"type\": \"circle\", \"x0\": 246, \"x1\": 326, \"xref\": \"x\", \"y0\": 139, \"y1\": 230, \"yref\": \"y\"}, {\"type\": \"circle\", \"x0\": 151, \"x1\": 268, \"xref\": \"x\", \"y0\": 117, \"y1\": 271, \"yref\": \"y\"}, {\"type\": \"circle\", \"x0\": 297, \"x1\": 393, \"xref\": \"x\", \"y0\": 171, \"y1\": 253, \"yref\": \"y\"}, {\"type\": \"circle\", \"x0\": 5, \"x1\": 218, \"xref\": \"x\", \"y0\": 133, \"y1\": 338, \"yref\": \"y\"}, {\"type\": \"circle\", \"x0\": 1037, \"x1\": 1120, \"xref\": \"x\", \"y0\": 310, \"y1\": 396, \"yref\": \"y\"}, {\"type\": \"circle\", \"x0\": 46, \"x1\": 155, \"xref\": \"x\", \"y0\": 316, \"y1\": 417, \"yref\": \"y\"}, {\"type\": \"circle\", \"x0\": 714, \"x1\": 794, \"xref\": \"x\", \"y0\": 384, \"y1\": 466, \"yref\": \"y\"}, {\"type\": \"circle\", \"x0\": 198, \"x1\": 269, \"xref\": \"x\", \"y0\": 410, \"y1\": 482, \"yref\": \"y\"}, {\"type\": \"circle\", \"x0\": 547, \"x1\": 634, \"xref\": \"x\", \"y0\": 401, \"y1\": 553, \"yref\": \"y\"}, {\"type\": \"circle\", \"x0\": 619, \"x1\": 699, \"xref\": \"x\", \"y0\": 446, \"y1\": 528, \"yref\": \"y\"}, {\"type\": \"circle\", \"x0\": 427, \"x1\": 502, \"xref\": \"x\", \"y0\": 461, \"y1\": 536, \"yref\": \"y\"}, {\"type\": \"circle\", \"x0\": 430, \"x1\": 520, \"xref\": \"x\", \"y0\": 542, \"y1\": 626, \"yref\": \"y\"}, {\"type\": \"circle\", \"x0\": 575, \"x1\": 656, \"xref\": \"x\", \"y0\": 550, \"y1\": 633, \"yref\": \"y\"}, {\"type\": \"circle\", \"x0\": 20, \"x1\": 101, \"xref\": \"x\", \"y0\": 569, \"y1\": 663, \"yref\": \"y\"}, {\"type\": \"circle\", \"x0\": 681, \"x1\": 749, \"xref\": \"x\", \"y0\": 663, \"y1\": 740, \"yref\": \"y\"}, {\"type\": \"circle\", \"x0\": 726, \"x1\": 799, \"xref\": \"x\", \"y0\": 716, \"y1\": 791, \"yref\": \"y\"}, {\"type\": \"circle\", \"x0\": 632, \"x1\": 711, \"xref\": \"x\", \"y0\": 738, \"y1\": 813, \"yref\": \"y\"}, {\"type\": \"circle\", \"x0\": 468, \"x1\": 547, \"xref\": \"x\", \"y0\": 764, \"y1\": 838, \"yref\": \"y\"}, {\"type\": \"circle\", \"x0\": 341, \"x1\": 415, \"xref\": \"x\", \"y0\": 766, \"y1\": 856, \"yref\": \"y\"}, {\"type\": \"circle\", \"x0\": 697, \"x1\": 774, \"xref\": \"x\", \"y0\": 791, \"y1\": 860, \"yref\": \"y\"}, {\"type\": \"circle\", \"x0\": 273, \"x1\": 357, \"xref\": \"x\", \"y0\": 811, \"y1\": 879, \"yref\": \"y\"}, {\"type\": \"circle\", \"x0\": 128, \"x1\": 203, \"xref\": \"x\", \"y0\": 820, \"y1\": 898, \"yref\": \"y\"}, {\"type\": \"circle\", \"x0\": 361, \"x1\": 445, \"xref\": \"x\", \"y0\": 829, \"y1\": 907, \"yref\": \"y\"}, {\"type\": \"circle\", \"x0\": 515, \"x1\": 588, \"xref\": \"x\", \"y0\": 840, \"y1\": 912, \"yref\": \"y\"}, {\"type\": \"circle\", \"x0\": 781, \"x1\": 851, \"xref\": \"x\", \"y0\": 859, \"y1\": 938, \"yref\": \"y\"}, {\"type\": \"circle\", \"x0\": 11, \"x1\": 92, \"xref\": \"x\", \"y0\": 856, \"y1\": 939, \"yref\": \"y\"}], \"showlegend\": false, \"template\": {\"data\": {\"bar\": [{\"error_x\": {\"color\": \"#2a3f5f\"}, \"error_y\": {\"color\": \"#2a3f5f\"}, \"marker\": {\"line\": {\"color\": \"#E5ECF6\", \"width\": 0.5}}, \"type\": \"bar\"}], \"barpolar\": [{\"marker\": {\"line\": {\"color\": \"#E5ECF6\", \"width\": 0.5}}, \"type\": \"barpolar\"}], \"carpet\": [{\"aaxis\": {\"endlinecolor\": \"#2a3f5f\", \"gridcolor\": \"white\", \"linecolor\": \"white\", \"minorgridcolor\": \"white\", \"startlinecolor\": \"#2a3f5f\"}, \"baxis\": {\"endlinecolor\": \"#2a3f5f\", \"gridcolor\": \"white\", \"linecolor\": \"white\", \"minorgridcolor\": \"white\", \"startlinecolor\": \"#2a3f5f\"}, \"type\": \"carpet\"}], \"choropleth\": [{\"colorbar\": {\"outlinewidth\": 0, \"ticks\": \"\"}, \"type\": \"choropleth\"}], \"contour\": [{\"colorbar\": {\"outlinewidth\": 0, \"ticks\": \"\"}, \"colorscale\": [[0.0, \"#0d0887\"], [0.1111111111111111, \"#46039f\"], [0.2222222222222222, \"#7201a8\"], [0.3333333333333333, \"#9c179e\"], [0.4444444444444444, \"#bd3786\"], [0.5555555555555556, \"#d8576b\"], [0.6666666666666666, \"#ed7953\"], [0.7777777777777778, \"#fb9f3a\"], [0.8888888888888888, \"#fdca26\"], [1.0, \"#f0f921\"]], \"type\": \"contour\"}], \"contourcarpet\": [{\"colorbar\": {\"outlinewidth\": 0, \"ticks\": \"\"}, \"type\": \"contourcarpet\"}], \"heatmap\": [{\"colorbar\": {\"outlinewidth\": 0, \"ticks\": \"\"}, \"colorscale\": [[0.0, \"#0d0887\"], [0.1111111111111111, \"#46039f\"], [0.2222222222222222, \"#7201a8\"], [0.3333333333333333, \"#9c179e\"], [0.4444444444444444, \"#bd3786\"], [0.5555555555555556, \"#d8576b\"], [0.6666666666666666, \"#ed7953\"], [0.7777777777777778, \"#fb9f3a\"], [0.8888888888888888, \"#fdca26\"], [1.0, \"#f0f921\"]], \"type\": \"heatmap\"}], \"heatmapgl\": [{\"colorbar\": {\"outlinewidth\": 0, \"ticks\": \"\"}, \"colorscale\": [[0.0, \"#0d0887\"], [0.1111111111111111, \"#46039f\"], [0.2222222222222222, \"#7201a8\"], [0.3333333333333333, \"#9c179e\"], [0.4444444444444444, \"#bd3786\"], [0.5555555555555556, \"#d8576b\"], [0.6666666666666666, \"#ed7953\"], [0.7777777777777778, \"#fb9f3a\"], [0.8888888888888888, \"#fdca26\"], [1.0, \"#f0f921\"]], \"type\": \"heatmapgl\"}], \"histogram\": [{\"marker\": {\"colorbar\": {\"outlinewidth\": 0, \"ticks\": \"\"}}, \"type\": \"histogram\"}], \"histogram2d\": [{\"colorbar\": {\"outlinewidth\": 0, \"ticks\": \"\"}, \"colorscale\": [[0.0, \"#0d0887\"], [0.1111111111111111, \"#46039f\"], [0.2222222222222222, \"#7201a8\"], [0.3333333333333333, \"#9c179e\"], [0.4444444444444444, \"#bd3786\"], [0.5555555555555556, \"#d8576b\"], [0.6666666666666666, \"#ed7953\"], [0.7777777777777778, \"#fb9f3a\"], [0.8888888888888888, \"#fdca26\"], [1.0, \"#f0f921\"]], \"type\": \"histogram2d\"}], \"histogram2dcontour\": [{\"colorbar\": {\"outlinewidth\": 0, \"ticks\": \"\"}, \"colorscale\": [[0.0, \"#0d0887\"], [0.1111111111111111, \"#46039f\"], [0.2222222222222222, \"#7201a8\"], [0.3333333333333333, \"#9c179e\"], [0.4444444444444444, \"#bd3786\"], [0.5555555555555556, \"#d8576b\"], [0.6666666666666666, \"#ed7953\"], [0.7777777777777778, \"#fb9f3a\"], [0.8888888888888888, \"#fdca26\"], [1.0, \"#f0f921\"]], \"type\": \"histogram2dcontour\"}], \"mesh3d\": [{\"colorbar\": {\"outlinewidth\": 0, \"ticks\": \"\"}, \"type\": \"mesh3d\"}], \"parcoords\": [{\"line\": {\"colorbar\": {\"outlinewidth\": 0, \"ticks\": \"\"}}, \"type\": \"parcoords\"}], \"pie\": [{\"automargin\": true, \"type\": \"pie\"}], \"scatter\": [{\"marker\": {\"colorbar\": {\"outlinewidth\": 0, \"ticks\": \"\"}}, \"type\": \"scatter\"}], \"scatter3d\": [{\"line\": {\"colorbar\": {\"outlinewidth\": 0, \"ticks\": \"\"}}, \"marker\": {\"colorbar\": {\"outlinewidth\": 0, \"ticks\": \"\"}}, \"type\": \"scatter3d\"}], \"scattercarpet\": [{\"marker\": {\"colorbar\": {\"outlinewidth\": 0, \"ticks\": \"\"}}, \"type\": \"scattercarpet\"}], \"scattergeo\": [{\"marker\": {\"colorbar\": {\"outlinewidth\": 0, \"ticks\": \"\"}}, \"type\": \"scattergeo\"}], \"scattergl\": [{\"marker\": {\"colorbar\": {\"outlinewidth\": 0, \"ticks\": \"\"}}, \"type\": \"scattergl\"}], \"scattermapbox\": [{\"marker\": {\"colorbar\": {\"outlinewidth\": 0, \"ticks\": \"\"}}, \"type\": \"scattermapbox\"}], \"scatterpolar\": [{\"marker\": {\"colorbar\": {\"outlinewidth\": 0, \"ticks\": \"\"}}, \"type\": \"scatterpolar\"}], \"scatterpolargl\": [{\"marker\": {\"colorbar\": {\"outlinewidth\": 0, \"ticks\": \"\"}}, \"type\": \"scatterpolargl\"}], \"scatterternary\": [{\"marker\": {\"colorbar\": {\"outlinewidth\": 0, \"ticks\": \"\"}}, \"type\": \"scatterternary\"}], \"surface\": [{\"colorbar\": {\"outlinewidth\": 0, \"ticks\": \"\"}, \"colorscale\": [[0.0, \"#0d0887\"], [0.1111111111111111, \"#46039f\"], [0.2222222222222222, \"#7201a8\"], [0.3333333333333333, \"#9c179e\"], [0.4444444444444444, \"#bd3786\"], [0.5555555555555556, \"#d8576b\"], [0.6666666666666666, \"#ed7953\"], [0.7777777777777778, \"#fb9f3a\"], [0.8888888888888888, \"#fdca26\"], [1.0, \"#f0f921\"]], \"type\": \"surface\"}], \"table\": [{\"cells\": {\"fill\": {\"color\": \"#EBF0F8\"}, \"line\": {\"color\": \"white\"}}, \"header\": {\"fill\": {\"color\": \"#C8D4E3\"}, \"line\": {\"color\": \"white\"}}, \"type\": \"table\"}]}, \"layout\": {\"annotationdefaults\": {\"arrowcolor\": \"#2a3f5f\", \"arrowhead\": 0, \"arrowwidth\": 1}, \"coloraxis\": {\"colorbar\": {\"outlinewidth\": 0, \"ticks\": \"\"}}, \"colorscale\": {\"diverging\": [[0, \"#8e0152\"], [0.1, \"#c51b7d\"], [0.2, \"#de77ae\"], [0.3, \"#f1b6da\"], [0.4, \"#fde0ef\"], [0.5, \"#f7f7f7\"], [0.6, \"#e6f5d0\"], [0.7, \"#b8e186\"], [0.8, \"#7fbc41\"], [0.9, \"#4d9221\"], [1, \"#276419\"]], \"sequential\": [[0.0, \"#0d0887\"], [0.1111111111111111, \"#46039f\"], [0.2222222222222222, \"#7201a8\"], [0.3333333333333333, \"#9c179e\"], [0.4444444444444444, \"#bd3786\"], [0.5555555555555556, \"#d8576b\"], [0.6666666666666666, \"#ed7953\"], [0.7777777777777778, \"#fb9f3a\"], [0.8888888888888888, \"#fdca26\"], [1.0, \"#f0f921\"]], \"sequentialminus\": [[0.0, \"#0d0887\"], [0.1111111111111111, \"#46039f\"], [0.2222222222222222, \"#7201a8\"], [0.3333333333333333, \"#9c179e\"], [0.4444444444444444, \"#bd3786\"], [0.5555555555555556, \"#d8576b\"], [0.6666666666666666, \"#ed7953\"], [0.7777777777777778, \"#fb9f3a\"], [0.8888888888888888, \"#fdca26\"], [1.0, \"#f0f921\"]]}, \"colorway\": [\"#636efa\", \"#EF553B\", \"#00cc96\", \"#ab63fa\", \"#FFA15A\", \"#19d3f3\", \"#FF6692\", \"#B6E880\", \"#FF97FF\", \"#FECB52\"], \"font\": {\"color\": \"#2a3f5f\"}, \"geo\": {\"bgcolor\": \"white\", \"lakecolor\": \"white\", \"landcolor\": \"#E5ECF6\", \"showlakes\": true, \"showland\": true, \"subunitcolor\": \"white\"}, \"hoverlabel\": {\"align\": \"left\"}, \"hovermode\": \"closest\", \"mapbox\": {\"style\": \"light\"}, \"paper_bgcolor\": \"white\", \"plot_bgcolor\": \"#E5ECF6\", \"polar\": {\"angularaxis\": {\"gridcolor\": \"white\", \"linecolor\": \"white\", \"ticks\": \"\"}, \"bgcolor\": \"#E5ECF6\", \"radialaxis\": {\"gridcolor\": \"white\", \"linecolor\": \"white\", \"ticks\": \"\"}}, \"scene\": {\"xaxis\": {\"backgroundcolor\": \"#E5ECF6\", \"gridcolor\": \"white\", \"gridwidth\": 2, \"linecolor\": \"white\", \"showbackground\": true, \"ticks\": \"\", \"zerolinecolor\": \"white\"}, \"yaxis\": {\"backgroundcolor\": \"#E5ECF6\", \"gridcolor\": \"white\", \"gridwidth\": 2, \"linecolor\": \"white\", \"showbackground\": true, \"ticks\": \"\", \"zerolinecolor\": \"white\"}, \"zaxis\": {\"backgroundcolor\": \"#E5ECF6\", \"gridcolor\": \"white\", \"gridwidth\": 2, \"linecolor\": \"white\", \"showbackground\": true, \"ticks\": \"\", \"zerolinecolor\": \"white\"}}, \"shapedefaults\": {\"line\": {\"color\": \"#2a3f5f\"}}, \"ternary\": {\"aaxis\": {\"gridcolor\": \"white\", \"linecolor\": \"white\", \"ticks\": \"\"}, \"baxis\": {\"gridcolor\": \"white\", \"linecolor\": \"white\", \"ticks\": \"\"}, \"bgcolor\": \"#E5ECF6\", \"caxis\": {\"gridcolor\": \"white\", \"linecolor\": \"white\", \"ticks\": \"\"}}, \"title\": {\"x\": 0.05}, \"xaxis\": {\"automargin\": true, \"gridcolor\": \"white\", \"linecolor\": \"white\", \"ticks\": \"\", \"title\": {\"standoff\": 15}, \"zerolinecolor\": \"white\", \"zerolinewidth\": 2}, \"yaxis\": {\"automargin\": true, \"gridcolor\": \"white\", \"linecolor\": \"white\", \"ticks\": \"\", \"title\": {\"standoff\": 15}, \"zerolinecolor\": \"white\", \"zerolinewidth\": 2}}}, \"title\": {\"text\": \"Nuclei\"}, \"xaxis\": {\"constrain\": \"domain\", \"gridcolor\": \"#E4EAF2\", \"range\": [-50, 1250], \"showgrid\": true, \"type\": \"linear\"}, \"yaxis\": {\"gridcolor\": \"#E4EAF2\", \"range\": [1050, -50], \"scaleanchor\": \"x\", \"scaleratio\": 1, \"showgrid\": true, \"zeroline\": false}},                        {\"responsive\": true}                    ).then(function(){\n",
       "                            \n",
       "var gd = document.getElementById('ede71dee-8dfd-4f2a-9022-38d3f28198eb');\n",
       "var x = new MutationObserver(function (mutations, observer) {{\n",
       "        var display = window.getComputedStyle(gd).display;\n",
       "        if (!display || display === 'none') {{\n",
       "            console.log([gd, 'removed!']);\n",
       "            Plotly.purge(gd);\n",
       "            observer.disconnect();\n",
       "        }}\n",
       "}});\n",
       "\n",
       "// Listen for the removal of the full notebook cells\n",
       "var notebookContainer = gd.closest('#notebook-container');\n",
       "if (notebookContainer) {{\n",
       "    x.observe(notebookContainer, {childList: true});\n",
       "}}\n",
       "\n",
       "// Listen for the clearing of the current output cell\n",
       "var outputEl = gd.closest('.output');\n",
       "if (outputEl) {{\n",
       "    x.observe(outputEl, {childList: true});\n",
       "}}\n",
       "\n",
       "                        })                };                });            </script>        </div>"
      ]
     },
     "metadata": {},
     "output_type": "display_data"
    }
   ],
   "source": [
    "# plot nuclei\n",
    "fig = plot_single_scatter(\n",
    "    nuclei_subset,\n",
    "    x='center_x',\n",
    "    y='center_y',\n",
    "    title='Nuclei',\n",
    ")\n",
    "\n",
    "fig.layout.update(\n",
    "    xaxis = {'range': [-50, 1250], 'constrain': \"domain\"},\n",
    "    yaxis = {'range': [1050, -50], 'scaleanchor': 'x', 'scaleratio': 1},\n",
    "    shapes=shapes,\n",
    "    height=700,\n",
    ")\n",
    "\n",
    "fig"
   ]
  },
  {
   "cell_type": "code",
   "execution_count": 77,
   "metadata": {},
   "outputs": [],
   "source": [
    "save=True"
   ]
  },
  {
   "cell_type": "code",
   "execution_count": 80,
   "metadata": {},
   "outputs": [
    {
     "data": {
      "application/vnd.plotly.v1+json": {
       "config": {
        "plotlyServerURL": "https://plot.ly"
       },
       "data": [
        {
         "hovertemplate": "center_x=%{x}<br>center_y=%{y}<extra></extra>",
         "legendgroup": "",
         "marker": {
          "color": "#3366CC",
          "size": 3,
          "symbol": "circle"
         },
         "mode": "markers",
         "name": "",
         "orientation": "v",
         "showlegend": false,
         "type": "scatter",
         "x": [
          275,
          280,
          285.5,
          280.142857142857,
          277,
          283.181818181818,
          286,
          281.33333333333303,
          279,
          287,
          310,
          309.25,
          306.8,
          314.875,
          311.33333333333303,
          309.25,
          304.875,
          1103.5,
          1099.95,
          1100.7777777777699,
          1098.28571428571,
          1103.26666666666,
          217,
          218,
          215,
          225,
          217.5,
          221.9,
          226.666666666666,
          210,
          236,
          228.833333333333,
          220.461538461538,
          226.1,
          217.166666666666,
          224.377358490566,
          219.2,
          230.060606060606,
          212.8,
          225.2,
          233.5,
          216,
          218,
          223,
          227.529411764705,
          654,
          216,
          224,
          231.666666666666,
          660,
          662,
          454.2,
          467.5,
          656,
          446.888888888888,
          449.85714285714204,
          457.5,
          665,
          224.333333333333,
          464.461538461538,
          451.166666666666,
          472.666666666666,
          458.29411764705804,
          258,
          473.428571428571,
          659,
          446.5,
          449.35714285714204,
          453.666666666666,
          656.533333333333,
          454.76,
          654.4545454545449,
          659.5,
          459.708333333333,
          464,
          654.6666666666661,
          657.882352941176,
          449,
          462,
          651.203703703703,
          656.8,
          458.125,
          651.1666666666661,
          457,
          450,
          454,
          443,
          451.5,
          452.5,
          620,
          602,
          603,
          601.6666666666661,
          607,
          599.428571428571,
          603.208333333333,
          631.6666666666661,
          609.083333333333,
          613.25,
          617.75,
          623.770833333333,
          602.51724137931,
          606.6666666666661,
          623.271186440678,
          614.226415094339,
          632,
          608.35294117647,
          616.28,
          628,
          619.8125,
          641,
          611.833333333333,
          625,
          617.772727272727,
          622.4166666666661,
          613.777777777777,
          625,
          626.625,
          621,
          617,
          625.5,
          626,
          622.6666666666661,
          26,
          608,
          27.5,
          30.5,
          22,
          26,
          28,
          25,
          27,
          28.2,
          32.6666666666666,
          39,
          22.9090909090909,
          27.5675675675675,
          27,
          38.5,
          32.4222222222222,
          28.4444444444444,
          36,
          32.6666666666666,
          39.1333333333333,
          42.6521739130434,
          39.5,
          47.5,
          713.058823529411,
          722,
          716.333333333333,
          713,
          722.4,
          708.333333333333,
          710.333333333333,
          717.916666666666,
          725,
          709.5,
          713,
          711,
          790.111111111111,
          793.6,
          776.5,
          781,
          795,
          779.1428571428571,
          776.5,
          782.6,
          786,
          779.5,
          784.333333333333,
          793.5,
          781.714285714285,
          678.1,
          784.5714285714281,
          786.928571428571,
          682.5,
          687.4,
          686,
          793.5,
          680.5,
          674.545454545454,
          684.2666666666661,
          697,
          676,
          687,
          679.75,
          676.75,
          683.6875,
          688.333333333333,
          689.875,
          673.153846153846,
          679,
          788,
          669,
          671,
          686.6875,
          690.285714285714,
          675.714285714285,
          679.1666666666661,
          683.1666666666661,
          691.666666666666,
          673.1666666666661,
          688.666666666666,
          788.666666666666,
          671.6,
          674.9166666666661,
          678.545454545454,
          682.2,
          684.8,
          676.25,
          686,
          517,
          521,
          525,
          395,
          520.7272727272721,
          392,
          395,
          514,
          518.478260869565,
          524.375,
          396.5,
          528.6666666666661,
          391.25,
          402,
          522.482758620689,
          397.818181818181,
          516.6875,
          389.5,
          393.166666666666,
          534.5,
          402.44444444444395,
          524.872093023255,
          394.916666666666,
          408.333333333333,
          523.333333333333,
          527.825242718446,
          752.5,
          396.15789473684197,
          401.85714285714204,
          519.47619047619,
          532.296296296296,
          751,
          753.8888888888879,
          406.333333333333,
          757,
          398.5,
          405.25,
          402.94444444444395,
          521.923076923076,
          752.7777777777769,
          390.5,
          393.642857142857,
          517.428571428571,
          409,
          757.166666666666,
          762.666666666666,
          518,
          519.5,
          522.333333333333,
          753,
          397,
          764,
          522,
          761.5,
          406,
          524,
          763.75,
          382,
          404,
          157,
          161,
          320.5,
          329,
          327,
          319.33333333333303,
          425,
          333,
          323.25,
          330.4,
          331.5,
          333.857142857142,
          423,
          335.8,
          328.116279069767,
          324.444444444444,
          321,
          334.5,
          320.75,
          325,
          75.4,
          558.5,
          564.7272727272721,
          77,
          567.333333333333,
          83.8,
          552.2,
          73,
          558.857142857142,
          552.6,
          557,
          381,
          384,
          560.75,
          547.75,
          554,
          557.5,
          382,
          568.5,
          551.55,
          559.695652173913,
          384,
          386.8,
          563.5,
          390.85,
          394.51851851851796,
          397.85714285714204,
          553,
          387.7777777777769,
          566.222222222222,
          545.5,
          556,
          389.7,
          392.61538461538396,
          397.454545454545,
          562.6666666666661,
          550.875,
          386,
          396.592592592592,
          401,
          402,
          556.875,
          565,
          560.2,
          553,
          567.5,
          554.6,
          560.285714285714,
          822,
          810,
          821.5,
          819,
          808.8,
          827,
          806.666666666666,
          811.416666666666,
          816.842105263157,
          824.7777777777769,
          820.272727272727,
          808.470588235294,
          822.125,
          816.5,
          819.285714285714,
          813.08
         ],
         "xaxis": "x",
         "y": [
          131,
          131,
          133,
          134.785714285714,
          136,
          137,
          137,
          138.666666666666,
          140,
          141,
          188,
          196,
          198.4,
          197.875,
          198.666666666666,
          200.333333333333,
          201.5625,
          376,
          377.4,
          380.888888888888,
          382.28571428571405,
          384.2,
          431,
          436.5,
          438,
          438.5,
          439.5,
          439.1,
          440.44444444444395,
          442.5,
          442.5,
          442.833333333333,
          443.134615384615,
          443.7,
          447.333333333333,
          448.264150943396,
          449.4,
          450.515151515151,
          451,
          451.2,
          451,
          452,
          451.428571428571,
          453.75,
          454.5,
          454.5,
          456,
          456.75,
          456.666666666666,
          457,
          458,
          464.8,
          465,
          465,
          466.666666666666,
          466.714285714285,
          466,
          466,
          466.666666666666,
          467.90384615384596,
          468.555555555555,
          467.666666666666,
          469.29411764705804,
          470,
          469.714285714285,
          469.5,
          471,
          471.428571428571,
          470.25,
          468.8,
          473.16,
          470.818181818181,
          472,
          473.708333333333,
          473.5,
          473.333333333333,
          473.941176470588,
          475.5,
          475.5,
          475.796296296296,
          476.4,
          477.25,
          480.166666666666,
          480.5,
          481,
          481.5,
          483,
          487,
          490.5,
          554.5,
          559.5,
          569.833333333333,
          572.9333333333329,
          575,
          577.285714285714,
          576.6666666666661,
          576.333333333333,
          578.083333333333,
          576.25,
          576,
          577.708333333333,
          581.3103448275859,
          581.833333333333,
          583.5762711864402,
          580.962264150943,
          581.5,
          584.529411764705,
          585.44,
          585.5,
          587.8125,
          586,
          587.6666666666661,
          588,
          591.090909090909,
          590.75,
          591.888888888888,
          590.5,
          591.75,
          593,
          595,
          595.5,
          598.5,
          598.6666666666661,
          609,
          609.5,
          621.5,
          622.5,
          629,
          631,
          632.5,
          633,
          634.8,
          637.4,
          639.333333333333,
          641,
          642.363636363636,
          642.162162162162,
          647,
          647,
          646.9333333333329,
          650.222222222222,
          650.478260869565,
          651.333333333333,
          651.066666666666,
          651.826086956521,
          655,
          658.5,
          726.9411764705881,
          726,
          726.333333333333,
          729.5,
          728.2,
          729.666666666666,
          729.666666666666,
          730.25,
          731.5,
          732,
          732.25,
          736,
          739.444444444444,
          739.8,
          744,
          744,
          745,
          745.714285714285,
          746.5,
          746.2,
          747,
          748,
          747.333333333333,
          747.5,
          748.857142857142,
          750.9,
          749.714285714285,
          750.1428571428571,
          751,
          751.3,
          752.666666666666,
          752.5,
          752.875,
          754.1818181818179,
          753.666666666666,
          755,
          756,
          755.25,
          756.3214285714281,
          757.625,
          756.9375,
          756.9333333333328,
          757.875,
          758.3076923076918,
          759.6153846153841,
          759,
          760,
          760.5,
          761.5,
          760.5714285714281,
          761.428571428571,
          762.833333333333,
          761.833333333333,
          761.666666666666,
          762.666666666666,
          762.333333333333,
          762.333333333333,
          763.4,
          764.333333333333,
          764.90909090909,
          765.2,
          764.4,
          766.375,
          765.333333333333,
          771,
          775,
          775.75,
          777,
          777.1818181818179,
          781,
          781,
          782,
          780.217391304347,
          779.0625,
          783.5,
          780.9259259259261,
          782.75,
          784.5,
          784.03448275862,
          786.6363636363631,
          786.229166666666,
          787.5,
          787.833333333333,
          788,
          788.4814814814812,
          788.220930232558,
          790.25,
          791.333333333333,
          792.333333333333,
          795.776699029126,
          793,
          794.3157894736839,
          792.8095238095232,
          795.3095238095232,
          796.092592592592,
          794,
          794.222222222222,
          794.666666666666,
          795,
          799.153846153846,
          796.75,
          799.222222222222,
          799.6923076923068,
          798.7777777777769,
          799.5,
          799.714285714285,
          799,
          800.2,
          799.761904761904,
          800.333333333333,
          801.5,
          801,
          803.666666666666,
          803,
          803.5,
          804.75,
          806,
          805.5,
          807,
          807,
          807,
          812,
          825,
          838,
          840.5,
          840,
          840.5,
          841.25,
          842.333333333333,
          842,
          843,
          844.75,
          845.666666666666,
          848.5,
          847.714285714285,
          848,
          848.6,
          852.1627906976739,
          854.111111111111,
          855,
          855,
          858.25,
          858,
          871,
          874,
          874,
          876,
          876.333333333333,
          877.4,
          877.6,
          879,
          878.714285714285,
          880,
          880.5,
          881,
          882,
          881.7,
          883,
          882,
          883,
          884.666666666666,
          884,
          884.2,
          886.217391304347,
          885.5,
          886.7,
          887,
          887.2,
          887.0370370370372,
          887.5714285714281,
          888,
          888.8888888888879,
          889.166666666666,
          890,
          890.5,
          891.3,
          892.538461538461,
          890.4545454545448,
          891.666666666666,
          891.875,
          893,
          893.8888888888879,
          893,
          895.5,
          895.125,
          895,
          896,
          898,
          897.5,
          898.8,
          899.1428571428571,
          917,
          923,
          924,
          924.5,
          925.4,
          926,
          927.666666666666,
          927.666666666666,
          927.842105263157,
          927.8888888888879,
          927.6363636363632,
          929.470588235294,
          929.75,
          931.785714285714,
          931,
          932.24
         ],
         "yaxis": "y"
        }
       ],
       "layout": {
        "height": 700,
        "hovermode": "closest",
        "plot_bgcolor": "rgba(0,0,0,0)",
        "shapes": [
         {
          "type": "circle",
          "x0": 655,
          "x1": 733,
          "xref": "x",
          "y0": 19,
          "y1": 98,
          "yref": "y"
         },
         {
          "type": "circle",
          "x0": 255,
          "x1": 334,
          "xref": "x",
          "y0": 81,
          "y1": 161,
          "yref": "y"
         },
         {
          "type": "circle",
          "x0": 246,
          "x1": 326,
          "xref": "x",
          "y0": 139,
          "y1": 230,
          "yref": "y"
         },
         {
          "type": "circle",
          "x0": 151,
          "x1": 268,
          "xref": "x",
          "y0": 117,
          "y1": 271,
          "yref": "y"
         },
         {
          "type": "circle",
          "x0": 297,
          "x1": 393,
          "xref": "x",
          "y0": 171,
          "y1": 253,
          "yref": "y"
         },
         {
          "type": "circle",
          "x0": 5,
          "x1": 218,
          "xref": "x",
          "y0": 133,
          "y1": 338,
          "yref": "y"
         },
         {
          "type": "circle",
          "x0": 1037,
          "x1": 1120,
          "xref": "x",
          "y0": 310,
          "y1": 396,
          "yref": "y"
         },
         {
          "type": "circle",
          "x0": 46,
          "x1": 155,
          "xref": "x",
          "y0": 316,
          "y1": 417,
          "yref": "y"
         },
         {
          "type": "circle",
          "x0": 714,
          "x1": 794,
          "xref": "x",
          "y0": 384,
          "y1": 466,
          "yref": "y"
         },
         {
          "type": "circle",
          "x0": 198,
          "x1": 269,
          "xref": "x",
          "y0": 410,
          "y1": 482,
          "yref": "y"
         },
         {
          "type": "circle",
          "x0": 547,
          "x1": 634,
          "xref": "x",
          "y0": 401,
          "y1": 553,
          "yref": "y"
         },
         {
          "type": "circle",
          "x0": 619,
          "x1": 699,
          "xref": "x",
          "y0": 446,
          "y1": 528,
          "yref": "y"
         },
         {
          "type": "circle",
          "x0": 427,
          "x1": 502,
          "xref": "x",
          "y0": 461,
          "y1": 536,
          "yref": "y"
         },
         {
          "type": "circle",
          "x0": 430,
          "x1": 520,
          "xref": "x",
          "y0": 542,
          "y1": 626,
          "yref": "y"
         },
         {
          "type": "circle",
          "x0": 575,
          "x1": 656,
          "xref": "x",
          "y0": 550,
          "y1": 633,
          "yref": "y"
         },
         {
          "type": "circle",
          "x0": 20,
          "x1": 101,
          "xref": "x",
          "y0": 569,
          "y1": 663,
          "yref": "y"
         },
         {
          "type": "circle",
          "x0": 681,
          "x1": 749,
          "xref": "x",
          "y0": 663,
          "y1": 740,
          "yref": "y"
         },
         {
          "type": "circle",
          "x0": 726,
          "x1": 799,
          "xref": "x",
          "y0": 716,
          "y1": 791,
          "yref": "y"
         },
         {
          "type": "circle",
          "x0": 632,
          "x1": 711,
          "xref": "x",
          "y0": 738,
          "y1": 813,
          "yref": "y"
         },
         {
          "type": "circle",
          "x0": 468,
          "x1": 547,
          "xref": "x",
          "y0": 764,
          "y1": 838,
          "yref": "y"
         },
         {
          "type": "circle",
          "x0": 341,
          "x1": 415,
          "xref": "x",
          "y0": 766,
          "y1": 856,
          "yref": "y"
         },
         {
          "type": "circle",
          "x0": 697,
          "x1": 774,
          "xref": "x",
          "y0": 791,
          "y1": 860,
          "yref": "y"
         },
         {
          "type": "circle",
          "x0": 273,
          "x1": 357,
          "xref": "x",
          "y0": 811,
          "y1": 879,
          "yref": "y"
         },
         {
          "type": "circle",
          "x0": 128,
          "x1": 203,
          "xref": "x",
          "y0": 820,
          "y1": 898,
          "yref": "y"
         },
         {
          "type": "circle",
          "x0": 361,
          "x1": 445,
          "xref": "x",
          "y0": 829,
          "y1": 907,
          "yref": "y"
         },
         {
          "type": "circle",
          "x0": 515,
          "x1": 588,
          "xref": "x",
          "y0": 840,
          "y1": 912,
          "yref": "y"
         },
         {
          "type": "circle",
          "x0": 781,
          "x1": 851,
          "xref": "x",
          "y0": 859,
          "y1": 938,
          "yref": "y"
         },
         {
          "type": "circle",
          "x0": 11,
          "x1": 92,
          "xref": "x",
          "y0": 856,
          "y1": 939,
          "yref": "y"
         }
        ],
        "showlegend": false,
        "template": {
         "data": {
          "bar": [
           {
            "error_x": {
             "color": "#2a3f5f"
            },
            "error_y": {
             "color": "#2a3f5f"
            },
            "marker": {
             "line": {
              "color": "#E5ECF6",
              "width": 0.5
             }
            },
            "type": "bar"
           }
          ],
          "barpolar": [
           {
            "marker": {
             "line": {
              "color": "#E5ECF6",
              "width": 0.5
             }
            },
            "type": "barpolar"
           }
          ],
          "carpet": [
           {
            "aaxis": {
             "endlinecolor": "#2a3f5f",
             "gridcolor": "white",
             "linecolor": "white",
             "minorgridcolor": "white",
             "startlinecolor": "#2a3f5f"
            },
            "baxis": {
             "endlinecolor": "#2a3f5f",
             "gridcolor": "white",
             "linecolor": "white",
             "minorgridcolor": "white",
             "startlinecolor": "#2a3f5f"
            },
            "type": "carpet"
           }
          ],
          "choropleth": [
           {
            "colorbar": {
             "outlinewidth": 0,
             "ticks": ""
            },
            "type": "choropleth"
           }
          ],
          "contour": [
           {
            "colorbar": {
             "outlinewidth": 0,
             "ticks": ""
            },
            "colorscale": [
             [
              0,
              "#0d0887"
             ],
             [
              0.1111111111111111,
              "#46039f"
             ],
             [
              0.2222222222222222,
              "#7201a8"
             ],
             [
              0.3333333333333333,
              "#9c179e"
             ],
             [
              0.4444444444444444,
              "#bd3786"
             ],
             [
              0.5555555555555556,
              "#d8576b"
             ],
             [
              0.6666666666666666,
              "#ed7953"
             ],
             [
              0.7777777777777778,
              "#fb9f3a"
             ],
             [
              0.8888888888888888,
              "#fdca26"
             ],
             [
              1,
              "#f0f921"
             ]
            ],
            "type": "contour"
           }
          ],
          "contourcarpet": [
           {
            "colorbar": {
             "outlinewidth": 0,
             "ticks": ""
            },
            "type": "contourcarpet"
           }
          ],
          "heatmap": [
           {
            "colorbar": {
             "outlinewidth": 0,
             "ticks": ""
            },
            "colorscale": [
             [
              0,
              "#0d0887"
             ],
             [
              0.1111111111111111,
              "#46039f"
             ],
             [
              0.2222222222222222,
              "#7201a8"
             ],
             [
              0.3333333333333333,
              "#9c179e"
             ],
             [
              0.4444444444444444,
              "#bd3786"
             ],
             [
              0.5555555555555556,
              "#d8576b"
             ],
             [
              0.6666666666666666,
              "#ed7953"
             ],
             [
              0.7777777777777778,
              "#fb9f3a"
             ],
             [
              0.8888888888888888,
              "#fdca26"
             ],
             [
              1,
              "#f0f921"
             ]
            ],
            "type": "heatmap"
           }
          ],
          "heatmapgl": [
           {
            "colorbar": {
             "outlinewidth": 0,
             "ticks": ""
            },
            "colorscale": [
             [
              0,
              "#0d0887"
             ],
             [
              0.1111111111111111,
              "#46039f"
             ],
             [
              0.2222222222222222,
              "#7201a8"
             ],
             [
              0.3333333333333333,
              "#9c179e"
             ],
             [
              0.4444444444444444,
              "#bd3786"
             ],
             [
              0.5555555555555556,
              "#d8576b"
             ],
             [
              0.6666666666666666,
              "#ed7953"
             ],
             [
              0.7777777777777778,
              "#fb9f3a"
             ],
             [
              0.8888888888888888,
              "#fdca26"
             ],
             [
              1,
              "#f0f921"
             ]
            ],
            "type": "heatmapgl"
           }
          ],
          "histogram": [
           {
            "marker": {
             "colorbar": {
              "outlinewidth": 0,
              "ticks": ""
             }
            },
            "type": "histogram"
           }
          ],
          "histogram2d": [
           {
            "colorbar": {
             "outlinewidth": 0,
             "ticks": ""
            },
            "colorscale": [
             [
              0,
              "#0d0887"
             ],
             [
              0.1111111111111111,
              "#46039f"
             ],
             [
              0.2222222222222222,
              "#7201a8"
             ],
             [
              0.3333333333333333,
              "#9c179e"
             ],
             [
              0.4444444444444444,
              "#bd3786"
             ],
             [
              0.5555555555555556,
              "#d8576b"
             ],
             [
              0.6666666666666666,
              "#ed7953"
             ],
             [
              0.7777777777777778,
              "#fb9f3a"
             ],
             [
              0.8888888888888888,
              "#fdca26"
             ],
             [
              1,
              "#f0f921"
             ]
            ],
            "type": "histogram2d"
           }
          ],
          "histogram2dcontour": [
           {
            "colorbar": {
             "outlinewidth": 0,
             "ticks": ""
            },
            "colorscale": [
             [
              0,
              "#0d0887"
             ],
             [
              0.1111111111111111,
              "#46039f"
             ],
             [
              0.2222222222222222,
              "#7201a8"
             ],
             [
              0.3333333333333333,
              "#9c179e"
             ],
             [
              0.4444444444444444,
              "#bd3786"
             ],
             [
              0.5555555555555556,
              "#d8576b"
             ],
             [
              0.6666666666666666,
              "#ed7953"
             ],
             [
              0.7777777777777778,
              "#fb9f3a"
             ],
             [
              0.8888888888888888,
              "#fdca26"
             ],
             [
              1,
              "#f0f921"
             ]
            ],
            "type": "histogram2dcontour"
           }
          ],
          "mesh3d": [
           {
            "colorbar": {
             "outlinewidth": 0,
             "ticks": ""
            },
            "type": "mesh3d"
           }
          ],
          "parcoords": [
           {
            "line": {
             "colorbar": {
              "outlinewidth": 0,
              "ticks": ""
             }
            },
            "type": "parcoords"
           }
          ],
          "pie": [
           {
            "automargin": true,
            "type": "pie"
           }
          ],
          "scatter": [
           {
            "marker": {
             "colorbar": {
              "outlinewidth": 0,
              "ticks": ""
             }
            },
            "type": "scatter"
           }
          ],
          "scatter3d": [
           {
            "line": {
             "colorbar": {
              "outlinewidth": 0,
              "ticks": ""
             }
            },
            "marker": {
             "colorbar": {
              "outlinewidth": 0,
              "ticks": ""
             }
            },
            "type": "scatter3d"
           }
          ],
          "scattercarpet": [
           {
            "marker": {
             "colorbar": {
              "outlinewidth": 0,
              "ticks": ""
             }
            },
            "type": "scattercarpet"
           }
          ],
          "scattergeo": [
           {
            "marker": {
             "colorbar": {
              "outlinewidth": 0,
              "ticks": ""
             }
            },
            "type": "scattergeo"
           }
          ],
          "scattergl": [
           {
            "marker": {
             "colorbar": {
              "outlinewidth": 0,
              "ticks": ""
             }
            },
            "type": "scattergl"
           }
          ],
          "scattermapbox": [
           {
            "marker": {
             "colorbar": {
              "outlinewidth": 0,
              "ticks": ""
             }
            },
            "type": "scattermapbox"
           }
          ],
          "scatterpolar": [
           {
            "marker": {
             "colorbar": {
              "outlinewidth": 0,
              "ticks": ""
             }
            },
            "type": "scatterpolar"
           }
          ],
          "scatterpolargl": [
           {
            "marker": {
             "colorbar": {
              "outlinewidth": 0,
              "ticks": ""
             }
            },
            "type": "scatterpolargl"
           }
          ],
          "scatterternary": [
           {
            "marker": {
             "colorbar": {
              "outlinewidth": 0,
              "ticks": ""
             }
            },
            "type": "scatterternary"
           }
          ],
          "surface": [
           {
            "colorbar": {
             "outlinewidth": 0,
             "ticks": ""
            },
            "colorscale": [
             [
              0,
              "#0d0887"
             ],
             [
              0.1111111111111111,
              "#46039f"
             ],
             [
              0.2222222222222222,
              "#7201a8"
             ],
             [
              0.3333333333333333,
              "#9c179e"
             ],
             [
              0.4444444444444444,
              "#bd3786"
             ],
             [
              0.5555555555555556,
              "#d8576b"
             ],
             [
              0.6666666666666666,
              "#ed7953"
             ],
             [
              0.7777777777777778,
              "#fb9f3a"
             ],
             [
              0.8888888888888888,
              "#fdca26"
             ],
             [
              1,
              "#f0f921"
             ]
            ],
            "type": "surface"
           }
          ],
          "table": [
           {
            "cells": {
             "fill": {
              "color": "#EBF0F8"
             },
             "line": {
              "color": "white"
             }
            },
            "header": {
             "fill": {
              "color": "#C8D4E3"
             },
             "line": {
              "color": "white"
             }
            },
            "type": "table"
           }
          ]
         },
         "layout": {
          "annotationdefaults": {
           "arrowcolor": "#2a3f5f",
           "arrowhead": 0,
           "arrowwidth": 1
          },
          "coloraxis": {
           "colorbar": {
            "outlinewidth": 0,
            "ticks": ""
           }
          },
          "colorscale": {
           "diverging": [
            [
             0,
             "#8e0152"
            ],
            [
             0.1,
             "#c51b7d"
            ],
            [
             0.2,
             "#de77ae"
            ],
            [
             0.3,
             "#f1b6da"
            ],
            [
             0.4,
             "#fde0ef"
            ],
            [
             0.5,
             "#f7f7f7"
            ],
            [
             0.6,
             "#e6f5d0"
            ],
            [
             0.7,
             "#b8e186"
            ],
            [
             0.8,
             "#7fbc41"
            ],
            [
             0.9,
             "#4d9221"
            ],
            [
             1,
             "#276419"
            ]
           ],
           "sequential": [
            [
             0,
             "#0d0887"
            ],
            [
             0.1111111111111111,
             "#46039f"
            ],
            [
             0.2222222222222222,
             "#7201a8"
            ],
            [
             0.3333333333333333,
             "#9c179e"
            ],
            [
             0.4444444444444444,
             "#bd3786"
            ],
            [
             0.5555555555555556,
             "#d8576b"
            ],
            [
             0.6666666666666666,
             "#ed7953"
            ],
            [
             0.7777777777777778,
             "#fb9f3a"
            ],
            [
             0.8888888888888888,
             "#fdca26"
            ],
            [
             1,
             "#f0f921"
            ]
           ],
           "sequentialminus": [
            [
             0,
             "#0d0887"
            ],
            [
             0.1111111111111111,
             "#46039f"
            ],
            [
             0.2222222222222222,
             "#7201a8"
            ],
            [
             0.3333333333333333,
             "#9c179e"
            ],
            [
             0.4444444444444444,
             "#bd3786"
            ],
            [
             0.5555555555555556,
             "#d8576b"
            ],
            [
             0.6666666666666666,
             "#ed7953"
            ],
            [
             0.7777777777777778,
             "#fb9f3a"
            ],
            [
             0.8888888888888888,
             "#fdca26"
            ],
            [
             1,
             "#f0f921"
            ]
           ]
          },
          "colorway": [
           "#636efa",
           "#EF553B",
           "#00cc96",
           "#ab63fa",
           "#FFA15A",
           "#19d3f3",
           "#FF6692",
           "#B6E880",
           "#FF97FF",
           "#FECB52"
          ],
          "font": {
           "color": "#2a3f5f"
          },
          "geo": {
           "bgcolor": "white",
           "lakecolor": "white",
           "landcolor": "#E5ECF6",
           "showlakes": true,
           "showland": true,
           "subunitcolor": "white"
          },
          "hoverlabel": {
           "align": "left"
          },
          "hovermode": "closest",
          "mapbox": {
           "style": "light"
          },
          "paper_bgcolor": "white",
          "plot_bgcolor": "#E5ECF6",
          "polar": {
           "angularaxis": {
            "gridcolor": "white",
            "linecolor": "white",
            "ticks": ""
           },
           "bgcolor": "#E5ECF6",
           "radialaxis": {
            "gridcolor": "white",
            "linecolor": "white",
            "ticks": ""
           }
          },
          "scene": {
           "xaxis": {
            "backgroundcolor": "#E5ECF6",
            "gridcolor": "white",
            "gridwidth": 2,
            "linecolor": "white",
            "showbackground": true,
            "ticks": "",
            "zerolinecolor": "white"
           },
           "yaxis": {
            "backgroundcolor": "#E5ECF6",
            "gridcolor": "white",
            "gridwidth": 2,
            "linecolor": "white",
            "showbackground": true,
            "ticks": "",
            "zerolinecolor": "white"
           },
           "zaxis": {
            "backgroundcolor": "#E5ECF6",
            "gridcolor": "white",
            "gridwidth": 2,
            "linecolor": "white",
            "showbackground": true,
            "ticks": "",
            "zerolinecolor": "white"
           }
          },
          "shapedefaults": {
           "line": {
            "color": "#2a3f5f"
           }
          },
          "ternary": {
           "aaxis": {
            "gridcolor": "white",
            "linecolor": "white",
            "ticks": ""
           },
           "baxis": {
            "gridcolor": "white",
            "linecolor": "white",
            "ticks": ""
           },
           "bgcolor": "#E5ECF6",
           "caxis": {
            "gridcolor": "white",
            "linecolor": "white",
            "ticks": ""
           }
          },
          "title": {
           "x": 0.05
          },
          "xaxis": {
           "automargin": true,
           "gridcolor": "white",
           "linecolor": "white",
           "ticks": "",
           "title": {
            "standoff": 15
           },
           "zerolinecolor": "white",
           "zerolinewidth": 2
          },
          "yaxis": {
           "automargin": true,
           "gridcolor": "white",
           "linecolor": "white",
           "ticks": "",
           "title": {
            "standoff": 15
           },
           "zerolinecolor": "white",
           "zerolinewidth": 2
          }
         }
        },
        "title": {
         "text": "Puncta"
        },
        "xaxis": {
         "constrain": "domain",
         "gridcolor": "#E4EAF2",
         "range": [
          -50,
          1250
         ],
         "showgrid": true,
         "title": {
          "text": "x"
         },
         "type": "linear"
        },
        "yaxis": {
         "gridcolor": "#E4EAF2",
         "range": [
          1050,
          -50
         ],
         "scaleanchor": "x",
         "scaleratio": 1,
         "showgrid": true,
         "title": {
          "text": "y"
         },
         "zeroline": false
        }
       }
      },
      "text/html": [
       "<div>                            <div id=\"3f781bcb-b799-45f7-801b-1c862c26bc61\" class=\"plotly-graph-div\" style=\"height:700px; width:100%;\"></div>            <script type=\"text/javascript\">                require([\"plotly\"], function(Plotly) {                    window.PLOTLYENV=window.PLOTLYENV || {};                                    if (document.getElementById(\"3f781bcb-b799-45f7-801b-1c862c26bc61\")) {                    Plotly.newPlot(                        \"3f781bcb-b799-45f7-801b-1c862c26bc61\",                        [{\"hovertemplate\": \"center_x=%{x}<br>center_y=%{y}<extra></extra>\", \"legendgroup\": \"\", \"marker\": {\"color\": \"#3366CC\", \"size\": 3, \"symbol\": \"circle\"}, \"mode\": \"markers\", \"name\": \"\", \"orientation\": \"v\", \"showlegend\": false, \"type\": \"scatter\", \"x\": [275.0, 280.0, 285.5, 280.142857142857, 277.0, 283.181818181818, 286.0, 281.33333333333303, 279.0, 287.0, 310.0, 309.25, 306.8, 314.875, 311.33333333333303, 309.25, 304.875, 1103.5, 1099.95, 1100.7777777777699, 1098.28571428571, 1103.26666666666, 217.0, 218.0, 215.0, 225.0, 217.5, 221.9, 226.666666666666, 210.0, 236.0, 228.833333333333, 220.461538461538, 226.1, 217.166666666666, 224.377358490566, 219.2, 230.060606060606, 212.8, 225.2, 233.5, 216.0, 218.0, 223.0, 227.529411764705, 654.0, 216.0, 224.0, 231.666666666666, 660.0, 662.0, 454.2, 467.5, 656.0, 446.888888888888, 449.85714285714204, 457.5, 665.0, 224.333333333333, 464.461538461538, 451.166666666666, 472.666666666666, 458.29411764705804, 258.0, 473.428571428571, 659.0, 446.5, 449.35714285714204, 453.666666666666, 656.533333333333, 454.76, 654.4545454545449, 659.5, 459.708333333333, 464.0, 654.6666666666661, 657.882352941176, 449.0, 462.0, 651.203703703703, 656.8, 458.125, 651.1666666666661, 457.0, 450.0, 454.0, 443.0, 451.5, 452.5, 620.0, 602.0, 603.0, 601.6666666666661, 607.0, 599.428571428571, 603.208333333333, 631.6666666666661, 609.083333333333, 613.25, 617.75, 623.770833333333, 602.51724137931, 606.6666666666661, 623.271186440678, 614.226415094339, 632.0, 608.35294117647, 616.28, 628.0, 619.8125, 641.0, 611.833333333333, 625.0, 617.772727272727, 622.4166666666661, 613.777777777777, 625.0, 626.625, 621.0, 617.0, 625.5, 626.0, 622.6666666666661, 26.0, 608.0, 27.5, 30.5, 22.0, 26.0, 28.0, 25.0, 27.0, 28.2, 32.6666666666666, 39.0, 22.9090909090909, 27.5675675675675, 27.0, 38.5, 32.4222222222222, 28.4444444444444, 36.0, 32.6666666666666, 39.1333333333333, 42.6521739130434, 39.5, 47.5, 713.058823529411, 722.0, 716.333333333333, 713.0, 722.4, 708.333333333333, 710.333333333333, 717.916666666666, 725.0, 709.5, 713.0, 711.0, 790.111111111111, 793.6, 776.5, 781.0, 795.0, 779.1428571428571, 776.5, 782.6, 786.0, 779.5, 784.333333333333, 793.5, 781.714285714285, 678.1, 784.5714285714281, 786.928571428571, 682.5, 687.4, 686.0, 793.5, 680.5, 674.545454545454, 684.2666666666661, 697.0, 676.0, 687.0, 679.75, 676.75, 683.6875, 688.333333333333, 689.875, 673.153846153846, 679.0, 788.0, 669.0, 671.0, 686.6875, 690.285714285714, 675.714285714285, 679.1666666666661, 683.1666666666661, 691.666666666666, 673.1666666666661, 688.666666666666, 788.666666666666, 671.6, 674.9166666666661, 678.545454545454, 682.2, 684.8, 676.25, 686.0, 517.0, 521.0, 525.0, 395.0, 520.7272727272721, 392.0, 395.0, 514.0, 518.478260869565, 524.375, 396.5, 528.6666666666661, 391.25, 402.0, 522.482758620689, 397.818181818181, 516.6875, 389.5, 393.166666666666, 534.5, 402.44444444444395, 524.872093023255, 394.916666666666, 408.333333333333, 523.333333333333, 527.825242718446, 752.5, 396.15789473684197, 401.85714285714204, 519.47619047619, 532.296296296296, 751.0, 753.8888888888879, 406.333333333333, 757.0, 398.5, 405.25, 402.94444444444395, 521.923076923076, 752.7777777777769, 390.5, 393.642857142857, 517.428571428571, 409.0, 757.166666666666, 762.666666666666, 518.0, 519.5, 522.333333333333, 753.0, 397.0, 764.0, 522.0, 761.5, 406.0, 524.0, 763.75, 382.0, 404.0, 157.0, 161.0, 320.5, 329.0, 327.0, 319.33333333333303, 425.0, 333.0, 323.25, 330.4, 331.5, 333.857142857142, 423.0, 335.8, 328.116279069767, 324.444444444444, 321.0, 334.5, 320.75, 325.0, 75.4, 558.5, 564.7272727272721, 77.0, 567.333333333333, 83.8, 552.2, 73.0, 558.857142857142, 552.6, 557.0, 381.0, 384.0, 560.75, 547.75, 554.0, 557.5, 382.0, 568.5, 551.55, 559.695652173913, 384.0, 386.8, 563.5, 390.85, 394.51851851851796, 397.85714285714204, 553.0, 387.7777777777769, 566.222222222222, 545.5, 556.0, 389.7, 392.61538461538396, 397.454545454545, 562.6666666666661, 550.875, 386.0, 396.592592592592, 401.0, 402.0, 556.875, 565.0, 560.2, 553.0, 567.5, 554.6, 560.285714285714, 822.0, 810.0, 821.5, 819.0, 808.8, 827.0, 806.666666666666, 811.416666666666, 816.842105263157, 824.7777777777769, 820.272727272727, 808.470588235294, 822.125, 816.5, 819.285714285714, 813.08], \"xaxis\": \"x\", \"y\": [131.0, 131.0, 133.0, 134.785714285714, 136.0, 137.0, 137.0, 138.666666666666, 140.0, 141.0, 188.0, 196.0, 198.4, 197.875, 198.666666666666, 200.333333333333, 201.5625, 376.0, 377.4, 380.888888888888, 382.28571428571405, 384.2, 431.0, 436.5, 438.0, 438.5, 439.5, 439.1, 440.44444444444395, 442.5, 442.5, 442.833333333333, 443.134615384615, 443.7, 447.333333333333, 448.264150943396, 449.4, 450.515151515151, 451.0, 451.2, 451.0, 452.0, 451.428571428571, 453.75, 454.5, 454.5, 456.0, 456.75, 456.666666666666, 457.0, 458.0, 464.8, 465.0, 465.0, 466.666666666666, 466.714285714285, 466.0, 466.0, 466.666666666666, 467.90384615384596, 468.555555555555, 467.666666666666, 469.29411764705804, 470.0, 469.714285714285, 469.5, 471.0, 471.428571428571, 470.25, 468.8, 473.16, 470.818181818181, 472.0, 473.708333333333, 473.5, 473.333333333333, 473.941176470588, 475.5, 475.5, 475.796296296296, 476.4, 477.25, 480.166666666666, 480.5, 481.0, 481.5, 483.0, 487.0, 490.5, 554.5, 559.5, 569.833333333333, 572.9333333333329, 575.0, 577.285714285714, 576.6666666666661, 576.333333333333, 578.083333333333, 576.25, 576.0, 577.708333333333, 581.3103448275859, 581.833333333333, 583.5762711864402, 580.962264150943, 581.5, 584.529411764705, 585.44, 585.5, 587.8125, 586.0, 587.6666666666661, 588.0, 591.090909090909, 590.75, 591.888888888888, 590.5, 591.75, 593.0, 595.0, 595.5, 598.5, 598.6666666666661, 609.0, 609.5, 621.5, 622.5, 629.0, 631.0, 632.5, 633.0, 634.8, 637.4, 639.333333333333, 641.0, 642.363636363636, 642.162162162162, 647.0, 647.0, 646.9333333333329, 650.222222222222, 650.478260869565, 651.333333333333, 651.066666666666, 651.826086956521, 655.0, 658.5, 726.9411764705881, 726.0, 726.333333333333, 729.5, 728.2, 729.666666666666, 729.666666666666, 730.25, 731.5, 732.0, 732.25, 736.0, 739.444444444444, 739.8, 744.0, 744.0, 745.0, 745.714285714285, 746.5, 746.2, 747.0, 748.0, 747.333333333333, 747.5, 748.857142857142, 750.9, 749.714285714285, 750.1428571428571, 751.0, 751.3, 752.666666666666, 752.5, 752.875, 754.1818181818179, 753.666666666666, 755.0, 756.0, 755.25, 756.3214285714281, 757.625, 756.9375, 756.9333333333328, 757.875, 758.3076923076918, 759.6153846153841, 759.0, 760.0, 760.5, 761.5, 760.5714285714281, 761.428571428571, 762.833333333333, 761.833333333333, 761.666666666666, 762.666666666666, 762.333333333333, 762.333333333333, 763.4, 764.333333333333, 764.90909090909, 765.2, 764.4, 766.375, 765.333333333333, 771.0, 775.0, 775.75, 777.0, 777.1818181818179, 781.0, 781.0, 782.0, 780.217391304347, 779.0625, 783.5, 780.9259259259261, 782.75, 784.5, 784.03448275862, 786.6363636363631, 786.229166666666, 787.5, 787.833333333333, 788.0, 788.4814814814812, 788.220930232558, 790.25, 791.333333333333, 792.333333333333, 795.776699029126, 793.0, 794.3157894736839, 792.8095238095232, 795.3095238095232, 796.092592592592, 794.0, 794.222222222222, 794.666666666666, 795.0, 799.153846153846, 796.75, 799.222222222222, 799.6923076923068, 798.7777777777769, 799.5, 799.714285714285, 799.0, 800.2, 799.761904761904, 800.333333333333, 801.5, 801.0, 803.666666666666, 803.0, 803.5, 804.75, 806.0, 805.5, 807.0, 807.0, 807.0, 812.0, 825.0, 838.0, 840.5, 840.0, 840.5, 841.25, 842.333333333333, 842.0, 843.0, 844.75, 845.666666666666, 848.5, 847.714285714285, 848.0, 848.6, 852.1627906976739, 854.111111111111, 855.0, 855.0, 858.25, 858.0, 871.0, 874.0, 874.0, 876.0, 876.333333333333, 877.4, 877.6, 879.0, 878.714285714285, 880.0, 880.5, 881.0, 882.0, 881.7, 883.0, 882.0, 883.0, 884.666666666666, 884.0, 884.2, 886.217391304347, 885.5, 886.7, 887.0, 887.2, 887.0370370370372, 887.5714285714281, 888.0, 888.8888888888879, 889.166666666666, 890.0, 890.5, 891.3, 892.538461538461, 890.4545454545448, 891.666666666666, 891.875, 893.0, 893.8888888888879, 893.0, 895.5, 895.125, 895.0, 896.0, 898.0, 897.5, 898.8, 899.1428571428571, 917.0, 923.0, 924.0, 924.5, 925.4, 926.0, 927.666666666666, 927.666666666666, 927.842105263157, 927.8888888888879, 927.6363636363632, 929.470588235294, 929.75, 931.785714285714, 931.0, 932.24], \"yaxis\": \"y\"}],                        {\"height\": 700, \"hovermode\": \"closest\", \"plot_bgcolor\": \"rgba(0,0,0,0)\", \"shapes\": [{\"type\": \"circle\", \"x0\": 655, \"x1\": 733, \"xref\": \"x\", \"y0\": 19, \"y1\": 98, \"yref\": \"y\"}, {\"type\": \"circle\", \"x0\": 255, \"x1\": 334, \"xref\": \"x\", \"y0\": 81, \"y1\": 161, \"yref\": \"y\"}, {\"type\": \"circle\", \"x0\": 246, \"x1\": 326, \"xref\": \"x\", \"y0\": 139, \"y1\": 230, \"yref\": \"y\"}, {\"type\": \"circle\", \"x0\": 151, \"x1\": 268, \"xref\": \"x\", \"y0\": 117, \"y1\": 271, \"yref\": \"y\"}, {\"type\": \"circle\", \"x0\": 297, \"x1\": 393, \"xref\": \"x\", \"y0\": 171, \"y1\": 253, \"yref\": \"y\"}, {\"type\": \"circle\", \"x0\": 5, \"x1\": 218, \"xref\": \"x\", \"y0\": 133, \"y1\": 338, \"yref\": \"y\"}, {\"type\": \"circle\", \"x0\": 1037, \"x1\": 1120, \"xref\": \"x\", \"y0\": 310, \"y1\": 396, \"yref\": \"y\"}, {\"type\": \"circle\", \"x0\": 46, \"x1\": 155, \"xref\": \"x\", \"y0\": 316, \"y1\": 417, \"yref\": \"y\"}, {\"type\": \"circle\", \"x0\": 714, \"x1\": 794, \"xref\": \"x\", \"y0\": 384, \"y1\": 466, \"yref\": \"y\"}, {\"type\": \"circle\", \"x0\": 198, \"x1\": 269, \"xref\": \"x\", \"y0\": 410, \"y1\": 482, \"yref\": \"y\"}, {\"type\": \"circle\", \"x0\": 547, \"x1\": 634, \"xref\": \"x\", \"y0\": 401, \"y1\": 553, \"yref\": \"y\"}, {\"type\": \"circle\", \"x0\": 619, \"x1\": 699, \"xref\": \"x\", \"y0\": 446, \"y1\": 528, \"yref\": \"y\"}, {\"type\": \"circle\", \"x0\": 427, \"x1\": 502, \"xref\": \"x\", \"y0\": 461, \"y1\": 536, \"yref\": \"y\"}, {\"type\": \"circle\", \"x0\": 430, \"x1\": 520, \"xref\": \"x\", \"y0\": 542, \"y1\": 626, \"yref\": \"y\"}, {\"type\": \"circle\", \"x0\": 575, \"x1\": 656, \"xref\": \"x\", \"y0\": 550, \"y1\": 633, \"yref\": \"y\"}, {\"type\": \"circle\", \"x0\": 20, \"x1\": 101, \"xref\": \"x\", \"y0\": 569, \"y1\": 663, \"yref\": \"y\"}, {\"type\": \"circle\", \"x0\": 681, \"x1\": 749, \"xref\": \"x\", \"y0\": 663, \"y1\": 740, \"yref\": \"y\"}, {\"type\": \"circle\", \"x0\": 726, \"x1\": 799, \"xref\": \"x\", \"y0\": 716, \"y1\": 791, \"yref\": \"y\"}, {\"type\": \"circle\", \"x0\": 632, \"x1\": 711, \"xref\": \"x\", \"y0\": 738, \"y1\": 813, \"yref\": \"y\"}, {\"type\": \"circle\", \"x0\": 468, \"x1\": 547, \"xref\": \"x\", \"y0\": 764, \"y1\": 838, \"yref\": \"y\"}, {\"type\": \"circle\", \"x0\": 341, \"x1\": 415, \"xref\": \"x\", \"y0\": 766, \"y1\": 856, \"yref\": \"y\"}, {\"type\": \"circle\", \"x0\": 697, \"x1\": 774, \"xref\": \"x\", \"y0\": 791, \"y1\": 860, \"yref\": \"y\"}, {\"type\": \"circle\", \"x0\": 273, \"x1\": 357, \"xref\": \"x\", \"y0\": 811, \"y1\": 879, \"yref\": \"y\"}, {\"type\": \"circle\", \"x0\": 128, \"x1\": 203, \"xref\": \"x\", \"y0\": 820, \"y1\": 898, \"yref\": \"y\"}, {\"type\": \"circle\", \"x0\": 361, \"x1\": 445, \"xref\": \"x\", \"y0\": 829, \"y1\": 907, \"yref\": \"y\"}, {\"type\": \"circle\", \"x0\": 515, \"x1\": 588, \"xref\": \"x\", \"y0\": 840, \"y1\": 912, \"yref\": \"y\"}, {\"type\": \"circle\", \"x0\": 781, \"x1\": 851, \"xref\": \"x\", \"y0\": 859, \"y1\": 938, \"yref\": \"y\"}, {\"type\": \"circle\", \"x0\": 11, \"x1\": 92, \"xref\": \"x\", \"y0\": 856, \"y1\": 939, \"yref\": \"y\"}], \"showlegend\": false, \"template\": {\"data\": {\"bar\": [{\"error_x\": {\"color\": \"#2a3f5f\"}, \"error_y\": {\"color\": \"#2a3f5f\"}, \"marker\": {\"line\": {\"color\": \"#E5ECF6\", \"width\": 0.5}}, \"type\": \"bar\"}], \"barpolar\": [{\"marker\": {\"line\": {\"color\": \"#E5ECF6\", \"width\": 0.5}}, \"type\": \"barpolar\"}], \"carpet\": [{\"aaxis\": {\"endlinecolor\": \"#2a3f5f\", \"gridcolor\": \"white\", \"linecolor\": \"white\", \"minorgridcolor\": \"white\", \"startlinecolor\": \"#2a3f5f\"}, \"baxis\": {\"endlinecolor\": \"#2a3f5f\", \"gridcolor\": \"white\", \"linecolor\": \"white\", \"minorgridcolor\": \"white\", \"startlinecolor\": \"#2a3f5f\"}, \"type\": \"carpet\"}], \"choropleth\": [{\"colorbar\": {\"outlinewidth\": 0, \"ticks\": \"\"}, \"type\": \"choropleth\"}], \"contour\": [{\"colorbar\": {\"outlinewidth\": 0, \"ticks\": \"\"}, \"colorscale\": [[0.0, \"#0d0887\"], [0.1111111111111111, \"#46039f\"], [0.2222222222222222, \"#7201a8\"], [0.3333333333333333, \"#9c179e\"], [0.4444444444444444, \"#bd3786\"], [0.5555555555555556, \"#d8576b\"], [0.6666666666666666, \"#ed7953\"], [0.7777777777777778, \"#fb9f3a\"], [0.8888888888888888, \"#fdca26\"], [1.0, \"#f0f921\"]], \"type\": \"contour\"}], \"contourcarpet\": [{\"colorbar\": {\"outlinewidth\": 0, \"ticks\": \"\"}, \"type\": \"contourcarpet\"}], \"heatmap\": [{\"colorbar\": {\"outlinewidth\": 0, \"ticks\": \"\"}, \"colorscale\": [[0.0, \"#0d0887\"], [0.1111111111111111, \"#46039f\"], [0.2222222222222222, \"#7201a8\"], [0.3333333333333333, \"#9c179e\"], [0.4444444444444444, \"#bd3786\"], [0.5555555555555556, \"#d8576b\"], [0.6666666666666666, \"#ed7953\"], [0.7777777777777778, \"#fb9f3a\"], [0.8888888888888888, \"#fdca26\"], [1.0, \"#f0f921\"]], \"type\": \"heatmap\"}], \"heatmapgl\": [{\"colorbar\": {\"outlinewidth\": 0, \"ticks\": \"\"}, \"colorscale\": [[0.0, \"#0d0887\"], [0.1111111111111111, \"#46039f\"], [0.2222222222222222, \"#7201a8\"], [0.3333333333333333, \"#9c179e\"], [0.4444444444444444, \"#bd3786\"], [0.5555555555555556, \"#d8576b\"], [0.6666666666666666, \"#ed7953\"], [0.7777777777777778, \"#fb9f3a\"], [0.8888888888888888, \"#fdca26\"], [1.0, \"#f0f921\"]], \"type\": \"heatmapgl\"}], \"histogram\": [{\"marker\": {\"colorbar\": {\"outlinewidth\": 0, \"ticks\": \"\"}}, \"type\": \"histogram\"}], \"histogram2d\": [{\"colorbar\": {\"outlinewidth\": 0, \"ticks\": \"\"}, \"colorscale\": [[0.0, \"#0d0887\"], [0.1111111111111111, \"#46039f\"], [0.2222222222222222, \"#7201a8\"], [0.3333333333333333, \"#9c179e\"], [0.4444444444444444, \"#bd3786\"], [0.5555555555555556, \"#d8576b\"], [0.6666666666666666, \"#ed7953\"], [0.7777777777777778, \"#fb9f3a\"], [0.8888888888888888, \"#fdca26\"], [1.0, \"#f0f921\"]], \"type\": \"histogram2d\"}], \"histogram2dcontour\": [{\"colorbar\": {\"outlinewidth\": 0, \"ticks\": \"\"}, \"colorscale\": [[0.0, \"#0d0887\"], [0.1111111111111111, \"#46039f\"], [0.2222222222222222, \"#7201a8\"], [0.3333333333333333, \"#9c179e\"], [0.4444444444444444, \"#bd3786\"], [0.5555555555555556, \"#d8576b\"], [0.6666666666666666, \"#ed7953\"], [0.7777777777777778, \"#fb9f3a\"], [0.8888888888888888, \"#fdca26\"], [1.0, \"#f0f921\"]], \"type\": \"histogram2dcontour\"}], \"mesh3d\": [{\"colorbar\": {\"outlinewidth\": 0, \"ticks\": \"\"}, \"type\": \"mesh3d\"}], \"parcoords\": [{\"line\": {\"colorbar\": {\"outlinewidth\": 0, \"ticks\": \"\"}}, \"type\": \"parcoords\"}], \"pie\": [{\"automargin\": true, \"type\": \"pie\"}], \"scatter\": [{\"marker\": {\"colorbar\": {\"outlinewidth\": 0, \"ticks\": \"\"}}, \"type\": \"scatter\"}], \"scatter3d\": [{\"line\": {\"colorbar\": {\"outlinewidth\": 0, \"ticks\": \"\"}}, \"marker\": {\"colorbar\": {\"outlinewidth\": 0, \"ticks\": \"\"}}, \"type\": \"scatter3d\"}], \"scattercarpet\": [{\"marker\": {\"colorbar\": {\"outlinewidth\": 0, \"ticks\": \"\"}}, \"type\": \"scattercarpet\"}], \"scattergeo\": [{\"marker\": {\"colorbar\": {\"outlinewidth\": 0, \"ticks\": \"\"}}, \"type\": \"scattergeo\"}], \"scattergl\": [{\"marker\": {\"colorbar\": {\"outlinewidth\": 0, \"ticks\": \"\"}}, \"type\": \"scattergl\"}], \"scattermapbox\": [{\"marker\": {\"colorbar\": {\"outlinewidth\": 0, \"ticks\": \"\"}}, \"type\": \"scattermapbox\"}], \"scatterpolar\": [{\"marker\": {\"colorbar\": {\"outlinewidth\": 0, \"ticks\": \"\"}}, \"type\": \"scatterpolar\"}], \"scatterpolargl\": [{\"marker\": {\"colorbar\": {\"outlinewidth\": 0, \"ticks\": \"\"}}, \"type\": \"scatterpolargl\"}], \"scatterternary\": [{\"marker\": {\"colorbar\": {\"outlinewidth\": 0, \"ticks\": \"\"}}, \"type\": \"scatterternary\"}], \"surface\": [{\"colorbar\": {\"outlinewidth\": 0, \"ticks\": \"\"}, \"colorscale\": [[0.0, \"#0d0887\"], [0.1111111111111111, \"#46039f\"], [0.2222222222222222, \"#7201a8\"], [0.3333333333333333, \"#9c179e\"], [0.4444444444444444, \"#bd3786\"], [0.5555555555555556, \"#d8576b\"], [0.6666666666666666, \"#ed7953\"], [0.7777777777777778, \"#fb9f3a\"], [0.8888888888888888, \"#fdca26\"], [1.0, \"#f0f921\"]], \"type\": \"surface\"}], \"table\": [{\"cells\": {\"fill\": {\"color\": \"#EBF0F8\"}, \"line\": {\"color\": \"white\"}}, \"header\": {\"fill\": {\"color\": \"#C8D4E3\"}, \"line\": {\"color\": \"white\"}}, \"type\": \"table\"}]}, \"layout\": {\"annotationdefaults\": {\"arrowcolor\": \"#2a3f5f\", \"arrowhead\": 0, \"arrowwidth\": 1}, \"coloraxis\": {\"colorbar\": {\"outlinewidth\": 0, \"ticks\": \"\"}}, \"colorscale\": {\"diverging\": [[0, \"#8e0152\"], [0.1, \"#c51b7d\"], [0.2, \"#de77ae\"], [0.3, \"#f1b6da\"], [0.4, \"#fde0ef\"], [0.5, \"#f7f7f7\"], [0.6, \"#e6f5d0\"], [0.7, \"#b8e186\"], [0.8, \"#7fbc41\"], [0.9, \"#4d9221\"], [1, \"#276419\"]], \"sequential\": [[0.0, \"#0d0887\"], [0.1111111111111111, \"#46039f\"], [0.2222222222222222, \"#7201a8\"], [0.3333333333333333, \"#9c179e\"], [0.4444444444444444, \"#bd3786\"], [0.5555555555555556, \"#d8576b\"], [0.6666666666666666, \"#ed7953\"], [0.7777777777777778, \"#fb9f3a\"], [0.8888888888888888, \"#fdca26\"], [1.0, \"#f0f921\"]], \"sequentialminus\": [[0.0, \"#0d0887\"], [0.1111111111111111, \"#46039f\"], [0.2222222222222222, \"#7201a8\"], [0.3333333333333333, \"#9c179e\"], [0.4444444444444444, \"#bd3786\"], [0.5555555555555556, \"#d8576b\"], [0.6666666666666666, \"#ed7953\"], [0.7777777777777778, \"#fb9f3a\"], [0.8888888888888888, \"#fdca26\"], [1.0, \"#f0f921\"]]}, \"colorway\": [\"#636efa\", \"#EF553B\", \"#00cc96\", \"#ab63fa\", \"#FFA15A\", \"#19d3f3\", \"#FF6692\", \"#B6E880\", \"#FF97FF\", \"#FECB52\"], \"font\": {\"color\": \"#2a3f5f\"}, \"geo\": {\"bgcolor\": \"white\", \"lakecolor\": \"white\", \"landcolor\": \"#E5ECF6\", \"showlakes\": true, \"showland\": true, \"subunitcolor\": \"white\"}, \"hoverlabel\": {\"align\": \"left\"}, \"hovermode\": \"closest\", \"mapbox\": {\"style\": \"light\"}, \"paper_bgcolor\": \"white\", \"plot_bgcolor\": \"#E5ECF6\", \"polar\": {\"angularaxis\": {\"gridcolor\": \"white\", \"linecolor\": \"white\", \"ticks\": \"\"}, \"bgcolor\": \"#E5ECF6\", \"radialaxis\": {\"gridcolor\": \"white\", \"linecolor\": \"white\", \"ticks\": \"\"}}, \"scene\": {\"xaxis\": {\"backgroundcolor\": \"#E5ECF6\", \"gridcolor\": \"white\", \"gridwidth\": 2, \"linecolor\": \"white\", \"showbackground\": true, \"ticks\": \"\", \"zerolinecolor\": \"white\"}, \"yaxis\": {\"backgroundcolor\": \"#E5ECF6\", \"gridcolor\": \"white\", \"gridwidth\": 2, \"linecolor\": \"white\", \"showbackground\": true, \"ticks\": \"\", \"zerolinecolor\": \"white\"}, \"zaxis\": {\"backgroundcolor\": \"#E5ECF6\", \"gridcolor\": \"white\", \"gridwidth\": 2, \"linecolor\": \"white\", \"showbackground\": true, \"ticks\": \"\", \"zerolinecolor\": \"white\"}}, \"shapedefaults\": {\"line\": {\"color\": \"#2a3f5f\"}}, \"ternary\": {\"aaxis\": {\"gridcolor\": \"white\", \"linecolor\": \"white\", \"ticks\": \"\"}, \"baxis\": {\"gridcolor\": \"white\", \"linecolor\": \"white\", \"ticks\": \"\"}, \"bgcolor\": \"#E5ECF6\", \"caxis\": {\"gridcolor\": \"white\", \"linecolor\": \"white\", \"ticks\": \"\"}}, \"title\": {\"x\": 0.05}, \"xaxis\": {\"automargin\": true, \"gridcolor\": \"white\", \"linecolor\": \"white\", \"ticks\": \"\", \"title\": {\"standoff\": 15}, \"zerolinecolor\": \"white\", \"zerolinewidth\": 2}, \"yaxis\": {\"automargin\": true, \"gridcolor\": \"white\", \"linecolor\": \"white\", \"ticks\": \"\", \"title\": {\"standoff\": 15}, \"zerolinecolor\": \"white\", \"zerolinewidth\": 2}}}, \"title\": {\"text\": \"Puncta\"}, \"xaxis\": {\"constrain\": \"domain\", \"gridcolor\": \"#E4EAF2\", \"range\": [-50, 1250], \"showgrid\": true, \"title\": {\"text\": \"x\"}, \"type\": \"linear\"}, \"yaxis\": {\"gridcolor\": \"#E4EAF2\", \"range\": [1050, -50], \"scaleanchor\": \"x\", \"scaleratio\": 1, \"showgrid\": true, \"title\": {\"text\": \"y\"}, \"zeroline\": false}},                        {\"responsive\": true}                    ).then(function(){\n",
       "                            \n",
       "var gd = document.getElementById('3f781bcb-b799-45f7-801b-1c862c26bc61');\n",
       "var x = new MutationObserver(function (mutations, observer) {{\n",
       "        var display = window.getComputedStyle(gd).display;\n",
       "        if (!display || display === 'none') {{\n",
       "            console.log([gd, 'removed!']);\n",
       "            Plotly.purge(gd);\n",
       "            observer.disconnect();\n",
       "        }}\n",
       "}});\n",
       "\n",
       "// Listen for the removal of the full notebook cells\n",
       "var notebookContainer = gd.closest('#notebook-container');\n",
       "if (notebookContainer) {{\n",
       "    x.observe(notebookContainer, {childList: true});\n",
       "}}\n",
       "\n",
       "// Listen for the clearing of the current output cell\n",
       "var outputEl = gd.closest('.output');\n",
       "if (outputEl) {{\n",
       "    x.observe(outputEl, {childList: true});\n",
       "}}\n",
       "\n",
       "                        })                };                });            </script>        </div>"
      ]
     },
     "metadata": {},
     "output_type": "display_data"
    }
   ],
   "source": [
    "# plot puncta\n",
    "fig = plot_single_scatter(\n",
    "    puncta_subset,\n",
    "    x='center_x',\n",
    "    y='center_y',\n",
    "    title='Puncta',\n",
    "    xlabel='x',\n",
    "    ylabel='y'\n",
    ")\n",
    "\n",
    "fig.layout.update(\n",
    "    xaxis = {'range': [-50, 1250], 'constrain': \"domain\"},\n",
    "    yaxis = {'range': [1050, -50], 'scaleanchor': 'x', 'scaleratio': 1},\n",
    "    shapes=shapes,\n",
    "    height=700,\n",
    ")\n",
    "fig.update_traces(\n",
    "    marker=dict(size=3)\n",
    ")\n",
    "\n",
    "if save:\n",
    "    save_fig_as_png(fig, 'figures/puncta_3.png', height=800, scale=1)\n",
    "\n",
    "fig"
   ]
  },
  {
   "cell_type": "code",
   "execution_count": null,
   "metadata": {},
   "outputs": [],
   "source": []
  }
 ],
 "metadata": {
  "kernelspec": {
   "display_name": "Python 3",
   "language": "python",
   "name": "python3"
  },
  "language_info": {
   "codemirror_mode": {
    "name": "ipython",
    "version": 3
   },
   "file_extension": ".py",
   "mimetype": "text/x-python",
   "name": "python",
   "nbconvert_exporter": "python",
   "pygments_lexer": "ipython3",
   "version": "3.7.6"
  }
 },
 "nbformat": 4,
 "nbformat_minor": 4
}
